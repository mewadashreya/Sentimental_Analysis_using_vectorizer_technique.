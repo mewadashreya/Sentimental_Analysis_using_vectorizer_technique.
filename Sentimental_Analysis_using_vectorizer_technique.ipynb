{
  "nbformat": 4,
  "nbformat_minor": 0,
  "metadata": {
    "colab": {
      "name": "Sentimental Analysis using vectorizer technique.ipynb",
      "provenance": [],
      "collapsed_sections": [],
      "mount_file_id": "1tUi__AGS91iPPIUMLLfBCY1CXV-HwfHf",
      "authorship_tag": "ABX9TyMWWzXWu2h+cnVtjtorNhDs",
      "include_colab_link": true
    },
    "kernelspec": {
      "name": "python3",
      "display_name": "Python 3"
    }
  },
  "cells": [
    {
      "cell_type": "markdown",
      "metadata": {
        "id": "view-in-github",
        "colab_type": "text"
      },
      "source": [
        "<a href=\"https://colab.research.google.com/github/mewadashreya/Sentimental_Analysis_using_vectorizer_technique./blob/main/Sentimental_Analysis_using_vectorizer_technique.ipynb\" target=\"_parent\"><img src=\"https://colab.research.google.com/assets/colab-badge.svg\" alt=\"Open In Colab\"/></a>"
      ]
    },
    {
      "cell_type": "markdown",
      "metadata": {
        "id": "jXkw2LeGU280"
      },
      "source": [
        "This is the basic python textual analysis file made with google colaboratory\n",
        "\n",
        "This is the python file includes the basic exploratory data analyis of text file which includes :\n",
        "\n",
        "1.Basis Exploratory Analysis:\n",
        "\n",
        "2.Polarity of Reviews:\n",
        "\n",
        "3.Count Vectorizer of Positive Reviews with N-grams:\n",
        "  \n",
        "    i.)Unigrams.\n",
        "  \n",
        "    ii.)Bigrams.\n",
        "  \n",
        "    iii.)Trigrams.\n",
        "\n",
        "4.Count Vectorizer of Negative Reviews.\n",
        "    \n",
        "    i.)Unigrams.\n",
        "    \n",
        "    ii.)Bigrams.\n",
        "    \n",
        "    iii.)Trigrams.\n",
        "\n"
      ]
    },
    {
      "cell_type": "code",
      "metadata": {
        "id": "wSbv9Iz8Oh1Q"
      },
      "source": [
        "!pip install chart_studio"
      ],
      "execution_count": null,
      "outputs": []
    },
    {
      "cell_type": "code",
      "metadata": {
        "id": "53WvQOWvz_Qu",
        "outputId": "f7c0ad9a-584d-4dd7-ad40-4d1909ff5d11",
        "colab": {
          "base_uri": "https://localhost:8080/",
          "height": 17
        }
      },
      "source": [
        "import pandas as pd\n",
        "import numpy as np\n",
        "import nltk\n",
        "import matplotlib.pyplot as plt\n",
        "import seaborn as sns\n",
        "import warnings \n",
        "warnings.filterwarnings('ignore')\n",
        "import plotly.io as pio\n",
        "import plotly.express as px\n",
        "import matplotlib\n",
        "import matplotlib.pyplot as plt\n",
        "import seaborn as sns\n",
        "%matplotlib inline\n",
        "\n",
        "matplotlib.rcParams['figure.figsize'] = (10.0, 6.0)\n",
        "import plotly.graph_objs as go\n",
        "import chart_studio.plotly as py\n",
        "import cufflinks\n",
        "pd.options.display.max_columns = 30\n",
        "\n",
        "from IPython.core.interactiveshell import InteractiveShell\n",
        "import plotly.figure_factory as ff\n",
        "InteractiveShell.ast_node_interactivity = 'all'\n",
        "from plotly.offline import iplot\n",
        "\n",
        "cufflinks.go_offline()\n",
        "cufflinks.set_config_file(world_readable=True, theme='solar')\n",
        "\n",
        "from bokeh.plotting import figure, output_file, show\n",
        "from bokeh.models import Label\n",
        "from bokeh.io import output_notebook\n",
        "output_notebook()\n",
        "pio.renderers\n",
        "pio.renderers.default = 'colab'\n"
      ],
      "execution_count": 71,
      "outputs": [
        {
          "output_type": "display_data",
          "data": {
            "text/html": [
              "        <script type=\"text/javascript\">\n",
              "        window.PlotlyConfig = {MathJaxConfig: 'local'};\n",
              "        if (window.MathJax) {MathJax.Hub.Config({SVG: {font: \"STIX-Web\"}});}\n",
              "        if (typeof require !== 'undefined') {\n",
              "        require.undef(\"plotly\");\n",
              "        requirejs.config({\n",
              "            paths: {\n",
              "                'plotly': ['https://cdn.plot.ly/plotly-latest.min']\n",
              "            }\n",
              "        });\n",
              "        require(['plotly'], function(Plotly) {\n",
              "            window._Plotly = Plotly;\n",
              "        });\n",
              "        }\n",
              "        </script>\n",
              "        "
            ]
          },
          "metadata": {
            "tags": []
          }
        }
      ]
    },
    {
      "cell_type": "code",
      "metadata": {
        "id": "FEFvGoF7OWZj"
      },
      "source": [
        "import matplotlib as plt\n",
        "from plotly.offline import iplot\n",
        "import plotly.graph_objs as go\n",
        "\n",
        "\n",
        "def configure_plotly_browser_state():\n",
        "  import IPython\n",
        "  display(IPython.core.display.HTML('''\n",
        "        <script src=\"/static/components/requirejs/require.js\"></script>\n",
        "        <script>\n",
        "          requirejs.config({\n",
        "            paths: {\n",
        "              base: '/static/base',\n",
        "              plotly: 'https://cdn.plot.ly/plotly-1.5.1.min.js?noext',\n",
        "            },\n",
        "          });\n",
        "        </script>\n",
        "        '''))"
      ],
      "execution_count": 72,
      "outputs": []
    },
    {
      "cell_type": "code",
      "metadata": {
        "id": "dZk0U2pC9ITm"
      },
      "source": [
        "data = pd.read_excel('/content/drive/My Drive/Colab Notebooks/data/digit-recognizer/retailstores.xlsx')"
      ],
      "execution_count": 2,
      "outputs": []
    },
    {
      "cell_type": "code",
      "metadata": {
        "id": "Hr3F_9xf9Zyo",
        "outputId": "57398f0b-5bac-4ecc-9905-ae9cbe682835",
        "colab": {
          "base_uri": "https://localhost:8080/",
          "height": 1000
        }
      },
      "source": [
        "data[0:10]"
      ],
      "execution_count": 3,
      "outputs": [
        {
          "output_type": "execute_result",
          "data": {
            "text/html": [
              "<div>\n",
              "<style scoped>\n",
              "    .dataframe tbody tr th:only-of-type {\n",
              "        vertical-align: middle;\n",
              "    }\n",
              "\n",
              "    .dataframe tbody tr th {\n",
              "        vertical-align: top;\n",
              "    }\n",
              "\n",
              "    .dataframe thead th {\n",
              "        text-align: right;\n",
              "    }\n",
              "</style>\n",
              "<table border=\"1\" class=\"dataframe\">\n",
              "  <thead>\n",
              "    <tr style=\"text-align: right;\">\n",
              "      <th></th>\n",
              "      <th>App Name</th>\n",
              "      <th>App Store</th>\n",
              "      <th>App</th>\n",
              "      <th>Store</th>\n",
              "      <th>App ID</th>\n",
              "      <th>Review ID</th>\n",
              "      <th>Country</th>\n",
              "      <th>Version</th>\n",
              "      <th>Rating</th>\n",
              "      <th>Date</th>\n",
              "      <th>Author</th>\n",
              "      <th>Subject</th>\n",
              "      <th>Body</th>\n",
              "      <th>Translated Subject</th>\n",
              "      <th>Translated Body</th>\n",
              "      <th>Sentiment</th>\n",
              "      <th>Device</th>\n",
              "      <th>Language</th>\n",
              "      <th>OS Version</th>\n",
              "      <th>Reply URL</th>\n",
              "      <th>Topics</th>\n",
              "      <th>Custom Topics</th>\n",
              "      <th>Tags</th>\n",
              "    </tr>\n",
              "  </thead>\n",
              "  <tbody>\n",
              "    <tr>\n",
              "      <th>0</th>\n",
              "      <td>Walmart - Shopping &amp; Grocery</td>\n",
              "      <td>iOS</td>\n",
              "      <td>Walmart - Shopping &amp; Grocery</td>\n",
              "      <td>iOS</td>\n",
              "      <td>338137227</td>\n",
              "      <td>6543010879</td>\n",
              "      <td>USA</td>\n",
              "      <td>20.4</td>\n",
              "      <td>2</td>\n",
              "      <td>2020-10-17</td>\n",
              "      <td>jkmp2001</td>\n",
              "      <td>Walmart Pay</td>\n",
              "      <td>It won’t let me set up Walmart pay. It just st...</td>\n",
              "      <td>NaN</td>\n",
              "      <td>NaN</td>\n",
              "      <td>negative</td>\n",
              "      <td>NaN</td>\n",
              "      <td>English</td>\n",
              "      <td>NaN</td>\n",
              "      <td>https://app.appbot.co/apps/7720-walmart-shoppi...</td>\n",
              "      <td>[\"Design &amp; UX\"]</td>\n",
              "      <td>[\"Insurance - Billing\", \"Generic - UX \", \"GENE...</td>\n",
              "      <td>[]</td>\n",
              "    </tr>\n",
              "    <tr>\n",
              "      <th>1</th>\n",
              "      <td>Walmart - Shopping &amp; Grocery</td>\n",
              "      <td>iOS</td>\n",
              "      <td>Walmart - Shopping &amp; Grocery</td>\n",
              "      <td>iOS</td>\n",
              "      <td>338137227</td>\n",
              "      <td>6542918128</td>\n",
              "      <td>USA</td>\n",
              "      <td>20.4</td>\n",
              "      <td>2</td>\n",
              "      <td>2020-10-17</td>\n",
              "      <td>katieyy</td>\n",
              "      <td>Checkin for pickup broken</td>\n",
              "      <td>I cannot checkin to pick up my order. Not good...</td>\n",
              "      <td>NaN</td>\n",
              "      <td>NaN</td>\n",
              "      <td>negative</td>\n",
              "      <td>NaN</td>\n",
              "      <td>English</td>\n",
              "      <td>NaN</td>\n",
              "      <td>https://app.appbot.co/apps/7720-walmart-shoppi...</td>\n",
              "      <td>[\"Design &amp; UX\"]</td>\n",
              "      <td>[\"Generic - UX \", \"GENERIC - ALL REVIEWS\", \"K&amp;...</td>\n",
              "      <td>[]</td>\n",
              "    </tr>\n",
              "    <tr>\n",
              "      <th>2</th>\n",
              "      <td>Walmart - Shopping &amp; Grocery</td>\n",
              "      <td>iOS</td>\n",
              "      <td>Walmart - Shopping &amp; Grocery</td>\n",
              "      <td>iOS</td>\n",
              "      <td>338137227</td>\n",
              "      <td>6543539641</td>\n",
              "      <td>USA</td>\n",
              "      <td>20.4</td>\n",
              "      <td>2</td>\n",
              "      <td>2020-10-17</td>\n",
              "      <td>jennn4079</td>\n",
              "      <td>New update</td>\n",
              "      <td>Ever since the new update, my app doesn’t swit...</td>\n",
              "      <td>NaN</td>\n",
              "      <td>NaN</td>\n",
              "      <td>negative</td>\n",
              "      <td>NaN</td>\n",
              "      <td>English</td>\n",
              "      <td>NaN</td>\n",
              "      <td>https://app.appbot.co/apps/7720-walmart-shoppi...</td>\n",
              "      <td>[\"Location Services\"]</td>\n",
              "      <td>[\"GENERIC - ALL REVIEWS\", \"K&amp;G-Yelp-Tech\", \"K&amp;...</td>\n",
              "      <td>[]</td>\n",
              "    </tr>\n",
              "    <tr>\n",
              "      <th>3</th>\n",
              "      <td>Walmart - Shopping &amp; Grocery</td>\n",
              "      <td>iOS</td>\n",
              "      <td>Walmart - Shopping &amp; Grocery</td>\n",
              "      <td>iOS</td>\n",
              "      <td>338137227</td>\n",
              "      <td>6544590750</td>\n",
              "      <td>USA</td>\n",
              "      <td>20.4</td>\n",
              "      <td>1</td>\n",
              "      <td>2020-10-17</td>\n",
              "      <td>MmamaLlama</td>\n",
              "      <td>Frustration</td>\n",
              "      <td>Do your developers not understand that we use ...</td>\n",
              "      <td>NaN</td>\n",
              "      <td>NaN</td>\n",
              "      <td>negative</td>\n",
              "      <td>NaN</td>\n",
              "      <td>English</td>\n",
              "      <td>NaN</td>\n",
              "      <td>https://app.appbot.co/apps/7720-walmart-shoppi...</td>\n",
              "      <td>[\"Camera &amp; Photos\", \"Design &amp; UX\", \"Location S...</td>\n",
              "      <td>[\"Insurance - Billing\", \"GENERIC - I wish\", \"I...</td>\n",
              "      <td>[]</td>\n",
              "    </tr>\n",
              "    <tr>\n",
              "      <th>4</th>\n",
              "      <td>Walmart - Shopping &amp; Grocery</td>\n",
              "      <td>iOS</td>\n",
              "      <td>Walmart - Shopping &amp; Grocery</td>\n",
              "      <td>iOS</td>\n",
              "      <td>338137227</td>\n",
              "      <td>6544176447</td>\n",
              "      <td>USA</td>\n",
              "      <td>20.4</td>\n",
              "      <td>1</td>\n",
              "      <td>2020-10-17</td>\n",
              "      <td>Jenjemon</td>\n",
              "      <td>Doesn’t offer free shipping,Employees not friedly</td>\n",
              "      <td>I saw a sale stem mop $68,I scan it it’s $39,w...</td>\n",
              "      <td>NaN</td>\n",
              "      <td>NaN</td>\n",
              "      <td>negative</td>\n",
              "      <td>NaN</td>\n",
              "      <td>English</td>\n",
              "      <td>NaN</td>\n",
              "      <td>https://app.appbot.co/apps/7720-walmart-shoppi...</td>\n",
              "      <td>[\"Bugs\", \"Connectivity\", \"Pricing\"]</td>\n",
              "      <td>[\"GENERIC - I wish\", \"Insurance - Price\", \"GEN...</td>\n",
              "      <td>[]</td>\n",
              "    </tr>\n",
              "    <tr>\n",
              "      <th>5</th>\n",
              "      <td>Walmart - Shopping &amp; Grocery</td>\n",
              "      <td>iOS</td>\n",
              "      <td>Walmart - Shopping &amp; Grocery</td>\n",
              "      <td>iOS</td>\n",
              "      <td>338137227</td>\n",
              "      <td>6539924416</td>\n",
              "      <td>USA</td>\n",
              "      <td>20.4</td>\n",
              "      <td>1</td>\n",
              "      <td>2020-10-16</td>\n",
              "      <td>Gloaming1974</td>\n",
              "      <td>Where did product location go?</td>\n",
              "      <td>I am disabled and can’t leave the house, so my...</td>\n",
              "      <td>NaN</td>\n",
              "      <td>NaN</td>\n",
              "      <td>negative</td>\n",
              "      <td>NaN</td>\n",
              "      <td>English</td>\n",
              "      <td>NaN</td>\n",
              "      <td>https://app.appbot.co/apps/7720-walmart-shoppi...</td>\n",
              "      <td>[\"Design &amp; UX\", \"Dissatisfied users\", \"Locatio...</td>\n",
              "      <td>[\"GENERIC - I wish\", \"Call or talk\", \"Insuranc...</td>\n",
              "      <td>[]</td>\n",
              "    </tr>\n",
              "    <tr>\n",
              "      <th>6</th>\n",
              "      <td>Walmart - Shopping &amp; Grocery</td>\n",
              "      <td>iOS</td>\n",
              "      <td>Walmart - Shopping &amp; Grocery</td>\n",
              "      <td>iOS</td>\n",
              "      <td>338137227</td>\n",
              "      <td>6539753381</td>\n",
              "      <td>USA</td>\n",
              "      <td>20.4</td>\n",
              "      <td>1</td>\n",
              "      <td>2020-10-16</td>\n",
              "      <td>Samantha D24</td>\n",
              "      <td>Good at wasting your time</td>\n",
              "      <td>Spent time adding all the things that we need ...</td>\n",
              "      <td>NaN</td>\n",
              "      <td>NaN</td>\n",
              "      <td>negative</td>\n",
              "      <td>NaN</td>\n",
              "      <td>English</td>\n",
              "      <td>NaN</td>\n",
              "      <td>https://app.appbot.co/apps/7720-walmart-shoppi...</td>\n",
              "      <td>[\"Dissatisfied users\"]</td>\n",
              "      <td>[\"Insurance -  Make changes\", \"GENERIC - ALL R...</td>\n",
              "      <td>[]</td>\n",
              "    </tr>\n",
              "    <tr>\n",
              "      <th>7</th>\n",
              "      <td>Walmart - Shopping &amp; Grocery</td>\n",
              "      <td>iOS</td>\n",
              "      <td>Walmart - Shopping &amp; Grocery</td>\n",
              "      <td>iOS</td>\n",
              "      <td>338137227</td>\n",
              "      <td>6539660891</td>\n",
              "      <td>USA</td>\n",
              "      <td>20.4</td>\n",
              "      <td>2</td>\n",
              "      <td>2020-10-16</td>\n",
              "      <td>kimg177</td>\n",
              "      <td>Need to change Walmart Pay</td>\n",
              "      <td>I love this app and use it every time I go to ...</td>\n",
              "      <td>NaN</td>\n",
              "      <td>NaN</td>\n",
              "      <td>negative</td>\n",
              "      <td>NaN</td>\n",
              "      <td>English</td>\n",
              "      <td>NaN</td>\n",
              "      <td>https://app.appbot.co/apps/7720-walmart-shoppi...</td>\n",
              "      <td>[\"Bugs\", \"Frequency\"]</td>\n",
              "      <td>[\"Insurance - Billing\", \"Insurance -  Make cha...</td>\n",
              "      <td>[]</td>\n",
              "    </tr>\n",
              "    <tr>\n",
              "      <th>8</th>\n",
              "      <td>Walmart - Shopping &amp; Grocery</td>\n",
              "      <td>iOS</td>\n",
              "      <td>Walmart - Shopping &amp; Grocery</td>\n",
              "      <td>iOS</td>\n",
              "      <td>338137227</td>\n",
              "      <td>6539639428</td>\n",
              "      <td>USA</td>\n",
              "      <td>20.4</td>\n",
              "      <td>2</td>\n",
              "      <td>2020-10-16</td>\n",
              "      <td>bhjkkoooooooooo</td>\n",
              "      <td>App is great but something happen.</td>\n",
              "      <td>Hi I order something off the app and when I ch...</td>\n",
              "      <td>NaN</td>\n",
              "      <td>NaN</td>\n",
              "      <td>negative</td>\n",
              "      <td>NaN</td>\n",
              "      <td>English</td>\n",
              "      <td>NaN</td>\n",
              "      <td>https://app.appbot.co/apps/7720-walmart-shoppi...</td>\n",
              "      <td>[]</td>\n",
              "      <td>[\"GENERIC - How do I\", \"GENERIC - ALL REVIEWS\"...</td>\n",
              "      <td>[]</td>\n",
              "    </tr>\n",
              "    <tr>\n",
              "      <th>9</th>\n",
              "      <td>Walmart - Shopping &amp; Grocery</td>\n",
              "      <td>iOS</td>\n",
              "      <td>Walmart - Shopping &amp; Grocery</td>\n",
              "      <td>iOS</td>\n",
              "      <td>338137227</td>\n",
              "      <td>6539484903</td>\n",
              "      <td>USA</td>\n",
              "      <td>20.4</td>\n",
              "      <td>1</td>\n",
              "      <td>2020-10-16</td>\n",
              "      <td>hi im alleb enorht</td>\n",
              "      <td>Where is the favorite tab?</td>\n",
              "      <td>Since the update, the buy again never loads. W...</td>\n",
              "      <td>NaN</td>\n",
              "      <td>NaN</td>\n",
              "      <td>negative</td>\n",
              "      <td>NaN</td>\n",
              "      <td>English</td>\n",
              "      <td>NaN</td>\n",
              "      <td>https://app.appbot.co/apps/7720-walmart-shoppi...</td>\n",
              "      <td>[\"Bugs\", \"Design &amp; UX\", \"Feature Requests\", \"D...</td>\n",
              "      <td>[\"Generic - UX \", \"GENERIC - How do I\", \"GENER...</td>\n",
              "      <td>[]</td>\n",
              "    </tr>\n",
              "  </tbody>\n",
              "</table>\n",
              "</div>"
            ],
            "text/plain": [
              "                       App Name  ... Tags\n",
              "0  Walmart - Shopping & Grocery  ...   []\n",
              "1  Walmart - Shopping & Grocery  ...   []\n",
              "2  Walmart - Shopping & Grocery  ...   []\n",
              "3  Walmart - Shopping & Grocery  ...   []\n",
              "4  Walmart - Shopping & Grocery  ...   []\n",
              "5  Walmart - Shopping & Grocery  ...   []\n",
              "6  Walmart - Shopping & Grocery  ...   []\n",
              "7  Walmart - Shopping & Grocery  ...   []\n",
              "8  Walmart - Shopping & Grocery  ...   []\n",
              "9  Walmart - Shopping & Grocery  ...   []\n",
              "\n",
              "[10 rows x 23 columns]"
            ]
          },
          "metadata": {
            "tags": []
          },
          "execution_count": 3
        }
      ]
    },
    {
      "cell_type": "code",
      "metadata": {
        "id": "iB6w1pM69cAb",
        "outputId": "d2cdb46b-49c6-40b0-f257-4839c5d7e676",
        "colab": {
          "base_uri": "https://localhost:8080/"
        }
      },
      "source": [
        "data.columns"
      ],
      "execution_count": 4,
      "outputs": [
        {
          "output_type": "execute_result",
          "data": {
            "text/plain": [
              "Index(['App Name', 'App Store', 'App', 'Store', 'App ID', 'Review ID',\n",
              "       'Country', 'Version', 'Rating', 'Date', 'Author', 'Subject', 'Body',\n",
              "       'Translated Subject', 'Translated Body', 'Sentiment', 'Device',\n",
              "       'Language', 'OS Version', 'Reply URL', 'Topics', 'Custom Topics',\n",
              "       'Tags'],\n",
              "      dtype='object')"
            ]
          },
          "metadata": {
            "tags": []
          },
          "execution_count": 4
        }
      ]
    },
    {
      "cell_type": "code",
      "metadata": {
        "id": "AhmrsIpRB6MM"
      },
      "source": [
        "data.drop(['App Name','Author','App ID','Review ID','App Store','Translated Subject','Translated Body','Device','OS Version','Reply URL', 'Topics', 'Custom Topics','Tags'],axis=1,inplace = True)"
      ],
      "execution_count": 5,
      "outputs": []
    },
    {
      "cell_type": "code",
      "metadata": {
        "id": "IZTz7C_DCKuD",
        "outputId": "004023ae-1860-48d6-a73d-851fdd7fdc82",
        "colab": {
          "base_uri": "https://localhost:8080/",
          "height": 195
        }
      },
      "source": [
        "data.head()"
      ],
      "execution_count": 6,
      "outputs": [
        {
          "output_type": "execute_result",
          "data": {
            "text/html": [
              "<div>\n",
              "<style scoped>\n",
              "    .dataframe tbody tr th:only-of-type {\n",
              "        vertical-align: middle;\n",
              "    }\n",
              "\n",
              "    .dataframe tbody tr th {\n",
              "        vertical-align: top;\n",
              "    }\n",
              "\n",
              "    .dataframe thead th {\n",
              "        text-align: right;\n",
              "    }\n",
              "</style>\n",
              "<table border=\"1\" class=\"dataframe\">\n",
              "  <thead>\n",
              "    <tr style=\"text-align: right;\">\n",
              "      <th></th>\n",
              "      <th>App</th>\n",
              "      <th>Store</th>\n",
              "      <th>Country</th>\n",
              "      <th>Version</th>\n",
              "      <th>Rating</th>\n",
              "      <th>Date</th>\n",
              "      <th>Subject</th>\n",
              "      <th>Body</th>\n",
              "      <th>Sentiment</th>\n",
              "      <th>Language</th>\n",
              "    </tr>\n",
              "  </thead>\n",
              "  <tbody>\n",
              "    <tr>\n",
              "      <th>0</th>\n",
              "      <td>Walmart - Shopping &amp; Grocery</td>\n",
              "      <td>iOS</td>\n",
              "      <td>USA</td>\n",
              "      <td>20.4</td>\n",
              "      <td>2</td>\n",
              "      <td>2020-10-17</td>\n",
              "      <td>Walmart Pay</td>\n",
              "      <td>It won’t let me set up Walmart pay. It just st...</td>\n",
              "      <td>negative</td>\n",
              "      <td>English</td>\n",
              "    </tr>\n",
              "    <tr>\n",
              "      <th>1</th>\n",
              "      <td>Walmart - Shopping &amp; Grocery</td>\n",
              "      <td>iOS</td>\n",
              "      <td>USA</td>\n",
              "      <td>20.4</td>\n",
              "      <td>2</td>\n",
              "      <td>2020-10-17</td>\n",
              "      <td>Checkin for pickup broken</td>\n",
              "      <td>I cannot checkin to pick up my order. Not good...</td>\n",
              "      <td>negative</td>\n",
              "      <td>English</td>\n",
              "    </tr>\n",
              "    <tr>\n",
              "      <th>2</th>\n",
              "      <td>Walmart - Shopping &amp; Grocery</td>\n",
              "      <td>iOS</td>\n",
              "      <td>USA</td>\n",
              "      <td>20.4</td>\n",
              "      <td>2</td>\n",
              "      <td>2020-10-17</td>\n",
              "      <td>New update</td>\n",
              "      <td>Ever since the new update, my app doesn’t swit...</td>\n",
              "      <td>negative</td>\n",
              "      <td>English</td>\n",
              "    </tr>\n",
              "    <tr>\n",
              "      <th>3</th>\n",
              "      <td>Walmart - Shopping &amp; Grocery</td>\n",
              "      <td>iOS</td>\n",
              "      <td>USA</td>\n",
              "      <td>20.4</td>\n",
              "      <td>1</td>\n",
              "      <td>2020-10-17</td>\n",
              "      <td>Frustration</td>\n",
              "      <td>Do your developers not understand that we use ...</td>\n",
              "      <td>negative</td>\n",
              "      <td>English</td>\n",
              "    </tr>\n",
              "    <tr>\n",
              "      <th>4</th>\n",
              "      <td>Walmart - Shopping &amp; Grocery</td>\n",
              "      <td>iOS</td>\n",
              "      <td>USA</td>\n",
              "      <td>20.4</td>\n",
              "      <td>1</td>\n",
              "      <td>2020-10-17</td>\n",
              "      <td>Doesn’t offer free shipping,Employees not friedly</td>\n",
              "      <td>I saw a sale stem mop $68,I scan it it’s $39,w...</td>\n",
              "      <td>negative</td>\n",
              "      <td>English</td>\n",
              "    </tr>\n",
              "  </tbody>\n",
              "</table>\n",
              "</div>"
            ],
            "text/plain": [
              "                            App Store  ... Sentiment Language\n",
              "0  Walmart - Shopping & Grocery   iOS  ...  negative  English\n",
              "1  Walmart - Shopping & Grocery   iOS  ...  negative  English\n",
              "2  Walmart - Shopping & Grocery   iOS  ...  negative  English\n",
              "3  Walmart - Shopping & Grocery   iOS  ...  negative  English\n",
              "4  Walmart - Shopping & Grocery   iOS  ...  negative  English\n",
              "\n",
              "[5 rows x 10 columns]"
            ]
          },
          "metadata": {
            "tags": []
          },
          "execution_count": 6
        }
      ]
    },
    {
      "cell_type": "code",
      "metadata": {
        "id": "aoooL10ADflY"
      },
      "source": [
        ""
      ],
      "execution_count": 6,
      "outputs": []
    },
    {
      "cell_type": "markdown",
      "metadata": {
        "id": "8ir_G8CiDgGy"
      },
      "source": [
        "Explorartory Analysis"
      ]
    },
    {
      "cell_type": "code",
      "metadata": {
        "id": "UCGpdNvU9lpr"
      },
      "source": [
        "data_df = pd.DataFrame(data)"
      ],
      "execution_count": 7,
      "outputs": []
    },
    {
      "cell_type": "code",
      "metadata": {
        "id": "jCBOh3DfGtsd",
        "outputId": "44297347-25a2-47f4-c30e-b676008e72aa",
        "colab": {
          "base_uri": "https://localhost:8080/",
          "height": 345
        }
      },
      "source": [
        "data_df.groupby('Store')['Store'].count().plot(kind='bar',facecolor=(0, 0, 0, 0),\n",
        "                   linewidth=5,\n",
        "                   edgecolor=sns.color_palette(\"dark\", 3))"
      ],
      "execution_count": 8,
      "outputs": [
        {
          "output_type": "execute_result",
          "data": {
            "text/plain": [
              "<matplotlib.axes._subplots.AxesSubplot at 0x7fe4654b8828>"
            ]
          },
          "metadata": {
            "tags": []
          },
          "execution_count": 8
        },
        {
          "output_type": "display_data",
          "data": {
            "image/png": "[encoded data removed]",
            "text/plain": [
              "<Figure size 432x288 with 1 Axes>"
            ]
          },
          "metadata": {
            "tags": [],
            "needs_background": "light"
          }
        }
      ]
    },
    {
      "cell_type": "code",
      "metadata": {
        "id": "egmRh5Y_DxfI",
        "outputId": "b6f5cb56-5c3c-4dd0-8138-0af2f327ce44",
        "colab": {
          "base_uri": "https://localhost:8080/",
          "height": 330
        }
      },
      "source": [
        "data_df.groupby('Sentiment')['Sentiment'].count().plot(kind='bar',color=['orange', 'red', 'green', 'blue'])\n"
      ],
      "execution_count": 9,
      "outputs": [
        {
          "output_type": "execute_result",
          "data": {
            "text/plain": [
              "<matplotlib.axes._subplots.AxesSubplot at 0x7fe4669673c8>"
            ]
          },
          "metadata": {
            "tags": []
          },
          "execution_count": 9
        },
        {
          "output_type": "display_data",
          "data": {
            "image/png": "[encoded data removed]",
            "text/plain": [
              "<Figure size 432x288 with 1 Axes>"
            ]
          },
          "metadata": {
            "tags": [],
            "needs_background": "light"
          }
        }
      ]
    },
    {
      "cell_type": "code",
      "metadata": {
        "id": "0_UXN3VcECN2",
        "outputId": "864d69b2-67b4-4c8b-f40b-ed9728dda83b",
        "colab": {
          "base_uri": "https://localhost:8080/",
          "height": 295
        }
      },
      "source": [
        "data_df.groupby('Rating')['Rating'].count().plot(kind='bar',color=['orange', 'red', 'green', 'blue','green'])"
      ],
      "execution_count": 10,
      "outputs": [
        {
          "output_type": "execute_result",
          "data": {
            "text/plain": [
              "<matplotlib.axes._subplots.AxesSubplot at 0x7fe464e0bcc0>"
            ]
          },
          "metadata": {
            "tags": []
          },
          "execution_count": 10
        },
        {
          "output_type": "display_data",
          "data": {
            "image/png": "[encoded data removed]",
            "text/plain": [
              "<Figure size 432x288 with 1 Axes>"
            ]
          },
          "metadata": {
            "tags": [],
            "needs_background": "light"
          }
        }
      ]
    },
    {
      "cell_type": "code",
      "metadata": {
        "id": "RbyNAI4SGDhx",
        "outputId": "791531e3-7e0a-464b-c07f-92df60939e27",
        "colab": {
          "base_uri": "https://localhost:8080/",
          "height": 296
        }
      },
      "source": [
        "sns.countplot(x='Store',data = data_df,hue='Rating',edgecolor=sns.color_palette(\"dark\", 5))\n",
        "plt.figure(figsize=(15,15))\n",
        "plt.show()"
      ],
      "execution_count": 11,
      "outputs": [
        {
          "output_type": "display_data",
          "data": {
            "image/png": "[encoded data removed]",
            "text/plain": [
              "<Figure size 432x288 with 1 Axes>"
            ]
          },
          "metadata": {
            "tags": [],
            "needs_background": "light"
          }
        },
        {
          "output_type": "display_data",
          "data": {
            "text/plain": [
              "<Figure size 1080x1080 with 0 Axes>"
            ]
          },
          "metadata": {
            "tags": []
          }
        }
      ]
    },
    {
      "cell_type": "code",
      "metadata": {
        "id": "_XvjUQQyGsc-",
        "outputId": "badb5b30-b5e0-4893-e84f-f728843699e4",
        "colab": {
          "base_uri": "https://localhost:8080/",
          "height": 296
        }
      },
      "source": [
        "sns.countplot(x='Store',data = data_df,hue='Sentiment',edgecolor=sns.color_palette(\"dark\", 5))\n",
        "plt.figure(figsize=(15,15))\n",
        "plt.show()"
      ],
      "execution_count": 12,
      "outputs": [
        {
          "output_type": "display_data",
          "data": {
            "image/png": "[encoded data removed]",
            "text/plain": [
              "<Figure size 432x288 with 1 Axes>"
            ]
          },
          "metadata": {
            "tags": [],
            "needs_background": "light"
          }
        },
        {
          "output_type": "display_data",
          "data": {
            "text/plain": [
              "<Figure size 1080x1080 with 0 Axes>"
            ]
          },
          "metadata": {
            "tags": []
          }
        }
      ]
    },
    {
      "cell_type": "code",
      "metadata": {
        "id": "-0EEpZNC8GtF",
        "outputId": "833a6f6f-c18b-4b96-91ba-4eb247dc68fa",
        "colab": {
          "base_uri": "https://localhost:8080/"
        }
      },
      "source": [
        "len(data_df['Body'])"
      ],
      "execution_count": 13,
      "outputs": [
        {
          "output_type": "execute_result",
          "data": {
            "text/plain": [
              "39798"
            ]
          },
          "metadata": {
            "tags": []
          },
          "execution_count": 13
        }
      ]
    },
    {
      "cell_type": "code",
      "metadata": {
        "id": "-S9DNuJ87jUZ"
      },
      "source": [
        "dataset = data_df[data_df.Language == 'English']"
      ],
      "execution_count": 14,
      "outputs": []
    },
    {
      "cell_type": "code",
      "metadata": {
        "id": "jWryyCmB8Akh",
        "outputId": "4988f694-4958-431d-d038-5b9157c01599",
        "colab": {
          "base_uri": "https://localhost:8080/"
        }
      },
      "source": [
        "len(dataset['Body'])"
      ],
      "execution_count": 15,
      "outputs": [
        {
          "output_type": "execute_result",
          "data": {
            "text/plain": [
              "30921"
            ]
          },
          "metadata": {
            "tags": []
          },
          "execution_count": 15
        }
      ]
    },
    {
      "cell_type": "markdown",
      "metadata": {
        "id": "tYV-uzdQQx2o"
      },
      "source": [
        "Using TextBlob to calculate sentiment polarity which lies in the range of [-1,1] where 1 means positive sentiment and -1 means a negative sentiment."
      ]
    },
    {
      "cell_type": "code",
      "metadata": {
        "id": "OtKZWMZGRK6k"
      },
      "source": [
        "dataset['polarity'] = dataset['Body'].apply(sentiment_calc)"
      ],
      "execution_count": 91,
      "outputs": []
    },
    {
      "cell_type": "code",
      "metadata": {
        "id": "efpy8PP2RBIQ",
        "outputId": "efca8feb-e682-44d6-84d9-1bc30b8ce02f",
        "colab": {
          "base_uri": "https://localhost:8080/",
          "height": 542
        }
      },
      "source": [
        "dataset[\"polarity\"].iplot(\n",
        "    kind='hist',\n",
        "    bins=100,\n",
        "    xTitle='Polarity',\n",
        "    linecolor='black',\n",
        "    yTitle='count',\n",
        "    title='Sentiment Polarity Distribution')"
      ],
      "execution_count": 92,
      "outputs": [
        {
          "output_type": "display_data",
          "data": {
            "text/html": [
              "<html>\n",
              "<head><meta charset=\"utf-8\" /></head>\n",
              "<body>\n",
              "    <div>\n",
              "            <script src=\"https://cdnjs.cloudflare.com/ajax/libs/mathjax/2.7.5/MathJax.js?config=TeX-AMS-MML_SVG\"></script><script type=\"text/javascript\">if (window.MathJax) {MathJax.Hub.Config({SVG: {font: \"STIX-Web\"}});}</script>\n",
              "                <script type=\"text/javascript\">window.PlotlyConfig = {MathJaxConfig: 'local'};</script>\n",
              "        <script src=\"https://cdn.plot.ly/plotly-latest.min.js\"></script>    \n",
              "            <div id=\"37911e11-906b-42ea-b45b-20d5cd2cf230\" class=\"plotly-graph-div\" style=\"height:525px; width:100%;\"></div>\n",
              "            <script type=\"text/javascript\">\n",
              "                \n",
              "                    window.PLOTLYENV=window.PLOTLYENV || {};\n",
              "                    window.PLOTLYENV.BASE_URL='https://plot.ly';\n",
              "                    \n",
              "                if (document.getElementById(\"37911e11-906b-42ea-b45b-20d5cd2cf230\")) {\n",
              "                    Plotly.newPlot(\n",
              "                        '37911e11-906b-42ea-b45b-20d5cd2cf230',\n",
              "                        [{\"histfunc\": \"count\", \"histnorm\": \"\", \"marker\": {\"color\": \"rgba(255, 153, 51, 1.0)\", \"line\": {\"color\": \"#000000\", \"width\": 1.3}}, \"name\": \"polarity\", \"nbinsx\": 100, \"opacity\": 0.8, \"orientation\": \"v\", \"type\": \"histogram\", \"x\": [0.0, -0.35, 0.13636363636363635, 0.05555555555555555, 0.23333333333333336, -0.1888888888888889, -0.09333333333333334, 0.5, -0.35, -0.27011718749999997, -0.2041666666666667, 0.03081585081585081, 0.5, 0.43333333333333335, 0.375, 0.06388888888888888, -0.19678571428571429, -0.5208333333333334, 0.1, -0.19598214285714285, 0.0, 0.23124999999999998, 0.025, 0.3666666666666667, 0.07868480725623585, -0.15, 0.5, 0.25, 0.11249999999999999, -0.10416666666666669, -0.10000000000000002, 0.22371794871794876, -0.35555555555555557, -0.1861111111111111, -0.11136363636363637, 0.00714285714285715, 0.425, 0.0, 0.0, 0.15, -0.06785714285714285, 0.5, 0.0, 0.0, -0.22544642857142858, 1.0, -0.03333333333333335, -0.10710227272727275, -0.3666666666666667, -0.15555555555555559, 0.26111111111111107, 0.1, 0.20833333333333331, 0.1, 0.0, 0.0, 0.009375000000000007, 0.25, 0.0, -0.013888888888888895, -0.08454545454545455, 0.0, 0.5, 0.5, -0.5, 0.10253427128427128, 0.4333333333333333, 0.2, -0.40625, 0.13333333333333333, 0.0, 0.4, 0.08333333333333334, 0.06000000000000001, 0.0, 0.08833333333333335, 0.1888888888888889, 0.05, 0.0, -0.0875, -0.024999999999999988, -0.08980769230769231, 0.09895833333333334, -0.16666666666666666, 0.033333333333333326, -0.046666666666666676, 0.22407407407407406, 0.0, -0.18078512396694213, 0.08261645021645023, 0.0, 0.10767045454545454, -0.05518518518518518, -0.2613095238095238, 0.0, -0.1, 0.10899470899470899, 0.0016025641025640969, -0.0875, 0.0, 0.10774410774410775, 0.06783216783216782, 0.19999999999999998, 0.32996632996632996, 0.07222222222222222, 0.011969696969696964, 0.10511363636363635, 0.0, -0.9999999999999999, -0.28472222222222227, 0.09714285714285713, -0.11388888888888889, -0.2333333333333333, -0.03333333333333333, 0.05000000000000001, -0.07603515625, 0.11592592592592592, 0.0, -0.029027777777777763, 0.3761904761904762, 0.20555555555555557, 0.0, 0.2, 0.0, 0.05714285714285715, -0.3020833333333333, 0.11388888888888887, -1.0, -0.07500000000000001, 0.057500000000000016, 0.24333333333333335, 0.0, -0.03409090909090909, 0.3666666666666667, -0.15, 0.2512626262626263, 0.1, 0.0, 0.29791666666666666, -0.018518518518518507, 0.01792929292929293, 0.25, -0.006190476190476191, 0.0, 0.08333333333333333, 0.17903197713744587, 0.33333333333333337, 0.10297619047619049, -0.036563552188552194, 0.06944444444444443, 0.18, 0.06666666666666668, 0.0, -0.26041666666666663, -0.03333333333333335, -0.05416666666666667, 0.48441558441558447, 0.4083333333333334, -0.6000000000000001, 0.053333333333333344, 0.05, 0.03511904761904763, -0.10000000000000002, 0.15932291666666668, -0.16666666666666666, 0.1875, -0.3333333333333333, 0.0, 0.09375, 0.2333333333333333, 0.25, -0.06476190476190476, 0.29444444444444445, 0.17174688057041, 0.28809523809523807, -0.05, 0.24666666666666667, 0.0, 0.2888888888888889, 0.1722222222222222, 0.5, 0.11738455988455986, 0.07910052910052906, 0.17282196969696972, 0.28035714285714286, 0.1, -1.0, 0.08, -0.06602564102564103, 0.004444444444444436, -0.39999999999999997, 0.31333333333333335, 0.5, 0.39285714285714285, 0.16875, 0.3352272727272727, 0.4, 0.16104575163398696, 0.4375, 0.0, 0.2396825396825397, -0.1696969696969697, 0.13636363636363635, 0.1166666666666667, -0.05306122448979592, 0.25, 0.0, -0.04479166666666666, 0.038888888888888896, 0.1657068029626623, -0.4301587301587302, 0.21875, 0.0, -0.08, -0.125, 0.26, 0.0, 0.07142857142857142, 0.475, 0.0, 0.256, -0.08752525252525255, -0.30000000000000004, 0.0, 0.0040000000000000036, 0.11666666666666665, 0.35, 0.0, -0.059999999999999984, 0.3294270833333333, 0.019410342261904762, 0.1733333333333333, 0.25, -0.09999999999999998, 0.5, 0.8, 0.16125, 0.0, -0.3125, 0.32261904761904764, -0.5777777777777778, 0.3270833333333334, 0.3875, 0.03856421356421355, -0.16666666666666666, -0.1354377104377104, 0.09285714285714285, 0.018855218855218847, -0.3, 0.49500000000000005, 0.09342105263157896, 0.1388888888888889, 0.10462962962962963, 0.04166666666666668, 0.275, 0.11190476190476192, 0.26944444444444443, 0.11666666666666665, 0.32916666666666666, 0.044999999999999984, 0.36250000000000004, 0.0, 0.0, -0.16666666666666666, -0.06333333333333335, -0.10833333333333328, -0.22999999999999998, 0.11666666666666667, 0.0, 0.27662337662337666, 0.23295454545454544, 0.0, -0.1, 0.0853030303030303, -0.24125, 0.10555555555555556, -0.16666666666666666, 0.03172541743970315, -0.2583333333333333, 0.0, 0.0, 0.55, 0.0, -0.24375, 0.0, -0.27999999999999997, -0.52, 0.625, 1.0, 0.0, 0.09999999999999999, -0.2, 0.15208333333333335, 0.0, 0.14166666666666666, 0.0, -0.18125000000000002, 0.02878787878787879, 0.18012987012987014, 0.375, -0.125, -0.3055555555555555, 0.42000000000000004, 0.1, -0.25, -0.4, -0.0625, 0.15846354166666668, -0.17500000000000002, 0.0, 0.0, 0.2833333333333334, 0.08333333333333334, -0.12003367003367003, -0.05965909090909091, 0.03333333333333336, 0.09375, -0.35238095238095246, 0.04520833333333332, 0.3, -0.1285714285714286, 0.0, 0.041666666666666664, 0.14765625, 0.2, 0.0, 0.6921875, -0.023809523809523787, 0.13385416666666664, 0.075, 0.30624999999999997, -0.9, 0.20140036730945818, -0.06388888888888888, -0.3295572916666667, 0.16, -0.39166666666666666, 0.5, -0.28348214285714285, 0.3287878787878788, -0.1375, -0.022070312499999994, -0.16428571428571428, 0.0, 0.0, 0.0, 0.07499999999999998, -0.18000000000000002, 0.24583333333333335, 0.025, 0.08326388888888889, 0.0, 0.13636363636363635, -0.5833333333333334, -0.04714285714285716, 0.025, 0.05393939393939394, 0.0, -0.1642857142857143, 0.0, -0.2, 0.0, 0.13333333333333333, -0.09047619047619049, 0.7, 0.03392857142857142, 0.2, 0.5, 0.39583333333333337, 0.25, -0.17777777777777778, -0.6999999999999998, -0.5458333333333334, 0.0, 0.0328338623046875, 0.08095238095238096, 0.03666666666666667, 0.0, 0.1, 0.6, 0.0, -0.195, 0.30000000000000004, 0.3333333333333333, 0.039999999999999994, -0.298828125, 0.5, 0.4333333333333333, 0.16944444444444443, 0.3444444444444444, 0.08524720893141946, 0.0006944444444444512, -0.01180555555555555, -0.625, 0.1625, 0.5458333333333334, 0.22916666666666666, 0.018181818181818177, 0.34537698412698414, -0.07142857142857142, -0.012500000000000011, -0.02670454545454546, 0.0, 0.19999999999999998, 0.09479166666666668, 0.31145833333333334, -0.2166666666666667, 0.026515151515151512, 0.16666666666666666, -0.25, 0.7, 0.37777777777777777, -0.19500000000000003, -0.25, -0.255, 0.0, 0.8, 0.175, 0.00416666666666667, 0.0, -0.2, 0.021428571428571463, 0.1875, 0.3404761904761905, 0.0, 0.14833333333333337, -0.00833333333333334, -0.5, 0.0, -0.24603515625, 0.5, 0.0, 0.14285714285714288, 0.25, -0.18, -0.1, 0.1, 0.018571428571428572, 0.08778831845238096, 0.1232142857142857, 0.1, -0.03125, -0.19999999999999998, -0.1353896103896104, -0.032359307359307386, 0.0, 0.09047619047619049, 0.2333333333333333, 0.2, 0.21416666666666667, 0.3055194805194805, -0.003138528138528151, 0.50517578125, -0.09030612244897959, 0.0, -0.015909090909090904, 0.0, 0.056060606060606054, -0.12380952380952381, -0.014285714285714294, 0.0, -0.06071428571428572, 0.17291666666666666, 0.2935, -0.18333333333333335, 0.23958333333333334, 0.13666666666666666, 0.04444444444444442, 0.6, 0.7, 0.10357142857142858, 0.0, 0.06878306878306878, 0.09343434343434343, 0.2, -0.2978787878787879, 0.675, -0.05000000000000001, 0.5208333333333334, 0.0020833333333333537, 0.35, 0.8, -0.049999999999999996, 0.3333333333333333, 0.13518518518518519, -0.03571428571428572, 0.0, 0.24666666666666665, 0.2840587797619048, 0.2, 0.5328571428571428, 0.0, -0.08750000000000002, -0.22121212121212122, -0.51, 0.22000000000000003, 0.0, -0.1038095238095238, -0.45, 0.34722222222222227, 0.0, 0.2, -0.020033670033670042, 0.26666666666666666, 0.12, 0.15625, 0.34, 0.4352272727272727, 0.030000000000000065, -0.15625, 0.39999999999999997, 0.0, 0.23125, -0.05587121212121213, -0.026836734693877564, 0.15, 0.25, -0.05, -0.08928571428571427, 0.15472027972027974, 0.2166666666666667, 0.4, -0.07792968749999996, -0.12575757575757576, 0.015555555555555557, 0.07878787878787878, -0.08333333333333333, -1.0, 0.16666666666666666, 0.14285714285714285, -0.06000000000000001, 0.4222222222222222, 0.07222222222222223, -0.020000000000000018, -0.3125, 0.5, 0.13333333333333333, 0.28409090909090906, 0.0, 0.375, 0.08333333333333333, 0.0, 0.3166666666666667, 0.0, -0.03500000000000001, 0.2106060606060606, 0.1, -0.16666666666666666, 0.4, 0.17045454545454544, 0.0, 0.5, 0.06818181818181818, 0.0, -0.15000000000000002, 0.10916666666666668, 0.12920918367346937, 0.3, 0.009999999999999998, -0.125, -0.3, -0.053749999999999985, -0.25, -0.25833333333333336, -0.15185185185185188, 0.44999999999999996, -0.15555555555555553, 0.175, -0.75, 0.5, 0.275, -0.10833333333333334, -0.30000000000000004, -0.07129629629629632, -0.02666666666666669, -0.075, 0.0, -0.053333333333333365, 0.15, 0.0, 0.10280612244897959, 0.3055555555555556, -0.65, -0.20000000000000004, 0.0625, 0.37083333333333335, -0.12285714285714286, -0.0055714285714285735, 0.0, -0.16666666666666666, 0.024074074074074078, -0.05000000000000001, 0.0, 0.3333333333333333, 0.08712121212121209, 0.0, 0.5, -0.1388888888888889, 0.195, 0.8, -0.15, -0.23214285714285715, 0.3182896205357143, -0.08888888888888886, -0.02638888888888888, 0.34722222222222227, 0.0, 0.26666666666666666, 0.8, -0.5, 0.078296182983683, 0.0, -0.08125, 0.0, -0.65, -0.5, 0.14285714285714285, 0.16666666666666666, 0.26666666666666666, 0.23333333333333334, -3.700743415417188e-17, -0.0375, -0.041666666666666664, 0.0, -0.02666666666666666, 0.0, -0.09999999999999999, -0.16666666666666666, -0.08, -0.30606060606060603, 0.6666666666666666, 0.0, -0.325, -0.43614718614718617, -0.2013888888888889, 0.12008192274305554, -0.25, 1.0, 0.24, -0.2, 0.385, 0.31666666666666665, 0.0, 0.9333333333333332, -0.010000000000000009, 0.0, -0.02500000000000001, -0.02592045454545454, -0.033333333333333326, 0.2166883116883117, 0.14545454545454548, 0.0, 0.014285714285714282, 0.075, 0.019999999999999997, 0.09722222222222225, 0.196875, 0.0, 0.2833333333333333, -0.9375, 0.010384615384615384, 0.025, -0.2, -0.014583333333333393, 0.10000000000000002, 0.05555555555555557, 0.0, 0.3227272727272727, 0.09739583333333332, 0.25, 0.0, 0.2, 0.2, -0.06944444444444443, -0.53828125, -0.037500000000000006, -0.4, 0.375, 0.045, 0.22708333333333336, 0.08843537414965986, -0.1916666666666667, 0.4000000000000001, -0.2611111111111111, 0.12483974358974358, 0.325, 0.0, 0.18333333333333332, -0.8999999999999999, 0.75, -0.0625, -0.4357142857142858, 0.1653061224489796, 0.014583333333333335, 0.3, -0.01944444444444447, 0.09999999999999999, 0.07445126488095238, 0.10692640692640693, 0.0074074074074074025, 0.11875, 0.1625, 0.2737012987012987, -0.2, -0.75, 0.31212121212121213, 0.0, 0.0, 0.0, 0.0, 0.0625, 0.6000000000000001, -0.125, 0.30892857142857144, 0.5933928571428572, 0.09848484848484847, 0.15, 0.0, -0.1, 0.1, 0.20909090909090908, 0.05777777777777777, 0.05500000000000001, 0.595, 0.06877289377289378, 0.18333333333333332, 0.056111111111111105, 0.018367346938775515, 0.006249999999999978, 0.08246753246753247, 0.15583333333333335, 0.23724489795918366, -0.03787878787878788, 0.275, 0.2393939393939394, -0.14166666666666666, -1.0, 0.016666666666666666, 0.04666666666666666, -0.16722222222222222, -0.21111111111111114, -0.06333333333333334, -0.05681818181818182, 0.32916666666666666, -0.2659090909090909, 0.0, 0.0, -0.06458333333333333, 0.15857142857142856, 0.022767857142857135, -0.20833333333333334, 0.0, 0.07023809523809522, -0.5, 0.0, 0.0, 0.09932712215320909, -0.15454545454545454, 0.27999999999999997, 0.30446428571428574, 0.4375, -0.25, 0.3442857142857143, -0.02500000000000001, 0.0, 0.07999999999999999, 0.008571428571428579, 0.16339285714285712, 0.4125, 0.25, 0.12291666666666669, 0.10714285714285714, 0.3666666666666667, 0.0, 0.05909090909090908, 0.17, -0.1142857142857143, 0.24489795918367346, 0.07604166666666667, 0.12222222222222223, -0.2966666666666667, 0.0, 0.2333333333333333, 0.25, 0.0, 0.3770833333333333, -0.2, 0.14333333333333334, -0.07276785714285713, -0.375, -0.16666666666666666, 0.20000000000000004, 0.0, -0.5083333333333333, 0.5, -0.033333333333333326, 0.125, 0.1, -0.14166666666666666, 0.06666666666666667, 0.0, -0.05416666666666666, 0.1857142857142857, -0.17142857142857146, 0.5, -0.043489583333333345, 0.149482421875, -0.015384615384615389, -0.21999999999999997, 0.10000000000000002, -0.2333333333333333, 0.2041666666666667, -0.03333333333333332, -0.48750000000000004, 0.5611111111111111, -0.2394444444444445, 0.1, -0.20833333333333334, 0.06388888888888888, 0.15, 0.1551948051948052, -0.16422526041666666, -0.37142857142857144, 0.3625, 0.125, 0.05, 0.10156249999999997, 0.04999999999999999, -0.00416666666666667, 0.0, 0.07499999999999998, 0.10380952380952382, 0.0, -0.09090909090909091, 0.3181818181818182, 0.0, 0.21818181818181817, 0.04047619047619048, -0.36666666666666664, 0.6583333333333333, -0.09464285714285714, -0.12222222222222223, 0.09999999999999998, -1.0, 0.25, -0.4, 0.22159090909090912, 0.10000000000000002, 0.27549603174603177, 0.25, 0.3666666666666667, 0.3, 0.10267857142857144, 0.1, 0.0, -0.4, -0.11111111111111112, -0.0040000000000000036, 0.20888888888888887, 0.0, 0.31666666666666665, -0.19833333333333333, 0.0, 0.0, -0.1, 0.25, -0.2833333333333333, 0.004670329670329671, -1.0, 0.55, 0.0, 0.2653409090909091, 0.04166666666666668, 0.2166666666666667, 0.21666666666666667, 0.0, 0.1, 0.4, 0.0188034188034188, 0.3, 0.0984126984126984, -0.0725, 0.0, 0.0, 0.5736111111111111, 0.003075548054587681, -0.2791666666666666, 0.0, 0.20520833333333335, -0.15666666666666665, 0.1722222222222222, 0.2866666666666667, 0.012471655328798185, 0.0, 0.0, 0.23214285714285715, 0.4166666666666667, -0.5, -0.11833333333333333, 0.11212121212121212, 0.3011904761904762, 0.5208333333333334, 0.029004329004329005, -0.055555555555555504, 0.0, 0.22083333333333335, -0.06904761904761905, 0.027083333333333334, 0.016421568627450978, 0.23333333333333334, -0.0830357142857143, -0.06, 0.1, 0.06944444444444446, 0.0, 0.3729166666666666, -0.00018939393939394292, 0.14503968253968252, 0.0, 0.07142857142857142, 0.30000000000000004, 0.0, -0.109375, -0.01666666666666668, 0.0, -0.11666666666666667, 0.25, 0.323968253968254, 0.0, -0.016666666666666666, 0.06249999999999997, 0.0, 0.18546892217630856, -0.1226010101010101, 0.1851615646258503, 0.19857142857142854, 0.06944444444444443, 0.16666666666666669, -0.3666666666666667, 0.0, -0.08344017094017095, 0.20092592592592592, -0.00416666666666667, 0.0, -0.07687324929971989, -0.13047619047619047, 0.0, -0.06666666666666665, 0.15, -0.28625, 0.17500000000000002, 0.0, -0.03480291638186375, 0.0, 0.12222222222222223, 0.325, -0.03633333333333333, 0.125, -0.055555555555555546, 0.21212121212121213, -0.125, 0.13727272727272727, 0.0, 0.0, 0.21666666666666667, 0.2875, 0.0, 0.0375, -0.010416666666666657, 0.0, 0.0, 0.0, 0.125, 0.0, -0.14583333333333334, 0.35, -0.10236616161616162, -0.10574229691876749, 0.35000000000000003, 0.0, 0.0, 0.16666666666666669, 0.10909090909090909, -0.15000000000000002, 0.031107954545454536, 0.3666666666666667, 0.07619047619047621, 0.06874999999999998, 0.0, 0.23277310924369746, 0.4, 0.5, 0.0, 0.1962962962962963, 0.552587890625, 0.05718749999999999, 0.3, 0.51, -0.007142857142857141, -0.1625, 0.125, 0.0025000000000000105, 0.5375, 0.06818181818181818, 0.375, 0.03333333333333333, -0.07500000000000001, -0.10833333333333334, -0.1, -0.06989650974025975, -0.2708333333333333, 0.05833333333333333, 0.24545454545454545, -0.47999999999999987, 0.0, 0.12222222222222223, 0.04583333333333334, 0.440625, 0.12083333333333333, 0.0, 0.190625, 0.35903679653679654, 0.0, -0.25, 0.0, 0.001623376623376622, 0.03928571428571429, -0.0425, 0.06534090909090909, -0.2878787878787879, 0.0, 0.5375, 0.5486666666666666, 0.125, 0.35000000000000003, 0.01458333333333333, 0.375, 0.024999999999999994, -0.125, 0.25833333333333336, 0.1716269841269841, 0.23645833333333335, 0.0, -0.1875, -0.5, 0.125, -0.478125, 0.08181818181818182, 0.25, 0.0, 0.07499999999999998, -0.02222222222222221, -0.09375, 0.19384469696969697, 0.0, 0.35, 0.01619047619047619, 0.0, -0.041666666666666664, -0.09999999999999999, 0.3302083333333333, 0.09848484848484848, -0.06333333333333334, 0.15, 0.11753246753246752, -0.10874999999999999, 0.13636363636363635, 0.20833333333333331, 0.0, -1.0, 0.016666666666666677, 0.15625, 0.0, 0.15333333333333335, -0.7000000000000001, 0.4, 1.0, 0.1875, -0.33111111111111113, 0.55, -0.2916666666666667, -0.13571428571428573, -0.054545454545454564, -0.1159090909090909, 0.020833333333333343, 1.850371707708594e-17, 0.1, 0.30624999999999997, 0.13333333333333333, 0.13235930735930737, 0.0, 0.019999999999999997, -0.18787878787878784, -0.14583333333333334, 0.8, -0.30833333333333335, -0.5, -0.25, 0.2, 0.2833333333333334, 0.18333333333333335, 0.0, 0.0, -0.13541666666666669, 0.20833333333333334, -0.2625, 0.13636363636363635, -0.04880952380952382, 0.1807291666666667, -0.5833333333333334, 0.3272727272727273, 0.10888888888888888, 0.6, 0.30000000000000004, -0.25, 0.0, 0.39999999999999997, 0.0, -0.06000000000000001, -0.35, 0.2343052455357143, -0.15000000000000002, 0.25520833333333337, -0.07142857142857142, 0.09999999999999999, -0.125, 0.0625, -0.3, -0.06404761904761906, -0.6180245535714286, 0.25, 0.24074074074074073, 0.6103515625, 0.2875, 0.15557960557960554, -0.399234693877551, 0.4, -0.08, -0.515, -0.335, 0.07878787878787878, -0.4000000000000001, 0.18939393939393936, 0.06540404040404041, 0.1125, -0.11458333333333336, 0.02053030303030302, 0.023579545454545436, -0.02222222222222221, -0.25, -0.129, 0.3203125, 0.0, 0.09999999999999999, 0.16666666666666666, 0.3666666666666667, -0.13333333333333333, 0.09999999999999998, 0.2, 0.17454545454545453, 0.05546875000000001, 0.27916666666666673, -0.05428571428571429, -0.125, 0.25, -0.07777777777777778, 0.0, -0.17500000000000002, -0.09333333333333331, -0.0375, -0.125, -0.7999999999999999, 0.05476190476190477, 0.15, 0.16499999999999998, -0.125, 0.0, -0.04166666666666666, 0.06666666666666667, -0.26666666666666666, 0.23333333333333334, -0.15000000000000002, -0.041666666666666664, 0.11190476190476191, 0.16250000000000003, 0.4227272727272727, 0.0, 0.20833333333333334, -0.009047619047619049, 0.0006060606060605877, 0.09999999999999999, -0.21666666666666667, 0.0625, -0.25, 0.16666666666666666, 0.24541666666666667, 0.19999999999999998, 0.0, 0.027721088435374155, 0.15, -0.1717171717171717, 0.04632034632034631, 0.026666666666666682, 0.0, -0.225, -0.25972222222222224, 0.054166666666666655, 0.3440972222222223, 0.0, 0.25, 0.19, 0.275, 0.05185185185185184, 0.38666666666666666, 0.17460317460317462, -0.05, 0.03723958333333337, 0.1839393939393939, -0.375, 0.1388888888888889, 0.010555555555555556, 0.41596679687500004, 0.0, 0.9, 0.3123263888888889, -0.2, -0.21666666666666665, 0.0, 0.17354497354497353, 0.10666666666666669, 0.0, -0.49, 0.4125, 0.43333333333333335, 0.26666666666666666, -0.16, -0.3390625, 0.22000000000000003, -0.3, 0.009062500000000036, 0.11111111111111112, -0.3452380952380953, -0.65, 0.16859654017857142, 0.006689100829725827, 0.16666666666666666, -0.027272727272727268, 0.0, 0.0, 0.16904761904761909, -0.06666666666666667, 0.11392299107142859, 0.0, -0.25, -0.5, -0.16666666666666666, -0.3333333333333333, 0.3440972222222223, -0.6, -0.25, 0.017272727272727273, 0.0, -0.23333333333333336, 0.024999999999999994, 0.13075757575757574, 0.2887939453125, 0.16666666666666666, -1.0, 0.75, 0.0, 0.5291666666666667, -0.15, -0.25, 0.0, 0.0, 0.0, -0.2333333333333333, 0.0, -0.7999999999999999, -0.08799999999999994, 0.0, 0.0, 0.22544642857142858, 0.07395833333333332, 0.3055555555555556, -0.1, 0.277734375, -0.06507936507936508, 0.171875, -0.020616883116883113, 0.006203266430539155, 0.0, 0.006689100829725827, -0.13333333333333333, 0.18085399449035813, -0.17489795918367346, 0.22544642857142858, -0.06666666666666667, 0.19695491264687692, -0.1976190476190476, 0.5, 0.0, -0.30000000000000004, 0.1, 0.20001520614801865, 0.6, 0.03996212121212121, -0.09742614638447976, 0.23333333333333336, -0.16666666666666666, 0.04545454545454545, 0.0472943722943723, 0.23365283613445378, -0.014629629629629647, 0.1958333333333334, -0.17500000000000002, 0.0, 0.0, 0.24546296296296294, -0.05000000000000001, -0.1, 0.06024305555555555, -0.125, -0.31328125, -0.23921356421356427, 0.13541666666666669, -0.4, 0.4, -0.25, 0.25, -0.02513740879416283, -0.19, -0.15399999999999997, -0.06666666666666667, -0.041666666666666664, -0.1625, 0.1916, 0.125, 0.03367346938775512, 0.1590909090909091, 0.0, -0.02083333333333333, -0.6666666666666666, -0.04999999999999999, -0.2, 0.18055555555555555, 0.25606060606060604, 0.0, -0.13499999999999998, -0.25833333333333336, -0.5, -0.18181818181818182, -0.006249999999999992, 0.11818181818181818, 0.5, 0.0, 0.03928571428571427, 0.14166666666666666, -0.5, 0.16666666666666666, 0.0, -0.02083333333333333, -0.16666666666666666, -0.4, 0.11875000000000002, -0.2460606060606061, 0.275, 0.0, 0.0, -0.34791666666666665, -0.009722222222222207, 0.09999999999999999, 0.10738636363636363, 0.1, -0.21527777777777776, 0.2285714285714286, 0.393573717948718, -0.04753787878787878, 0.12833333333333333, -0.35625, -0.43333333333333335, -0.25, 0.12000000000000002, 0.0, 0.0, -0.125, 0.24166666666666667, -0.02083333333333331, 0.30833333333333335, -0.25, -0.9765625, 0.0, 0.4596354166666667, 0.0, -0.18560606060606064, -0.4, -0.3333333333333333, 0.1, 0.10149891774891777, 0.0, -0.05000000000000001, -0.10850694444444442, 0.0062500000000000056, 0.2314814814814815, -0.25, 0.25999999999999995, -0.313265306122449, 0.0, -0.06188492063492064, -0.03125, 0.0, 0.10000000000000002, 0.21666666666666667, -0.2, 0.0, 0.0, 0.275, 0.2069951330162086, -0.08799999999999994, -0.06641156462585034, 0.016666666666666663, -0.0625, -0.11666666666666664, -0.19999999999999996, 0.037500000000000006, -0.15555555555555559, -0.1, 0.5, 0.024553571428571425, 0.0, 0.49375, -0.075, -0.17448979591836736, -0.2916666666666667, 0.075, -0.3055555555555555, 0.21706342544765836, 0.06574074074074075, 0.016666666666666666, -0.2916666666666667, -0.13522727272727272, 0.4375, 0.015416666666666662, -0.2, -0.027777777777777776, -2.7755575615628914e-17, -0.08755555555555554, -0.18333333333333324, -0.031380208333333326, -0.033333333333333326, 0.04015151515151515, 0.21882369366744364, -0.07499999999999998, 0.08333333333333333, -0.18055555555555555, -0.041666666666666664, -0.175, -0.016247165532879818, -0.07500000000000001, 0.20083229397634886, -0.19047619047619047, -0.75, 0.7, 0.0, 0.24, 0.0, -0.23055555555555554, 0.13055555555555556, -0.026666666666666682, 0.390625, 0.10808080808080807, 0.1464285714285714, 0.5, -0.27976190476190477, -0.06590909090909092, -0.021428571428571436, 0.0, 0.07222222222222223, -0.2854166666666667, -0.39583333333333337, -0.8928571428571429, -0.13095238095238093, 0.25, 0.16666666666666666, -0.25, -0.1111111111111111, 0.03624999999999999, 0.0, 0.08333333333333333, 0.08737373737373737, 0.0, 0.2, 0.1162202380952381, 0.014285714285714282, -0.25, 0.04523809523809524, -0.0055303030303030295, 0.0, -0.16666666666666666, 0.018750000000000003, 0.20378787878787877, 0.22530691964285715, 0.0, -0.399234693877551, -0.13125, 0.14444444444444446, 0.20833333333333331, 0.02380952380952381, 0.05, 0.26, 0.21458333333333335, 0.171875, 0.2008531013257576, 0.0, 0.021590909090909077, -0.21714285714285717, -0.125, 0.0, -0.125, -0.1333333333333333, 0.20249999999999999, 0.22364783653846151, -0.145, 0.3035807291666667, -0.21458333333333335, -0.0643939393939394, -0.10714285714285715, -0.14583333333333334, 0.09999999999999998, 0.3440972222222223, -0.09999999999999992, -0.20694444444444446, 0.8, 0.20873518450635387, -0.03888888888888888, -0.024999999999999994, -0.013541666666666674, 0.000509379509379504, -0.4, -0.12, -0.06990740740740742, -0.1, -0.007166199813258641, 0.10555555555555556, -0.1, 0.5703125, -0.23833333333333334, -0.25, 0.29088764245014254, -0.18, 0.0037500000000000033, -0.5, -0.35000000000000003, -1.0, -0.31666666666666665, 0.16874999999999998, 0.15666666666666668, 0.2022122099905303, 0.0, 0.0, 0.23571428571428568, -0.05166666666666664, 0.0, -0.16666666666666666, 0.039540816326530615, -0.203125, -0.5, 0.0, 0.0, -0.075, 0.0, 0.0, 0.2, -0.06, -0.25, 0.25, -0.03611111111111111, 0.21153846153846154, -0.2616071428571428, -0.12843013468013467, 0.0, 0.24619591346153846, 0.3433333333333333, -0.375, 0.0572463768115942, -0.007495590828924159, 0.0, 0.012500000000000006, 0.09126984126984124, 0.0, 0.2333333333333333, -0.10984848484848486, 0.0, -0.2553571428571429, -0.13038690476190476, -0.5, -0.3125, 0.25, -0.4, 0.23522569444444447, -0.10073486328124999, 0.06589191232048373, -0.3333333333333333, 0.028787878787878782, -0.02, -0.1, 0.16, -0.13095238095238093, 0.20873518450635387, 0.0059523809523809494, -0.15625, -0.33181818181818185, -0.4588541666666666, 0.20714285714285713, -0.8, -0.14732142857142858, 0.09523809523809523, 0.07142857142857142, 0.0, 0.05876623376623375, 0.02916666666666666, 0.06979166666666665, -0.052083333333333336, 0.1, -0.013888888888888895, -0.09166666666666666, 0.13863636363636367, 0.0, -0.06346153846153846, -0.1, 0.15, 0.0, -0.2, -0.3333333333333333, -0.06590909090909092, -0.06346153846153846, 0.2731189903846154, -0.13636363636363635, -0.18333333333333326, -0.25, -0.15625, -0.016666666666666663, -0.08333333333333333, 0.35, -0.12121212121212122, 0.0, 0.0, 0.35, -0.29214285714285715, 0.0, -0.35, 0.06439484126984127, 0.5, 0.1571428571428572, -0.17211538461538461, -0.2638888888888889, -0.5833333333333333, -0.23020833333333335, -0.07449074074074075, -0.37222222222222223, -0.25, 0.052760416666666685, 0.4166666666666667, 0.39999999999999997, -0.1716666666666667, 0.0, 0.09376417233560093, -0.5, 0.2857142857142857, -0.5, -0.30000000000000004, 0.011111111111111118, 0.0, 0.2916666666666667, -1.0, 0.35, -0.25, 0.08333333333333334, 0.05208333333333333, -0.20833333333333334, -0.17424242424242423, 0.024074074074074074, 0.28, -0.05624999999999998, -0.16666666666666666, -0.25, -0.004166666666666669, 0.0, 0.30000000000000004, 0.07234848484848486, -0.13516369047619048, 0.0, -0.4166666666666667, 0.25, -0.125, -0.1, 0.0, 0.3426136363636364, 0.13625, 0.3, 0.13636363636363635, 0.0, 0.13999999999999999, 0.12291666666666666, -0.03500000000000001, 0.195, 0.14583333333333334, 0.01479076479076479, 0.18, -0.22399999999999998, -0.25, -0.4229166666666667, 0.04583333333333336, 0.024, 0.027812499999999997, -0.08333333333333333, 0.16111111111111112, 0.0, 0.0, 0.0, 0.20833333333333334, 0.0, -0.05769675925925926, 0.010416666666666664, -0.12954545454545455, 0.0, -0.625, 0.05486111111111109, -0.06666666666666667, 0.0, 0.0007575757575757549, -0.04812169312169313, -1.0, 0.0, -0.2533333333333333, -0.21375000000000002, 0.10769230769230773, 0.0, -0.08796296296296297, -0.15000000000000002, -0.3125, -0.4125, -0.11333333333333333, -0.0035714285714285726, 0.3125, 0.0, -0.18888888888888888, 0.24707754629629627, 0.125, -0.2833333333333334, 0.11249999999999999, 0.029444444444444443, 0.55, -0.1611111111111111, 0.18579545454545454, 0.13333333333333333, -0.046666666666666676, -0.037500000000000006, 0.2722222222222222, 0.18333333333333332, 0.08857142857142858, 0.0, -0.01333333333333333, 0.0, 0.04848484848484846, 0.0, 0.12857142857142856, 0.09523809523809523, 0.0, 0.0, 0.0, 0.0, -0.025000000000000022, 0.12447916666666664, -0.053749999999999985, 0.3197916666666667, 0.7, -0.1195601851851852, -0.5, -0.08700706845238096, -0.2625, 0.041666666666666664, 0.00952380952380953, 0.25, 0.25, -0.2083426339285714, -0.1361111111111111, 0.2, -0.025, -0.06999999999999999, -0.018518518518518517, -0.30000000000000004, 0.05793781328320802, 0.3, 0.475, 0.0, -0.06969696969696972, -0.11941682449494946, 0.058333333333333334, -0.06048752834467121, 0.026515151515151512, 0.30489583333333337, 0.1642857142857143, 0.21875, 0.3413888888888889, 0.19999999999999998, 0.4166666666666667, 0.08522727272727272, 0.25, -0.6666666666666666, 0.08888888888888886, -0.10779220779220781, 0.17013888888888892, 0.2622727272727273, 0.3027777777777778, 0.3169047619047619, 0.31666666666666665, 0.5, 0.09920634920634919, 0.14604166666666668, -0.0018333333333333424, 0.0546875, 0.08382526564344746, 0.05, -0.2333333333333333, 0.0, -0.25, 0.2416666666666667, 0.21626984126984128, 0.085, 0.04999999999999999, -0.10238095238095238, 0.13055555555555556, 0.0, -0.16666666666666666, 0.3278409090909091, -0.3233766233766234, -0.15, 0.14652777777777778, 0.0524919524919525, 0.0, -0.4, -0.125, 0.7500000000000001, 0.0, -0.08125000000000002, 0.017439703153988857, 1.0, -1.0, 0.052083333333333336, -0.21454545454545457, 0.13741496598639458, -0.08571428571428567, 0.16163911845730028, -0.23333333333333336, 0.4000000000000001, 0.0, 0.25, 0.18854166666666666, -0.4, -0.05833333333333335, 0.09722222222222222, -0.1037037037037037, 0.2777777777777778, 0.012500000000000004, 0.55, 0.08666666666666667, -0.18787878787878784, -0.39999999999999997, 0.23710317460317457, 0.125, 0.0, 0.039999999999999994, -0.375, 0.0, -0.09999999999999994, 0.0, 0.0, 0.65, 0.25, 0.034375, 0.08071428571428572, -0.25, 0.8463541666666669, 0.1, 0.15625, -0.16874999999999998, -0.24583333333333332, -0.017346938775510207, 0.3440972222222223, -0.20416666666666666, 0.048106060606060604, 0.03125, 0.07, 0.225, 0.7, 0.031227022058823523, 0.21000000000000002, 0.09999999999999999, 0.11163419913419916, -0.08333333333333333, 0.1, 0.2469387755102041, 0.0, 0.056470588235294106, 0.375, 0.09666666666666668, 0.29374999999999996, 0.13636363636363635, 0.25, 0.25, -0.2546875, -0.2916666666666667, 0.0, 0.02500000000000001, -0.5, 0.0, 0.43333333333333335, -0.015625, -0.08750000000000001, -0.1895238095238095, 0.5910714285714286, 0.0625, -0.25, 0.24383116883116884, -0.04768518518518519, -0.085, 0.8, -0.01874999999999999, 0.0, 0.05, 0.0, 0.0625, 0.075, -0.01428571428571429, 0.4, 0.0, -0.033333333333333354, -0.05000000000000002, 0.0, 0.03412698412698413, 0.009523809523809526, -0.07916666666666668, 0.0, -0.5035714285714286, 0.1953125, 0.2, 0.22000000000000003, 0.3033910533910534, 0.078125, -0.04999999999999999, -0.11071428571428571, -0.017057291666666658, 0.9, -0.09166666666666666, -0.18148148148148147, 0.0, -0.010026041666666666, -0.05645502645502646, 0.09375, 0.03725649350649351, 0.09166666666666667, 0.013461538461538466, 0.0, 0.0, -0.6041666666666666, -0.024242424242424242, 0.0881377551020408, -0.05, -0.03333333333333336, -0.375, -0.2340434419381788, 0.1875, -0.23482142857142857, 0.22000000000000003, 0.0, -0.05645502645502646, 0.20092592592592595, -0.0390625, 0.0, 0.1661904761904762, 0.1326923076923077, -0.17222222222222225, -0.48828125, 0.10916666666666668, 0.14285714285714288, -0.2839285714285714, -0.12098214285714286, 0.2716666666666666, 0.45, -0.24375, 0.1285714285714286, -0.12142857142857141, 0.18055555555555558, -0.044047619047619044, 0.1, 0.04166666666666667, -0.13125, 0.0, -0.5, 0.07037878787878786, -0.13999999999999999, 0.06666666666666665, 0.2572916666666667, -0.3214285714285714, 0.7, -0.39393939393939387, 0.2, -0.08520698051948052, -0.21875, -1.0, 0.5, 0.4, -0.13333333333333333, 0.37222222222222223, 0.3888888888888889, -0.17777777777777773, 0.28125, 0.0, -0.15625, 0.15083451704545453, -0.1, 0.1, 0.03177083333333333, -0.1325, 1.0, 0.1375, -0.3029004329004329, 0.24404761904761907, -0.041666666666666664, 0.39999999999999997, -0.5, 0.35833333333333334, 0.20833333333333334, 0.025, -0.11989795918367348, 0.0, 0.0, -0.2625, 0.17830578512396694, -0.06060606060606061, 0.0, 0.0, -0.17500000000000002, 0.39015151515151514, 0.0011904761904761901, 0.14659090909090908, 0.06666666666666667, 0.15, 0.6, 0.0, 0.2916666666666667, -0.3147727272727273, -0.022222222222222237, -0.15454545454545454, -0.2, -0.25, 0.10571428571428572, 0.3066666666666667, 0.0, -1.0, 0.2, -0.33333333333333326, 0.625, -0.02066115702479339, -0.2, -0.75, -0.1, 0.3333333333333333, 0.2125, -0.2159090909090909, -0.11285714285714285, -0.3666666666666667, -0.04999999999999996, 0.23124999999999998, -0.05625000000000002, 0.012114845938375347, -0.0538961038961039, 0.2028138528138528, -0.8333333333333333, 0.4, -0.7999999999999999, 0.18749999999999997, 0.10767045454545454, -0.1875, 0.0, 0.26249999999999996, 0.1, 0.12626262626262627, -1.0, 0.0, 0.2222222222222222, -0.22599999999999998, 0.06852272727272726, 0.7, -0.09449494949494952, 0.625, 0.5125, 0.24999999999999997, 0.5, 0.07533333333333332, 0.10461538461538458, -0.06849415204678362, 0.056635802469135806, 0.24, 0.0, -0.09722222222222222, -0.29704670329670335, -0.1, -0.1277777777777778, 0.25, 0.035227272727272725, -0.03920454545454546, -0.07500000000000001, -0.06666666666666667, -0.78, -0.375, -0.8, 0.24583333333333335, 0.225, 0.15625, 0.16666666666666666, 0.55, 0.1, 0.08888888888888889, 0.0, 1.3877787807814457e-17, 0.2285714285714286, -0.08785714285714286, -0.02727272727272728, -0.03787878787878788, 0.125, 0.327587890625, -0.0875, 0.4680555555555556, 0.1611111111111111, 0.17500000000000002, 0.8, 0.0, 0.0, 0.17662337662337663, 0.59, -0.18181818181818182, 0.02876984126984127, -0.024, 0.0, 0.0, 0.07500000000000004, 0.03645833333333333, 0.4, 0.007272727272727269, -0.014583333333333337, 0.032619047619047624, 0.08472222222222224, 0.0, -1.0, -0.15625, 0.0, -0.4318181818181818, -0.075, -0.0875, -0.33333333333333337, 0.049999999999999996, -0.5, -0.11010101010101009, -0.1846590909090909, 0.10238413547237075, -0.14166666666666666, 0.1369047619047619, 0.035416666666666666, 0.0, 0.12738095238095237, -0.525, 0.16818181818181818, -0.12301587301587302, -0.5125000000000001, 0.4, -0.25166666666666665, -0.6999999999999998, -0.25, 0.25347222222222227, 0.18409090909090908, 0.18501984126984128, -0.21666666666666665, 0.0, 0.0, 0.24166666666666667, -0.060000000000000005, -0.5, 0.0, 0.03333333333333333, 0.0, -0.7930555555555555, -0.5, 0.225, 0.07916666666666666, 0.060937500000000006, -0.1, -0.01010101010101011, 0.75, 0.43333333333333335, -0.125, 0.041666666666666664, 0.0, 0.0, 0.10555555555555557, 0.1395833333333333, 0.20833333333333331, -0.07333333333333333, 0.1, -0.5, -0.13625, 0.189453125, 0.4, 0.3238095238095238, 0.15606060606060604, 0.6166666666666667, 0.010714285714285718, -0.013492063492063493, 0.7, 0.1125, 0.0, 0.25, 0.0, 0.023214285714285722, -0.04804421768707483, 0.24642857142857144, 0.2775490196078431, 0.12070707070707071, 0.02380952380952382, 0.0625, 0.0, 0.2720703125, -0.1886363636363636, 0.01439393939393939, 0.23333333333333334, 0.5, 0.04999999999999999, 0.0, 0.0, 0.14750000000000002, 0.06666666666666668, 0.25, 0.625, 0.040340909090909094, -0.04047619047619048, 0.0, -0.09553571428571428, 0.07777777777777778, 0.3813802083333333, -0.12942708333333333, -0.26666666666666666, 0.13636363636363635, -0.2860132575757576, 0.08484848484848485, 0.0, -0.19606060606060607, -1.0, 0.10989921536796535, -0.09375, -0.14583333333333334, 0.09444444444444444, -0.00388888888888889, -0.10833333333333332, -0.25, -0.21562499999999996, -0.0015624999999999962, 0.14285714285714285, 0.07878787878787878, 0.14642857142857144, -0.08441558441558442, -0.08684573002754821, 0.041666666666666664, 0.07806437389770722, 0.07142857142857142, 0.022240259740259727, 0.058214285714285725, -0.4166666666666666, -0.6666666666666666, -0.15000000000000002, -0.2111111111111111, 0.0, -0.04512820512820513, 0.13020833333333334, -0.375, 0.19242424242424244, 0.375, -0.020833333333333332, -0.15000000000000002, -0.02999999999999998, 0.26166666666666666, -0.5, 0.0, -0.032142857142857126, 0.0, 0.0, 0.5, -0.28944444444444445, -0.5, -0.30000000000000004, -0.2392857142857143, -0.125, 0.00873015873015873, -0.25, -0.375, 0.15999999999999998, 0.16875, 0.19166666666666665, 0.09999999999999999, -0.03333333333333335, 0.07500000000000001, 0.0, -0.09055555555555556, 0.25, -0.625, 0.0, 1.0, -0.06458333333333333, 0.9375, -0.2, 0.21454545454545454, 0.08579545454545455, 0.032380952380952385, -0.2152777777777778, 0.03187500000000001, 0.0, 0.0, 0.2, 0.017142857142857137, 0.0, -0.39, 0.016180555555555566, -0.01333333333333333, 0.06666666666666668, 0.0, -0.3333333333333333, 0.25640782828282827, -0.1375, 0.5, 0.06315426997245178, 0.12796296296296295, -0.0875, -0.29444444444444445, -0.15, 0.29727272727272724, 0.0, 0.225, 0.0, 0.0, 0.5, 0.20476190476190478, -0.225, 0.0, -0.22543290043290043, 0.8, -0.15357142857142858, -0.05, 0.05146484374999999, 0.8, 0.05000000000000001, 0.21846092503987238, 0.20075757575757577, -0.07449074074074075, 0.030059523809523803, -0.0267857142857143, -0.08333333333333333, -0.0625, 0.0, -0.2, 0.390625, 0.04499999999999999, 0.14928571428571427, -0.020833333333333332, 0.0, -0.008333333333333349, -0.8, 0.35023809523809524, 0.14375, 0.0, 0.06257575757575755, 0.22045454545454546, 0.08, -0.033333333333333305, 0.0, 0.05851158645276292, 0.0325439453125, 0.0, -0.09090909090909091, 0.0, 0.0, 0.4, -0.078125, -0.225, 0.0, -0.10275482093663912, -0.13333333333333333, 0.4471117424242424, -0.4374999999999999, -0.12272727272727273, -0.022222222222222216, 0.5, -0.09833333333333333, 0.04999999999999998, 0.28573232323232317, 0.3125, 0.0, -0.09821428571428571, 0.0, 0.35, -0.1166666666666667, -0.07890625, -0.5, 0.23333333333333334, 0.4384469696969697, 0.0, -0.15584415584415584, -0.075, 0.0, -0.5, -0.041666666666666664, -0.30833333333333335, 0.0, -0.35000000000000003, 0.3041666666666667, -0.29437229437229445, 0.014285714285714282, -0.20833333333333334, 0.0, 0.26233766233766237, -0.4333333333333333, 0.07759469696969698, 0.29500000000000004, -0.16666666666666666, 0.0, 0.0, -0.5, -0.125, 0.4875, 0.4679817708333333, -0.09999999999999999, 0.37142857142857144, 0.0, 0.5875, 0.3, 0.78125, 0.39999999999999997, -0.11666666666666668, 0.16416666666666668, 0.1, -0.4, -0.5, 0.1358783143939394, -0.10999999999999996, 0.0, 0.0, 0.26666666666666666, 0.11500000000000003, 0.44948979591836735, 0.07068452380952378, -0.11160714285714285, -0.14270833333333333, -0.8, 0.0, 0.06666666666666665, 0.06818181818181818, -0.022445887445887453, 0.3162878787878788, -0.1875, -0.9, 0.12992187500000002, -0.52, -0.008333333333333331, -0.4666666666666666, -0.4, 0.5, 0.0, 0.4166666666666667, 0.01666666666666667, 0.0, 0.0, 0.0, 0.17916666666666664, -0.30000000000000004, -0.013580246913580236, 0.2375, 0.0, 0.0, 0.2, -0.1875, 0.32999999999999996, 0.25, 0.65, 0.140625, 0.16666666666666666, 0.125, 0.06333333333333334, 0.10333333333333332, 0.0, 0.3666666666666667, -0.25, 0.2665885416666667, -0.01590909090909092, 0.3541666666666667, -0.04857954545454546, 0.1, 0.25833333333333336, 0.5388888888888889, 0.2340909090909091, -0.14, -0.52, 0.05, -0.275, 0.0, 0.06818181818181818, -0.2222222222222222, 0.0, 0.075, 0.028724747474747483, 0.0, 0.30277777777777776, -0.10757575757575757, 0.09374999999999994, -0.10833333333333334, 0.02159090909090909, -0.175, 0.30727272727272725, -0.02083333333333334, 0.19318181818181818, -0.15000000000000002, 0.3041666666666667, 0.13922558922558922, 0.030888888888888886, -0.3414337158203125, 0.007272727272727297, 0.08663836163836164, -0.024999999999999998, -0.15833333333333335, 0.25, -0.25, 0.0, -0.2159090909090909, 0.10890151515151514, 0.004999999999999999, -0.1575757575757576, 0.08333333333333334, 0.21428571428571425, 0.2916666666666667, 0.1468975468975469, -0.10833333333333334, 0.4125, -0.52, 0.325, -0.25, -0.008333333333333331, 0.16538461538461538, 0.11704545454545456, -0.033333333333333326, 0.19333333333333336, 0.13333333333333333, -0.5, -0.3035714285714286, 0.14659090909090908, -0.11666666666666668, -0.07142857142857142, -0.425, 0.225, 0.003977272727272728, 0.05, 0.08999999999999997, 0.03125, -0.2916666666666667, 0.0, 0.08721734389348025, 0.22222222222222224, 0.037500000000000006, -0.3416666666666666, -0.26, -0.0625, -0.2, -0.02500000000000001, -0.27777777777777773, -0.12032828282828283, -1.0, 0.18333333333333332, -0.21666666666666667, 0.0660511363636364, -0.075, -0.3583333333333334, 0.1357142857142857, 0.0, -0.05809659090909092, -0.17424242424242425, -0.028125, 0.2893434343434343, -0.4, 0.041666666666666664, -0.15000000000000002, -1.0, -0.008333333333333337, 0.3333333333333333, 0.39204545454545453, -0.041666666666666664, -0.25, -0.18181818181818182, 0.13636363636363635, 0.07031024531024531, 0.4166666666666667, -1.0, 0.007407407407407406, -0.16666666666666666, -0.0018750000000000017, -0.12215909090909091, 0.23888888888888887, -0.065, -0.1, 0.31999999999999995, -0.08333333333333333, 0.10000000000000002, 0.0, 0.2583333333333333, 0.08214285714285714, -0.06085858585858587, 0.1125, 0.1393333333333333, -0.08399999999999999, 0.34249999999999997, 0.0, -0.1846590909090909, -0.21500000000000002, 0.2081439393939394, 0.012328042328042318, 0.3, 0.3090909090909091, 0.21000000000000002, 0.024469696969696968, 0.14375, 0.1470982142857143, -0.33291666666666664, 0.05833333333333335, 0.05, 0.20541666666666666, -0.03136363636363636, -0.0625, -0.08977272727272727, -0.125, -0.04404761904761904, 0.05555555555555556, -0.18181818181818182, 0.04871794871794872, 0.08767676767676767, 0.2333333333333333, 0.050992063492063505, 0.26666666666666666, 0.37870129870129865, 0.11022727272727273, 0.10376623376623377, -0.055136614304812856, 0.19999999999999998, 0.1867559523809524, 0.19292929292929292, 0.15, -0.03928571428571431, 0.08571428571428573, 0.13999999999999999, -0.14163904671717167, -0.15555555555555556, 0.21212121212121213, -0.0017857142857142874, 0.16666666666666666, 0.1298160173160173, 0.15, 0.22500000000000003, 0.3, 0.03905723905723904, -0.24999999999999992, 0.063, 0.5251420454545455, 0.15000000000000002, -0.14166666666666666, 0.25492424242424244, 0.1, 0.03333333333333334, 0.00833333333333334, -0.125, 0.011580086580086576, 0.5, 0.44000000000000006, 0.0, 0.04563492063492063, 0.0, -0.78, -0.08333333333333333, -0.08, -0.12000000000000002, -0.15000000000000002, -0.09999999999999999, 0.3416666666666666, 0.8, -0.25, 0.0, 0.11688311688311688, 0.2, -0.1841666666666667, 0.0, -0.23828125, 0.02727272727272727, 0.1688888888888889, -0.08181818181818185, 0.0, -0.23333333333333336, 0.0, 0.15267075047348483, 0.03730158730158731, -0.030000000000000006, -0.06000000000000001, 0.023579545454545436, 0.2833333333333333, 0.16026278409090908, -0.08577651515151516, -0.005454545454545467, 0.2765625, 0.35, 0.10729166666666667, -0.02171717171717173, 0.0, 0.08106060606060607, 0.0, -0.2927272727272727, 0.11813852813852813, -0.15416666666666667, -1.0, 0.0, 0.0, -0.041666666666666664, -0.5, 0.0051948051948051965, -0.25, -0.07619047619047621, -0.21666666666666667, 0.03333333333333333, 0.15, 0.18493006993006994, -0.16666666666666666, 0.5, -0.07777777777777779, 0.5285714285714286, -0.21276041666666662, 0.23570667613636362, 0.18950216450216448, -0.078125, 0.8, 0.04, 0.0, 0.26515151515151514, -0.029166666666666674, 0.24805194805194805, -0.184, -0.17361111111111108, 0.0, -0.10000000000000002, -0.05277777777777779, 0.1527777777777778, 0.0, 0.0, -0.09018595041322314, -0.17424242424242425, 0.08, -0.2420138888888889, -0.5, 0.0, 0.24479166666666666, 0.3, 0.0, -0.03333333333333333, 0.3, -0.2, 0.05520833333333333, -0.09230769230769233, -0.11785714285714285, 0.0625, 0.5, -0.19590909090909092, 0.30648148148148147, 0.14583333333333334, -0.1142857142857143, 0.10666666666666669, -0.12, -0.13143939393939388, 0.19999999999999998, 0.03333333333333333, 0.0, 0.04848484848484849, 0.10749999999999998, -0.225, 0.0, -0.23333333333333328, 0.5129629629629631, -0.18885281385281386, -0.23148148148148148, 0.625, -0.05925925925925927, 0.0, 0.07276785714285715, -0.16666666666666666, -0.25, 0.375, -0.3225, -0.09101298701298702, -0.109375, 0.1259259259259259, 0.021428571428571425, -0.65, 0.06666666666666665, 0.02727272727272728, 0.0, 0.08333333333333334, 0.7, -1.0, 0.05451127819548871, -0.625, 0.3361111111111111, -0.09999999999999999, 0.0, -0.013409090909090912, 0.2625, 0.19943576388888887, -0.21851851851851853, 0.25480769230769235, -0.5, 0.5493055555555556, 0.43333333333333335, -0.3375, -0.17111111111111107, 0.375, 0.018181818181818174, -0.0626984126984127, 0.23072916666666668, -0.22083333333333333, 0.0, -0.2420138888888889, -0.28828125, 0.2, 0.7266666666666666, 0.48571428571428577, -0.03125823451910409, 0.10142045454545454, -0.0795, 0.0, 0.14727272727272728, 0.09583333333333337, 0.0, -0.07395454545454545, 0.65, -0.019658119658119668, -0.3534090909090909, -0.22121212121212122, 0.3354166666666667, 0.45535714285714285, -0.15000000000000002, 0.14494949494949497, -0.21672727272727274, 0.14629629629629626, -0.04924242424242425, 0.0, 0.7, 0.22, 0.04431818181818181, 0.09886363636363636, 0.1875, -0.2878787878787879, -0.07222222222222222, -0.2544642857142857, 0.6499999999999999, 0.04985119047619048, -0.09999999999999999, -0.3055555555555555, -0.12375, 0.04805194805194805, 0.47628205128205126, -0.18897727272727272, 0.55, -0.55, -0.054545454545454564, 0.0, -0.5, 0.13906250000000003, 0.052380952380952396, -0.33181818181818185, 0.017500000000000005, -0.2, 0.10238095238095239, 0.026666666666666655, 0.006818181818181834, 0.06282051282051282, 0.0, 0.30000000000000004, -0.5, 0.06666666666666667, 0.13636363636363635, 0.2, 0.4121212121212121, 0.0, 0.19010416666666666, 0.1788095238095238, -0.1285714285714286, 0.49583333333333335, 0.2719460227272727, 0.28727272727272724, 0.13636363636363635, -0.24, 0.13999999999999999, -0.05, 0.10558712121212122, 0.125, -0.8, -0.4291666666666667, 0.04266474266474266, 0.13598765432098764, 0.13636363636363635, -0.19, -0.11833333333333333, 0.3166666666666667, 0.10476190476190475, 0.10000000000000002, 0.1027777777777778, 0.15487689393939397, 0.387, -0.07, -0.2023809523809524, -0.07777777777777777, 0.30000000000000004, -0.2611111111111111, 0.5, 0.18, 0.48, -0.15555555555555559, 0.3306746031746031, -0.8, 0.17756410256410254, 0.04722222222222222, 0.35, 0.010144412878787874, 0.0, -0.09045454545454544, 0.019368489583333343, -0.009595959595959616, -0.07777777777777779, 0.0, 0.0, 0.65, 0.24805194805194805, 0.029999999999999992, 0.06300125313283209, 0.246875, -0.2, 0.0, 0.2673611111111111, 0.06818181818181818, 0.0, -0.09102564102564102, 0.4, 0.0, -0.085, 0.4395833333333334, 0.0, 0.0, -0.06666666666666667, 0.25, 0.17534090909090908, -0.125, -0.020833333333333332, 0.08637566137566137, -0.2607142857142857, 0.125, 0.2130681818181818, -0.035606060606060606, 0.0, 0.25, -0.1878787878787879, 0.0, -0.16666666666666666, 0.013636363636363627, -0.15555555555555559, 0.075, 0.35833333333333334, -0.022142857142857138, -0.25, 0.0, 0.0, 0.13636363636363635, -0.05333333333333333, -0.41111111111111115, 0.8, 0.5, -0.15555555555555559, 0.06428571428571428, 0.2037662337662338, 0.05, 0.010489510489510495, -0.3, 0.1388888888888889, 0.01599999999999997, 0.5125000000000001, 0.15284090909090908, -0.35, 0.20145202020202022, 0.05, 0.08749999999999998, -0.03333333333333333, 0.23900226757369616, 0.07045454545454545, 0.184469696969697, -0.07138888888888889, 0.06818181818181818, -0.2278787878787879, -0.08787878787878789, -0.05170454545454546, 0.22166666666666662, 0.06291208791208791, 0.20925925925925926, 0.1716666666666667, 0.05, 0.2125, 0.25833333333333336, 0.34659090909090906, 0.55, 0.1875, 0.4532670454545455, -0.16590909090909092, 0.0, -0.07327441077441078, 0.04598214285714286, -0.5, 0.07999999999999999, -0.08652597402597405, 0.0, 0.11482804232804233, 0.125, 0.0, 0.07063492063492063, 0.0, 0.23214285714285715, -0.09999999999999999, -1.0, -0.125, -0.13333333333333333, 0.03730158730158731, 0.4166666666666667, 0.0, 0.44166666666666665, -0.3, 0.08958333333333332, 0.18333333333333335, 0.06319444444444444, 0.046, -0.10000000000000002, 0.31534090909090906, -0.1875, 0.13020833333333334, 0.0, -0.21875, 0.01577380952380952, 0.15625, 0.39999999999999997, -0.06666666666666667, -0.2940340909090909, -0.3333333333333333, 0.15487689393939397, -0.15658482142857144, 0.3444444444444445, 0.0, 0.0, 0.3678571428571429, 0.0, 0.0, 0.0, 0.03958333333333334, 0.0, 0.26166666666666666, 0.0, -0.020634920634920638, -0.5, -0.15, 0.1524463383838384, 0.056385281385281386, -0.17073863636363637, 0.225, -0.2916666666666667, -1.0, 0.5477777777777778, 0.39999999999999997, 0.10396825396825397, -0.09272727272727273, 0.02055555555555555, 0.018055555555555564, -0.55, -0.04166666666666666, 0.23333333333333336, -0.15462962962962962, 0.546875, -0.4, 0.09144886363636363, -0.06533258611505682, -0.09294871794871795, -0.0033333333333333383, 0.022222222222222213, 0.10416666666666667, -0.4083333333333334, -0.0625, -0.041666666666666664, 0.35, 0.0, -0.4545454545454546, 0.13636363636363635, -0.2555555555555556, 0.08909090909090908, 0.0, 0.23888888888888885, 0.26, -0.19444444444444448, -0.3484375, 0.09943181818181818, 0.015606060606060604, 0.75, 0.04999999999999999, 0.075, -0.008999999999999998, 0.2441287878787879, -0.1, 0.0, 0.065, 0.027777777777777766, 0.5, 0.0, 0.09666666666666666, -0.16666666666666666, 0.10000000000000002, -0.018434343434343442, 0.2625, 0.5, 0.025000000000000005, 0.25999999999999995, -0.255, -0.5, -0.05214285714285712, 0.125, 1.0, -0.4, -0.2956281565656566, 0.16666666666666669, 0.02222222222222223, 0.25, 0.08333333333333333, -0.09065696022727272, 0.1375, 0.0, 0.0, -0.16666666666666666, -0.18333333333333335, 0.17857142857142858, -0.7999999999999999, 0.0, 0.04193121693121694, -0.06666666666666667, -0.16666666666666666, 0.275, -0.07500000000000001, -0.36000000000000004, -0.78125, 0.0, -0.228125, -0.35000000000000003, 0.0, 0.048015873015873005, 0.2875, 0.1, 0.0, 0.14166666666666666, 0.20284090909090907, -0.03333333333333333, -0.3619047619047619, 0.0, 0.22749999999999998, -0.08906250000000002, 0.1672727272727273, 1.0, 0.2701298701298701, -0.041666666666666664, 0.6708333333333334, -0.04166666666666666, 0.12499999999999999, 0.9750000000000001, -0.08333333333333333, 0.06152597402597402, -0.35, -1.0, 0.17083333333333334, 0.25, 0.20696969696969694, 0.3527177700348432, 0.38953798185941035, -0.15300000000000002, 0.0, -0.07595959595959595, 0.0, 0.6, -0.09500000000000001, 0.48166666666666674, 0.05888888888888889, 0.09999999999999999, 0.2, 0.07142857142857142, -0.15833333333333335, 0.15396825396825395, -0.33055555555555555, -0.0069247159090909255, 0.05740740740740741, -0.010409035409035408, 0.0, 0.5, 0.0, -0.10766744829244829, -0.09999999999999995, -1.0, 0.21142857142857144, 0.05600000000000001, 0.46875, 0.16341354723707663, 0.06666666666666665, 0.1, 0.7, 0.2, 0.5, 0.0, 0.0, 0.20345052083333334, 0.41875, 0.0, 0.18888888888888888, 0.62, 0.17124999999999999, 0.14907407407407408, 0.13896103896103898, 0.43333333333333335, 0.0, -0.06666666666666665, -0.2, 0.2, -0.1, 0.25476190476190474, 0.0, -0.5625, 0.24166666666666664, 0.2924242424242424, 0.16575036075036076, 0.021428571428571425, 0.5, 0.5104591836734694, -0.18181818181818182, 0.06818181818181818, 0.16499999999999998, 0.010389610389610393, 0.4166666666666667, 0.25, 0.2, 0.0, -0.12222222222222222, 0.13055555555555556, -0.32499999999999996, 0.011111111111111108, 0.5625, -0.3, 0.0925, 0.0, 0.25959595959595955, 0.22499999999999998, -0.04444444444444443, -0.42196969696969694, -0.09166666666666666, 0.2575, 0.25833333333333336, 0.10119047619047619, 0.35833333333333334, -0.2, 0.0, -0.10250000000000002, -0.325, -0.21875, 0.18, -0.14625, -0.04000000000000001, 0.5, -0.30000000000000004, 0.25, 0.5, -0.04972451790633609, 0.12878787878787878, 0.08333333333333333, -0.08333333333333333, 0.021666666666666667, -0.125, 0.2333333333333333, 0.23611111111111108, -0.325, -0.018333333333333358, 0.0, 0.25, 0.35, 0.25, 0.15, 0.43333333333333335, 0.0, 0.2375, 0.20833333333333334, -0.2333333333333333, 0.5364583333333334, 0.0475, 0.35, 0.7859375000000001, 0.24466666666666667, 0.3625, 0.04999999999999999, 0.5, 0.7816666666666667, 0.23589285714285713, 0.06052188552188552, 0.18231516290726818, 0.06749999999999998, 0.0, 0.5, 0.09999999999999999, 0.85, 0.16683006535947711, 0.27083333333333337, -0.26666666666666666, 0.2227272727272727, 0.6162109375, 0.1875, 0.75, 0.3125, 0.25, 0.2992063492063492, 0.06666666666666667, 0.038888888888888896, 0.175, 0.16, 0.27550505050505053, -0.25, 0.022222222222222213, 0.25, 0.05, 0.07976190476190476, 0.0761904761904762, -0.03095238095238096, -0.049999999999999996, 0.19999999999999998, 0.1574074074074074, 0.3515625, 0.13636363636363635, 0.0, 0.024999999999999994, 0.3138842975206611, 0.41, -0.03333333333333333, -0.10000000000000002, 0.48888888888888893, 0.2017857142857143, 0.0, 0.09323745265151513, -0.5, 0.011111111111111118, -0.040624999999999994, -0.03409090909090909, 0.0, 0.35, 0.2868996710526316, 0.0, -0.1607142857142857, 0.23503401360544215, -0.476837158203125, -0.6, -0.1015625, -0.16666666666666666, 0.018864468864468877, -0.06102693602693601, 0.0, 0.013630952380952377, -0.020208333333333328, -1.0, 0.2208030303030303, 0.5, 0.7, -0.12774725274725274, 1.0, 0.1244047619047619, -0.058333333333333334, 0.3, 0.125, -0.021111111111111126, 0.3416666666666667, 0.38493030894886365, 0.050000000000000044, 0.2604166666666667, -0.017255892255892254, 0.0625, 0.14166666666666664, 0.2244047619047619, 0.1, -0.3333333333333333, -0.10625000000000001, 0.27812499999999996, 0.0, -0.11837121212121214, 0.39999999999999997, 0.3666666666666667, 0.053571428571428575, 0.13614718614718616, -0.2152777777777778, 0.325, -0.02500000000000001, 0.078125, 0.13826358826358826, 0.0, 0.875, 0.0, 0.25, 0.3166666666666667, -0.8, 1.0, -0.3333333333333333, 0.26666666666666666, -0.32857142857142857, 0.34665178571428573, 0.2916666666666667, -0.43999999999999995, 0.8, 0.0, 0.2, 0.16875, 0.0, 0.25, -0.10000000000000002, 0.4666666666666666, -0.012499999999999997, -0.09999999999999992, 0.11666666666666667, -0.095, -0.041666666666666664, 0.07186147186147186, 0.05, 0.2333333333333333, 0.221875, 0.8401041666666667, 0.0, 0.11742424242424243, 0.22222222222222224, 0.44999999999999996, 0.255952380952381, -0.017187499999999994, 0.07051282051282051, 0.03869047619047619, -0.06666666666666667, 0.39591746794871796, 0.012645687645687643, 0.1574074074074074, 0.7333333333333334, -0.2, 0.3643374741200828, 0.0609375, 0.1900420168067227, 0.7, 0.0, -0.13717948717948716, 0.04999999999999999, -0.09236111111111112, -0.19090909090909092, 0.0, 0.01249999999999999, 0.3181818181818182, 0.0, 0.55, 0.26, -0.017884691066509244, -0.06666666666666667, 0.5633333333333334, -0.4610389610389611, 0.0, 0.0, 0.5, 0.0, -0.039999999999999994, 0.1875, -0.1, 0.6816666666666666, 1.0, 0.25, -0.10666666666666666, 0.5, 0.25, 0.6, -0.25, 0.2833333333333333, -0.1630952380952381, -0.1, 0.0, 0.06875, 0.057499999999999996, -0.01939393939393939, 0.0, 0.13636363636363635, 0.0, -0.03571428571428571, 0.0, 0.16666666666666666, -0.18, 0.12222222222222223, 0.0, -0.08333333333333334, 0.12777777777777777, 0.07999999999999999, 0.0, -0.31666666666666665, 0.26041666666666663, 0.125, 0.0, 0.0, 0.0, 0.0, 0.25, 0.5, 0.0, 0.0, 0.13636363636363635, 0.34765625, 0.0, -0.30000000000000004, 0.0, -0.07666666666666663, 0.20833333333333334, 0.2, 0.0, 0.0, 0.1111111111111111, 0.0, -0.32, -0.48828125, 0.14285714285714285, -0.25, 0.005194805194805181, 0.3464285714285714, 0.0, 0.0, 0.0, 0.0, 0.0, 0.3, 0.0, 0.06818181818181818, 0.0, 0.3, 0.5208333333333334, 0.0, -0.26, 0.39999999999999997, -0.1, 0.2, 0.0, 0.0, 0.0, 0.03125, 0.37777777777777777, 0.16666666666666666, 0.0, 0.0, 0.0, -0.038825757575757576, 0.0, 0.0, 0.1625, 0.19523809523809524, 0.3666666666666667, 0.0, 0.014814814814814808, 0.0, 0.0, -0.16666666666666666, 0.0, 0.43333333333333335, 0.0, 0.0, 0.13636363636363635, 0.0, 0.0, 0.5633333333333334, 0.3, 0.16666666666666666, 0.5, 0.0, 0.15, 0.8, 0.0, 0.5, -0.625, 0.25, 0.0, -0.2, 0.26666666666666666, 0.0, 0.225, 0.0, 0.0, 0.0, -0.2, -0.625, 0.0, 0.25, -0.09591836734693879, 0.0, 0.0, 0.0, -0.025, 0.0, 0.0, 0.2, 0.4166666666666667, 0.0, 0.0, -0.4, 0.0, 0.13636363636363635, 0.10833333333333334, 0.0, 0.0, 0.0, 0.0, 0.0, 0.17857142857142855, 0.13636363636363635, 0.0, -0.03888888888888889, 0.35, 0.0, 0.0, 0.08499999999999999, 0.0, 0.0007936507936507829, -0.25, 0.0, 0.25, -0.021428571428571415, -0.30000000000000004, 0.0, -0.25, 0.16666666666666666, -0.26041666666666663, 0.05, -0.04166666666666666, -0.225, 0.0, 0.0, 0.0, 0.1, 0.0, 0.28125, -0.359375, -0.018749999999999996, 0.625, 0.10681818181818181, 0.2392857142857143, 0.17045454545454544, 0.07222222222222223, -0.4, 0.24545454545454545, 0.18181818181818182, 0.15625, 0.39999999999999997, 0.16561242678889737, -0.8125, 0.030000000000000027, -0.04915123456790123, -0.08333333333333331, 0.13636363636363635, -0.1, 0.043831168831168825, 0.40625, -0.10666666666666666, -0.8, -0.14295033670033672, 0.4009114583333333, 0.1206060606060606, 0.06666666666666665, -0.325, 0.0, 0.355, -0.3499999999999999, -0.65, -0.5, 0.23174603174603176, 0.05185185185185185, -0.19999999999999998, -0.125, 0.5, 0.0, 0.08827533143939392, -0.3, 0.05646258503401359, -0.49255952380952384, -0.03988095238095239, -0.15833333333333333, -0.05666666666666664, 0.25, 0.16666666666666666, 0.37890625, 0.09722222222222221, -0.375, 0.17525252525252524, 0.0, 0.0, 0.1714285714285714, 0.04, 0.0, -0.75, 0.0, -0.07, 0.0, 0.39, -0.037500000000000006, 0.0, 0.0, -0.5, 0.04444444444444443, -0.085, -0.15555555555555559, 0.0, 0.13636363636363635, -0.03452380952380953, 0.0, 0.47, 0.0, 0.0, 0.0, -0.03518518518518518, -0.32552083333333326, 0.16276041666666663, -0.13333333333333333, 0.3616666666666667, 0.0, 0.1452020202020202, -0.046060606060606066, 0.3166666666666667, -0.25, -0.34861111111111115, 0.14777777777777779, -0.11499999999999999, 0.026666666666666672, 0.1441666666666667, 0.2, -0.2, 0.0, 0.6, 0.08958333333333333, 0.05, -0.043939393939393945, 0.5, 0.75, -0.2507142857142857, 0.0, 0.09722222222222222, -0.12361111111111112, 0.29444444444444445, 0.10833333333333332, 0.21428571428571427, 0.3340909090909091, -0.11174242424242424, 0.3406666666666667, 0.25, -0.175, 0.028571428571428574, 0.05000000000000001, -0.075, 0.043636363636363626, -0.2722800925925926, 0.4, 0.55, -0.2333333333333333, 0.15979591836734694, 0.07780303030303032, 0.050757575757575744, 0.13095238095238096, -0.20416666666666666, 0.008333333333333331, 0.04722222222222222, -0.04583333333333334, 0.0, 0.0, -0.06944444444444445, 0.23789682539682536, 0.5, 0.0, 0.11065197428833794, -0.033333333333333326, 0.0, 0.2755677655677656, 0.3243939393939394, 0.359375, 0.0, 0.0, 0.04166666666666666, 0.05, 0.5, 0.13733766233766234, 0.4166666666666667, -0.41931818181818187, 0.2375, -0.12231570512820514, 0.017171717171717154, -0.2, 0.11287878787878791, 0.11111111111111109, -0.4, 0.10416666666666667, 0.65, 0.62, 0.35, 0.6, 0.0, -0.03571428571428571, 0.31060606060606055, -0.08787878787878789, -0.6, -0.625, -0.15106060606060606, 0.125, 0.19166666666666668, 0.0, 0.0, -0.18367830086580092, 0.0, 0.15, 0.125, -0.016666666666666666, 0.0, 0.18, 0.21862408424908428, 0.2388888888888889, 0.15833333333333333, 0.0, 0.0, -0.05595238095238096, -0.04999999999999999, -0.2111111111111111, -0.011250000000000005, 0.2729166666666667, -0.29393939393939394, 0.019999999999999997, -0.14333333333333334, -0.4444444444444444, -0.03429752066115703, 0.0, -0.39000000000000007, 0.15, -0.625, 0.17857142857142855, 0.20527272727272727, -0.13749999999999998, 0.010416666666666682, 0.18035714285714288, 0.08263888888888887, 0.16606060606060608, 0.025, 0.027690408549783545, 0.75, 0.06950757575757574, 0.0, 0.0, 0.0, 0.16499999999999998, 0.0, 0.0, 0.8, 0.0, -0.08749999999999998, 0.0, -0.06, 0.15, 0.7, 0.5, 0.2, 0.9099999999999999, 0.0, 0.8, -0.1625, 0.0, -0.15625, -1.0, 0.8, 0.8, 0.26458333333333334, 0.48750000000000004, -0.015734863281249997, 0.2, 0.65, 0.0, 0.5, 0.5, 0.3, 0.13333333333333333, 0.315, -0.013541666666666665, 0.36322751322751323, 0.0, 0.8, 0.0, -0.4, 0.0, 0.5, 0.03333333333333333, 0.1575892857142857, -0.25, 0.2, 0.332, 0.4166666666666667, 0.8, 0.3333333333333333, 0.03, 0.0, -0.225, -0.4, 0.0, 0.0, 0.1, 0.40753968253968254, -0.20000000000000004, 0.0, 0.6, -1.0, 0.25, 0.8, 0.41875, 0.5499999999999999, 0.8, 0.1875, -0.1, -0.06666666666666665, 0.5, -0.575, 0.0, 0.5, 0.005555555555555536, 0.7, 0.6, 1.0, 0.25, 0.5, 0.7, 0.6, 0.0, 0.4375, 0.6708333333333333, 0.5, -0.155, 0.2, 0.0, 0.0, -0.1741496598639456, 0.0, 0.5, 0.0, -0.3125, -0.08571428571428573, 1.0, 0.0, -0.0072916666666666685, 0.16666666666666669, 0.0, 0.0, 0.0, -0.08664021164021164, 0.0, -0.26, 0.18333333333333335, 0.33392857142857146, -0.25, 0.2, -0.05000000000000002, 0.45, 0.2619047619047619, -0.4375, -0.005555555555555564, 0.0, 0.43333333333333335, 0.0, -0.125, 1.0, 0.0, 0.18883333333333333, 0.25, 0.73828125, -0.010460069444444452, 0.2875, 0.0, 0.55, 0.0, 0.0, 0.175, 0.2, 0.4375, 0.625, 0.7, 0.9099999999999999, 0.0, 0.0, 0.5416666666666667, 0.4619047619047619, 0.0, 0.3514285714285714, 0.35, -0.78, 0.8, 0.35, -0.05454545454545454, 0.38409090909090904, 0.43333333333333335, -0.05555555555555555, -0.13154761904761902, 0.0, 0.21999999999999997, 0.0, 1.0, 0.16666666666666666, 0.6499999999999999, -0.1, 0.5, 0.475, 0.15, 0.0, -0.056439393939393935, 0.7, -1.0, 0.0, 0.0, -0.05343915343915343, 0.13888888888888887, 0.8, 0.0, -0.19, -1.0, 1.0, 0.0, 0.3337662337662337, -0.14404761904761904, 0.0, 0.2857142857142857, 0.2, 0.04999999999999999, 0.8, 0.0, 0.5, 0.004545454545454542, 0.5166666666666666, 0.0, 0.48750000000000004, -0.04111111111111111, 1.0, 0.0, -0.35714285714285715, -0.009374999999999975, 1.0, 0.26666666666666666, -0.2, 0.5, 0.0, 0.78, -0.38749999999999996, 0.0, -0.2333333333333333, 0.43333333333333335, 0.31666666666666665, -0.1, 0.9, 0.5, -0.5, 0.0, 0.0, -0.025, 0.2041666666666667, 0.06, 1.0, -1.0, 0.1275, 0.2341269841269841, -0.025000000000000022, 0.375, 1.0, 0.5, 0.7, 0.0, 0.0, -0.2625, -0.5, 0.24999999999999994, 0.2, 0.0, 1.0, 0.5, 0.8, 0.7, 1.0, 1.0, -0.16666666666666666, 1.0, -0.3666666666666667, 0.0, -0.10000000000000002, -0.08333333333333333, 0.7, 0.0, 0.43333333333333335, 0.3125, -0.25833333333333336, 0.0, 0.2125, 0.04999999999999999, 0.0, -0.425, -0.10000000000000002, 0.25, 0.5, 0.0, 0.22499999999999998, 0.8, -0.05, 0.0, 1.0, 0.5, 0.5, 0.5, -0.14375, 0.0, 0.7, 0.4666666666666667, -0.3215277777777778, 0.9099999999999999, 0.0, 0.037207792207792204, 0.4666666666666667, 0.20833333333333334, -0.1, 0.5, 0.0, 0.6000000000000001, -0.2398809523809524, 0.5, 0.0, 0.033766233766233764, 1.0, -0.020000000000000007, 0.0, 0.8, 0.5, 1.0, 0.0, 0.3893518518518519, 0.7, 0.01111111111111109, 0.0, 0.016666666666666677, 0.6666666666666666, 0.65, -0.3249999999999999, 0.8, 0.21666666666666667, 0.39999999999999997, 0.0, -0.5, 0.3, 0.0, 0.7, 0.0, 0.8, 0.7, 0.0, 0.6000000000000001, 0.5, -0.52, 0.26, 0.2333333333333333, 0.3, 1.0, 0.7, 0.5, 0.0, 0.5, 0.7, -0.5028571428571429, 0.8, 0.8, 0.04305555555555556, 0.3042261904761905, 0.4666666666666667, -0.085, 0.5499999999999999, 1.0, 0.8, 0.55, 0.0, -0.19816964285714284, -0.125, 1.0, -0.25, -0.036111111111111115, -0.4, 0.5, 0.3588333333333334, 0.0, 0.0, 0.5, 0.0, 0.7500000000000001, 0.25, 1.0, 0.7, 0.2, 0.0, 0.3125, 0.0, 0.35000000000000003, 0.7, 0.0, 0.25, 0.5, 0.0, 1.0, -0.171875, -1.0, 0.8, 0.15333333333333332, 0.625, 0.4, -0.028181818181818172, -0.4, 0.0, 0.35000000000000003, 0.5, 0.7, 0.12063492063492065, 0.7, -0.3, 0.5, 1.0, 0.5, 0.0, 0.5, 0.0, -0.3352040816326531, 0.9099999999999999, 0.7, 0.0, 0.1, 0.0, -0.5833333333333334, 0.43333333333333335, 0.0, 0.20511363636363636, 0.0, 0.6000000000000001, 1.0, 0.15, 0.0, 0.9, 0.22714285714285715, 0.39285714285714285, 0.5666666666666667, 0.0, -0.125, 0.0, 0.5, -0.5, 0.225, 0.7, 0.5, -1.0, -0.21666666666666667, -0.75, 0.5, -0.4, 0.5633333333333334, 0.06534090909090909, 0.03749999999999998, 0.0, 1.0, -0.4, 0.5166666666666667, 0.06363636363636362, -0.45, -0.125, 0.2, 0.4166666666666667, 0.13636363636363635, -0.9, 0.0, 0.7, 0.0, 0.2, 0.3, 0.12708333333333335, -0.3333333333333333, 0.0, 1.0, 0.8, 0.0, 0.16944444444444443, 0.0, -0.2916666666666667, 0.037500000000000006, 0.41111111111111115, 0.0, -0.045454545454545456, -0.04999999999999999, 0.5, 0.07083333333333333, -0.18333333333333326, 0.053333333333333344, 0.0, 0.35, 0.0, 0.7000000000000001, 0.1275, 0.3125, 0.8, 0.25, 0.0, 0.475, 0.15, 0.0, 0.35, 0.7, 0.5, 0.24000000000000005, 0.35, 0.5, 0.22083333333333335, 0.5033333333333333, 0.8, 0.6, 0.0, 0.0, 0.75, 0.0, 0.24285714285714285, 0.0, 0.0, -1.0, 0.2, 0.0, -0.30000000000000004, -0.6041666666666666, 0.0, 0.7, 0.5, 0.5, 1.0, 0.2104166666666667, -0.09999999999999998, -0.0875, 1.0, -0.05, 0.15, 0.4, 0.0, 0.75, 0.0, -0.07500000000000001, 0.5316666666666667, 0.0, 0.06666666666666667, -0.04065656565656566, 0.0, 0.0, 0.43333333333333335, 0.0984375, 0.55, -0.78125, -0.5, -0.15000000000000002, -0.25, 0.025781249999999995, 0.0, 0.0, 0.20390625, 0.21666666666666667, 0.11875, 0.8, 0.3, 0.0, 0.3, 1.0, 0.0625, 0.0, -0.07500000000000001, 0.5, 0.66875, -0.14183982683982685, 0.0, 0.0, -0.2375, 0.0, -0.010000000000000009, 0.05220734126984125, -0.8, 0.0, 0.2, 0.8, 0.0, -0.25, -0.25, 0.55, 0.2, 0.0, 0.5, 0.0, 0.5, 0.0, -0.375, -0.18181818181818182, 0.625, 0.045064935064935065, -0.13590909090909092, 0.0, 0.0, -1.0, -0.10000000000000002, 0.7, 0.3833333333333333, -0.24166666666666667, 0.5, 0.0, 0.6, 0.13636363636363635, -0.4, 0.05071428571428571, 0.2, 0.7, 0.8, -0.0106060606060606, 0.0, -0.2409090909090909, 0.0, 0.5, 0.09999999999999999, 1.0, 0.0, 0.8, 0.0, 0.39999999999999997, 0.0, 0.2333333333333333, -0.13888888888888887, 0.0, 0.3833333333333333, -0.39000000000000007, -0.15, -0.125, 1.0, 1.0, 0.7, 0.0, 0.012500000000000002, 0.0, 1.0, 0.0, 0.5, 0.15000000000000002, -0.22499999999999992, 0.0, 0.1619047619047619, -0.4, -0.1595238095238095, 0.8, -0.037500000000000006, 0.13333333333333333, 0.3433333333333334, -0.4583333333333333, -0.75, 0.09545454545454546, 0.0, -0.5, 0.5, -0.30000000000000004, 0.5, 0.5, 0.6000000000000001, 0.0, -0.13888888888888887, -0.25885416666666666, 0.0, 0.43333333333333335, 0.0, 0.0, 1.0, 0.43333333333333335, 0.0, 0.5, 0.0, 0.5, 0.2537878787878788, -0.125, -0.30000000000000004, 0.2111111111111111, 0.0, 0.0, 0.5, 0.0, 0.0, -1.0, -0.09833333333333334, 0.8, 0.04999999999999999, 0.00396825396825397, 0.0, 0.9099999999999999, 0.12272727272727274, -0.2, 0.41645951704545453, 0.5, -0.21875, 0.0, 0.5, -0.375, 0.0, -1.0, 0.22592592592592595, 0.0, 0.0, 0.48750000000000004, -0.03125, 0.0, -0.17812499999999998, 0.4, 0.6333333333333333, 0.0, 0.13636363636363635, 0.0, -0.21250000000000002, 0.25, 0.8, 0.5, 0.12, -0.5, 0.8, 0.5416666666666667, 0.50625, 0.6, 0.0, 0.0, 0.0, -0.37500000000000006, -0.031163194444444427, 0.0, 0.007272727272727275, -0.35, -0.35, 0.6333333333333333, 1.0, -0.025, -0.2, -0.30000000000000004, 0.21666666666666667, -0.16666666666666666, 0.6283333333333333, -0.3333333333333333, 0.5, 0.7608333333333333, 0.35, -0.05368916797488226, 0.010416666666666649, 0.0, 0.8268229166666667, 0.06666666666666667, 0.40242187500000004, 0.15625, 0.3, 1.0, 0.25, 0.5, -0.375, 1.0, 0.0, 0.5, 1.0, -0.20462962962962963, -0.0625, 0.3833333333333333, 0.0, 0.0, -0.05, 0.7, 0.275, 0.45, 0.22499999999999998, -0.28125, 0.16666666666666666, -0.10799663299663302, 0.65, -0.031060606060606052, 0.5, -0.28125, 0.6, 0.25, -0.3716666666666667, 0.0, -0.3125, -1.0, 0.0, 1.0, 0.5, -0.0581611570247934, 0.0, 0.016666666666666635, 0.6000000000000001, -0.05, 1.0, 0.2142857142857143, -0.005782312925170063, 0.79296875, 0.8, 0.265, 0.8, 0.0, 0.023333333333333345, -0.125, 0.0, -0.03333333333333334, 0.3, -0.07142857142857142, -0.30000000000000004, -0.4397885101010101, 0.022222222222222213, 0.5, -0.15285714285714286, 0.0, 0.1125, 0.05416666666666667, 0.09999999999999999, -0.04, 0.8, 0.55, 0.3333333333333333, -0.2311111111111111, -0.28787878787878785, 0.35, 0.04999999999999999, -0.034090909090909095, 0.8, -0.30000000000000004, 0.6166666666666667, 0.10416666666666667, 0.5, 0.7, -0.175, 0.0, -0.3692307692307692, -0.15, 0.25, 0.1046153846153846, 0.5, 0.0, 1.0, 0.0, 0.0, 0.1625, -0.0625, 0.0, -0.09999999999999999, 0.27999999999999997, -0.43333333333333335, 0.5, 0.10208333333333333, -0.2, -0.016666666666666663, 0.0028571428571428524, 0.8, 0.9099999999999999, -0.09999999999999998, 1.0, 0.0, -0.32000000000000006, 0.0, 0.7, -0.025, 0.4138888888888889, 0.0, -0.143013468013468, 0.0, 0.8, 0.06666666666666667, 0.9099999999999999, -0.02045454545454546, 0.165, -0.27510416666666665, 0.0, 0.12, 0.4, 0.22499999999999998, 1.0, -0.15000000000000002, 0.4, 0.40703125, -1.0, -0.7166666666666667, -0.15000000000000002, 0.0, 0.0, 1.0, 0.5, 0.0, 0.0, -0.04666666666666669, -0.5714285714285715, 0.4166666666666667, 0.0, -0.04999999999999999, -0.09183673469387754, 0.185, 0.17045454545454544, 0.5, -0.016666666666666666, -0.21785714285714283, 0.0, 0.0, 0.0, 0.28106060606060607, -0.25, 0.003124999999999996, -0.1, -0.10000000000000002, -1.0, 0.0979166666666667, 0.18571428571428572, 0.11805555555555558, 0.18825757575757576, -0.26666666666666666, 0.49642857142857144, -0.15555555555555559, -0.05208333333333333, 0.10999999999999999, -0.5833333333333334, -0.09583333333333333, 0.125, 0.039285714285714285, 0.8, 0.0, 0.09907407407407405, -0.2916666666666667, 0.17045454545454544, -0.43749999999999994, 0.45999999999999996, -0.033333333333333326, 0.0, 0.4708333333333333, 0.35, 0.356640625, 0.1148148148148148, -0.07558441558441557, 0.8, 0.7, 0.17760416666666667, 0.78125, 0.8, 0.8, 0.0, 0.0, 0.19999999999999998, 0.07083333333333333, 0.0, -0.3145833333333334, 0.0, 0.0, 0.8, -0.15555555555555559, -0.008928571428571432, 0.0, 0.0, 0.04, 0.4133333333333333, -0.30000000000000004, -0.02500000000000001, 0.2765151515151515, 0.028571428571428564, 0.5, -0.2, 0.2, 0.8, 0.0, 0.1090909090909091, -0.26, 0.1875, -0.006666666666666665, 0.033939393939393936, 0.4, -0.041666666666666664, -0.39000000000000007, 0.375, -0.09999999999999999, 0.03581267217630854, 0.2333333333333333, 0.11429924242424244, 0.0, -0.4094065656565657, 0.9375, 0.4, -0.05772727272727274, -0.3863257575757576, 0.04166666666666665, -0.25, -0.08181818181818185, -0.03849206349206348, 0.0, 0.625, 0.1953125, 0.0, 0.0, 0.5, 0.04583333333333332, -0.029356060606060597, -0.25297202797202795, 0.3444444444444444, 0.7, -0.4375, 0.3125, 0.39166666666666666, 0.0, -0.65, 0.6, -0.3, -0.12499999999999997, 0.8, 0.0, -0.3888888888888889, 0.13636363636363635, 0.0, 0.0, 0.0, 0.0, 1.0, -0.1929947916666667, -0.20092592592592595, 0.125, 0.0, -0.039000000000000014, 0.17142857142857146, 0.0, -0.3, -0.14444444444444446, -0.30000000000000004, 0.7, -0.35, 0.13032407407407406, 0.13636363636363635, 0.0, 0.04444444444444443, 0.0, -0.3, 0.8, -0.375, -0.19500000000000003, 0.0, -0.03214285714285714, 0.0, 0.0, -0.8, -0.1625, 0.0, 0.13866666666666666, 1.0, 0.0, -0.032142857142857126, -0.08333333333333334, 0.0, 1.0, 0.45, 0.31666666666666665, 0.9, -0.016666666666666663, -0.5625, 0.0, 0.6000000000000001, 0.35, -7.93016446160826e-18, 0.23125, 0.0, 0.5, -0.28750000000000003, 0.0, -0.19480519480519481, -0.14583333333333334, -0.3785714285714285, 0.0, 0.17222222222222225, 0.14761904761904762, -0.2916666666666667, -0.14490740740740737, 0.0, -0.04517906336088154, 0.0, 0.0, -0.25, 0.0, -0.2722222222222222, 0.1875, 0.010416666666666666, 0.25, 0.32767857142857143, 0.425, 0.0, -0.3, -0.08999999999999997, -0.4318181818181818, 0.0, 0.0, -0.41624999999999995, -0.25, -0.1791666666666667, -0.21111111111111108, 0.14166666666666666, -0.3933333333333333, -0.09636363636363637, 0.8, 0.1869047619047619, 0.16727272727272727, -0.08333333333333334, 0.0, 0.5, -0.03612313612313611, 0.37361111111111117, 0.7125, 0.3875, 0.7, 0.09999999999999998, 0.30000000000000004, 0.04659090909090907, 0.5, 0.4666666666666666, -0.5, -0.11250000000000002, 0.09523809523809523, 0.5, -0.1929947916666667, -0.2916666666666667, 0.18055555555555558, 0.21861111111111112, 0.0, -0.3183333333333333, -0.2, 0.0, 0.16666666666666666, 0.2103030303030303, 0.0, 0.125, 0.4166666666666667, 0.153125, 0.0, -0.7999999999999999, 0.0, -0.14123376623376624, 0.0, 0.13825757575757575, 0.7, 0.23611111111111108, 0.10833333333333332, 0.8, 0.8, -0.2380952380952381, -0.039999999999999994, 0.1694805194805195, -0.109375, 0.07777777777777778, 0.7, -0.52, 0.0, 0.5, 0.0, 0.5, 0.7, -0.30772727272727274, 0.25, 0.5, -0.13272727272727275, -0.1111111111111111, 0.6, 0.7, 0.15833333333333333, -0.6999999999999998, 0.0, 0.8, 0.0, 0.0, -0.3, 1.0, -0.5, 0.1, 0.5, 0.0, -0.020920138888888874, 0.08979591836734693, 0.5859375, 0.0, 0.0, 0.0, 1.0, 0.0, -0.3, 0.025000000000000005, 0.6000000000000001, 0.5, 0.5, -0.65, 0.3, 0.0, 0.43333333333333335, -0.125, -0.08787878787878789, -0.25750000000000006, -0.30000000000000004, 0.2, 0.03409090909090909, 0.225, -0.25, -0.2708333333333333, -0.24166666666666667, 0.11458333333333337, -0.0020833333333333467, 0.06666666666666667, 0.8, 0.0, 0.39999999999999997, -0.4, -0.4318181818181818, 0.07654320987654324, 1.0, 0.0, -1.1102230246251566e-17, -0.4, 0.2, -0.075, 0.0, 0.7, -0.25, 0.42142857142857143, 0.0, 0.7, 0.625, 0.7, 0.43333333333333335, 0.14037878787878788, 0.036666666666666646, 0.075, 0.125, -1.0, 0.0, 0.9099999999999999, 1.0, 0.5, -0.5223214285714286, -0.1, -0.5, -0.16666666666666666, -0.1, 0.7, 0.7, 0.12976190476190474, 0.26, 0.8666666666666666, 0.0, 0.07000000000000002, 0.2619047619047619, -0.16666666666666666, 0.0, 0.5, -0.03787878787878788, 0.185, 0.0, 0.15416666666666665, -0.09285714285714286, 0.6166666666666667, 0.2, 0.0, -0.0515625, 0.0023809523809523803, 0.028571428571428588, 0.5, -0.6999999999999998, 0.5, 0.4091836734693878, 0.4111328125, 0.06818181818181818, 0.06882812499999999, 0.2857142857142857, -0.15333333333333335, 0.0, 0.5, -0.14074074074074072, 0.12603305785123967, -0.225, -1.0, 0.31333333333333335, 0.3111111111111111, 0.4, -0.15000000000000002, 0.2, 1.0, -0.22085714285714292, 0.12225378787878786, 0.0, -0.30000000000000004, -0.05416666666666666, -0.3, -0.050589225589225593, 0.02159090909090909, 0.04166666666666667, 1.0, 0.5, -0.13877551020408166, 0.31, 0.8, 0.04166666666666667, 0.049999999999999996, 0.15014285714285716, 0.5083333333333333, -0.13333333333333333, 0.75, 0.17, 0.0, -0.25, 0.43333333333333335, 0.0, 1.0, -0.2878787878787879, 0.11500000000000003, -0.1, 0.12767857142857142, 0.0, 0.7, 0.0, 0.0, 0.0, 0.8, -0.20000000000000004, 0.0, -0.25, 0.0, 0.0407692307692308, -0.06, 0.0, 0.0, -0.5041666666666667, -0.16666666666666666, 0.2, 1.0, -0.35, -0.03996212121212122, 0.2111111111111111, 0.25, -0.4140625, 0.4, 0.0, -0.5499999999999999, 0.5, 0.08214285714285716, 0.13636363636363635, 0.5333333333333333, -0.2625, 0.7, -0.2638888888888889, 0.8, 0.09999999999999998, -0.26666666666666666, -0.7142857142857143, 1.0, 0.14583333333333334, -0.08928571428571429, 0.5, 0.0, 0.7166666666666667, 0.43333333333333335, -0.28875000000000006, 0.0, -0.16477272727272727, 1.0, 0.7, 0.8, -0.4000000000000001, 0.0, 0.10416666666666666, -0.14772727272727273, 0.0, 0.5, -0.25, -0.5, 0.89625, -0.8125, 0.08258928571428571, 0.0, 0.06619047619047619, -0.125, 0.0, 0.0, 0.04606119791666666, 0.04999999999999999, 0.10519480519480519, -0.42500000000000004, 0.8, 0.5, 0.3984375, 0.0, -0.2878787878787879, -0.08333333333333333, 0.27499999999999997, -0.2375, 0.0, -0.1272727272727273, 0.10727272727272727, 0.27777777777777773, -0.05, 0.125, -0.5, -0.4375, -0.51, 1.0, -0.125, 0.5, 0.37222222222222223, 0.31666666666666665, -0.1111111111111111, 0.3, 0.7379340277777778, 0.0, 0.2916666666666667, 0.09999999999999998, 0.0, 1.0, 0.5, 0.0, 0.06818181818181818, 0.0, 0.6000000000000001, 0.0, 0.35, -0.020000000000000007, 0.13095238095238096, 0.7, 0.25, -0.32499999999999996, -0.10666666666666665, 0.05833333333333333, 0.2833333333333333, -0.8, -0.027777777777777776, -0.15, 0.1, 0.22499999999999998, 0.4, -0.6510416666666665, -0.575, -0.325, 1.0, 0.0, 0.43333333333333335, 0.07828282828282827, 0.7, -0.0050000000000000044, 0.0, 0.35, 0.0703125, -0.225, 0.041666666666666664, 0.125, -0.12916666666666665, 0.0, -0.22833333333333333, 0.3499999999999999, 0.0, -0.3, -0.041666666666666664, -0.625, 0.0, 0.0880952380952381, -0.024999999999999998, 0.0, 0.11148148148148149, 0.0, 0.0, 0.4375, 0.14999999999999997, 0.3375, -0.20000000000000004, 0.1390625, 0.2203125, 0.0, -1.0, 0.275, 1.0, -0.25, 0.0, 0.19166666666666665, 0.18579545454545454, 1.0, -0.125, 0.4681818181818182, -0.16, 0.0, 0.0, 0.2, 0.0, 0.013333333333333336, 0.18888888888888888, -1.0, 0.35, 0.8, 0.15, -0.24375, 0.16818181818181818, 0.0, -0.25, 0.9, 0.10000000000000005, -0.30000000000000004, -0.18240740740740746, 0.019047619047619053, 0.8, 0.1703125, 0.8, -1.0, 1.0, -0.8333333333333333, 0.0, 0.15000000000000002, 0.0, 0.0, 0.07986111111111112, -0.16666666666666666, -0.020075757575757594, 0.0, 0.0, -0.25, 0.4000000000000001, -0.05000000000000001, 0.35, 0.2, -0.5166666666666667, -0.5, 0.38, -0.15555555555555559, -0.6, -0.18333333333333332, -0.25, 0.5454545454545454, -0.5555555555555555, 0.034375, 0.0, 0.7, 0.018181818181818174, 0.0, 0.0, 0.1, 0.25, -0.075, -0.01499999999999999, -0.3138257575757576, -0.2545454545454546, 0.05, 0.0, 0.0, 0.32848702566964283, 0.8, 0.21212121212121213, 0.5, -0.0890625, -0.545263671875, 0.575, 0.03958333333333335, 0.125, 0.1, 0.2, 0.0, 0.0, -1.0, 0.75, -0.8, -0.008333333333333331, -0.004464285714285712, 0.0, 0.5, -0.6666666666666666, -0.3333333333333333, -0.25, 0.0, 0.010416666666666657, 0.0, 0.09166666666666669, 0.0, 1.0, -1.0, -0.25, 0.0, 0.0, 0.37499999999999994, -0.35, 0.13333333333333333, 0.6588541666666666, 0.78, 0.0, 0.7, 0.4333333333333333, 0.0, -0.6999999999999998, 1.0, 0.0, 0.0, 0.2, 0.0, 0.6166666666666667, -0.05, 0.0, -0.5, 0.2, 0.17857142857142858, 0.13333333333333333, 0.04146825396825398, 0.2828571428571428, -0.03125, 0.7, 0.0, 0.14166666666666666, 0.8, 0.21587301587301588, 0.08333333333333333, 0.6, 0.5444444444444444, -0.17714285714285713, 0.26249999999999996, 0.0, 0.375, -0.09166666666666667, 0.78, 0.5, 0.0, 0.09517045454545456, 0.1, 0.8, -0.65, -0.09863636363636366, 0.8, 0.5, 0.0, 1.0, 0.20357142857142857, -0.024999999999999994, 0.43333333333333335, 0.275, 0.3, -0.30000000000000004, 0.08749999999999998, 0.0, 1.0, 0.2, 0.0, -0.16796875, 0.5, 0.8375, 0.0, -0.07142857142857142, -0.45624999999999993, -0.25, 0.0, 0.0, -0.17267316017316017, -0.0020833333333333316, 0.20774350649350648, 0.0, 0.7, 0.34375, -0.24107142857142855, 0.0, 1.0, -0.012626262626262616, -0.24444444444444444, 0.24, 0.26944444444444443, 0.08333333333333333, 0.2410774410774411, -0.11666666666666665, 0.1, -0.033333333333333305, -0.21666666666666667, 0.08333333333333333, -0.25, -0.3333333333333333, 0.7, -0.01171875, -0.3249999999999999, 1.0, -0.016666666666666663, 0.6166666666666667, 0.0, -0.42500000000000004, 0.0, 1.0, 0.0, -0.25, 0.21388888888888888, 0.0, 0.5, 1.0, 0.8, 0.025000000000000005, 0.5083333333333333, -0.12000000000000002, 0.07499999999999998, 0.6, 0.5, -0.33333333333333337, -0.23333333333333336, 0.0, -1.0, 0.3125, -0.625, -0.7999999999999999, 0.7, 0.0, 0.09107142857142857, -0.2, -0.3333333333333333, 0.16666666666666666, -0.09285714285714287, 0.0, 0.5, 0.0, 0.0, 0.05333333333333334, 0.7, 0.0, 0.0, 0.0, 0.65, 0.0, 0.7, 0.39999999999999997, -1.0, 0.5633333333333334, 0.0, 0.5, 0.08333333333333333, 0.24545454545454545, 0.0, -0.3, 0.05, -0.375, 0.375, -0.15000000000000002, 0.2, 1.0, 0.018055555555555575, 0.06818181818181818, -0.4374999999999999, 0.0, 0.4, 0.5, 0.25, 0.2, 0.25, 0.10000000000000002, 0.04999999999999999, 0.4, 0.6499999999999999, -0.08916666666666669, 0.8, 0.8, -0.05, 0.0, 0.21428571428571427, -0.19444444444444442, 0.1953125, 0.7, 0.0, 0.18333333333333332, 0.025468749999999995, 0.5, 1.0, 0.37777777777777777, 0.0, 0.2916666666666667, 0.06818181818181818, 0.2857142857142857, 0.390625, 0.0, 0.7, 0.4666666666666666, 0.09523809523809523, 0.2, -1.0, 0.0, -0.023333333333333317, 0.5, 0.3416666666666667, -0.01193181818181818, 0.8, 0.78, -0.25, -0.012784090909090912, 0.5, 0.0, 0.5, 0.0, 0.0, 0.4208333333333334, 0.0, 0.0, -0.4, 0.024999999999999994, 0.31666666666666665, 0.3, -2.7755575615628914e-17, 0.036666666666666646, 0.0, 0.1952380952380952, 0.0, 0.5, 0.16666666666666666, -0.13020833333333334, 0.0625, -0.25, 0.5, 0.15714285714285717, 0.45, 0.5, -0.09999999999999999, 0.1761904761904762, -0.07800000000000001, 0.21999999999999997, 0.21805555555555556, 0.0, 1.0, -0.5, 0.35, -0.0625, 0.0, 0.625, 0.0, 0.8, 0.0, 0.0, 0.0, 0.10000000000000002, 0.0, 0.0, 0.0, 0.5, 0.0, 0.7, -0.2816666666666667, -1.0, 0.7500000000000001, 0.0, 0.07857142857142857, 0.8, -0.375, -0.04489795918367346, 0.7, 0.8, 0.0, 0.0, -0.03142857142857143, -0.31666666666666665, 1.0, -0.15000000000000002, 0.0, 0.3, 0.0, 0.6000000000000001, 0.0, 0.0, 0.0, 0.48333333333333334, 0.14204545454545453, 0.0, 0.7, 0.7, 0.5, -0.011666666666666667, 0.5, 0.0, -0.022222222222222216, 0.10555555555555556, 0.08, 0.0, -0.41666666666666663, 0.13636363636363635, 0.5, 0.7, -0.39000000000000007, 0.43333333333333335, 0.0, 0.05952380952380952, -0.15166666666666664, 0.05833333333333335, -0.5, 0.0, 0.7, 0.0, 0.5, 0.0, 0.2376767676767677, 0.0, 0.625, 0.625, -1.1102230246251566e-17, 0.65, 0.0625, 0.5583333333333333, 0.1416666666666667, 0.8, 0.0, 1.0, -0.1375, -0.04386363636363634, 0.35000000000000003, 0.0, 0.6000000000000001, 0.0, -0.3035714285714286, 0.275, 0.0, 0.5, 0.5, -0.5859375000000001, -0.29444444444444445, 0.7, 0.8, -0.09166666666666667, -0.2, 0.2, 0.17812500000000003, 0.02727272727272727, -0.041666666666666664, -0.3, -0.4, 1.0, 0.0, 0.020833333333333332, 0.008167613636363619, -0.25, 0.4, 0.875, -0.05333333333333336, -0.03209876543209876, 0.5333333333333333, -0.5, -0.025, -0.1897829861111111, 0.5, -0.49583333333333335, 1.0, 0.375, 0.033333333333333326, 0.0, -0.09499999999999997, -0.39, 0.0, -0.4409090909090909, 0.0, 1.0, 0.31111111111111106, 0.1, -0.38125, 0.175, 0.0, 0.0, 0.0, 0.0, 1.0, 0.5, 0.1516666666666667, 0.25999999999999995, -0.5859375, -0.06666666666666668, 0.0, 0.5, 0.08766666666666667, 0.0, 0.6000000000000001, 0.0, 0.0, 0.7, -0.38125000000000003, 0.36333333333333334, 0.0625, 0.5, 0.125, -0.25, 0.0, -0.11666666666666668, 0.0, -0.0625, 0.0, 0.7166666666666667, 0.0, -0.6458333333333334, 0.13333333333333333, -0.0011904761904761862, -1.0, -0.1, 0.0, 0.5, 0.0, -0.16666666666666666, -0.07954545454545454, -0.2159090909090909, 0.0, 0.1531144781144781, 0.7, 0.375, 0.0, 0.5, 0.0, 0.20833333333333334, -0.5499999999999999, 0.3833333333333333, 0.19375, 0.0, 0.625, 0.5, -0.39000000000000007, 0.14285714285714285, 0.8, 0.8, 0.0, -0.29500000000000004, 0.5, 0.5, 0.0, 0.0, 0.43333333333333335, -0.5518518518518519, 0.0, 0.0, 0.42500000000000004, -0.05083333333333333, 0.9099999999999999, 0.0, -0.32, 0.0, 1.0, -0.125, 0.0, 0.04528769841269841, 0.0, -0.15, 0.0, 1.0, 0.5, -0.08333333333333333, 0.5, -0.20399305555555555, -0.3125, -0.25, -0.125, -0.1666666666666667, -1.0, 0.275, -0.8, 0.01428571428571431, 0.5, 0.0, 0.27611111111111114, 0.07142857142857142, 0.0, 0.6000000000000001, 0.010416666666666657, 0.4, 0.5454545454545454, 0.2, 0.0, 0.2041666666666667, 0.0, -0.5, 0.0, 0.0, 0.0, 0.0, 0.04444444444444443, 0.5, 0.5, 0.5, -0.2, -0.32, 0.20833333333333334, -0.10999999999999999, 0.525, 0.0, 0.4, 0.0, 0.7, 0.1798611111111111, 0.09375, 0.5, -0.050595238095238096, 0.7, -0.15000000000000002, 0.0, 0.0, 0.0, 0.2, 0.0, 0.0, -0.15714285714285717, 0.375, 0.0, 0.0, -0.05555555555555555, 0.0, -0.125, -0.26666666666666666, 0.4166666666666667, -0.125, 0.0, 0.3819444444444445, 0.43333333333333335, 0.6, 0.45, 0.35, 0.55, 0.3375, -0.49382324218749996, 0.13636363636363635, 0.8, 0.0, 0.4375, -0.3, -0.28125, 1.0, 0.2, 0.3666666666666667, -0.0625, 0.0, -0.0142857142857143, -0.22666666666666666, -0.25, 0.5, 0.5, -0.4, 0.08333333333333333, 0.0, 0.3666666666666667, 0.8, 0.04479166666666666, 0.9099999999999999, -0.25, -0.1, -0.37142857142857144, 0.0, 0.1, 0.0, 0.26666666666666666, -0.03977272727272728, -0.016145833333333345, 0.8, 0.5, 0.12424242424242422, 0.4333333333333333, 0.05357142857142857, 0.20000000000000004, -0.2, 0.05, -0.5, 0.244140625, -0.07500000000000001, 0.12702380952380954, 0.0, -0.6999999999999998, 0.55, 0.8, -0.05647727272727273, 0.4875, -0.5625, 0.0, -0.04833333333333333, 0.78, 0.16666666666666666, 0.1142857142857143, 0.3833333333333333, 0.0, 0.5, -0.09, 0.0, -0.3, -0.125, 1.0, 0.8, -0.025, 0.04545454545454545, 0.8, 0.0, 0.0, 0.0, 0.35, -0.175, 0.15, 0.22777777777777777, 0.5, 0.05437142857142857, 1.0, -0.25, 0.14356060606060603, 0.0, 0.0, 0.054166666666666696, -0.12121212121212122, 0.0, -0.30000000000000004, -0.12291666666666667, -0.2505208333333333, 0.0, 0.0, 0.4666666666666667, 1.0, 0.125, 0.0, 0.0, -0.3428571428571429, 0.5, 1.0, -0.1, 0.02777777777777778, 0.3333333333333333, 0.0, 0.0, 0.0, 0.5, 0.1388888888888889, 0.0, 0.0, -0.08333333333333333, 0.7, 0.0, 0.0, 0.475, 0.26, 0.6072916666666667, -0.3, -0.049999999999999996, 0.0, -0.2552083333333333, 0.0, -0.03568121693121694, 0.0, 0.0, 0.2277777777777778, 0.07142857142857142, 0.7, -0.35000000000000003, -0.5999999999999999, 0.0, -0.053125000000000006, 0.24375000000000002, -0.5, 0.04928030303030303, -0.30000000000000004, 0.0, 0.0, 0.19444444444444442, 0.0, 0.3953125, -0.08333333333333333, 0.7, 0.055026455026455035, 0.625, 0.5, 0.0, 0.39999999999999997, 0.0, 0.6, -0.0048295454545454475, 0.2857142857142857, -0.1714285714285714, -0.25, 0.2857142857142857, 0.705, -0.25, 0.5, -0.8, 0.0, -0.3190476190476191, -0.4666666666666666, 0.0, 0.0909090909090909, 0.5, 0.2, -0.16666666666666666, -0.25, -0.8, -0.6666666666666666, -0.9, -0.11666666666666665, -0.05000000000000001, -0.3791666666666667, -0.6, 0.3375, 0.8, -0.2638888888888889, -0.6, 0.0, 0.21666666666666667, 0.5, -1.0, 0.17559523809523808, -0.25, 0.0, 0.0, 0.0, 0.0, 0.5, 0.0, 0.5, 0.0, -0.3666666666666667, 0.0, 0.9099999999999999, 0.5, -0.0625, 0.48333333333333334, 0.0, 0.15, 0.11017316017316016, 0.0, 0.3181818181818182, 0.0, 0.855, -0.4333333333333333, 0.0, 0.0, 0.39999999999999997, 1.0, 0.0, 0.5, 0.5, 0.31666666666666665, 0.10500000000000004, 0.0, 0.5, 0.5, 0.54375, 0.0, 0.25, 0.55, 0.5, 0.5, 0.22499999999999998, 0.43333333333333335, 0.0, -0.019047619047619042, -0.08333333333333333, 0.0, 0.0, 0.5, -0.125, 0.6333333333333333, 0.39285714285714285, -0.35, 0.16666666666666666, 0.08333333333333333, 0.3333333333333333, 0.0, -0.3125, 0.006388888888888888, 0.11818181818181818, -0.35, 0.20995670995670995, 0.22727272727272727, 0.0, 0.0, 0.5, -0.625, 0.07500000000000001, -0.8, 0.0, 0.19556878306878303, 0.0, 0.0, 0.65, -0.3, 0.7, 0.7, 0.0, 0.7, 0.2, 0.0, 0.2, 0.8, 0.5, 0.9099999999999999, -0.26666666666666666, 0.0, 0.35, -0.19999999999999998, -0.5, 0.0, 0.8, 0.6, 0.0, 0.7250000000000001, 0.7, 0.8, -1.0, 0.26875, -0.25, 0.0, -0.5, 0.1496031746031746, 0.0, 0.45833333333333337, 0.0, 0.0, 0.10656565656565657, 0.5, -0.1, 0.25, -0.15054499072356214, 0.8, 0.0, -0.30000000000000004, 0.5166666666666666, 0.0, 0.027777777777777773, 0.2, 0.12578282828282827, -0.05000000000000002, 0.0, 0.0, 0.16666666666666669, 0.0, -0.22916666666666666, 0.0, -0.2833333333333333, 0.0, 0.037500000000000006, 0.0, 0.375, -1.0, 0.0, -0.18125, 0.3958030303030303, 0.20000000000000004, 0.0, -0.041666666666666664, 0.07500000000000001, -0.25, 0.0, 0.35, 0.3181818181818182, 0.0, 0.5371428571428571, 0.005555555555555554, 0.45, -0.16666666666666666, 0.4083333333333334, 0.3, -0.4624999999999999, 0.16666666666666666, -0.2875, 0.2625, -0.6, 0.6666666666666666, 0.3125, 0.5, 0.0, 0.38750000000000007, 0.0, -0.03977272727272728, 0.22499999999999998, 0.0, 0.4, 0.7, 0.15, 0.0, -0.3791666666666667, 0.12500000000000003, 0.3833333333333333, -0.04999999999999999, 0.78, 0.0, 0.43333333333333335, 0.2, 0.244140625, -0.08571428571428572, -0.13999999999999999, 0.5, 0.0, -0.25, -0.5, 0.8, 0.0, 0.6555555555555556, 0.1, 0.5, 0.4, 0.5, -0.2, 0.1688888888888889, 0.5, 0.4749999999999999, 1.0, -0.2, -0.5, 0.0, 0.0, 0.5, -0.3125, 0.0, 0.4666666666666667, 0.0, 0.3, 0.7, -0.5666666666666667, -0.1, 0.016666666666666677, 0.2, 0.7, 0.0, 0.13636363636363635, 1.0, 0.8, -0.12222222222222223, 0.08020833333333335, -0.006249999999999995, -0.28750000000000003, 0.8, 0.5, 0.2, 0.7, 0.0, 0.0, -0.1, 0.0, 0.0, -0.33333333333333337, 0.1, -0.19500000000000003, 0.0, 0.0, -0.125, 0.0, -1.0, 0.0, 0.0, 0.004285714285714274, 0.43333333333333335, 0.35, 0.8, 0.07986111111111112, 1.0, 0.0, 0.35, 0.5, 0.4, -0.39000000000000007, 0.1, 0.0, 0.0, 0.1625, 0.5, 0.0, 0.8, 0.16666666666666666, -0.18194444444444444, 0.0, 0.1642857142857143, -0.18958333333333335, 0.041666666666666664, 0.0, 0.05000000000000001, 0.39333333333333337, 0.0, 0.25, 0.0, 0.9099999999999999, -0.02500000000000005, 0.09999999999999998, 0.0, 0.5633333333333334, 0.192, 0.0, 0.020833333333333315, 0.5, 0.3285714285714286, 0.5333333333333333, -0.03125, 0.78, 0.8, -0.2647727272727272, 0.36190476190476195, 0.0, 0.0, -0.04966329966329966, 0.8, 0.0, 0.5, 0.3125, 0.43333333333333335, 0.7, 0.12091836734693877, 0.033928571428571426, 0.5, -0.022222222222222216, 0.1, 0.0, -0.11249999999999999, -0.6999999999999998, 0.0625, 0.0, -0.6, 1.0, 0.5, 0.0, 0.0, 0.011904761904761899, 0.0, 0.31666666666666665, 0.3, 0.125, -0.4, 0.13636363636363635, 0.0, -0.16041666666666665, 1.0, 0.7, -0.5833333333333333, -0.048, 0.5, 0.5743055555555556, -0.038461538461538464, 0.16666666666666666, 0.0, 0.7, 0.89, 0.8, 0.0, -0.145, -0.55, -0.3, 0.3666666666666667, -0.25, -0.5, 0.0, -0.2916666666666667, 0.0, 0.0, 0.5, 0.0, 0.0, -0.08666666666666667, 0.0, 0.35, -0.011666666666666669, 0.5833333333333333, -0.038888888888888876, 0.0, -0.18051948051948052, -0.29583333333333334, -0.2, -0.3, 0.0, 0.08333333333333333, 0.4, 0.0, 0.5, 0.09999999999999999, 0.5, 0.13636363636363635, 1.0, 0.0, 0.7, 0.0, 0.0, 0.6, 0.4666666666666667, 0.26666666666666666, 0.09166666666666666, -0.44375000000000003, -0.07857142857142858, -0.049999999999999975, 0.475, 0.0, 0.5, -0.25, -0.005555555555555536, 0.43333333333333335, 0.0, 0.15, 0.0, -0.1875, 0.06944444444444445, -0.013257575757575765, -0.5, 0.11666666666666665, 1.0, -0.0625, 0.0, 0.2166666666666667, -0.3333333333333333, 0.0, 0.8, 0.6428571428571428, 0.35000000000000003, -0.6999999999999998, 0.42499999999999993, 0.35555555555555557, 0.0, 0.0, -1.0, 0.0, 0.0, -0.5, 0.8, 0.5, -0.625, 0.1, 0.16666666666666666, 0.5633333333333334, 0.41666666666666663, 0.5, 0.2, 0.0, 0.1082727272727273, 0.0, -0.51010101010101, -0.4, 0.0, 0.2681818181818182, 0.20714285714285716, -0.225, 0.0, 0.0, 0.0, 0.375, 0.4, 0.0, 0.625, -0.37500000000000006, 0.0, 0.4000000000000001, 0.1, -0.19999999999999998, 0.0, 0.0, 0.0, 0.0, 0.01453598484848484, 0.23285714285714285, 0.5, 0.5, 0.0, -0.075, -1.0, 0.0, 0.5, 0.15, -0.05454545454545454, 0.7, 0.06534090909090909, -0.125, 0.6699999999999999, -0.026666666666666672, 0.35, 0.0, 0.125, 0.16, -0.25, 0.625, 0.005208333333333333, 0.475, -0.3333333333333333, -0.25, 0.09999999999999999, -0.125, -0.32962962962962966, -0.2, 0.0, -0.3125, 0.8, 0.4, -0.16666666666666666, 0.0, 0.9, -0.022619047619047605, -0.2734375, 0.05, 0.475, 0.10714285714285714, -0.395, -0.2, -0.11458333333333331, -0.2, -0.625, 0.0, -0.25, 0.05208333333333333, 0.4083333333333333, 0.4681818181818182, 0.0, 0.0, 0.13125, 0.8, -0.375, 0.0, 0.0, 0.0, 0.0, 1.0, 0.3666666666666667, 0.0, -1.0, 0.16874999999999998, -0.16666666666666669, 0.21875, -0.625, 0.0, 0.0, 0.5, 0.0, 0.02946428571428572, 0.0, 0.0, -0.10176767676767677, -0.25, -0.4708333333333334, 0.8, 0.0, 0.0, 0.0, 0.08333333333333333, 0.4, 0.4083333333333334, -0.034999999999999996, 0.0, -0.05833333333333333, 1.0, 0.8, 0.0, 0.625, 0.17291666666666666, 0.2340909090909091, -0.23333333333333336, 0.875, -0.25, 0.05208333333333333, 0.2, -0.078125, 0.0, 0.0, -0.0011904761904761862, 0.5, 0.0, 0.5, 0.8, 0.11000000000000001, 0.5, 0.0, 0.7, 0.0, 0.8, 0.0, -0.1, 0.5208333333333334, -0.175, 0.5, -0.5, 0.7, 0.0, -0.25, -0.05, 0.2333333333333333, 0.008333333333333331, 0.275, -0.02103174603174603, 0.0, 0.875, 0.0, -0.25, -0.3, 0.09583333333333334, 1.0, 0.0, -0.3333333333333333, 0.0, -1.0, 1.0, 0.0, 0.7, 0.0, 0.0, 0.5, 0.0, 0.0, 0.7, -0.44000000000000006, -0.125, 0.5, 0.12370605468750001, -0.65, -0.14583333333333334, 0.0, 0.0, 0.05, -0.35, -0.26666666666666666, 0.0546875, 0.0, -0.6999999999999998, -0.16666666666666666, 0.0, 0.125, 0.35535714285714287, -0.5333333333333333, 0.05738636363636364, 0.75, 0.0, -0.009999999999999998, -0.3, 0.0, -0.375, -0.9750000000000001, 0.0778409090909091, -0.3125, -0.25, -0.3, -0.16666666666666669, 0.0, 0.375, 0.10000000000000002, -0.033333333333333326, 0.0, -0.03437500000000002, 0.7666666666666666, 0.0, 0.4222222222222222, 0.0, 0.25555555555555554, 0.8, 0.5, 0.0, 0.0, -0.05681818181818182, 0.3505952380952381, -0.03500000000000001, 1.0, 0.0, -0.2971717171717172, 0.0, 0.0, 0.0, -0.294921875, 0.0, -0.19596280184659093, 0.0, 0.5, 0.0, 0.7, 0.3333333333333333, -0.4666666666666666, 0.0, 0.5, -0.14583333333333334, 0.0, -0.25, 0.0, -0.5, 0.5, -0.08384176587301588, 0.13636363636363635, 0.43333333333333335, -0.52, 0.6, 0.75, 0.8, 0.1, 0.0, 0.0, 0.0, 0.625, -0.04166666666666666, -0.1875, 0.0, 0.525, 0.13522727272727272, 0.0, 0.049999999999999996, -0.3, 1.0, -0.25, 0.8, 0.0, 0.3333333333333333, 1.0, 0.25, -0.25, 0.0, 0.0, 0.3125, 0.0, 0.0, 0.5, 0.9, 0.0, 0.06597222222222221, 0.0, 0.5875, 0.0, -0.11944444444444446, 0.10000000000000002, 0.25, -0.2569444444444445, 0.3872727272727273, 0.8666666666666667, 0.5, 0.8, 0.0, 0.1, 0.44000000000000006, 0.4666666666666667, 0.25, 0.0, -0.33333333333333337, -0.2, 0.125, 0.19999999999999998, 0.7, 0.0, 0.65, 0.5, 0.25, -0.16666666666666666, 0.6, -0.33166666666666667, 0.5, -0.5, 0.0, -0.30000000000000004, -0.23958333333333334, -0.5, 0.0, 0.0, -0.5, -0.07250000000000001, 0.22351190476190472, 0.0, 0.0, 0.5, 0.43333333333333335, -0.3, 0.0, 0.0, 0.0, 0.24285714285714285, 0.5, 0.6000000000000001, 0.5, 0.01875, 0.19999999999999998, 0.19047619047619047, 0.5, 0.0, 0.8, 0.045833333333333316, 0.005833333333333334, 0.0, -0.4, 0.17346938775510207, 0.6, 0.06, 0.0, 0.0, 0.2333333333333333, 0.0, 1.0, 0.0, 0.0, 0.35, 0.0, -0.8499999999999999, 0.28125, 0.0, 0.5, 0.0, 0.0, 0.0, 0.0, 0.35, 0.43333333333333335, 0.0, 0.9099999999999999, 0.1875, 0.48333333333333334, -0.1878787878787879, 0.2333333333333333, 0.08673469387755102, 0.5711111111111111, 0.8, 0.0, 0.0, 0.78125, -0.4, 0.8, 0.0, -0.08333333333333333, 0.0, 0.5, -0.2, 0.2333333333333333, -0.36, 0.0, 0.175, -1.0, -0.25, -0.16666666666666666, -0.5, 0.5, 0.6, 0.0, -0.009999999999999986, 0.0, 0.8, 0.1294315222537879, -0.5, -0.8125, 0.6000000000000001, 0.18316326530612245, -0.16666666666666666, 0.06000000000000001, 1.0, 0.2, -0.52, 0.0, 0.0, 0.4, -0.125, -0.3, -0.05, 0.0, 0.2, 0.4666666666666666, 1.0, 0.0, 0.006249999999999978, 0.8, 0.0, -0.25, -0.2, 0.0, 0.3, 0.16666666666666666, 0.0, 0.6, 0.8, -1.0, 0.0, -0.25, 0.0, 0.19444444444444445, 0.0, 0.43333333333333335, 0.0, 0.17045454545454544, 0.0, 0.0, 0.625, 0.0, -0.5, 0.0, 0.0, 0.2857142857142857, 0.4375, -0.125, 0.0, -0.05681818181818182, 0.9099999999999999, 0.25, 1.0, -0.06666666666666667, 1.0, -0.39, 0.0, -0.06458333333333333, 0.0, 0.0, -0.375, -0.18131313131313131, -0.2916666666666667, 0.0, 0.0, 0.0, 0.8, 0.8, 0.13333333333333333, 0.0, 1.0, 0.22222222222222224, 0.0, -0.375, -0.625, 0.5, -0.16875, 0.0, 0.0, 0.5, 0.4, 0.17045454545454544, 0.7, 0.35000000000000003, 0.6, -0.24999999999999992, 0.04999999999999999, -0.325, 0.275, 0.0, -0.174025974025974, 0.7, 0.7, 0.46875, 0.5, -0.4, 0.4711111111111111, -0.30000000000000004, 0.0, -0.08181818181818182, 0.3333333333333333, 0.25, -0.18333333333333335, 0.7, 0.0, 0.43333333333333335, 0.5, 0.1, 0.6166666666666667, 0.0, 0.0, 0.09722222222222221, 0.0, -0.3625, 0.0, 0.1222222222222222, 0.11863636363636362, 0.08, 0.8, 0.0, 0.05000000000000001, 0.13412698412698412, -0.30000000000000004, -0.09999999999999994, -0.04262626262626263, 0.5, 0.2552083333333333, 0.5, 0.0, -0.07321428571428572, -1.0, -0.125, 0.06458333333333333, 0.0, 0.03333333333333336, 0.5, 0.2666666666666667, 0.225, 0.1, 0.6, 0.8, 1.0, 0.8, 0.0, 1.0, 0.255, 0.0, -0.014166666666666694, -0.25, 0.0, 0.0, -0.14583333333333334, 0.8333333333333333, 0.0, 0.6000000000000001, 0.0, 0.78125, 0.9, 0.012500000000000022, -0.1, 0.0, 0.3833333333333333, 0.3673611111111112, 0.65, 0.275, 0.18148148148148147, 0.0, 0.0, -0.0875, 0.0, 0.0, 0.00989583333333334, -0.004166666666666661, 0.225, 1.0, 0.8, 0.13873697916666666, 0.0, -0.07142857142857142, 0.1040909090909091, 0.22777777777777783, -0.25, 0.43333333333333335, 0.09999999999999998, 0.0, 0.0, -0.3, -0.5499999999999999, 0.0, -1.0, 0.25, 0.0, -0.023809523809523798, 0.0, 0.04734848484848484, 0.3229166666666667, 1.0, 0.2787878787878788, 0.5, 0.0, 0.0, 0.125, -0.5, -0.7, 0.6316666666666666, 0.5390625, 0.40416666666666673, -0.17250000000000001, -0.0050000000000000044, 0.5, 0.8, 0.13999999999999999, -0.1869047619047619, -0.19166666666666665, 0.8, -0.16666666666666666, 0.5, 0.0, -0.5, 0.0, 0.0, -0.3336309523809524, -0.09166666666666667, 1.0, 0.25, 0.8, 0.0, 0.0, 0.125, 0.0, -0.15714285714285714, 0.5375, -0.6666666666666666, 0.0, -0.24499999999999997, 0.35, 0.14047619047619048, 0.5, 0.0, 0.8, -1.0, -0.21250000000000002, 0.4464285714285714, -0.041666666666666664, -0.75, -0.5, 0.0, 0.0, 0.0, -0.02083333333333333, -0.125, 0.0, 0.0, 0.0, -0.625, 1.0, 0.0, 0.45, -0.1, 0.25, -0.25, -2.7755575615628914e-17, -0.42000000000000004, -0.5, 0.0, 0.5, -0.033333333333333354, 1.0, -0.25, 0.2, -0.5, 0.6, 0.5, -0.2, 0.7, 0.0, -0.29285714285714287, 0.7, 0.0, 0.7, -0.012500000000000004, 0.8, -0.25, 0.7, -0.1, 0.5428571428571429, 0.2, 0.4166666666666667, -0.19999999999999993, 0.25, 0.0, 0.13333333333333333, 0.5, 0.1, 0.8, -0.1155844155844156, 0.06666666666666665, 0.0, 0.0, -0.4, 0.875, 0.03125, -0.125, 0.13000000000000006, 0.0, 0.7, 0.3, -0.008928571428571425, 0.0, -0.65, 0.30000000000000004, 0.0, 0.0, -0.06458333333333335, 0.43333333333333335, 0.1898989898989899, -0.3, 0.0, 0.3499999999999999, 0.0, 0.5121428571428572, 0.1875, 0.0, 0.0, 0.1, 0.07980769230769232, 0.02777777777777779, 0.4666666666666667, 0.8, 0.0, 0.7, 0.0, 0.4, -0.06499999999999999, -0.15, -0.4875000000000001, 0.012499999999999983, 0.5, 0.19999999999999998, 0.625, -0.09999999999999999, 0.5416666666666667, 0.15833333333333333, 0.0, -0.0625, 1.0, 0.8, 0.0, 0.19166666666666665, -0.25, 0.875, 0.2556818181818182, 0.125, 0.39083333333333337, 1.0, 0.2, 0.8, 0.6000000000000001, 0.1, 0.9333333333333332, -0.15, 0.0, -0.20476190476190478, 0.2287878787878788, -0.25, 0.0, -0.20000000000000004, 0.27397959183673465, 1.0, 0.26666666666666666, 0.159375, 0.0, 0.23525641025641025, -0.02121212121212122, 0.5875, 0.0785714285714286, 0.65, -0.08750000000000001, 0.16, 1.0, 0.0, 0.175, 1.0, 0.8, -0.39999999999999997, 0.8, 0.0, 0.78125, 0.4662109375, -0.01499999999999999, -0.049496336996336994, 0.13636363636363635, 0.5037037037037037, 0.0, 0.5, -0.48828125, 1.0, 0.253125, -0.35625, 0.1795138888888889, 0.0, 0.0, -0.2222222222222222, 0.0, 1.0, 0.14727272727272728, -0.244140625, 0.0, 0.0, -0.175, 0.0, 0.10000000000000002, 0.0, 0.03333333333333333, 0.0, 0.0, -0.06666666666666665, 0.012500000000000004, -1.0, -1.0, 0.5, 0.1142857142857143, 0.29545454545454547, 0.3214285714285714, 0.08750000000000001, 0.0, 1.0, 0.27213541666666663, 0.175, 0.0, 0.022222222222222223, 0.0, 0.0534090909090909, 0.25, 0.0, -0.2, 0.64, 0.5, 0.8, 0.0, 0.1, 0.0, 0.06666666666666667, 0.0, -0.25, 0.8, 0.0, 0.8, 0.0, 0.07555555555555556, 0.38666666666666666, -0.5, 0.5, 0.25833333333333336, -0.2, 1.0, 0.07045454545454545, 0.26944444444444443, -0.46624999999999994, 0.0, 0.39999999999999997, 0.3583333333333333, -0.7, 0.75, 0.0, 0.0, 1.0, 0.19999999999999998, 0.0, 0.2833333333333333, 0.6444444444444444, 0.375, 0.8, -0.04999999999999999, -0.2375, 1.0, -0.5, -0.06666666666666667, 0.5, 0.0, 0.18712121212121213, -0.11249999999999999, -0.15416666666666667, -1.0, 0.0, 0.008888888888888885, 0.7, 0.3, 0.0, 0.0, -0.09090909090909091, -1.0, 0.0, 0.15937500000000002, -0.03194444444444445, 0.625, 0.7, 0.2, -0.2, 0.8, -0.3500000000000001, 0.0, -0.11666666666666665, 0.0, 0.7166666666666667, 0.09545454545454546, 0.5, -0.7999999999999999, 0.0, 1.0, 1.0, 0.0, 0.35000000000000003, 0.5, 0.08020833333333334, -0.25, -0.07916666666666666, 0.65, 0.0, 0.0, 0.048611111111111105, 0.13636363636363635, 0.18055555555555558, 0.9099999999999999, 0.2, -0.4, 0.13636363636363635, 0.0, 1.0, 0.16224489795918368, -0.125, 0.0, 0.0, 0.0, 0.5, 0.8125, 0.0, -0.4374999999999999, 0.4, 0.75, 0.7, -0.125, 0.0, 0.0, 0.0, 0.0, -0.1, -1.0, -0.25, -0.5, 0.001041666666666663, 0.0, 0.9750000000000001, 0.0, 0.16666666666666666, 1.0, -0.16666666666666666, 0.16666666666666666, 0.24, 0.0, 0.03333333333333333, 0.0, 0.0, -0.13333333333333333, -1.0, 0.025, -0.45, 0.0, -0.23344444444444448, 0.0, 1.0, 0.25, 0.0, 0.15, 0.2111111111111111, -0.10803571428571429, 0.8, 0.0, 0.2, 0.39166666666666666, 1.0, 0.13, 0.0, -0.08333333333333333, 0.09583333333333333, 0.0, -0.05454545454545453, 0.0, -0.08049242424242424, 0.4, 0.4453703703703704, 0.0, 0.0, 0.090625, 0.39999999999999997, 0.5, 0.0, 0.5, -0.15, 0.11818181818181818, -1.0, 0.5, 0.7, 0.0, 0.0, 1.0, 0.3, 0.0, 0.0, -0.1157272727272727, 0.05233333333333332, 0.04545454545454545, 0.0, 0.0, 0.35, 0.5308333333333334, 0.8, 0.04545454545454545, 0.0, 0.0, 0.35, 0.5666666666666667, 0.0, -2.2204460492503132e-17, 0.5, 0.03125000000000001, 0.5, 0.5, 0.0664772727272727, 0.625, 0.0, 0.0, 0.20833333333333334, -0.5249999999999999, 0.225, 0.5, 0.22999999999999998, 0.8, -0.04404761904761904, 0.7, -0.08333333333333333, 0.0, -1.0, 0.2, 0.8, 0.125, -0.24166666666666667, -0.06666666666666667, -0.1892857142857143, 0.5, 0.3, 0.0, -0.3, 0.0, 0.1, 0.0, 0.0, -0.14583333333333334, 0.8333333333333334, 0.1340909090909091, 0.0, 0.75, -0.1875, -0.35, 0.0, 0.4666666666666667, 0.35833333333333334, 0.2, 0.3333333333333333, 0.5, 0.0, 0.15625, -0.05555555555555555, 0.8, -0.022222222222222216, 0.9099999999999999, 0.0, 0.6, -0.18, -0.5, 0.125, 1.0, 0.78125, -0.15075757575757576, -0.2916666666666667, 0.0, 0.5, -0.30000000000000004, 0.78125, 0.5, -0.05681818181818182, 0.0, 0.0, 0.5, 1.0, 0.0, 0.0, 0.375, 0.0, 0.0, 0.8, -0.05, 0.0, 0.011111111111111127, -0.30000000000000004, -0.027777777777777773, 0.6, -0.08333333333333333, 0.25, 0.8, -0.8, -0.35, 0.1, 0.040476190476190485, 0.2, -0.16875, 0.31666666666666665, -1.0, 0.0, -0.1, 0.7, 0.0, 0.1, 0.0, 0.375, 0.25, 0.3464285714285714, 0.43333333333333335, 0.0, 0.005208333333333343, -0.30000000000000004, -0.2, 0.7, 0.0, -0.1875, -0.375, -0.2, 0.5, 0.0, 0.0, 0.4, -0.34375, 0.325, 0.0, 0.625, 0.0, -0.390625, 0.5, 0.0, 0.0, -0.325, 0.13636363636363635, 0.3125, 0.8, 0.3, 0.43333333333333335, 0.65, -0.4, 0.5, 0.955, 0.8, 0.375, 0.0, -0.15714285714285717, 0.6, -0.16666666666666666, 0.5, 0.25, 0.033333333333333326, 0.5, -0.1, 0.13999999999999999, -0.159375, 0.4, 0.0, 1.0, 0.0, 0.2, 0.5, 5.551115123125783e-17, -0.095, 0.25, 0.04583333333333336, 0.05555555555555556, 0.43333333333333335, 0.0, 0.0, -0.40625, 0.0, 0.0, 0.014285714285714275, -0.1111111111111111, 1.0, 0.024999999999999984, 0.6, -0.4, -0.1, 0.0, 0.0, 0.0, 0.025000000000000022, -0.2380952380952381, 0.5, -0.25555555555555554, 0.18392857142857144, 0.5127604166666667, -0.05, 0.5, 0.2875, 0.3125, 0.0, -0.41375000000000006, 0.0, -0.06000000000000001, 0.18888888888888888, 0.0, -0.5249999999999999, 0.7, 0.04999999999999999, 0.7, 0.25, -0.5859375, -0.29166666666666663, 0.0, 0.5, 0.0, 0.2857142857142857, -0.07666666666666666, 0.0, 0.0, 0.0, 0.8, -0.5972222222222222, 0.0, 0.27878787878787875, -0.23999999999999994, 0.0, 0.0, 0.8, 0.0, 0.5, 0.0, 0.08833333333333333, 0.0, -0.43999999999999995, 0.25, 0.0, -0.3333333333333333, -0.012499999999999997, -1.0, -0.3125, -0.25, 0.8, 0.8, 0.18333333333333335, 0.43333333333333335, 0.7, -0.20000000000000004, 0.5, 0.08928571428571429, 0.37142857142857144, 0.4, 0.0, 0.0, -0.12193877551020409, 0.5, 0.1285714285714286, 0.575, 0.04801587301587301, 0.5, 0.0, 0.5, 0.35, -0.43333333333333335, 0.3, 0.0, -0.05523809523809523, 0.0, 0.0, 0.0, 0.08833333333333333, 0.7, -0.125, 0.0, 0.31666666666666665, -0.1533333333333333, -0.15, 0.8, 0.0, 0.0, -0.275, 0.875, 1.0, 0.0, 0.0, 0.0, 0.25, 0.7, 0.09523809523809523, 0.0, 0.5, 0.0, 0.0, -0.30833333333333335, -0.35, -0.66, 0.0, -0.1111111111111111, 0.19017857142857142, 0.0, -0.0125, -0.12121212121212122, 1.0, 0.0, 0.3576041666666667, 0.4, 1.0, 0.03214285714285715, 0.0, 0.43333333333333335, 0.050000000000000024, 0.2, -0.41666666666666663, 0.5, 0.0, 0.7, 0.7, -0.25, 0.0, 0.7, 0.0, 0.0, 0.5, 0.0, 0.8, 0.0, -1.0, 0.0, 0.5625, 0.3484848484848485, -0.5, 0.1, 0.09387755102040815, 0.2, 0.0, 0.8, 0.3666666666666667, 0.0, 0.0, 0.0, -1.0, 0.6, -0.25, 0.5, 0.8, 0.9, 0.0, 0.24, -0.29700000000000004, 0.3166666666666667, 0.5, 0.13636363636363635, 0.0, 0.0, 0.875, 0.0, 0.5, 0.275, 0.0, 0.1, -1.0, 0.0, -0.3, 0.2, 0.0, 0.7, 0.31666666666666665, 0.43333333333333335, 0.625, -0.11833333333333336, 0.2532828282828283, 0.0, 0.13636363636363635, 0.5, -1.0, 0.4, 0.0, -0.16666666666666666, -0.25, 0.18333333333333335, 0.5, 5.551115123125783e-17, -0.6733333333333333, 0.0, 0.0, -0.2851851851851852, 0.0, 0.01666666666666668, 0.43333333333333335, 0.8, 0.0, -0.0625, 0.0, 0.12135416666666665, 0.65, 1.0, 0.15833333333333335, 0.0, 0.0, 0.8, 0.8, 0.8, 0.0, 0.0, -0.5, 0.8, 0.0, -0.19999999999999998, 0.13636363636363635, 0.1, 0.0, 0.0, 0.0, -0.0875, -0.35, 0.0, 0.1875, 0.39999999999999997, 0.0, 0.0, -0.25, 0.9099999999999999, 0.64, 0.38333333333333336, 0.18452380952380953, 0.0, 0.625, 1.0, 0.1590909090909091, -0.05681818181818182, -1.0, 0.0, 0.9099999999999999, -0.2, -0.09999999999999998, 0.0, 0.5, 0.0, 0.4333333333333333, 0.3333333333333333, -0.35, 1.0, 0.012121212121212116, 0.2857142857142857, 0.3866666666666667, 0.78125, -0.09999999999999996, 0.0, -0.1875, 0.5, 0.65, -0.0027272727272727336, 0.0, 0.03333333333333336, 0.4681818181818182, 0.0, 0.09999999999999999, 0.24971139971139975, 0.325, 0.31510416666666663, 0.0, 0.1888888888888889, 0.0, 0.0, 0.12916666666666668, 0.0, 0.16666666666666666, 0.0, 0.0, 0.65, 0.7166666666666668, 0.4937500000000001, 1.0, 1.0, 0.06818181818181818, 0.8, 0.275, 0.0, 0.13, -0.22222222222222224, -0.22237723214285715, 0.5, 0.375, 0.125, 1.0, 0.6166666666666667, 0.022095959595959596, 1.0, -0.09545454545454546, 0.09444444444444444, 0.5, -0.35, 0.0, 0.375, 0.6, 0.7, 0.12, 0.7, 0.4333333333333333, 0.4166666666666667, 0.46666666666666673, 0.5, 1.0, 0.0, -0.4, 0.22708333333333336, 0.48828125, 0.4, 0.25, -0.1375, 1.0, 0.0, 0.5, 0.35, 0.3, 0.0, 0.0, 0.0, -0.7999999999999999, 0.8, -1.0, 0.4583333333333333, -0.35833333333333334, 0.22467532467532467, -0.375, 0.45, 0.13636363636363635, 0.78125, 0.0, 0.2857142857142857, 0.0, -0.0625, 0.8, 0.8, 0.6, 0.0, 0.43333333333333335, 0.18035714285714285, 0.6, 1.0, 0.4, -0.4, 0.25, 0.0, -0.14062500000000003, -0.15, -0.4, 0.0, 0.095, 0.15416666666666667, 0.0, 0.0, 0.0, 0.5, 0.8, 1.0, 0.8, 0.3125, 0.45833333333333337, 0.26666666666666666, 0.19, 0.19454545454545452, 0.0, 0.008978675645342299, 0.0, -0.25, 0.0, -0.05681818181818182, 0.0, -0.7999999999999999, 0.0, 0.23750000000000002, 0.0, -0.2, 0.4166666666666667, -0.0027777777777777866, 0.28863636363636364, -0.3159090909090909, -0.0455233134920635, -0.23846153846153845, 0.5, 0.5291666666666667, -0.5, 0.3, 0.0, 0.0, 0.375, 0.8, -0.26666666666666666, 0.5, 0.2, -1.0, 0.0, -0.47500000000000003, 0.0, 0.05833333333333334, 0.25, 0.0, 0.0, 1.0, 0.8, 0.625, 0.125, 1.0, 0.625, 0.0, -0.3416666666666666, 0.275, -0.11111111111111112, 0.3088888888888889, 1.0, 0.5, -0.2708333333333333, 0.75, 0.0, 0.0, -0.3, -0.23, 0.2619047619047619, 0.06666666666666671, 0.0, -0.05681818181818182, 0.25, 0.5, 0.0, 0.625, 0.7, -0.9333333333333332, 0.8, 0.5, -0.16666666666666666, 0.2857142857142857, 0.0, 0.78125, 0.43333333333333335, 0.3666666666666667, 0.6428571428571428, 0.0, 0.0, 0.13636363636363635, -0.031250000000000014, -0.3333333333333333, 0.028679653679653676, 0.0, 0.5, -0.32, 1.0, 0.0, 0.09166666666666666, -0.0625, 0.006388888888888888, -0.21875, 0.43333333333333335, 0.2104166666666667, 0.3828125, -0.08181818181818182, 1.0, -0.13766233766233765, 0.2833333333333333, 0.4000000000000001, 0.5, 0.43333333333333335, 0.0, 0.12857142857142856, 0.0, 0.5, 0.0, 0.0, 0.17727272727272728, -0.07916666666666666, 0.0, -0.1, 0.0, -0.6999999999999998, -0.0236111111111111, 0.0, -0.25, 0.13333333333333333, 0.0, 0.0, 0.5, 0.0, 0.18666666666666668, 0.625, 0.8, 0.13636363636363635, -0.30000000000000004, 0.85, 0.041666666666666664, 0.0, -0.1, 0.2766666666666667, 0.0, 0.8, 0.43333333333333335, 0.24000000000000005, 0.5, 0.2, 0.7062847222222222, 0.5, 0.0, -0.18819444444444447, -0.3015625, 0.11212121212121212, 0.48828125, 1.0, 0.0, 0.0, 0.0, 0.5, -0.061111111111111116, 0.35, 0.5, 0.08214285714285714, -0.125, 0.0, -0.16666666666666666, 0.1625, 0.0, 0.875, 0.0, 0.12, 0.35, 0.0, 0.0, 0.85, 0.0, 0.5, 0.08333333333333333, 0.0, 0.8125000000000002, 0.0, 0.0, -1.0, 0.5, 0.3071875, 0.5231818181818182, 0.05, -0.04805555555555555, 0.0, 0.8, -0.375, 0.5, 0.0, 0.11547619047619047, -0.05555555555555556, -1.0, 0.0, 0.5, 0.0, 0.0, 0.2, -0.10000000000000002, -0.5859375, -0.22499999999999998, 0.0, 0.8, 0.06818181818181818, 0.05833333333333335, 0.0, 0.8, 0.9099999999999999, 0.7333333333333334, -0.225, 0.26333333333333336, 0.0, 0.0, 0.0, 0.2, 0.7, 0.25, 0.0, 0.0, -0.2, -0.125, 0.5, -0.2, 1.0, 0.020833333333333343, 0.43333333333333335, 0.0, 0.205, 0.4, 0.0, 0.4799107142857143, 0.05416666666666671, 0.6, -0.06000000000000001, -0.012500000000000004, -0.25, 0.12718855218855218, 0.16666666666666666, -0.05499999999999998, 0.3, -0.25, 1.0, 0.0, 0.6, 0.43333333333333335, 0.0, 0.0, -0.8, 0.32916666666666666, 0.5, -0.022916666666666682, -0.1416193181818182, 0.78, 0.0, 0.5, 0.5, 0.0, 0.2, -0.3, 0.2816666666666667, 0.5633333333333334, 0.43333333333333335, 0.43333333333333335, 0.6, 0.0, 0.10972222222222223, -0.0277777777777778, 0.625, -0.3, -0.21250000000000002, -0.45999999999999996, -0.2375, 0.4625, 0.0, 0.25, 0.0, 0.075, 0.0, 0.0, 0.0, -0.184375, 0.3541666666666667, -0.43333333333333335, -1.0, 0.09659090909090909, 0.25, 0.0, 0.0, 0.8, 0.19444444444444445, 0.14387755102040817, 0.005555555555555564, -0.375, 0.25104166666666666, 0.0, 0.0, 0.4583333333333333, -0.16666666666666666, 0.0, 0.6666666666666666, 0.0, 0.8, -0.00028409090909090745, -0.0625, 0.0, 0.5666666666666667, 1.0, -0.2, -0.4, 0.7, 0.0, 0.3, 0.1, -0.05681818181818182, 0.075, 0.0, -0.05555555555555555, 0.0, 0.5, 0.2, 0.4083333333333334, -0.4916666666666667, -0.12000000000000002, -0.3, 0.75, 1.0, 0.171875, 0.5, 0.32, 1.0, 1.0, -0.30000000000000004, -1.0, 0.8, 0.0, -0.25, 0.35, 0.8125, 0.0613095238095238, -0.07142857142857142, -0.06666666666666667, 0.8, 0.015286796536796534, -0.2125, -0.4318181818181818, 0.4166666666666667, 0.65, -0.5, 0.0, 0.0, 0.1, 0.2, -0.16666666666666666, 0.0, 0.0, 0.0, 0.3, -0.06071428571428572, 0.0, 0.15714285714285714, 0.0, 0.7, 1.0, -0.192, 0.09333333333333334, -0.45, 0.4, -0.3, 0.0, 0.0, 0.43333333333333335, 0.0, 0.5, 0.03750000000000001, -0.025, 0.0, -0.08333333333333333, -0.5, 0.071875, 0.0, 0.4, 0.45, 0.4152777777777778, 0.188265306122449, 0.4, 0.75, 0.0, -0.15, 0.0, -0.225, 0.07666666666666666, -0.25, 0.0125, -0.06428571428571428, 0.09999999999999999, -0.03560606060606062, 0.275, 0.0, 0.1, 0.0, 0.25, 0.0, 0.0, 0.43333333333333335, -0.07250000000000001, 0.0, -0.8, 0.0, 0.8, 0.5194444444444445, -0.125, 0.14285714285714285, 0.6, 0.15555555555555556, -0.04123376623376624, 0.8, 0.3, 0.0, -0.2125, 0.0, 0.8, 0.0, -0.013888888888888892, 0.0, 0.17045454545454544, 0.09015151515151514, -0.5, 1.0, 0.1, 0.7000000000000001, 0.0505952380952381, 0.13999999999999999, 0.41666666666666674, 0.35833333333333334, 0.07500000000000001, 0.5, 0.0, 0.2, 0.0, 0.125, -0.08888888888888885, 0.0, 0.0, 0.0, 0.5, 0.5, 0.0, -0.07694444444444445, 0.2857142857142857, -0.1375, 0.7, -0.25625, 0.075, 0.0, -1.0, 0.0, 0.0, 0.0625, 1.0, 1.0, 1.0, -0.1647524350649351, 0.14259259259259258, 0.0, -0.25, -0.09595959595959597, 0.5174242424242423, 0.25, -0.12121212121212122, -0.16071428571428573, 0.8, 0.0, -0.08333333333333333, 0.0, 0.32, 0.30833333333333335, 0.09666666666666668, 0.6000000000000001, 0.0, 0.0, 0.0, 0.0, 0.3142857142857143, 0.0, 0.25, 0.20393939393939395, 0.49166666666666664, 0.36875, -0.044318181818181826, 0.21428571428571427, 0.0, 0.0, 0.25, 0.08, 0.0, 0.45, 0.0, -0.30000000000000004, 0.5, 0.05714285714285715, 0.5, -0.25, 0.5, 0.0, 0.0, 0.6000000000000001, 0.0, 0.25, 0.0, -0.39999999999999997, 0.6000000000000001, 0.6625, -0.9099999999999998, -0.048828125, 0.06666666666666667, 0.03279220779220779, -0.31250000000000006, 0.2, 0.0875, 0.5, 0.26666666666666666, -0.1619047619047619, 0.0, 0.03846153846153846, 1.0, 0.0, 0.0, -0.19393939393939394, 0.275, -0.08333333333333333, 0.7, 0.5, -0.4, 0.4166666666666667, 0.0, 0.8, -0.15555555555555559, 0.0, 0.5, 0.0, -0.3, -0.5, 0.0, 0.5, 0.0, 0.0, 0.34545454545454546, 0.5, 0.0, 0.0, 0.15, -0.23750000000000004, 0.9099999999999999, -0.10000000000000002, 0.20833333333333334, 0.0, 0.0, 0.8, 0.275, 0.25, 0.2857142857142857, 0.04722222222222222, 0.8, 0.0, 0.0, 0.5, 1.0, 0.3600000000000001, -0.17036830357142854, -0.07428571428571429, 0.2, 0.41500000000000004, 0.0, 0.18433333333333335, 0.5, -0.2, 0.35, 0.35, 0.65, 0.25, 0.4055555555555556, 0.08, 0.4, -0.3, -0.29583333333333334, 0.4, 0.3444444444444444, 0.0, -0.2, 1.0, 0.5, 1.0, 0.6875, 0.875, 0.5, 0.2833333333333333, 0.2857142857142857, 0.25, 0.0, 0.8, 0.5, -0.09428571428571426, 0.0, -0.015151515151515152, -0.21428571428571427, 0.5, 0.06931216931216931, -0.2, 0.2, 0.3375, -0.4, 0.0, 0.06666666666666667, -0.25, -0.033333333333333326, 0.35, -0.75, 0.1, 0.65, -0.25, -0.075, 0.5, -0.21666666666666667, 0.8, 0.675, -0.033333333333333326, 0.0, -0.0859375, 0.5333333333333333, 1.0, 0.43333333333333335, 0.16666666666666666, 0.0, 0.65, 0.0, -0.05, 0.1435897435897436, 0.6000000000000001, 0.0, 0.35416666666666663, 0.8, 0.0, 0.06666666666666667, -0.04166666666666668, -0.5833333333333333, 0.0, 0.3833333333333333, 0.2875, 0.7, 1.0, 0.5, 0.0, -0.14583333333333334, 0.25, 0.0, 0.5, 0.0, -0.25, 0.8, 0.25, 0.15052083333333335, 0.0, 0.0, 0.0, -0.2720703125, 0.0, -0.25, -0.13499999999999998, 0.5, 0.0, -0.03787878787878788, 0.8, 0.5633333333333334, -0.5, -0.0050000000000000044, -0.4, 0.35, -0.07833333333333334, 0.6000000000000001, 0.07604166666666667, 0.0, 0.0, -0.30000000000000004, 0.6, 0.35, 0.5, 0.11458333333333333, 0.5, 0.0, -0.051851851851851864, 0.31666666666666665, 0.0, 0.7, 0.1, 1.0, 0.5, 0.21000000000000002, 0.0, 0.0, 0.2866666666666667, 0.2, 0.1, 0.16666666666666666, 0.5, 0.0, 0.0, 0.0, -0.125, 0.5, -0.7333333333333334, 0.17777777777777778, 0.1875, -0.3666666666666667, 0.6770833333333335, 0.5666666666666667, -0.45, 0.0, 0.2, 0.5, 0.0, 0.33333333333333337, 0.5, 0.0, -0.825, 0.5316666666666667, 0.35000000000000003, 0.8, 0.0, -0.4, 0.4145833333333333, -0.5, 0.0, 0.5, 0.5, -0.1375, 0.5, 0.0, 0.4666666666666667, 0.0, 0.3666666666666667, 0.2174107142857143, 0.13, 0.35, 0.5, 0.09230769230769233, -0.5, 0.7, -0.0638888888888889, 0.0, 0.0, 1.0, 0.8, 0.0047619047619047545, 0.3, -0.25, -0.25, 0.0625, 0.7, 0.0, 0.0, -0.3, 0.13999999999999999, 0.0, 0.049999999999999996, 1.0, 0.0, -0.05238095238095238, 0.0, 0.0, 0.0, 0.7, 0.3148148148148148, 1.0, 0.0, 0.5416666666666667, 0.0, 0.0, 0.004195804195804198, -0.35000000000000003, 0.5, -0.4, 1.0, 0.0, 0.5, 0.45833333333333337, -0.5, 0.525, 0.35, -0.09375, 0.8, -0.0888888888888889, -0.5, 0.5, 0.5, 0.6, 0.8, 0.65, 0.7, 0.7, 0.5, 0.0, 0.6444444444444445, 0.2333333333333333, -0.15, 0.0, 0.12179705215419502, 0.1, 0.4875, 0.20000000000000004, 0.0, -0.048611111111111105, 0.0, 0.2, 0.19999999999999998, 0.6, -0.08333333333333333, 0.5, -0.1878787878787879, 0.0, 0.0, 0.0, -0.14583333333333331, 0.0, 0.0, 0.15625, 0.7, -0.024242424242424246, 0.1, 0.875, -0.30000000000000004, 0.0, -0.125, 0.5, -0.15587121212121213, 0.35, 0.8, 0.5, 0.7, 0.0, 0.12857142857142856, -0.144, 0.0, 0.7, 0.0, 0.0, 1.0, 0.13055555555555554, -0.25625, -0.008928571428571421, 0.024999999999999994, -0.8, 0.5, 0.10666666666666669, 0.5, 0.25, 0.5, 0.6, -0.02500000000000001, 0.3, 1.0, 0.021875, -0.13999999999999999, 0.8, 0.0, 0.38749999999999996, 0.0, 0.5, -1.0, 0.025, 0.22976190476190475, 0.0, 0.0, 1.0, -0.13, 0.5, 0.5, 0.9099999999999999, 0.0, 0.7, 0.8, 0.0, 0.0, 0.0, -0.037500000000000006, 0.0, 0.0, -1.0, -0.1785714285714286, 0.0, -0.19444444444444442, -0.20833333333333334, -0.22337662337662337, 0.7041666666666667, 0.5, 0.0, -0.7999999999999999, 0.0, 0.5, 0.09523809523809523, 0.07708333333333334, 0.09761904761904765, 0.0, 0.6666666666666666, 0.8, 0.0, 0.13333333333333333, -0.30000000000000004, 0.0, -1.0, 0.5, 0.39166666666666666, 0.5, -0.16666666666666666, -0.3, 0.625, 0.7, 0.5, 0.0, 0.2, 0.43333333333333335, 0.3333333333333333, 5.551115123125783e-17, -0.22440476190476188, -0.030952380952380946, 0.25, -0.2, 0.5, 0.0, 0.0, 0.5, -0.30000000000000004, 0.0, 0.3833333333333333, 0.5, 0.0, 0.5, -0.006249999999999978, 0.8, 0.43125, 0.0, 0.5859375, 0.5, 0.0, 0.43333333333333335, -0.4, 0.35000000000000003, 0.3, -0.3, 0.0, 0.65, 0.8, 0.9099999999999999, 1.0, 0.07619047619047621, 0.0, -0.20833333333333334, 0.0, 0.0, -0.15, 0.9765625, 0.6953125, 0.13636363636363635, 0.0, -0.017307692307692305, 0.27749999999999997, 0.0, -0.10833333333333334, 0.0, 0.13636363636363635, 0.0, 0.0, 0.5, -0.3, 0.5, 0.11574074074074074, -0.3, 0.5, 0.0, -0.4036458333333333, 0.25, -0.2, -0.11250000000000002, 0.43333333333333335, 0.03256138392857142, 0.5, 0.5, 0.8, 0.0, 0.0, 0.0, 0.7, 0.5416666666666667, 0.6166666666666667, -0.5, 0.1409090909090909, 0.7, 0.0, 0.43333333333333335, -0.08666666666666666, -0.06666666666666667, -0.25, 0.03333333333333334, 0.0, 0.8, 0.78125, 0.0, 0.3, 0.0, 0.24545454545454545, 0.0, 1.0, 0.0, 0.0, -0.30000000000000004, 0.5, 0.0, 0.32, 0.5, -0.25, 0.0, 0.9099999999999999, 0.0, 0.0, 0.0, -0.040476190476190485, -0.5, 0.0, 0.0, 0.0, 0.7, 0.4166666666666667, 0.8, 0.7, 0.1625, 0.0, -0.15, -0.19583333333333333, 0.25, 0.0, 0.18333333333333335, 0.0, -0.055194805194805185, 0.7, -0.31666666666666665, 0.20833333333333334, 0.0, 0.0, -0.22325396825396826, 0.334375, 0.23333333333333334, -0.1734722222222222, 0.09999999999999999, 0.36333333333333334, 0.125, 0.0, 0.1708333333333333, 0.5, 0.0, 0.2, -0.20277777777777778, -0.15277777777777776, 0.41953125, 0.26666666666666666, 0.5, 0.109375, -6.938893903907228e-18, 0.0, 0.35000000000000003, -1.0, 0.0, -0.008333333333333318, 0.5681818181818181, 0.7, 0.2, 0.31333333333333335, -1.0, 0.0, -0.3, -0.2, 0.35, -0.6999999999999998, -0.4, 0.7, 1.0, 0.0, 0.0, 0.2, 0.26666666666666666, -0.14166666666666666, 0.0, -0.5, 0.5, 0.0, 0.0, 0.7083333333333334, -0.2916666666666667, 0.0, 0.25, 0.0, 0.3, -0.16, 0.2222222222222222, -0.18333333333333332, 0.3666666666666667, 0.4, 0.8, 0.5, 1.0, 1.0, 0.0, 0.8, 0.25, 0.16666666666666666, 0.35416666666666663, 0.35, -0.22000000000000003, 0.0, 0.125, 0.175, -0.3, 0.2777777777777778, 0.0, 0.0, -0.038888888888888896, 0.85, 0.0, 0.5, 0.6875, 0.29374999999999996, 0.7, 1.0, 0.0, 0.35, 0.5, -0.05454545454545454, -0.45, 0.6, 0.29517045454545454, 0.25, 0.0, 0.6666666666666666, 0.8, 0.15656565656565657, 0.8, -0.041666666666666664, 0.7, 0.0, -0.7142857142857143, 0.6, 0.019047619047619056, 0.0888888888888889, 1.0, 0.0, 0.3, 0.0, 0.05497835497835498, -0.10000000000000002, 0.6000000000000001, 0.2, 0.10416666666666667, -0.05, -0.025, -0.35, -0.012499999999999997, 1.0, 0.2583333333333333, 0.043181818181818175, 0.5, 0.7, 0.2, 0.0, 0.5208333333333334, 0.5, 0.5290178571428571, 0.2090909090909091, 0.3, 0.9099999999999999, -0.4, 0.062499999999999986, 0.0, 0.0, 0.12666666666666665, -0.09090909090909091, 0.65, -0.01837121212121212, 0.4928571428571429, 0.0, 0.0, 0.0, -0.5499999999999999, -0.22777777777777783, 1.0, 0.16515151515151516, -0.4, -0.21481481481481485, 0.49833333333333335, 0.35, 0.4, 0.35, 0.5, 0.062499999999999986, 0.0, 0.04, 0.0, 0.15961538461538463, -0.03125, -0.4, 0.0, -0.2225, 0.5, -0.30000000000000004, 1.0, 0.8, 0.004999999999999982, 0.13636363636363635, 0.5, 0.35, -0.8, -0.2927272727272727, -0.3333333333333333, 0.5, 0.0, 0.9, 0.7, 0.7166666666666667, 0.6000000000000001, -0.44296875, 0.0, 0.25, 0.0, -1.0, -0.30000000000000004, 0.1, 0.5, 0.049337916984975805, 0.4694444444444444, 0.875, -0.275, -0.3, 0.0, 0.0, 1.0, 0.2, 0.7, 0.0, 0.0, 0.35, 0.28125, 0.5777777777777778, 0.875, -1.0, -0.29166666666666663, 0.75, 0.0, 0.0, 0.25, 0.40793650793650804, 0.0, 0.5, -0.058333333333333334, 0.31666666666666665, 0.7, 1.0, 0.6588541666666666, 0.0, 0.29285714285714287, 0.20000000000000004, 0.28888888888888886, 0.0, 0.25, 0.8, 0.7, 0.5, 0.6000000000000001, -0.386, 0.0, 0.0, 0.08979591836734693, -1.0, 0.08512987012987012, 0.3833333333333333, 0.053333333333333344, 0.7, 0.4063492063492064, -0.125, 0.25, -0.05625, 0.2833333333333333, -0.2, 0.5, 0.7366666666666666, 0.3833333333333333, 0.0, -0.0470703125, 0.0, -0.2, 0.0, 0.4375, 0.5, 0.0, 0.4928571428571428, 0.0, -0.6, 0.13333333333333341, 0.0, 0.75, 0.8, 0.43333333333333335, 0.0, 0.5, 0.5, 0.10714285714285714, -0.29166666666666663, -0.5, 0.0, -1.0, 1.0, -0.2125, 0.0, 0.09375, -0.16666666666666666, 0.0, 0.8, 0.7, -0.8499999999999999, -0.25, 0.5, 0.0, 0.0, 0.0, 0.7, 0.25, -0.10972222222222223, 0.3111111111111111, 0.0, 0.0, 0.0, 1.0, -0.2, 0.2, 0.43333333333333335, 0.0, -0.075, 0.0023809523809523816, 0.3586666666666667, 0.0, -0.9, 0.0, 1.0, 0.24861111111111112, -0.020280612244897966, 0.43333333333333335, 0.875, 0.39999999999999997, 0.7, 0.4, 0.0, 0.3, -0.15555555555555559, 0.43333333333333335, 0.002083333333333326, 0.7444444444444445, 0.0, -0.11931818181818182, 0.0, 0.0, 0.6, 0.3083333333333333, 0.0, 0.6222222222222222, -0.3, 0.5, 0.5, 0.3499999999999999, 0.2, 0.0, 0.7, 0.2611111111111111, -0.03571428571428571, 0.016666666666666663, 0.11666666666666665, 0.0, -0.08333333333333331, -0.3, 0.0, 0.225, 0.7777777777777777, 1.0, 0.0, 0.30000000000000004, -0.15, 0.8, 0.125, 0.6144097222222222, 0.0, -0.6, 0.1, 0.0, -0.4, 0.0, -0.14374999999999996, 0.03095238095238097, 0.2, 0.21666666666666667, 0.5, 0.3666666666666667, 0.5, -0.23666666666666666, -0.125, 0.2782312925170068, 0.3666666666666667, -0.04583333333333331, -0.30000000000000004, -0.3, 0.8, 0.2, 0.5, 0.0, 0.0, 1.0, 0.0, 0.0, 0.4166666666666667, 0.21481481481481482, -0.4, -0.009722222222222207, 0.0, 0.5, 0.8, 0.0, 0.0, 0.0, 0.16666666666666666, -0.3, 0.0, 0.0, 0.7, -0.09062500000000001, 0.9765625, -0.25, 0.12571428571428572, 0.24285714285714285, 0.0002314814814814714, 0.0, 0.7, -0.07333333333333335, -0.3, 0.18392857142857144, -0.4, 0.0, -0.047619047619047616, 0.8, 0.06416666666666666, 0.0, 0.7, -0.018287037037037015, 0.0, -0.3, 0.7, 0.25, 0.8, 0.7449999999999999, 0.0, -0.19374999999999992, -0.19062499999999996, 0.5, -0.30000000000000004, -0.394140625, 0.11249999999999996, 0.13106060606060607, 0.0, 0.0, -0.3, 0.475, 0.0, -1.0, 0.1, 0.0, 0.04375000000000001, 0.0, -0.125, 0.0, 0.0625, -0.25357142857142856, 0.1, 0.025, 0.5625, 0.36666666666666664, 0.5, 0.1, 0.0, -0.5, 0.26989583333333333, -0.5041666666666667, -0.08333333333333333, 0.04642857142857144, 0.0, 0.0, -0.16666666666666666, 0.0, 0.16527777777777777, 0.35643939393939394, 0.625, 0.5, -0.49999999999999994, 0.7, 0.8, 0.0, 0.37777777777777777, -0.15, 0.21166666666666667, -0.10714285714285714, -0.026785714285714288, 0.0625, 0.09999999999999998, 0.1125, 0.019047619047619056, -0.421875, -0.5, -0.16666666666666666, 0.0, 0.0, 0.0, 0.8, 0.19482421875, 0.5, -1.0, 0.8, 0.00833333333333334, 0.0, 0.1571428571428571, 0.0, 0.0, 0.275, 0.0, -0.5, -0.4, -0.06734693877551019, 0.4366666666666667, 0.32499999999999996, 0.16904761904761906, 0.021875000000000006, 0.7, 0.4, 0.2787878787878788, 0.65, 0.5354166666666667, -0.4, 0.0, 0.7, 0.0, 0.0, -0.5, -0.08333333333333333, 0.0, 0.0, 0.0, -0.06785714285714285, 0.5, 7.93016446160826e-18, 0.6, -0.35, 0.0, 0.7, 0.0, -0.7, 0.10714285714285714, 0.0, 0.0, -0.1, 0.06818181818181818, 0.7, 0.05216450216450217, -0.09, -0.4633333333333334, 0.09226190476190477, 0.9765625, -0.024285714285714292, 0.9099999999999999, -0.10370370370370373, 0.030952380952380953, 0.26666666666666666, 0.8, -0.3, 0.2, -0.16666666666666666, 0.08333333333333333, 0.44027777777777777, 0.8, 0.5, -0.08958333333333333, 0.0, -0.013888888888888888, 0.0, 0.125, 0.20625, 0.16666666666666666, 0.7, 0.7875, 0.0, -1.0, 0.125, -0.15, 0.16666666666666669, 0.7, 0.8, 0.22499999999999998, 0.20714285714285716, 0.5, 0.15416666666666667, 0.08125, 0.4, -0.2, 0.08333333333333333, 0.0, 0.0, 0.0, 0.3977272727272727, -0.02083333333333333, 0.175, -0.5, 0.03392857142857142, 0.0, 0.4, 0.3125, 0.0, 0.6, 0.0, -0.5375, 0.16874999999999998, 0.01111111111111109, -0.5, 0.0, -0.11666666666666668, 0.0, 0.5, 0.0, 0.5, -0.5208333333333333, 0.0, 0.8, 0.7, 0.43333333333333335, 0.1708333333333333, -0.04810870947234583, 0.8, 0.0, 1.0, 0.5583333333333333, 0.0, 0.0, 0.2875, 0.0071428571428571435, 1.0, -0.2916666666666667, 0.25, 0.0, 0.0, 1.0, 0.08333333333333333, 0.0, -0.20454545454545456, -0.09166666666666667, -0.5416666666666666, -0.39000000000000007, 0.5, 0.18500000000000005, -0.25, 0.7, -0.4, 0.8, -0.55, -0.028571428571428595, 0.0, 0.8, 0.08333333333333333, 0.0, 0.9, 0.1, 0.0, -0.3, -0.06666666666666661, -0.13, -0.12166666666666667, 0.0, 0.8, -0.016666666666666673, 0.0, -0.2125, 0.0, 0.56, 0.0, 0.18, -0.2916666666666667, 0.7166666666666667, -1.0, 0.0, 0.0, 0.011111111111111106, 0.9099999999999999, 0.0, 0.0, 0.41111111111111115, 0.26633522727272724, 1.0, 0.0, 0.425, 0.0, 0.2, 0.0, -0.22000000000000003, 0.0, -0.30000000000000004, 0.0040909090909090895, 0.6, 0.5, 0.0, 0.12083333333333332, 0.7, 0.0, 0.24241790110930736, 0.08333333333333333, 0.15000000000000002, 0.0, -0.25, 0.0, -0.25, 0.10416666666666667, -0.07142857142857142, 0.16666666666666669, 0.5, 0.7, 0.3489583333333333, -0.18571428571428572, 0.0, 0.26, 0.1952380952380952, 0.35, -0.2, 0.0, -0.4000000000000001, 0.7, 0.43333333333333335, -0.12222222222222223, 0.0, 0.0, 0.0, -0.16785714285714284, 0.5666666666666667, 0.7, 0.0, 0.5666666666666667, 0.0, 1.0, 0.3181818181818182, -1.0, 0.19999999999999998, 0.5, 0.7, 0.0, 0.0, 0.0, 0.2, 0.375, 0.8, 0.5, -0.20624999999999993, 0.0, 0.13636363636363635, 0.5, 0.5, 0.8, 0.0, 0.0, -0.08750000000000001, 0.0, 0.0, 0.65, 0.5, 0.14375, 1.0, 0.0, -0.08333333333333333, 0.21792929292929294, 0.0, 0.5, 0.2, 0.7, 0.7, 0.0, 0.22499999999999998, 0.5, -0.3294270833333333, 0.3, 0.38831845238095236, 0.6, 0.0, -0.07500000000000001, 0.0, -0.2803819444444445, 0.0, 0.0, -0.10673076923076923, 0.0, 0.0, 0.0, 0.4454545454545455, 0.15625, 0.5, 0.5, 0.0, 0.05, 0.30000000000000004, -0.3, -0.325, 0.0, -0.30000000000000004, 0.0, 0.0, 0.0, 0.022500000000000003, 0.0, 0.78, 1.0, 0.575, 0.14261363636363636, -0.014772727272727285, 0.0, -0.3171875, 0.0, -0.33333333333333326, 0.0, -0.375, 0.4, 0.0, -0.075, 0.7, 0.0, 0.0, 0.5166666666666666, -0.08333333333333333, 0.3416666666666667, -0.125, -0.4, -0.21875, 0.0, 0.0, 0.0, 0.0, 0.43333333333333335, -0.35, 0.375, 1.0, 0.6, 0.3527777777777778, -0.9765625, -1.0, 0.5, 0.25, 0.35, 0.016666666666666663, 0.025, 0.75, 0.0, 0.7, 0.875, 0.0875, 0.0, 0.5, 0.15000000000000002, 0.0, 1.0, 0.0, 0.8, 0.0, 0.0, 0.011111111111111118, -0.25, 0.0, 0.625, 0.0, 0.0, 0.8, 0.0, 0.6, 0.7, 0.0, 0.8049999999999999, 0.13333333333333333, 0.30517578125, 0.7, 0.0, 0.15555555555555559, 0.15, -1.0, 0.3, 0.1025, -0.3, 0.06666666666666672, 0.0, -0.1444444444444444, 0.04, 0.7, 0.0, -0.375, -0.375, 0.5, 0.7, 0.5, -0.050000000000000044, 0.14285714285714285, 0.43333333333333335, 0.5, 0.2, -0.19999999999999998, 0.4, 0.06818181818181818, -0.6, -0.09434523809523812, 0.9099999999999999, 0.4166666666666667, 0.0, 0.15, -0.8, 0.6166666666666667, 1.0, 0.0, 0.3444444444444445, 0.0, 0.43333333333333335, -1.0, 0.15833333333333333, 0.390625, 0.75, -0.3666666666666667, 0.0, -0.05000000000000002, 0.5, -0.38541666666666663, 0.020833333333333336, 0.8, 0.0, -0.2760714285714286, 0.2375, 0.25, -0.15, 0.0, -1.0, 0.0, 0.45, 0.05, -1.0, 0.16111111111111112, -0.06785714285714287, 1.0, 0.0, 0.0, 0.0, -0.1, -0.041836734693877546, 0.5, 0.0, 1.0, -0.28, 1.0, 0.0, 0.7, -0.5, 0.5, 0.5833333333333333, 0.44166666666666665, 0.0, 0.0, 0.0, 0.0, -0.36666666666666664, 0.8, 0.0, 0.13999999999999999, -0.3333333333333333, -0.5, -0.08333333333333333, 0.0, 1.0, 0.5, 0.7, 0.0, 0.16666666666666666, -0.14583333333333334, 1.0, 0.1, 0.0, 0.0, 1.0, 0.5, 0.6000000000000001, 0.2333333333333333, 0.0, 0.8, 0.6, 0.0, 0.5, 0.4666666666666667, -0.5, 1.0, 0.39999999999999997, 0.0, 0.5, 0.7, 0.0, 1.0, 0.6861111111111112, -1.0, 0.2, 0.04999999999999999, 0.13636363636363635, 0.8, 0.0, -0.4, -0.07500000000000001, 0.0, 0.8, 0.445, 1.0, 0.8, 0.6, 0.5, 0.21666666666666667, -0.2833333333333333, -0.25, 0.8, 0.44999999999999996, 0.03333333333333333, -0.35555555555555557, 0.24444444444444444, 0.0, 0.19, 0.43333333333333335, 0.0, 0.30833333333333335, 0.06166666666666667, 0.0, 0.0, 0.41015625, -0.35, 0.0, -0.06666666666666667, 0.26666666666666666, 0.05000000000000001, 0.1518939393939394, 0.0, 0.018750000000000003, 0.8, 0.8, 0.705, 0.0, 0.5, 0.4666666666666666, 0.0, -0.55, 0.0, 0.06198801198801199, -0.038888888888888896, 0.09722222222222221, 0.8125, -0.08970315398886829, 0.8, 0.0, -0.025, -0.10374255952380955, 0.3366666666666667, -0.25, 0.01666666666666668, 0.5, 0.0, 0.3333333333333333, 0.25, 1.0, -0.16666666666666666, -0.1, -0.16916666666666666, 0.35, 0.0, -0.1, 0.8, 0.32976190476190476, 0.8, 0.0, 0.06666666666666665, 0.09, 0.0, 0.2, 0.2857142857142857, 0.0, 0.5380952380952381, 0.5, -0.3, 0.8, -0.13333333333333333, 0.23462962962962963, 0.0, 0.4923611111111112, 0.0, 0.7, -0.07777777777777779, 0.0, -0.16666666666666666, 0.16285714285714287, 0.8, 0.39375, 0.7, 0.3, -0.2277777777777778, 0.0, 0.8, 0.37777777777777777, -0.0896825396825397, 0.7, -0.08571428571428572, 0.0, 0.2722981770833333, 0.0, 0.0, 0.037500000000000006, 0.0, 0.385, 0.1, 0.1, -0.4, 0.0, -0.5, 0.037500000000000006, -0.02045454545454546, 0.0, -0.3333333333333333, 0.0, 0.4, 0.0, 0.8, 0.8, 0.025000000000000078, 0.05, 1.0, 0.1, 0.24166666666666667, -0.5, -0.10357142857142856, 0.28750000000000003, -0.09166666666666667, 0.8, 0.35833333333333334, 0.0, 0.5, 0.5, 0.8, 0.0, 0.625, 0.5, 0.0, 0.5, 0.07431972789115647, 1.0, 0.225, 0.0, 0.0, 0.0, 1.0, -0.5, 0.36818181818181817, 0.4083333333333334, 0.08062770562770562, 1.0, 0.0, 0.7, 1.0, 0.0, 0.0, 1.0, 0.13999999999999999, 0.22348484848484848, 0.0, 0.0, 0.1, 0.0, 0.09999999999999999, 0.0, 0.7, -1.0, -0.3, -0.13541666666666669, -0.02500000000000001, 0.08000000000000003, 0.8, 0.5, 0.16334635416666665, 0.26666666666666666, -0.016666666666666663, -0.026666666666666658, 0.10714285714285714, 0.0, 0.5, -0.2, -0.33166666666666667, -0.011904761904761878, 0.59375, 0.7, 0.0, 0.0, 0.1, 1.0, 0.5, 0.009595959595959595, 0.5, -0.2125, 0.35, 0.0, 0.0, -0.22000000000000003, 0.6000000000000001, 0.625, -0.0625, -0.15, 0.0, 0.0, 0.0, 0.0, 0.8, 0.0, 0.23020833333333335, 0.9099999999999999, 0.0, 0.0, 0.8, 0.0, 0.5, 0.0, 0.0, 0.0, 0.8, 0.0, 1.0, 0.5, 0.16666666666666666, -0.054464285714285715, 0.78125, 0.7, 0.31212121212121213, -0.65, 0.12142857142857143, -0.24523809523809523, 0.43333333333333335, -0.041666666666666664, 0.25, 1.0, 0.3, -0.022222222222222216, 0.7, 0.3666666666666667, 0.43333333333333335, 0.0, 0.0, -0.12, 0.7, 0.0, -0.08181818181818185, 0.0, 0.6, 0.0, 0.08061224489795919, 0.35, 0.6125, -0.4, 0.296875, 0.6645833333333333, -0.0875, 0.3472727272727273, 0.7, 0.0, 0.15000000000000005, 0.04375000000000001, 0.8463541666666669, 0.0, 0.0, 0.3, 0.0, -0.4, 0.0, 0.5, 0.0, 0.7, 0.8, -1.850371707708594e-17, -1.0, 0.06818181818181818, 0.18, 0.2, 0.0, 0.09217171717171717, 0.14453125, 0.5, 0.0, 0.15000000000000002, 0.7, 0.19895833333333335, 0.2166666666666667, 0.125, -0.09999999999999999, -0.004166666666666662, 0.18000000000000005, -0.39999999999999997, -0.5, 0.5, 0.7, 0.21018518518518517, -0.6, 0.5, 0.0, 1.0, 0.19642857142857145, 0.0, 0.06875000000000003, 0.5, -0.17272727272727276, 0.08, -0.5402777777777777, 1.0, 0.09393939393939393, 0.0, -0.09180194805194805, -0.03020833333333331, 0.8, 0.33, -0.3611111111111111, -0.8, -0.011904761904761902, 0.5, 0.0, 0.20378787878787877, -0.014285714285714266, 0.0, 0.045454545454545456, 0.0, 0.08409090909090909, -0.3, 0.06263020833333337, -0.015000000000000003, 0.0, 0.0, 0.26, -0.8, 0.21666666666666667, 0.7, 0.25, 0.5, 0.5208333333333334, -0.1, 0.0, 0.0, 0.0, -0.6, 0.0, 0.0, 0.0, 0.0, 0.0, 0.0, 0.2, 0.04999999999999996, 0.8, 0.3625, 1.0, -0.2876984126984127, 0.0, 0.0, 0.5, 0.4465277777777778, 0.1875, -0.27187500000000003, -0.030612244897959186, 1.0, 1.0, 0.3, 0.25, -0.15625, 0.0, 0.8, 0.25, -0.05333333333333333, 0.8, -0.4545454545454546, 0.13437499999999997, 0.8, 0.5, 0.2, 0.15, 0.6566666666666667, 0.0, 0.7, 0.9765625, 0.4, -1.0, 0.0, 0.6, 0.26666666666666666, 0.39999999999999997, 0.2333333333333333, 0.0, 0.02976190476190476, 0.125, 0.05, 0.6444444444444445, 0.054166666666666696, -0.0780952380952381, 0.16666666666666666, 0.0, 0.35, 0.27999999999999997, 0.5, 0.175, -0.12499999999999999, 0.7, 0.425, 0.0, 0.15, 0.25625, -0.39062499999999994, 0.5, 1.0, 0.0, 0.25, -0.7000000000000001, 0.8, 0.0, 0.20833333333333334, 0.5291666666666667, 0.25, 0.3, 0.6, 0.5444444444444444, 0.2, 0.5, 0.5416666666666666, 0.15166666666666667, 0.0, 0.1, 0.5, 0.0, -0.125, 0.0, 1.0, -0.019583333333333335, -0.13875, 0.0, 0.37777777777777777, 0.13333333333333333, -0.13333333333333333, 0.31666666666666665, 1.0, 0.5, 0.0, 0.0, 0.43333333333333335, -0.2916666666666667, 0.15714285714285714, -0.023333333333333334, -0.32222222222222224, 0.05, 0.425, 0.0642857142857143, 0.0, -0.09999999999999999, 0.7, 0.12380952380952379, 0.05, 0.5, 0.7, 0.1619047619047619, 0.018181818181818174, 0.0, 0.8, 0.0, 0.5, 0.0, 1.0, 0.75, 0.0, 0.8, 0.0, 0.0, 0.0, 0.39749999999999996, -0.12121212121212122, 0.008636363636363642, 0.2533333333333333, 0.75, 0.6000000000000001, 0.0, 0.4, 0.0, 0.0, 0.06875, 0.8, 0.059999999999999984, 0.27499999999999997, 0.26666666666666666, -0.5194805194805194, 0.20833333333333334, -0.075, 0.0, 0.8, -0.06500000000000002, -0.4, 0.0, 0.4619047619047619, 0.0, 0.0, 0.55, -0.35, 0.3625, -0.09999999999999998, 0.20833333333333334, 0.6666666666666666, -0.78, -0.060416666666666674, 0.8, 0.0, 0.175, 0.03409090909090909, 1.0, 0.65, 0.4, 0.5, 0.35, 0.0, 0.0, 0.5, 0.4, 0.08750000000000001, 0.4666666666666667, 0.4370833333333334, 0.35714285714285715, 0.24166666666666664, -1.0, -0.4318181818181818, -0.19999999999999993, 0.0, 0.8, -0.7, 0.09625, 0.2770833333333333, 0.125, 0.0, 0.5063492063492063, 1.0, 0.7, -0.30000000000000004, 0.4, -0.12499999999999999, 0.4, 0.0, 0.15736607142857142, 0.0, -0.04999999999999999, 0.10833333333333334, 0.75, 0.0, -0.06481481481481483, 0.45, 0.03571428571428571, 0.16666666666666666, 0.0, -0.010000000000000009, 0.8, 0.01833333333333333, 0.0, 1.0, -0.4, 0.02083333333333333, 0.0, 0.014350649350649346, 0.0, 0.4, 0.0, -0.4166666666666667, 0.0, -0.3499999999999999, 0.14204545454545453, 0.03333333333333335, 0.8, 0.2, -0.08399999999999999, 0.4, 0.0, 0.0, 0.18125, 0.5, -0.1, 1.0, 0.19999999999999998, -0.04666666666666666, 0.35, 0.0, 0.26666666666666666, 0.0, 0.2, 0.35044642857142855, -0.10277777777777775, 0.6, 0.19374999999999998, 0.43333333333333335, -0.06666666666666667, 0.0, 0.5, 0.5, 0.5, 0.0, 0.0, -1.0, -0.19102132435465768, 0.43333333333333335, 0.13333333333333333, 0.0, 0.5, 0.35, -0.5, 0.8, 0.08146825396825397, 0.04999999999999999, 0.06818181818181818, -0.30000000000000004, 0.0, -0.24375, 0.0, 1.0, 0.0, 0.5711111111111111, 0.0525974025974026, 0.0, 0.5666666666666667, 0.0, 0.65, 0.43333333333333335, 0.0, 0.0, 0.5, -0.3, 0.8, 0.23500000000000001, 0.2646666666666667, 0.25, 0.012500000000000011, -0.40625, 0.7, 0.0, 0.8, -0.23000000000000004, 0.0, 0.10333333333333335, 0.34916666666666674, 0.5, -0.1836805555555555, -0.28295454545454546, 0.0, 0.13796296296296295, 0.2, 0.0, 0.026666666666666672, -0.05000000000000001, 0.1388888888888889, 0.5, 0.0, 0.1583333333333333, 0.8, 0.5, -0.125, 0.5, -1.0, 0.5, 0.5, 0.06607142857142857, 0.08333333333333333, -0.13095238095238096, 0.0, 0.53125, 0.0, 0.0, 0.0, 0.8, 0.475, 0.2, 0.0, 0.0, 0.0, 0.0, 0.22954545454545455, 0.8, 0.0, 0.0, 0.08452380952380951, 0.7, -0.3, 0.6000000000000001, 0.0, 0.0, 0.244140625, 0.0, 0.7166666666666667, 0.15000000000000002, 0.0, -0.12999999999999998, 0.6, 0.016666666666666635, -0.26666666666666666, 0.0, 0.525, 0.3333333333333333, 0.0, 0.9099999999999999, 0.2111111111111111, 0.0, -0.125, -0.06666666666666667, 0.0, 0.0, 0.5499999999999999, 0.7, 0.5, -0.14166666666666666, -0.38888888888888884, 0.5, 0.2, 0.0, -0.08866666666666664, 0.8, 0.0, 0.02, 0.3, -0.125, 0.0, 0.0, 0.0, 0.5, -0.6, 0.0, 0.5, 0.3333333333333333, 0.0, 0.7, 0.13999999999999999, 0.5, 0.0, 0.26785714285714285, 0.8, -0.125, 1.0, 0.0, 0.4, 0.16822916666666665, 0.0037878787878787845, 0.8, 0.7, 0.5, 0.0, 0.0, 0.0, -0.5833333333333334, 1.0, 0.7, 0.0875, -0.30000000000000004, -0.8, 0.0, 0.25, 0.45, 0.08958333333333333, 0.0, 0.65, 0.0, -0.4, -0.5, 0.2, 0.45, 0.8, -0.16333333333333333, 1.0, -0.04999999999999999, 0.09, -0.0633333333333334, 0.7, 0.39, 0.6, 0.0, 0.8, 0.8, 0.0, -0.21000000000000002, 0.25, 0.0, 0.1089786756453423, 0.8, 0.4444444444444445, 0.0, -0.4, -0.22083333333333333, 0.625, -0.15833333333333333, -0.2, -0.20701729910714287, 0.0, 0.4257142857142857, 0.3166666666666667, 0.5, 0.575, 0.04545454545454545, -0.06938775510204079, 0.0, -0.01233333333333333, 0.0, 0.1875, 0.05, -0.2916666666666667, 0.5, -0.035714285714285726, 1.0, -0.11435185185185186, 0.125, -0.26266233766233765, -0.13333333333333333, 0.0, 0.3816666666666667, 0.5, 0.20468750000000002, 0.6, 0.050868055555555555, 0.1, 0.0, -0.6458333333333334, 0.1875, 0.8, 0.0, 0.0, 0.0, -0.2333333333333333, 0.6, 0.0, 0.19166666666666668, -1.0, 0.0, 0.0, 0.0, 0.625, -0.055555555555555546, 0.5, -0.5, 0.025, 0.0, 0.7, -0.028571428571428564, 0.1461309523809524, -0.14296875000000006, 0.0, 0.0, 0.25, -0.0638888888888889, 0.0, 0.2, 0.9099999999999999, -0.7, 0.4166666666666667, -0.012500000000000028, 0.13636363636363635, -1.0, 0.0, -0.09375, -0.33181818181818185, 0.8, 0.0, -1.0, 0.0, 0.6000000000000001, 0.40277777777777773, 0.8, -0.4444444444444444, 0.0, 0.225, 0.0, 0.0, 0.5, 0.5, 0.0, 0.5, 0.6, 0.625, 0.0, -0.3333333333333333, 0.5, 0.2146224146224146, 0.3, 0.0, -0.26590909090909093, 0.0, 0.5, 0.5, 0.0, 0.4166666666666667, 0.5666666666666667, 0.18333333333333335, 0.0, -0.04999999999999996, 0.0, 0.0, 0.30000000000000004, 0.01785714285714285, 0.7, 0.5, 0.3352272727272727, 0.23116883116883116, 0.26458333333333334, -0.26, 0.5, 0.40687313988095236, -0.2, 0.21428571428571427, -0.275, -0.25, 0.25, 0.3333333333333333, -0.8, 0.26666666666666666, 0.04999999999999999, -0.15256410256410258, 0.125, -0.2, -0.06785714285714287, 0.0, -0.08333333333333333, 0.0, 0.7416666666666667, -0.375, 0.5, -0.13125, -0.062142857142857125, 0.0, 0.9099999999999999, 0.5, 1.0, -0.13333333333333333, 0.31, 0.3333333333333333, 0.5, -0.5, 1.0, 0.0, 0.0, 0.5, 0.0, -0.1759, 0.14444444444444443, 0.35, 0.040624999999999994, -0.44999999999999996, 0.17, -0.2666666666666666, 0.05260416666666666, -0.30000000000000004, 0.0, -0.5, 0.5666666666666667, -0.30000000000000004, 0.39999999999999997, 0.05833333333333334, 0.35, 0.30357142857142855, -0.05833333333333333, 0.7, 0.0, 0.3666666666666667, 0.5, -0.25333333333333335, 0.5, 0.2375, 0.0, 0.24545454545454545, 0.7375, 0.5, 0.2, -0.25, 0.5428571428571429, -0.3, 0.0, 0.2, 0.2, -0.25, 0.0, 0.0, -0.65, -0.049489795918367344, 0.16666666666666666, 0.4, 0.5, 0.0, 0.0, -0.03333333333333335, 0.35, 0.9765625, 0.5, 0.3666666666666667, -0.275, -0.6999999999999998, 0.0, 0.7, 1.0, 0.07977272727272726, 0.03409090909090909, -0.07142857142857142, 0.0, 0.0, 0.28939393939393937, 0.0, -0.25, 0.0, 0.0, 0.2, -0.08333333333333333, 0.10666666666666669, 0.0, -0.35, 0.0, -0.2, -0.125, 0.39999999999999997, 0.0, 0.0, 0.0, 1.0, 0.0, 0.7, -0.05833333333333331, 0.0, -0.1, 0.02125000000000002, 0.17222222222222225, -0.18181818181818182, -1.0, 0.0, -0.30833333333333335, 0.0, -0.0625, -0.5, 0.0, -0.10666666666666667, -0.5125, -0.4, 0.0, 0.16818181818181818, -0.2916666666666667, 0.0, -0.2916666666666667, 0.625, -0.6166666666666667, 0.44999999999999996, 0.0, 0.10227272727272725, 0.0, 0.04848484848484848, 0.2178571428571429, -0.19999999999999998, -0.8, -1.0, 0.0, 0.9099999999999999, 0.5, -0.25, 0.0, -0.040208333333333304, -0.375, -0.04166666666666667, 1.0, -0.6875, 0.4, -0.1722222222222222, 0.0, 0.027083333333333348, -0.140625, 0.8, 0.7999999999999999, 0.9099999999999999, 0.09204545454545454, 0.25, -0.125, -0.06666666666666667, 0.0, -0.2222222222222222, 0.0, 0.0, 0.2, 0.0, 0.0, 0.0, 0.5, 0.0, -0.4999999999999999, 0.0, 0.375, 0.26279761904761906, -0.05000000000000001, 0.5, -0.2373333333333333, 0.12777777777777774, 0.5, 0.0, 0.7, 0.325, 0.48666666666666664, 0.0, 0.37777777777777777, 0.06948051948051948, -0.33999999999999997, 0.26, 0.0, -0.012999999999999994, 0.0, -0.16666666666666666, 0.16666666666666666, -0.2, 0.625, 0.175, 0.0, -0.14583333333333334, -0.3, -0.2916666666666667, 0.14761904761904762, 0.5, 0.0, 0.1, 1.0, -0.1625, 0.7, 0.0, 0.0, -0.0590909090909091, 0.3333333333333333, 0.5133333333333334, 0.19166666666666665, 0.0, 0.16, -1.0, 0.1, -0.16666666666666666, 0.0, 0.4, -0.3333333333333333, 0.0, 0.18333333333333335, 0.0, -3.469446951953614e-18, 0.8, 0.118, 1.0, 0.13636363636363635, -0.3, -0.6, 0.25, 0.5, 0.0, 0.13888888888888892, 0.25, -0.25, 0.0, 1.0, 0.0, -0.5185185185185185, 0.0, 0.5, -0.09722222222222221, 0.2, -0.12, 0.06818181818181818, 0.5, -0.09166666666666667, 0.0, -0.75, -0.18181818181818182, 0.325, -0.5, -0.175, -0.25, -0.25, 0.2015625, 0.20833333333333334, -0.18472222222222223, 0.0, 0.1, 0.2027777777777778, 0.0, 0.08333333333333334, 0.0, -0.30000000000000004, 0.125, 0.0, 0.03333333333333333, -0.9374999999999999, 0.0, 0.12222222222222225, 0.0, 0.0, -0.13333333333333333, 0.0, 0.39444444444444443, 1.0, -0.2, 0.0, 1.0, 0.0, 0.5, -0.225, -0.1543650793650794, 0.5, 0.11666666666666665, 0.5, -0.275, 0.7, -0.3, 0.7, -0.04090909090909092, -0.15, -0.8, 0.2888888888888889, -0.26666666666666666, 0.5, 0.0, -1.0, 0.033333333333333326, 0.0, 0.1, -0.3333333333333333, -0.13333333333333336, 0.0, 0.5, 0.7, 0.0, -0.24242424242424243, -0.4625, 0.4166666666666667, 0.6166666666666667, 0.0, -0.25, 0.0, 0.5, -0.4875, -0.07777777777777779, -0.24, 0.05000000000000002, 0.13333333333333333, 0.2, -0.040000000000000015, 0.3416666666666667, 0.0, 1.0, -1.0, -0.019999999999999997, 0.15, 1.0, 0.0, 1.0, -0.08333333333333333, 0.2357142857142857, 0.0, -0.6, 0.8, 0.0, 0.0, 0.8, -0.4318181818181818, -0.25, 0.0, 0.8, 0.13636363636363635, 0.0, 0.44999999999999996, 0.5, 0.12714285714285714, 0.8, -0.2736111111111111, -0.2263888888888889, 0.0, 0.0, 0.0, 0.0, -0.13833333333333334, -0.35000000000000003, -0.22999999999999998, -0.041666666666666664, 0.0875, 0.10000000000000002, 0.0642857142857143, 0.0, 0.06666666666666665, 0.2, 0.14930555555555555, -0.15, -0.14166666666666666, 0.0, 0.8, -0.024999999999999994, -1.0, 0.1, 0.1388888888888889, 0.8, -0.21, -0.3, -0.4000000000000001, 0.0, -1.0, -1.0, -0.3125, 0.03636363636363636, 0.8, 0.0, -0.38750000000000007, 0.0, 0.08928571428571427, -0.5, 0.5, 0.4, 0.19166666666666668, 0.6, 0.0, 0.2954545454545454, 0.16666666666666669, 0.8, 0.13333333333333333, -0.06851851851851852, 0.0, 0.4275, 0.13724489795918368, 0.35, 0.0, 0.0, -0.5, 0.3340909090909091, -0.013825757575757575, -0.08333333333333331, 0.21666666666666665, 0.11700000000000002, 0.0, -0.08749999999999997, 0.0, 0.5, -0.4, 0.7, 0.0, 0.007023809523809524, 0.5633333333333334, -0.24242424242424243, 1.0, 0.1, 0.25, -0.04000000000000001, -0.09583333333333333, 0.7, 0.0, 0.0, 0.5, -1.0, -0.16666666666666666, 0.0, 0.0, 0.0, 0.0, 0.0, -0.1791666666666667, 0.0, -0.033333333333333326, -0.01666666666666668, 0.3333333333333333, 0.1619047619047619, 0.0, 0.0, -0.19, -0.05, 0.5, 0.4, 0.08125, 0.7, 0.0, -0.5, -0.3, 0.07037545787545788, 0.0, 0.0, 0.0, 0.39999999999999997, 0.0, 0.2, 0.278, 0.2, -0.3, -0.040909090909090916, 0.0, 0.20499188311688313, -1.0, -0.20833333333333334, 0.0, 0.8, 0.0, -0.30000000000000004, -0.07500000000000001, 0.25, -0.17222222222222225, 0.2857142857142857, 0.5, 0.7, -0.25, -0.3333333333333333, 0.5, 0.0, 0.0, -0.3228571428571428, 0.8, -0.525, -1.0, 0.0, 0.0, -0.06785714285714287, 0.0, 0.8, 0.0, 0.25833333333333336, 0.0, 0.125, 0.2, -0.9270833333333334, -0.033333333333333326, -0.06458333333333333, -0.2916666666666667, 0.04999999999999999, 0.5, 0.037890625, 0.7, 0.7, 0.16979166666666665, 0.25, -0.3, -1.0, 0.5, -0.05000000000000002, -0.06666666666666667, -0.004761904761904763, 0.5, 0.0, 0.1375, 0.0, -0.05421401515151514, -0.5, 0.0, 0.55, -0.5643229166666666, 0.0, -0.29166666666666663, 0.8, -0.04166666666666666, 0.0, 0.7, 0.06818181818181818, -1.0, 0.9099999999999999, 0.6444444444444445, 0.0, -0.09999999999999999, 0.7, -0.18500000000000003, 0.8, -0.3, 0.45, 0.08333333333333333, 0.08333333333333334, 0.0, -0.3333333333333333, 0.8, 0.5, 0.19999999999999998, -0.125, 0.0, 0.0, 0.0, 0.5, 0.6, 0.5, 0.5, 0.07878787878787878, -0.02333333333333334, -0.8, 0.06499999999999999, 0.08409090909090909, 1.0, 0.0, -0.5, 0.0, -0.13, 0.8, 0.0, 0.25, 0.175, 0.25, 0.2, 0.6499999999999999, 0.5069444444444445, 1.0, 0.0, 0.8, 0.5, -0.09848484848484848, 0.0, 0.01666666666666668, -0.3333333333333333, -0.06458333333333335, -0.21250000000000002, 0.8, 0.0, 0.5, 0.13636363636363635, 0.0, 0.6, -0.004166666666666666, 0.0, 0.07142857142857142, -0.20833333333333331, 1.0, 0.0, 0.39999999999999997, 0.0, 0.0, 0.3203333333333333, 0.39999999999999997, -0.05, 0.0, 0.2, -0.01, 0.8, 0.45677083333333335, -0.30833333333333335, -0.6, -0.09632996632996632, 1.0, 0.0, -1.0, 0.0, 0.3666666666666667, 0.8, -0.09375, 0.0, 0.0, -0.2, 0.0, 0.21166666666666667, 0.0, 0.8, 0.4, 0.3333333333333333, 0.0, 0.8, 0.19242424242424244, 0.0, 0.9, 0.2, 0.0, 0.8, 0.0, 0.0, -0.19444444444444442, -0.15000000000000002, 0.0861111111111111, 0.0, 0.0, -0.12314814814814813, 1.0, 0.0, -0.15000000000000002, 0.22500000000000003, 0.13636363636363635, -0.12083333333333333, -0.5, 0.36666666666666664, -0.3, 0.0, -0.14875, 0.0, -0.21875, -0.08265993265993264, 0.7, -0.125, -0.8, 0.2857142857142857, 0.0893939393939394, 1.0, -0.8, -1.0, 0.0, 0.0, 0.0, 0.0, -0.15555555555555556, -0.36458333333333337, 0.0, -0.5399999999999999, 0.0, 0.027272727272727303, 0.6, 0.4666666666666667, 0.0, -0.125, -0.175, -0.11388888888888889, 0.1, 0.7, 0.03749999999999998, 0.0, 0.0, 0.375, 0.0, 0.0, -0.375, -0.3333333333333333, -0.75, 0.2866666666666667, 0.20880681818181818, 0.13214285714285715, -1.0, 0.6166666666666667, 0.5, -0.30000000000000004, -0.3333333333333333, 1.0, -1.0, 0.2333333333333333, 0.0, -0.5750000000000001, 0.8, 0.05238095238095238, -0.15681818181818183, 0.0, 0.0, -0.5, 0.0, 0.9099999999999999, -0.011250000000000003, 0.0, 0.0, -0.13888888888888887, 0.625, -0.1, -0.5, -0.024999999999999998, 0.05, 0.15555555555555556, 0.07142857142857142, 0.25, 0.33749999999999997, -0.033333333333333326, 0.30125, -0.075, -0.26, 0.4666666666666666, 0.07878787878787878, 0.390625, 0.375, 0.5, 0.07828282828282829, 0.175, 0.009063852813852814, 0.8, 0.0, 0.0, 0.2222222222222222, 0.06388888888888887, 0.7662109375, 0.13636363636363635, 0.0, -0.125, -0.2833333333333333, -0.05, 0.8, -0.17222222222222222, 0.13714285714285715, 0.16666666666666666, 0.0, -0.11796875000000001, 0.0, -1.0, 0.325, 0.0, 0.5, 0.41111111111111104, 0.09214285714285715, 0.0, 0.0, -0.4, -0.5777777777777778, 0.0, 0.13333333333333333, -0.0075757575757575794, 0.09999999999999999, -0.25, 0.9099999999999999, 1.0, 0.0, 0.16944444444444443, 0.0, -0.15555555555555559, 0.0, 0.25, -0.30000000000000004, 0.0, 0.5, 0.0, 0.5, 0.0, 0.0, -0.1220703125, 0.5893939393939394, 0.4000000000000001, 0.0, -0.125, 0.0, 0.0, -0.03409090909090908, 0.0, 0.39999999999999997, 1.0, 0.0, 0.3, 0.11666666666666665, 0.2833333333333333, -0.012784090909090912, 0.8, 0.5, 0.1, -0.13999999999999999, 0.0, 0.0, -0.25, -1.0, 0.3333333333333333, 0.275, 0.10995670995670996, -0.30000000000000004, 0.033333333333333326, 0.12222222222222223, -0.2111111111111111, 0.0, -0.06666666666666661, 0.05, -0.025000000000000005, 0.09999999999999998, -0.28125, 0.5666666666666667, 0.0, 0.2, 0.0, 0.5, -0.09375, 0.016666666666666663, 0.8, 0.0, 0.12291666666666667, 0.0, -0.025, 0.0, 0.7, -0.5, 0.6, -0.5178571428571428, 0.049999999999999996, 0.8, 0.0, -0.026190476190476195, 0.125, -0.30499999999999994, -0.25, 0.5, 0.0, 0.42857142857142855, 0.14166666666666666, 0.45, 1.0, 0.0, 1.0, 0.4166666666666667, 0.5, 0.0, 0.1369047619047619, 0.5, 0.0, 0.5, -0.02314814814814814, 0.15, -0.395, 0.3885416666666667, 0.13636363636363635, -0.09166666666666665, -0.2682291666666667, 0.0, 0.0, 0.19999999999999998, 0.1255050505050505, 0.42142857142857143, -0.5859375, -0.09999999999999999, 0.0, -0.15000000000000002, 0.22727272727272724, -0.140625, -0.13819444444444445, 0.0, 0.0, 0.10142045454545454, 0.0, 0.0, 0.0, 0.9099999999999999, -0.078125, 0.0, 0.5666666666666667, -0.3, 0.4866666666666667, -0.15, -0.030357142857142857, -0.35000000000000003, 0.05, 0.2833333333333334, 0.16666666666666666, 1.0, 0.0, 0.0, 0.0, -0.08124999999999999, 0.0, 0.26, 0.2875, -0.5, -0.10158730158730159, 0.0, -0.15, 0.6, 0.0, 0.7, 0.0, 0.03749999999999998, 0.2, 1.0, -0.29846153846153844, -0.10555555555555556, 0.25, -0.024999999999999994, 0.0, 0.0, -0.11160714285714285, 0.5, 0.3222222222222222, -0.0625, 0.75, -0.125, 0.8, 0.0, -0.08333333333333333, 0.4166666666666667, 0.0, -0.15000000000000002, 0.0, 0.6625, -0.8, -0.7, 0.4000000000000001, 0.5, 0.3208333333333333, 0.0, -0.05833333333333333, 0.2, -0.6999999999999998, 0.22727272727272727, 1.0, 0.06818181818181818, 0.2857142857142857, 0.08571428571428572, 0.2375, -0.20833333333333334, 0.49166666666666664, -0.16666666666666666, 0.5, 0.0, 0.002083333333333312, 1.0, 0.34375, -0.018333333333333323, 0.13125, 0.0, 0.0, 0.0, -0.6588541666666666, -0.24375000000000002, 0.7, -0.25972222222222224, 0.09999999999999998, -0.1625, 0.0, -0.4833333333333333, 0.1, 0.39999999999999997, 0.0, 0.11250000000000002, 0.0, -0.7222222222222222, 0.1, 0.3, -0.08333333333333333, 0.0, 0.43333333333333335, 0.10000000000000002, -0.026488095238095238, -0.28750000000000003, 0.0, -0.4, 0.5, -0.65, 1.0, -0.18958333333333333, 0.2517857142857143, 0.0, -0.2375, 0.8, -1.0, 0.0, 0.7125, 0.0, -0.6, -0.21591435185185182, 0.0, 0.6, 0.0, 0.8125, -0.017857142857142856, 0.0, 0.0, 0.5, 0.042857142857142864, 0.0, -1.0, 0.0, 0.09523809523809523, 0.8333333333333334, 0.0590909090909091, -0.6999999999999998, 0.5, 0.0, 0.3166666666666667, 0.0, -0.43333333333333335, 0.0, 0.75, 0.8400000000000001, 0.19704861111111108, 0.5, 0.875, 0.625, -0.125, -0.05, 0.0, -0.5, -1.0, 0.0625, -0.05, 0.0, -0.25, 0.11163911845730025, 0.7333333333333333, 0.2, 0.2, -0.24666666666666667, -0.5, 0.30000000000000004, 0.7, -1.0, -0.1, 0.13999999999999999, 0.35, -1.0, -0.08333333333333333, 0.3611111111111111, 0.10357142857142858, -0.003333333333333336, 0.31666666666666665, 0.5, 1.0, 0.08315070346320345, 0.45714285714285713, 0.8, 0.4, -0.125, 0.0, 0.325, -0.44500000000000006, 0.35, -0.40625, 0.0, 0.0, 0.0, 0.4, -0.25, 0.28750000000000003, -0.11666666666666671, 0.1625, 0.0, 0.5, -0.008333333333333335, -1.0, 0.0, 0.05555555555555555, 0.0, 0.3833333333333333, -0.3185714285714285, -0.25, -0.05500000000000002, 0.16249999999999998, 0.6000000000000001, 0.0, -0.14166666666666666, -0.09999999999999999, -0.24500000000000002, 0.0, 0.0, -0.09999999999999999, 1.0, 0.9375000000000001, 0.38, 0.04, 0.7, 0.7166666666666667, 0.3666666666666667, -0.16666666666666666, 0.0, -0.16666666666666666, 0.0, 0.0, 0.19999999999999998, -0.30000000000000004, 0.5, 0.27499999999999997, 0.5, 0.30000000000000004, 0.0, -0.1, 0.075, 0.31666666666666665, 0.0, 0.5, -0.10000000000000002, 0.21666666666666667, 0.1, -0.30000000000000004, 0.0, -0.6999999999999998, 0.75, -0.13333333333333333, 0.8, 0.7, 0.0, 0.0, -0.23125, 0.29444444444444445, 0.4633333333333334, 0.8, 0.0, -0.3333333333333333, 0.625, 0.0, -0.5, -0.4, -0.49609375, 0.2, -0.5, 0.44999999999999996, 0.0, 0.0, -0.25, 0.5, 0.0, 0.5, -0.08333333333333333, -0.07333333333333333, 0.43333333333333335, 0.0, -0.3, 1.0, 0.0, 0.3, 0.0, 0.5, 0.0, 0.31428571428571433, 0.6477272727272727, 0.25, -0.5, 0.0, -0.3888888888888889, 0.21166666666666667, 0.7, 0.1571428571428571, 0.5, 1.0, 0.5, 0.0, -0.35000000000000003, 0.8, 0.4725694444444444, 0.7, -0.18571428571428572, 0.4777777777777778, 0.0, 0.3125, 0.375, 0.24166666666666667, 0.1043560606060606, 0.0, 0.0, 0.0, 0.23333333333333334, -0.125, -0.014603174603174614, 1.0, 0.040476190476190485, -0.1, 0.05952380952380952, 0.2649621212121212, 0.42291666666666666, -0.07777777777777777, 0.25, 0.7, -0.2816666666666667, 0.06818181818181818, -1.0, 0.5, -1.0, 0.25, -0.17777777777777778, 0.7, 0.3, 0.0, -0.22916666666666666, 0.46875, -0.35, 0.0, -0.08333333333333333, 0.0, 0.2571428571428571, -0.4, 0.25, 0.0, 0.7, 0.5, -0.17857142857142858, -0.007936507936507933, -0.03095238095238095, 0.8, 0.5, 0.16717171717171717, 0.0, -0.22916666666666657, 0.43333333333333335, 0.0, 0.6166666666666667, 0.3, -0.03272727272727273, -0.02069160997732427, 0.43333333333333335, -0.21355218855218858, 0.05656565656565654, 0.42992424242424243, 0.8, 0.0, 0.459375, -0.3984375, 0.0, -0.125, 1.0, 0.3, 0.0027777777777777735, 0.8, 0.78125, 0.0, 0.5, 0.37666666666666665, -0.16666666666666666, 0.0, 0.0, 0.10000000000000002, 0.0777777777777778, 0.0, 0.4166666666666667, 0.10681818181818181, 1.0, -0.25, 0.8, -0.33333333333333326, 0.0, 0.0, 0.0, 0.8, -0.06000000000000001, 0.0, 0.08214285714285714, 0.0, 0.0, 0.3333333333333333, 0.07500000000000001, 0.1, -0.3, 1.0, 1.0, 0.07878787878787878, -0.025, 0.1964285714285714, 0.0, 0.0, 0.0, 0.0, 0.0, 0.1, 0.225, 0.0, 0.0, 0.7333333333333333, 0.12499999999999999, -0.625, 0.0, 0.5, 0.5, -0.425, 0.9099999999999999, -0.45, -0.07857142857142856, -0.4, 0.0, -0.42724609375, 0.041666666666666664, 0.45, 0.7, -0.39999999999999997, 0.0, 0.4666666666666666, 0.0, 0.03409090909090909, 0.025000000000000005, 0.1, 0.0, 0.21666666666666667, -0.07777777777777779, 0.0, 0.04261363636363636, 0.43125, 0.8, 1.0, -0.14, -0.015277777777777788, 0.0, 0.08214285714285716, 0.5, 0.5, 0.1, 0.25, 0.0, 0.18333333333333335, -0.5, 0.0, 0.0, 0.25, 0.4666666666666667, -0.16626984126984126, 0.3375, -0.1, 0.06875, 0.0, 0.06666666666666665, -0.031249999999999997, 0.0, 0.7, 0.20995670995670995, 0.09999999999999998, 0.0, 1.0, 0.0, -0.1, -0.3, -0.30000000000000004, 0.7, 0.0, 0.0, 0.026785714285714288, 0.7, -0.16666666666666666, -0.25, 0.0, 0.0, 0.0, 0.2681818181818182, -0.05555555555555555, 0.04546983506944443, 0.10874999999999999, 1.0, 0.0, 0.14999999999999997, 0.13636363636363635, 0.8, -0.02055555555555556, 0.0, 0.6, 0.5, -0.4, 0.20833333333333334, 0.43333333333333335, 0.0, 0.05, 0.2, 0.0, 0.5, 0.5, 0.43125, -1.0, 0.008333333333333331, 0.05, 0.0, 0.2, 0.7, 0.5, -0.022222222222222216, -0.14597763347763346, 0.0, 0.5, 0.15, 0.0, 0.0, -0.08787878787878789, 0.0, 0.0, 0.0, 0.0, -0.8, 0.037500000000000006, 0.5, 0.23500000000000001, 0.7, 0.0, -0.2, 0.33396464646464646, 0.12666666666666665, -0.3, 0.0, 0.5, 0.65, -0.09999999999999999, 0.13636363636363635, 0.49523809523809526, 0.5, 0.4166666666666667, 0.0, 0.4245238095238095, 0.0, 0.0, 0.15, -0.15555555555555556, 0.8, 0.051659451659451655, 0.2333333333333333, 0.25, -0.2916666666666667, 0.5, 0.5, 0.0, 0.175, 0.5, 0.5, 0.7, -0.15000000000000002, 0.0, 0.18611111111111112, 0.014999999999999977, -0.015327380952380953, 0.5, -0.06666666666666667, 0.43333333333333335, 0.19999999999999998, 0.0, 0.4375, -0.10833333333333334, 0.0, 0.0, -0.025113636363636373, 1.0, 0.7, 0.6770833333333335, -0.8, -0.5, 0.5, 0.5, 0.39999999999999997, -0.27425130208333337, -0.024999999999999994, 0.5, 0.16666666666666666, 0.3125, 0.5, 0.14930555555555555, 0.8, 0.5666666666666667, 0.1388888888888889, 0.04999999999999999, 0.7, -1.0, -0.08181818181818182, 0.8, 0.0, -0.03181818181818183, 0.8, 0.16666666666666666, 0.6166666666666667, 0.75, 0.625, 1.0, 0.0, 0.7, 0.13636363636363635, -0.45, 0.0, 0.028571428571428574, 0.0, 0.0595959595959596, 0.20000000000000004, 0.1875, 0.0, 0.0, -0.3, 0.2601736111111111, -0.225, 0.7, -0.06874999999999999, 0.8, -0.08333333333333333, 0.042857142857142864, -0.007407407407407406, 0.10714285714285716, 0.1090909090909091, -0.05, -0.13333333333333333, 0.45, 0.5, 0.10595238095238095, -0.285, 0.2, 0.03750000000000002, 0.4, 0.044444444444444474, 0.0, 0.0, 0.1953125, 0.0, 0.5, 0.0, 0.5, 0.0, -0.041666666666666664, 0.6166666666666667, 0.0, -0.6, 0.43333333333333335, 0.11818181818181818, 0.35, -0.59375, 0.0, 0.0, 0.0, 0.1455128205128205, 0.25, 0.0, 0.19999999999999998, 0.4166666666666667, 0.32857142857142857, -0.30000000000000004, 0.0, -0.08750000000000002, 0.0, 0.13636363636363635, 0.175, 0.0, 0.11212121212121212, 0.08357142857142857, 0.5, -0.075, 0.0, 0.5, -0.125, -0.10750000000000001, 0.21666666666666667, 0.5, 0.09643939393939394, -0.075, -0.2916666666666667, -0.00416666666666668, 0.07500000000000001, 0.04999999999999999, 0.7, 0.0, 0.25, 0.325, 0.30000000000000004, 0.31666666666666665, 0.3333333333333333, 0.5, 0.1, -0.4, 0.3333333333333333, -0.43333333333333335, -0.4318181818181818, 0.0, -1.0, 0.6000000000000001, -0.038888888888888896, 0.0, 0.4666666666666666, 0.7, -0.25, 0.5, 0.0, 0.3333333333333333, 0.2, 0.35, 0.0, 0.2, 0.0, 0.7, -0.19357142857142856, 0.0, -0.1, -0.1923469387755102, -0.03750000000000003, -0.05454545454545454, 0.3966666666666667, 0.0, -0.04074074074074072, 0.7, 0.7, 0.5, -0.10357142857142859, 0.3, 0.6, 0.3333333333333333, -0.25, 0.5, -0.225, -1.0, 0.125, -0.9, 0.625, 0.0, 0.8275, -0.875, -0.009090909090909094, 0.0, 0.0, -0.08181818181818185, 0.35, 0.0, 0.25, 0.5, 0.25, -0.16666666666666669, 0.0, 0.8, -0.3, 0.4666666666666667, 0.3, 0.43333333333333335, 0.5, 0.5, 0.575, -0.4833333333333332, 0.7, 0.20486111111111113, 0.18888888888888888, 0.0, 0.22499999999999998, 0.15000000000000002, 0.8, 0.0, 0.1, -0.5, -0.25, 0.36666666666666664, 0.0, 0.7, 0.7, -0.053125000000000006, 0.0, 1.0, 0.5633333333333334, -0.25, 0.0, 0.0, 0.9099999999999999, 0.08095238095238097, 1.0, 0.5, 0.0, 0.04074074074074075, 0.5, 0.5, 0.5333333333333333, -0.39999999999999997, 0.06818181818181818, 0.25, 0.0, 0.5, -0.12673611111111113, 0.8, 1.0, 0.7, 0.1, -0.10681818181818181, -0.6000000000000001, 0.5, -0.5, 0.09999999999999999, 0.016666666666666663, 0.11607142857142858, 0.15208333333333332, 0.25, 0.7, 0.0, 0.005714285714285716, 0.0, 0.0, 0.6000000000000001, -0.0625, -1.0, -0.098828125, -0.35, 0.025000000000000022, -0.2897321428571429, 0.5, -0.6950000000000001, 0.31666666666666665, -0.18055555555555558, 0.0, 0.0, 0.39999999999999997, 0.5, 0.8, 0.0, -0.135, 0.41411576704545455, -0.6666666666666666, 0.7, 0.11249999999999999, 0.0, 0.0, 0.0, 0.0, 0.0, 0.5, 0.8, -0.7384185791015625, 0.3375, 0.32, 0.4066666666666667, -0.4, 0.7, 0.0, 0.7, 1.0, -0.5, 0.25, 0.4375, 0.022222222222222216, -0.3, 0.45, 0.43333333333333335, 0.5, 0.4666666666666667, 0.0, 0.7, 0.0, 0.0, 1.0, -0.1754166666666667, 0.011111111111111118, 0.8, 0.2125, 1.0, -0.1875, 0.8, 0.0, -0.02500000000000001, 0.041666666666666664, 0.0, 0.1375, 0.0, -0.08181818181818182, 0.4166666666666667, 0.0, 0.0, 0.06818181818181818, 0.5000000000000001, 0.5, -0.15, -0.1, 0.12, 0.5, 0.8, 0.27999999999999997, 0.0, -0.09583333333333335, -0.20643939393939395, 0.0, 0.25, 0.0, 0.0, 0.3, 0.0, 0.0, 0.0, 0.25, -0.3125, 0.2857142857142857, -0.012619047619047632, 0.7, -0.39000000000000007, 0.5, 0.09523809523809523, 0.8, 0.0, 0.25, -0.4, 0.0, 0.5, 0.3833333333333333, 0.0, 0.10227272727272727, 0.0, -0.15833333333333333, 0.8, 0.0, 0.5, 0.43333333333333335, 0.7, 0.0, 0.7, 0.8, 0.5633333333333334, 1.0, 0.0, 0.10092592592592592, 0.7, 0.0, 0.3033333333333333, 0.0, -0.5, 0.4, -0.15625, -0.3333333333333333, 0.1333333333333333, 0.15, 0.15555555555555556, 0.7, 1.0, 0.0, 0.4, -0.5, 0.8, -1.0, -0.20833333333333331, -1.0, -0.39, 0.5, 0.0, -0.6, 1.0, -0.3, -0.46875, 0.3151666666666667, 0.0, 0.3666666666666667, 0.1388888888888889, 0.3, -0.020000000000000007, 0.625, 0.0, 0.0, -0.6, 0.0, 0.08125, 0.0, 0.21000000000000002, 0.13333333333333333, 0.0, 1.0, 0.0, 0.0, 0.0, 0.0, 0.5, 1.0, 0.0, 0.0, 0.5, 0.39166666666666666, 0.0, 0.7, 0.6, 0.2, 0.375, 0.8, 0.35, 0.5, 0.0, -0.125, 0.0, 0.0, 0.25, -0.5, 0.0, 0.0, 0.8, 0.0, 0.7666666666666666, 0.0, 0.6, 0.5, -0.4, -0.0548076923076923, 0.0, 0.9099999999999999, 0.0, 0.0, -0.2604166666666667, 0.8, 0.30765306122448977, 0.3, 0.75, 0.5315227272727272, 0.5, 0.7, 0.18055555555555555, 0.7, 0.0, 1.0, 0.42857142857142855, 0.15458333333333335, 0.6, 0.26666666666666666, 0.0, 0.036111111111111115, 0.7, -0.08, 0.9099999999999999, 0.7, 0.8, 0.0, 0.7, 0.8, 0.5, 0.8, 0.8, 0.658984375, 0.0, -0.4583333333333333, 0.3806060606060606, 0.5416666666666667, 0.0, 0.625, 0.38000000000000006, 0.09000000000000001, -0.2, 0.25606060606060604, 1.0, -1.0, 0.375, 0.16903409090909088, 0.6533333333333333, 0.1375, 0.9099999999999999, 0.0, 0.75, 0.5166666666666667, -0.05, 0.3797619047619048, -0.08333333333333333, 0.6000000000000001, -0.8, 0.0, 0.26666666666666666, 0.24464285714285713, 0.28472222222222227, 0.07642045454545454, 0.5, -0.07500000000000001, 0.4, 0.15, 0.2, 0.0, 0.43333333333333335, 0.0, 0.13636363636363635, 0.175, 0.13999999999999999, 0.43333333333333335, 1.0, 0.9099999999999999, 0.17857142857142858, 0.05, 0.7, 1.0, 0.78, 0.3333333333333333, 0.8, 0.04375000000000001, 0.43333333333333335, 0.30833333333333335, 0.6816666666666666, 0.3, 0.0, 0.5, 0.0, 1.0, 0.2, -0.13333333333333333, -0.6999999999999998, -0.06666666666666667, -0.6071428571428572, -0.025000000000000022, 0.08333333333333333, 0.003305785123966928, 0.08333333333333336, 0.13999999999999999, 0.5, 0.0, -0.15555555555555559, 0.5, 0.06805555555555556, 0.0, 0.0, 0.3333333333333333, 0.5, 0.0, 0.0, 0.7, 0.0, 0.5, 0.11212121212121212, 1.0, 0.8, -1.0, 0.8, -0.15000000000000002, 0.5633333333333334, 0.0, -0.3, -0.3, -0.30000000000000004, 0.0, 0.15, 0.43333333333333335, -0.625, -0.0625, 0.0, 0.0, 0.8, 0.0, -0.11666666666666665, 0.0, 0.0, -0.19999999999999998, 0.0, 0.5, 0.6166666666666667, 0.05000000000000001, 0.12361111111111112, 0.5555555555555555, 0.3, 0.0, 0.7, 1.0, 0.0, -0.16666666666666666, 0.5, -0.3, -0.26041666666666663, 0.22222222222222224, 0.0, 0.125, 0.4, -0.158974358974359, 0.0, 0.0, 0.43333333333333335, 0.0, 0.06325757575757575, 0.0, 0.07222222222222223, 0.009523809523809526, 0.8, 0.0, -0.10625, 0.0, -0.35000000000000003, 0.0, 0.1, 0.0, 0.0, 0.0, 0.0, 0.6, 0.625, 0.0, 0.0, 0.6666666666666666, -0.014583333333333323, 0.0, 0.78125, 0.7, 0.17500000000000002, 0.7, 0.8, 0.0, 0.43333333333333335, -0.43333333333333335, 0.0, 0.12976190476190474, 0.625, 0.22777777777777777, 0.0, 0.0, 0.08928571428571429, 0.75, -0.3888888888888889, -0.355, 0.7, -0.4, 0.375, 0.0, -0.21875, 0.375, -1.0, 0.7, 0.0, 0.11111111111111112, 0.014999999999999986, 0.15666666666666668, 0.03888888888888888, -0.3666666666666667, 0.2033333333333333, 0.18030303030303033, -0.07714285714285714, 0.0, 0.5666666666666667, 0.13636363636363635, 0.0, 0.0, 0.25, 0.24444444444444444, -0.5, -0.0625, 0.43333333333333335, 0.13333333333333336, -1.0, 0.01785714285714285, 0.0, -0.09999999999999999, 0.2, -0.025000000000000005, 0.0, 0.0, 1.0, -0.08232323232323234, -0.175, 0.0, 0.31212121212121213, -0.13333333333333333, 0.5, 0.04, 0.3, 0.42857142857142855, 0.0, 0.625, 0.375, -0.08787878787878789, 0.6, -0.14166666666666666, 0.0, 0.175, 0.0, -0.21666666666666667, 0.8, 1.0, 0.0, 0.0, 0.0, 0.0, 0.625, -0.8, 0.0, 0.15, 0.625, 0.7, 0.43333333333333335, 0.0, 0.0, 0.2666666666666667, 0.625, 0.8, -0.8, 0.0, 0.6, 0.2916666666666667, 0.5566666666666666, 0.0, -0.125, 0.2, 0.0, -0.25, 0.4, 0.0, -0.0681818181818182, 0.8, 0.0, 0.02749999999999997, 0.10624999999999998, 0.24545454545454545, 0.48888888888888893, 0.0, -0.225, 0.0, 0.0, 0.4166666666666667, 0.5, 0.9099999999999999, 0.6, 0.0, -0.5, 0.43333333333333335, 0.8, 0.1, 0.0, 0.0, 0.8, 0.05, 0.0, -0.006249999999999922, 0.018333333333333333, 0.45, 0.0, -0.3125, 0.8, 0.26944444444444443, 0.51875, -0.18888888888888888, -0.5, 0.4307291666666667, 0.225, 0.8, 0.5, 0.3125, 0.5, -0.05555555555555555, 0.0, 0.43333333333333335, 0.3277777777777777, -0.17484217171717173, 0.35, 0.0, 0.0, 0.19999999999999998, 0.8, 0.1, -0.345, 0.5, -0.052727272727272734, 0.45499999999999996, 0.0, 0.5, 0.0, 0.0, 0.5, 0.0, 0.4, -0.5, 0.2, 0.07847222222222221, 0.5, 0.10555555555555553, 0.7, 0.28500000000000003, -0.3, 0.4000000000000001, 0.4000000000000001, 0.5, -0.07833333333333335, -0.1638888888888889, 0.35, 0.4, 0.75, 0.0, -0.05000000000000001, 0.0, 0.08333333333333334, 0.5, 0.14999999999999997, 1.0, 0.5, 0.85, -1.0, -0.13333333333333333, 0.09999999999999998, -0.41796875, 0.0, 0.0, 0.4, -1.0, 0.8, 0.5, 0.6000000000000001, 0.0, 0.35, -0.20757575757575758, -0.115625, 0.0, 0.7, 0.0, 0.16875, 0.48750000000000004, 1.0, 0.0, 0.0, 0.65, 0.0, 0.0, 0.0, 0.33452380952380956, -0.5, 0.06190476190476191, 0.5, 0.3105555555555556, 0.5, 1.0, 0.5, 0.06666666666666667, 0.3, 0.0, 0.08203125, 0.0, 0.6, 0.26726190476190476, 0.0, -0.26944444444444443, 0.4666666666666667, 0.65, -0.5, 0.7, 0.25, 0.55, 0.5, 0.5, 0.8, 0.19166666666666665, 0.0, -0.007727272727272727, 0.0, -0.2333333333333333, -0.15000000000000002, -0.8, -0.44500000000000006, 0.0, -0.25, 0.7, -0.5625, -0.2, 0.0, 0.041666666666666664, 0.0, 3.700743415417188e-17, 0.25, 1.0, 1.0, 0.0, 0.0, 0.16666666666666666, 1.0, -0.24652777777777776, -0.7142857142857143, 0.6444444444444445, 0.09765625, -0.18958333333333335, 0.7, 0.04999999999999999, 0.4666666666666666, 0.0, 0.1953125, -0.30000000000000004, -0.2733333333333334, -0.25, 0.0, 0.2, 0.3333333333333333, 0.5, 0.3416666666666666, 0.0062500000000000056, 0.0, -0.203125, 0.35, 0.0, -1.0, 0.0, -0.2, 0.0, 0.0, 0.0, -0.36147186147186144, 0.0, 0.5, -0.18333333333333335, 0.07500000000000001, -0.13333333333333333, 0.0, 0.15510204081632656, -0.042857142857142885, 0.5850000000000001, 0.11666666666666665, 0.0, -0.2, 0.5, -0.25, -0.096875, -0.125, 0.0, 0.04, -1.0, 0.7, 0.325, 0.5, 0.0, 0.8, 0.35, 0.9765625, -0.07407407407407408, 0.3666666666666667, 0.7, 0.24312500000000004, 0.78, -0.3333333333333333, -0.09756944444444446, 0.0, 0.02666666666666666, 0.20833333333333334, 0.3833333333333333, 0.2333333333333333, -0.19500000000000003, 0.1, 0.25, 0.375, 0.5, 1.0, -0.5, 0.6116666666666667, 0.05, -0.07777777777777779, 0.7, -0.6999999999999998, 0.0, -0.20357142857142854, 0.0, 0.32083333333333336, 0.0, -0.3125, 0.0, 0.0, 0.26666666666666666, 0.3361111111111111, -0.08499999999999999, 0.0, 0.8, 0.18333333333333335, 0.8, -0.25, 0.5666666666666667, -0.25, -0.13999999999999999, 0.8, 0.0, -0.02777777777777779, 0.23958333333333334, -0.8, 0.1, 0.1, -0.3527272727272727, -0.3, 0.0, 0.3833333333333333, 1.0, 0.0, 0.7, -0.1, 0.7, -0.0625, 1.0, -0.23020833333333335, 0.1, 0.7333333333333334, -0.1, 0.5333333333333333, -0.12222222222222223, 1.0, 0.3333333333333333, -0.021717171717171718, 0.0, -0.078125, 0.0, 0.0, 0.43333333333333335, 0.0, -0.05555555555555555, 0.0, 0.475, 0.6428571428571428, 0.7, -0.35714285714285715, 0.15000000000000002, 0.0, -0.31666666666666665, 0.43333333333333335, 0.6000000000000001, 0.2, -0.07812499999999999, 0.5, 0.7, 0.55, 0.0, 0.43333333333333335, -0.28250000000000003, -0.375, 0.6, 0.0, -0.25, -0.31999999999999995, 0.9099999999999999, -0.1, 0.05758928571428572, 0.0, -0.17499999999999996, 0.5, -0.13333333333333333, 0.5, 0.6666666666666666, 0.34444444444444444, -0.16666666666666666, -0.25, -0.145, -0.16666666666666666, 0.7, 0.015803571428571445, 0.2, 0.3416666666666667, -0.14444444444444446, 0.0625, 0.43333333333333335, 0.25, 0.7, 0.0, 0.0, 0.475, 0.0, -0.028333333333333335, 0.7, 0.0, 0.6816666666666666, 0.0, 0.39999999999999997, 0.5, 0.0, 0.4, 0.0, 0.22777777777777777, 0.8, 0.5, 0.0, 0.0, 0.002777777777777774, 0.03218315972222222, -0.0625, 0.1, 0.8, 0.0, 0.55, -0.24500000000000002, 0.0, 0.0, 0.04999999999999999, 0.09047619047619047, 0.5, 0.5625, 0.8, 1.0, -0.09583333333333328, 0.0, -0.2916666666666667, 0.016666666666666666, 0.0, 0.0, 0.0, 0.08333333333333334, 0.0, -0.25, 0.05, -0.25, 0.0, 0.4, 0.0, 0.10000000000000002, 0.69375, 0.5, 0.5, 0.6, 0.06666666666666667, -0.3125, 0.0, 0.0, 0.5, 0.20833333333333334, 0.0, 0.124, 0.35, 0.0, 0.275, 0.4166666666666667, 0.0, -0.06736111111111112, 0.5, -0.010000000000000009, 0.25, -0.3125, 0.6000000000000001, -0.25, 0.8, 0.0, 0.0, 0.8, 0.018750000000000006, 0.8, 0.07500000000000001, 0.7, 0.7, 0.0, -0.2916666666666667, 0.0, 0.43333333333333335, 0.2, 0.1875, 0.43333333333333335, 0.0, 0.06944444444444445, -0.010000000000000009, 0.25334821428571425, -0.2333333333333333, 0.0, 0.35, 0.5, 0.05833333333333334, 0.5, 0.03200000000000004, 0.0, 0.0, 0.2333333333333333, 0.0, 0.0, -0.07575757575757576, 0.0, 0.1, 0.3499999999999999, 0.0, 0.5055555555555556, 0.0, 0.5, 0.0, 0.04393939393939394, 0.6, 0.5, 0.25, -0.21590909090909094, -0.26, -0.005208333333333315, 0.0, -0.8125, -0.1542857142857143, 0.0125, 0.06999999999999999, 0.0, 0.65, 0.75, -0.10909090909090907, 0.0, -0.14722222222222223, -0.051851851851851864, 0.2130681818181818, -0.4, 0.20520833333333335, 0.5, -0.125, 0.09999999999999998, -0.24999999999999992, 0.0, 0.2, 0.5, 0.0, -0.4305555555555555, -0.26666666666666666, 0.0, 0.17708333333333331, 0.05, -0.45, 0.0, -0.30000000000000004, 0.0, -0.15185185185185188, 0.2375, 0.07878787878787878, 0.2, -0.6999999999999998, 0.0, 0.0, 0.0, 0.0, 0.3333333333333333, 0.4, 0.2, -0.08333333333333333, 0.35, 0.8, -0.13809523809523805, 0.0, 0.46153846153846156, 0.25, -0.12500000000000003, 0.0, 0.0, 0.5, -0.02840909090909091, 0.7, 0.31666666666666665, 0.39, 0.5, 0.13636363636363635, -0.045075757575757575, 0.0, 0.0, -0.2, 0.39999999999999997, -0.39000000000000007, 0.1, 0.13636363636363635, -0.04655122655122655, -0.08932517135642139, -1.0, -0.5, 0.39, 0.7, 0.43333333333333335, 1.0, 0.0, 0.8, 0.5, 0.5, 0.37214285714285716, 0.2, 0.2375, 0.0, 0.0, -0.16666666666666666, 0.3830357142857143, 0.7333333333333334, 0.13299319727891157, 0.6150000000000001, 0.5, 0.0625, 0.12182539682539682, -0.5, 0.5, -1.0, 0.0, -1.0, -0.35555555555555557, 0.0, -0.03333333333333333, -0.6000000000000001, -0.8, -0.1277777777777778, 0.2, 0.0, -0.25, -0.5, 0.0, 0.2966666666666667, 0.0, 0.0, -0.039999999999999994, 0.0, -0.08333333333333333, 0.7, 1.0, 0.0, 0.08333333333333333, -0.096875, 0.35, 0.4055555555555556, 0.0, 0.4392857142857143, 0.4681818181818182, 0.35857142857142854, 0.5777777777777778, 0.0, 0.25, 0.0, -0.3125, -0.3, 1.0, 0.0, 0.8, 0.002218614718614719, 0.8, 0.1, 0.21666666666666665, -0.35, -0.11000000000000001, 0.0, 0.0, 0.5, 0.0, 0.11458333333333333, 0.0, 0.0, 0.375, 0.0, 0.375, -0.2916666666666667, 0.47333333333333333, 0.0, 0.037500000000000006, 0.5, -0.12222222222222223, 0.16666666666666666, 0.0, -0.5, 0.5, 0.8, 1.0, 0.8, 0.75, -0.09583333333333333, -0.033333333333333326, -0.125, 0.25416666666666665, -0.2409090909090909, 0.8, 0.0, 0.13636363636363635, 0.0, -0.21272727272727274, -0.07539682539682539, 0.054166666666666675, 0.0, 0.0, 0.0, 0.13333333333333333, 1.0, 0.17857142857142858, 0.65, 0.0, 0.0, 0.0, 0.0, -0.3, 0.08333333333333333, -0.11931818181818182, -0.46316964285714285, -0.2916666666666667, 0.175, -0.16666666666666666, -0.025, 1.0, -0.34285714285714286, 0.0, 0.0, 0.5, 0.0, 0.23125, 0.43499999999999994, 0.0, 0.05555555555555556, 0.0, 0.625, 0.05, 0.12646484375, -0.43333333333333335, 0.0, -0.20833333333333326, 0.4000000000000001, 0.35, -0.1111111111111111, 0.0, 0.78, 1.0, 0.43333333333333335, -0.022222222222222216, -0.1953125, 0.8, 0.0, 0.55, -0.06060606060606061, 0.0, 0.5, -0.07500000000000001, 0.0, -0.07142857142857142, 0.0, 0.09523809523809523, 0.25, -0.07500000000000001, 1.0, 0.4547619047619047, -0.43333333333333335, -0.05833333333333333, 0.43333333333333335, -0.4583333333333333, 0.0, 0.0, 0.0, 0.021296296296296303, 0.0, 0.0, 0.5333333333333333, -1.0, 0.625, 0.16915584415584414, -0.16666666666666666, 0.75, -0.019444444444444448, 0.3333333333333333, 0.8, 0.025, 0.19821428571428568, 0.25, 0.3416666666666667, 0.0, -0.2596590909090909, -0.38125000000000003, 0.2, 0.43, 0.9765625, 0.2, 0.7, 0.0, 0.0, 0.6, 0.7, 0.890625, 0.3, 0.0, 0.25, 0.0, 0.0, 0.5, 0.0, -1.0, 0.0, 1.0, 0.38571428571428573, 0.3333333333333333, 0.5, 0.0, 0.0, 0.5, 0.0, 0.5233333333333333, -0.10277777777777779, 0.7, 1.0, 0.0, 0.0, 0.08333333333333333, -0.125, 0.5, 0.0, 0.2702380952380952, 0.9099999999999999, -0.18181818181818182, 0.5, -0.75, 0.4666666666666667, 0.0, 0.5, 0.43333333333333335, -0.25000000000000006, 0.8, -0.7999999999999999, 0.4777777777777778, 0.2, 0.7, -0.7, 0.16249999999999998, -0.14583333333333334, -0.09090909090909091, 0.3242063492063492, 0.015, 0.1708333333333333, 0.0, 0.8, -0.13333333333333333, 0.0, -0.2916666666666667, 0.5, 0.08648989898989898, 0.0, 0.7, -0.02666666666666666, 0.2333333333333333, -0.35, 0.0, -0.05, 0.22142857142857142, 0.7, 0.2, 0.375, -0.9, 0.12341269841269842, 0.0, -0.25, 0.0, -0.425, 0.0, 0.20000000000000004, 0.5, 0.4666666666666667, 0.15, -0.5, 0.0, 0.7, 0.4, 1.0, 0.2, -0.25, 0.5, 0.0, -0.3851010101010101, 0.8, 0.43333333333333335, 0.8, 0.0, 0.5, -0.46388888888888896, 0.1477272727272727, -1.0, 0.04, -0.7999999999999999, 0.28214285714285714, 0.14047619047619048, 0.605, 0.5, 0.3333333333333333, -0.10000000000000002, 0.32, -0.15208333333333335, 0.0, 0.31666666666666665, -0.025000000000000022, 0.0, 0.009621212121212105, 0.0, -0.08333333333333333, 0.32999999999999996, -0.75, 0.11851851851851852, 0.0, 0.0, 0.5, 0.13265306122448978, 0.0, -0.25, 0.18833333333333332, 0.0, -0.16666666666666666, 0.0, -0.27083333333333337, 1.0, 0.26633522727272724, 0.2833333333333334, 0.1090909090909091, 0.0, 0.0, 0.0, 0.20199999999999996, 0.0, -0.39000000000000007, -0.015000000000000003, 1.0, -0.03238636363636363, -1.0, 0.028571428571428564, 0.0, -1.0, 0.06000000000000001, 0.5, 0.035416666666666666, -0.65, 0.3, 0.0, 0.0, 0.08090503246753247, 0.21212121212121213, 0.45, 0.5, 0.0, 1.0, 0.5, 0.43333333333333335, 0.275, 0.0, -0.45, 0.0, -0.020833333333333343, 0.0, 0.5, 0.02083333333333333, 0.5, 0.4666666666666667, -0.6499999999999999, 0.5, 0.7, 0.9, -0.15555555555555559, 0.39999999999999997, 0.0, 0.0, 0.08571428571428572, -0.12222222222222223, 0.5, 0.05, 0.5, 0.0, 0.8, 0.3, -0.5, 0.43333333333333335, -0.3333333333333333, 0.26666666666666666, 0.0, -0.35, 0.0, 0.35, 0.3444444444444444, 0.0, 0.3571428571428571, 0.225, 0.39999999999999997, 0.8, 0.1, 0.0, 0.18333333333333338, -0.125, 0.15340909090909088, 0.0, 0.8, -0.5, 1.0, 0.10624999999999998, 0.5, -0.006060606060606055, 0.0, 0.5, 0.0, -0.425, 0.8, 0.7, 0.0, 0.10833333333333338, -0.3, 0.0, 0.19999999999999998, 1.0, 0.0, -0.14, 0.05714962121212122, 0.5, -0.30000000000000004, -0.08333333333333333, -0.29346590909090914, 0.39999999999999997, 0.7, -0.25, -0.15, 0.08666666666666667, -0.15833333333333333, 0.24375, 0.5, 1.0, 0.0, 0.225, 0.0, 0.13, -0.424060606060606, -0.013095238095238089, 0.3740234375, 0.12833333333333335, 0.0, 0.65, -0.13333333333333333, 0.5, 0.1, 0.6, 1.0, -0.11180555555555556, 0.43333333333333335, 1.0, -0.05, 0.22000000000000003, 0.8, 0.0, -0.07083333333333333, 0.9099999999999999, -0.175, 0.0, 0.13636363636363635, -0.375, 0.1796875, -0.4305555555555556, 0.05, 0.2916666666666667, 0.0, 0.0, 0.0, -1.0, 0.0, 0.0, 0.31666666666666665, -0.06666666666666667, 0.8, 0.04, -0.03541666666666667, 0.5, -0.3916666666666667, 0.0, 0.6875, 0.8, 0.8, -0.23035714285714284, 0.5, 0.65, 0.008333333333333331, 0.0, 0.03333333333333332, 0.8, 0.0, -0.6499999999999999, 0.14285714285714285, 0.05, 0.0, 0.6595833333333334, 0.25, -0.9750000000000001, 0.9, 0.5, -0.11931818181818182, 0.0, 0.5, 0.17045454545454544, -0.45, 0.12500000000000003, -0.044270833333333315, 0.7, -0.15, 0.0, -0.09047619047619049, 0.21117424242424243, 0.0, 0.5, 0.16666666666666666, 0.0, -0.5, 0.0, 0.4, -0.3883333333333333, 0.15227272727272728, 0.8, -0.03724489795918367, 0.55, 0.09523809523809523, -0.08333333333333336, -0.05, 0.07638888888888888, 0.0, 0.0, 0.0, 0.0, 0.5, 0.0, 0.75, -0.037239583333333326, 0.0, 0.0, -0.024999999999999994, 0.22000000000000003, -0.26666666666666666, 0.1393939393939394, 0.6166666666666667, 0.37083333333333335, 1.0, 0.0, 0.0, 0.0, -0.2125, -0.21000000000000002, 0.875, 0.0, 0.0, 0.3, 0.0, -0.24166666666666667, 0.78125, 0.0, 0.8, -1.0, 0.3601190476190476, 0.0, 0.0, 0.04999999999999999, 0.0, 0.5249999999999999, 0.2, 1.0, 0.0, 0.0, 0.0, 0.0, 0.8, -0.08, 0.78125, 0.0, -0.5, 0.6166666666666667, 0.0, 0.5, 0.25, -0.1, 0.0, -0.18333333333333335, 0.8, 0.5633333333333334, 0.525, 0.5, 0.8, 1.0, 0.5, -0.11545454545454543, 0.7, 0.45714285714285713, 0.0, 1.0, 0.0, 0.0, -0.0375, 0.1236111111111111, 0.8, 0.2, 0.25, -0.65, 0.1845238095238095, 0.8, 1.0, 0.6, 0.8, -0.09949494949494951, 0.7, 0.05, 0.0, 1.0, 0.85, 0.25, 0.48522727272727273, 0.8, 0.0, 0.8, 0.0, 0.7, -0.3, -0.4577272727272728, -0.09583333333333334, 0.6, 0.8, 0.0, -0.16666666666666666, -0.15, -0.03214285714285714, 0.0, 0.6, 0.13636363636363635, 0.8, 0.0, 0.6425, -0.22916666666666666, -0.6999999999999998, 0.0, 0.5, -0.1, -0.08333333333333333, -0.038095238095238106, 0.07777777777777779, 0.0, 0.0, 0.0, 0.375, 0.0, 0.8, -0.16499999999999998, 0.7, 0.0, 0.5, 0.4375, 0.11022727272727273, 0.8, 0.4, 0.0, -1.0, -0.3, 0.5, 0.35, 0.16, 0.3333333333333333, 0.0, 0.5, 0.5, 0.375, 0.36583333333333334, -0.6, 0.5, 0.7, -0.1285714285714286, 0.0, 0.8, 0.39999999999999997, 0.0, 0.11742424242424243, -1.0, 0.4, 0.5, 0.5, 0.12037037037037039, -0.5, -0.2916666666666667, 0.0, 0.52, 0.0, -0.125, 0.8, 0.11666666666666665, -0.3, 1.0, 0.0, 0.3132189239332096, -0.037500000000000006, 0.001388888888888884, -0.3, 0.5, 0.1, 0.8, 0.07500000000000001, -0.25, 0.3333333333333333, 0.42942708333333335, -0.15, 0.0, -0.3345238095238095, 0.04999999999999999, -0.5652777777777779, 0.0, -0.36, -1.0, -0.06939393939393938, 1.0, -0.05, 1.0, -0.4375, 0.2857142857142857, 0.5, 0.475, -0.09999999999999998, 0.1375, 0.17045454545454544, 0.0, 0.15367965367965367, 0.6, 0.625, 0.625, -0.10561224489795917, 0.5833333333333334, 1.0, 0.5, 0.0, -0.6999999999999998, 0.5549999999999999, 1.0, 0.75, 0.0625, 0.0, 1.0, 0.0, 0.2, -0.3, 0.15, 0.5, -0.29375, 0.43333333333333335, 0.02500000000000001, 0.5, -0.15555555555555556, 0.5791666666666667, 0.06166666666666665, -0.19999999999999996, 0.0, -1.0, 0.0, 0.8, 0.1, 0.0, 0.5428571428571429, -0.2333333333333333, 0.0, 0.655, 0.5, 0.31666666666666665, -0.2, 0.2125, -0.05454545454545454, 0.0, 0.15208333333333335, 1.0, -0.07272727272727274, 0.08, -0.3916666666666667, 0.5875, -0.04999999999999999, 0.6, -0.1598845598845599, 0.75, 0.4, 0.5, 0.090625, -0.23333333333333336, 0.5, 0.0, 0.7, -0.012500000000000011, 1.0, 0.2, 0.13636363636363635, 0.8, 0.0, 0.5, 0.6625, -0.04777777777777778, 1.0, 0.5316666666666667, 0.36666666666666664, 0.8, 0.35, -0.6999999999999998, 0.0, 0.0, 0.625, -0.06666666666666661, 0.6, 0.0, 0.7, 0.4988636363636364, -0.20833333333333331, 0.5416666666666667, 0.8, 0.78125, 0.1, 0.375, -0.024999999999999994, -0.2, 0.0, 0.05833333333333335, 0.30833333333333335, 0.04375000000000001, -0.30000000000000004, -0.35, -0.15, 0.0, -0.16666666666666666, 0.09999999999999999, -0.3433333333333333, 0.0, 0.8, 0.5, 0.5, 0.7, 0.6000000000000001, 0.0, -0.6, -0.5, 0.5, 0.11136363636363637, -0.2, 0.0, -0.2, 0.0, 0.29166666666666663, 0.4, -0.125, -0.49999999999999994, 0.0, -0.125, 0.5, 0.5, 0.5, 0.0, 0.0, 0.5, 0.066005291005291, -0.010000000000000009, -0.14583333333333334, 0.22142857142857142, 0.8, 0.0, -0.15260416666666668, 0.0, 0.9099999999999999, -0.2, 0.5, 0.5, -0.15106060606060606, 1.0, 0.08333333333333333, 0.27894531250000004, 0.6444444444444445, -0.4833333333333334, 0.5, 0.21428571428571427, -0.01666666666666668, 0.4357142857142857, -0.15185185185185188, 0.0, 0.30000000000000004, 0.12000000000000002, 0.0, 0.9099999999999999, -0.10000000000000002, 0.125, 0.705, 0.0, 0.3, 0.6, 0.5, -0.038095238095238106, 0.0, 0.6, 0.0, -0.5, 1.0, 0.0, 0.5, 0.2916666666666667, -0.0016017316017315959, 0.0, 1.0, 0.8, 0.3704545454545454, 0.25, 0.0546875, 0.1888888888888889, 0.019761904761904765, 1.0, -0.09272727272727274, 0.0, 0.13636363636363635, 0.75, 1.0, 0.8, 0.0, 0.0, -1.0, 0.625, 0.5666666666666667, 0.00876623376623378, 0.0, -0.625, -0.2619999999999999, 0.0, 0.0, 0.8, 0.03409090909090909, 0.5, 0.40625, 0.5, 0.0, 0.75, 0.36875, 0.35, 0.06818181818181818, -0.039999999999999994, -0.3, -0.14047619047619048, 0.5666666666666667, -0.2, 0.0, -0.12222222222222219, 0.5, 0.2, 0.43333333333333335, 0.25, 0.056174242424242404, 0.37777777777777777, 0.0, 0.0, -0.13333333333333333, 0.0, 0.8, -1.0, -1.0, 0.0, 0.0, 0.5, 0.8, -0.1733333333333333, 0.07857142857142856, 0.0, 0.0625, 1.0, -0.006944444444444457, 0.0, -0.3212121212121212, 0.0, 0.0, -0.05, 0.6499999999999999, 0.0, 0.4, 0.8, 0.475, 0.0, 0.5, 0.2333333333333333, 0.43333333333333335, 0.8, 0.7, 0.20000000000000004, -0.25, -0.8, 0.2777777777777778, 0.0, 0.1284722222222222, 0.5666666666666667, 0.6, 0.0, 0.7, 0.7, 0.8, 0.0, 0.7, 0.5, 0.024999999999999994, 1.0, 0.0, 0.8, 0.0, 0.0, 0.43333333333333335, 0.125, 0.0, 0.5, -0.007142857142857145, 0.7, 0.0, 0.0, 0.6666666666666666, 0.16666666666666669, -0.30517578125, 0.7, 0.33888888888888885, 0.85, 0.7, -0.13800000000000004, -0.30178571428571427, 0.35, 0.45, 0.00952380952380953, 0.0, 0.19821428571428573, 0.8, 0.0, 0.0, 0.30000000000000004, 0.8, 0.5095238095238096, -0.16111111111111112, 0.26666666666666666, 0.0, 0.0, 0.020824724517906342, 0.0, 0.0, 0.41666666666666663, 0.1, 0.0, 0.0, 0.6020833333333333, 0.17045454545454544, 0.016666666666666677, 0.01904761904761904, 0.05000000000000001, -0.2569444444444444, -0.44999999999999996, 0.5, 0.8, 0.7, 0.0, 0.0, -0.11388888888888887, 0.0, 0.0, 0.0, -0.4305555555555556, -0.325, 0.06666666666666665, -0.2878787878787879, 0.0, -0.3, 0.0, 0.25, 0.0, 0.0, 0.04999999999999999, -0.16666666666666666, 1.0, 0.0, 0.0, -0.125, 1.0, 0.4166666666666667, -0.15, 1.0, 0.0, 0.6, 1.0, 0.0, 0.0, 0.07291666666666667, 0.0, -0.43333333333333335, 0.31742424242424244, -0.4333333333333333, 0.5333333333333333, 0.0, 0.15238095238095237, 0.33888888888888885, 0.0, 0.0, 0.0, 0.0, 0.2765151515151515, -0.7049999999999998, -1.0, -0.125, 0.11300505050505054, -0.30333333333333334, -0.3, 0.0, 0.13333333333333333, 0.5, 0.29583333333333334, 0.3166666666666667, 0.3333333333333333, 0.8, 0.17376033057851237, 0.2916666666666667, 0.4, 0.0, 0.03125, 0.0, 0.35, 0.19999999999999998, 0.75, -0.24305555555555558, 0.34, 0.06666666666666665, -0.2, 0.25, -0.2, -0.11458333333333333, 0.5, 0.16666666666666666, -0.14285714285714288, 0.5, 0.0, -0.1, 0.8, 0.0, 0.21291666666666667, 0.625, 0.8, 0.0, -0.2916666666666667, 0.0, 0.5, -1.0, 0.0703125, 0.41111111111111104, 0.0, 0.65, -0.034375, 0.0, 0.5333333333333333, 0.5066666666666666, 0.7, -0.35, 0.43333333333333335, 0.0, -0.175, 0.0, -0.09999999999999999, -0.05454545454545456, -0.0425925925925926, 0.6770833333333335, 0.0, -0.23787878787878788, 0.9765625, 1.0, 0.15000000000000002, 0.8, 0.0, -0.5, 0.32166666666666666, 0.0, -0.20000000000000004, 0.34739583333333335, 0.0, 0.8, -0.10000000000000002, 0.1340909090909091, 0.9, 0.0, 0.0, 0.2857142857142857, -0.3, 0.012121212121212125, 0.5, 0.16666666666666666, 0.0, 0.0, 0.0005580357142857123, -0.08257575757575758, 0.25625, -0.22121212121212122, 0.0, -0.5, 0.1, 0.5, -0.08181818181818182, 0.34545454545454546, -0.165625, -0.375, -0.2, 0.5666666666666667, 0.4666666666666666, 5.551115123125783e-17, 0.5, 0.8, 0.5, 0.4777777777777778, -0.14566666666666667, 0.20333333333333337, 0.2222222222222222, 0.0, 0.0, -0.225, -0.325, 0.45499999999999996, -1.0, 1.0, 0.7, 0.0, 0.13636363636363635, -0.25, -0.125, 0.3333333333333333, -0.7999999999999999, 1.0, 0.0, 0.4791428571428572, 0.26666666666666666, -0.1, 0.39999999999999997, 0.0, -0.16666666666666666, 0.7, 0.5, 0.7, 0.0, 0.7, 0.43333333333333335, -0.125, 0.2583333333333333, 0.15104166666666666, 0.0, 0.75, 0.8333333333333334, 0.21428571428571427, -0.1125, 0.375, 0.0, 0.125, 0.0, 0.7, 0.0, 0.08522727272727272, 0.13636363636363635, -0.056944444444444436, 0.04999999999999999, -1.0, 0.0, 0.5, 0.9099999999999999, -0.30000000000000004, 0.5, 0.0, 0.3, -0.04999999999999999, 0.375, -0.13333333333333333, 0.0, 0.43333333333333335, 0.0, 0.20833333333333334, 0.0, 0.0031250000000000028, 0.0, -0.17590909090909093, 0.0, -0.14934303977272725, 0.09318181818181817, 0.7, 0.0, 0.10520833333333335, 0.24814814814814815, 0.0625, -0.5, 0.2057720057720058, 0.8, -0.35, 0.14138257575757573, 0.0, 0.8, 0.052083333333333336, -1.0, 0.06818181818181818, -0.6, -0.5, -0.13690476190476192, 0.3333333333333333, 0.2, 0.0, 0.4961111111111111, 0.013828125000000002, -0.06999999999999999, -0.5, 0.0, -0.08181818181818182, 0.0, 0.5, -0.6999999999999998, 0.0, 0.0, 0.0, 0.0, 0.7, 0.2375, 0.08452380952380953, -0.3, -0.0078125, 0.0, -0.5, -1.0, -0.1625, 0.09567099567099567, 0.0, 0.25, -0.24, 0.05, -0.065, 0.4, 0.0, 0.375, 0.78125, 0.0, -0.15555555555555559, -0.5, 0.0, -0.04166666666666666, -1.0, -0.4, 0.13636363636363635, -0.4933333333333333, 0.03333333333333334, 0.0, 0.475, -1.0, 0.0, -1.0, -0.15, 0.019886363636363633, 0.8, -0.07222222222222223, 0.0, 0.0, 0.0, 0.0, 0.0, -0.5, 0.25, 0.125, -0.1122916666666667, 0.0, -0.29629629629629634, 0.051010101010100985, 0.10243055555555554, 0.4166666666666667, 0.34242424242424246, 0.8, -0.0034090909090909033, 0.0, 0.37222222222222223, 0.20625, 0.23200757575757575, 0.1, 0.15, -0.08333333333333333, -0.05714285714285715, 0.0, 0.78, 0.0, -0.2, 0.4, -0.07638888888888888, 0.05, -0.16666666666666666, 0.11212121212121212, 0.034523809523809526, 0.5, 0.1787878787878788, 0.0, 0.0, -1.0, -0.15555555555555553, 0.027380952380952377, -0.5, 0.5, 0.5, -0.10000000000000002, -0.09999999999999998, -0.03273809523809523, 0.0875, 0.8, -0.02083333333333333, -0.03181818181818183, 0.35, 0.175, 0.0, 0.0, -0.2980291193181818, 0.4777777777777778, -0.5, -0.2, -1.0, 0.16666666666666666, -0.09527777777777778, -0.2833333333333333, 0.12878787878787878, 0.0, 0.0, 0.175, 0.0, 0.15000000000000002, -0.17666666666666667, 0.1240234375, -0.3, -0.04066666666666667, -0.041666666666666664, 0.0, 0.5, -0.07929292929292926, 0.13749999999999998, -0.605, 0.17222222222222222, 0.0, 0.0, 0.03125, 0.03333333333333335, -0.05988455988455989, 0.0, 0.3833333333333333, 0.3, 0.5, -0.16666666666666666, 0.43333333333333335, -0.0625, 0.8125, 0.7, 0.16666666666666666, 0.7, 0.7, 0.0, -0.125, -0.3, 0.0, -0.09924242424242423, -0.625, -0.3, 0.0, -0.30000000000000004, 0.4666666666666667, 0.26666666666666666, 0.26666666666666666, 0.0, -1.0, 0.5, -0.25, 0.8, 0.5, -0.15000000000000002, 0.3833333333333333, 0.25, 0.5, 0.1, 0.15000000000000002, 0.0, 0.5, 1.0, -0.19749999999999995, 0.3, 0.7, -0.019999999999999962, 0.016666666666666677, 0.0, 0.7, 0.0, 0.0857142857142857, 0.04999999999999999, 0.2, 1.0, -0.21875, 0.0, 0.0, -0.3, 0.13636363636363635, 0.75, -0.8, 0.05555555555555555, 0.26666666666666666, -0.18333333333333335, 0.7, -0.028727272727272733, -0.30000000000000004, -0.6499999999999999, 1.0, 1.0, 0.8, 0.875, 0.48333333333333334, 0.5000000000000001, 0.0, -0.09615384615384616, 0.0, -0.4, 0.611111111111111, 0.5416666666666667, -0.025568181818181823, 0.05, 0.275, -0.1375, 0.4291666666666667, -0.05204081632653057, 0.0, 1.0, 0.0, 0.0, 0.0, 0.1, 0.43333333333333335, 0.1625, -1.0, 0.1, 0.002083333333333326, 0.48333333333333334, 0.5, 0.0, 0.15, -0.5, -1.0, 0.0, 0.5, 0.7, 0.21761363636363634, -0.25, -0.5, 0.0, 0.5, 0.014682539682539672, -0.6666666666666666, 0.0, 0.0, 0.0, 0.5, 0.0, 0.12500000000000003, -0.05454545454545454, 0.06666666666666667, 0.1, 0.0, -0.7, -0.6458333333333334, -0.15625, -0.2916666666666667, 0.0, 0.8, 0.0, 0.125, -0.37500000000000006, 0.35, 0.15, 0.2, 0.0, 0.16666666666666666, -1.0, 0.18733766233766236, 0.3333333333333333, -0.05555555555555555, -0.8, -0.020347222222222218, 0.4406060606060606, 0.0, 0.7, -0.3, 0.0, -1.0, 0.06, 0.0, 0.0, 0.0, -0.34750000000000003, -0.175, 0.0, 0.09444444444444443, 0.11818181818181818, -0.11818181818181817, 0.016193181818181815, 0.43333333333333335, 0.0183982683982684, 0.0, -0.18611111111111112, -0.11388888888888889, -0.6999999999999998, 0.11416666666666668, 0.29500000000000004, 0.8, 0.4, -0.07954545454545454, 0.2, 0.27045454545454545, 0.0, 0.65, 1.0, -0.09722222222222222, 0.0, 0.8, 0.3595238095238095, 0.5, 0.0, 0.5, -0.3125, 0.8, 0.0, -0.3333333333333333, 0.0, 0.4666666666666667, 1.0, 0.0, 0.0, 0.25, 0.0, 0.06666666666666665, -1.0, -0.195, -0.13333333333333333, 0.25, 0.0, 0.7, 0.0, -0.19444444444444448, 0.7, 0.55, -0.8, 0.0, 0.21770833333333334, -0.15000000000000002, 0.09999999999999999, 0.33333333333333337, 0.1388888888888889, 0.0, 0.34, 0.5444444444444444, 0.5, 0.0, 1.0, -0.012500000000000011, 0.0, -0.1875, 0.0, 0.12714285714285714, 0.0, -0.010101010101010102, 0.0, 1.0, 0.5, 1.0, -0.2277777777777778, 0.21666666666666667, 0.3055555555555556, 0.0, 0.1361111111111111, 1.0, 0.35, 0.0, -0.25, 0.0, 0.0, 0.0, 0.35, 0.7, -0.033333333333333326, 0.05, 0.1, -0.07833333333333335, 0.0, 0.8, 0.31666666666666665, 0.125, 0.7, 0.0, 0.0, 0.0, 0.2, 0.011111111111111108, -0.015334467120181411, -0.5, 0.0, 0.5, 0.20952380952380953, 0.0, 0.5, 0.14829545454545454, -0.23333333333333328, -0.10625000000000001, 0.1625, -0.4, -0.015151515151515152, -0.5, 0.0, -0.06477272727272727, 0.5, 0.0, 0.6999999999999998, 0.125, 0.07777777777777778, 0.0, 0.06818181818181818, 0.010714285714285711, 0.0, 0.0, 0.1, 0.5, -0.5, 0.6, 0.33749999999999997, 0.0, 0.08611111111111112, 0.4041666666666667, 0.8, 0.5, -0.6666666666666666, 1.0, -0.046153846153846156, 0.43333333333333335, 0.5, 0.5, 0.8, 0.5, 0.1, 0.0, 0.5, 0.1, 0.0, 0.0, 0.7, 0.35000000000000003, 0.05, -0.1475, 0.59375, 0.0, 0.1, 0.7, -0.051851851851851864, 0.5, 0.3, 1.0, 0.13333333333333333, 0.625, 0.0, 0.18409090909090908, 0.24642857142857144, -0.08181818181818182, -0.15, 1.0, -0.06527777777777777, -0.3125, 0.7, 0.5, 0.0, 0.19999999999999996, 0.5633333333333334, -0.14285714285714285, 0.16666666666666666, 0.7, 0.4, 0.0, -0.028333333333333342, -1.0, -0.5, 0.5, 0.25, -0.08, 0.36666666666666664, 0.175, 0.9099999999999999, 0.19166666666666665, 0.10178571428571428, 0.0, 0.4, 0.5, 0.2, 0.8, 0.25, -0.30000000000000004, 1.0, 0.0, 0.8, -0.6999999999999998, -0.19722222222222222, 0.0, 0.625, -0.09999999999999999, 0.04772727272727273, 0.5, 0.5390625, -0.5416666666666666, 0.8, 0.04545454545454545, 0.2, 0.0, 1.0, 0.762939453125, 0.65, -0.182, 0.29583333333333334, 0.20000000000000004, 0.55, 0.0, 0.5, 0.0, 0.7166666666666667, -0.3714285714285714, 0.0, 0.625, 0.5455357142857142, 0.8, 0.5909722222222222, 0.18552188552188553, 0.0, -0.3662109375, -0.07499999999999996, 0.0, 0.050000000000000044, 0.3125, 0.7, 0.0, 1.0, -0.17142857142857146, 0.8, 0.5, 0.0, -0.1, 0.0, 0.3547619047619047, 0.40277777777777773, 0.25, 1.0, -0.4611111111111111, 0.0, 0.05, -0.125, -0.05, -0.4, -0.08888888888888889, -0.09621212121212121, 0.22000000000000003, 0.05238095238095238, 0.78125, -0.10185185185185186, 0.5, 0.0, 0.0, -0.2333333333333333, -0.2, 0.24, 0.16666666666666666, 0.0, 0.5333333333333333, -0.28181818181818175, 0.11875, -0.05000000000000002, 0.08585858585858586, 0.595, 0.049999999999999996, 0.14285714285714285, 0.06190476190476191, 0.5, 0.0, -0.15432900432900434, 0.4666666666666667, 0.0, -0.033333333333333326, 0.0, 0.0, 0.0, -0.375, 1.0, -0.0625, -0.125, 0.65, 0.43333333333333335, 0.5875, 0.0, 0.004761904761904777, -1.0, 0.05, 0.0, 0.7, 0.5, -0.20833333333333334, -0.3, -0.3333333333333333, -0.32954545454545453, 0.1, 1.0, -0.35, 0.11371527777777779, -0.0034090909090908894, 0.7, 0.44878472222222227, 0.1181818181818182, 0.0, 0.8, 0.3, 0.03227272727272727, 0.5, 0.0, 0.7, 0.11000000000000001, 0.9099999999999999, 0.5, 0.1625, -0.78125, 0.04, 0.09722222222222224, 0.2, 0.15555555555555556, 0.5, 0.0, 0.3888888888888889, 0.5, -0.25, 0.5, -0.5, -0.21499999999999997, -0.3, 0.5, 0.3229166666666667, 0.0, 0.0, 0.03888888888888888, -0.30625, 0.04999999999999999, 0.78125, 0.625, 0.2, 0.0, 0.8, 0.0, 0.0296875, 0.0, -0.07500000000000001, -0.207763671875, 0.0, 0.5833333333333333, 0.38125, -0.18181818181818182, 0.2642857142857143, 0.0, 0.43333333333333335, 0.0, -0.004166666666666666, 0.6499999999999999, 0.0, 0.0, 0.4, 0.0, -0.16666666666666666, 0.9099999999999999, 0.2, -0.375, -0.20476190476190478, 0.19078282828282825, 0.0, 0.025000000000000005, 0.7, 0.11666666666666665, 0.0, -0.1, 0.0, 0.5, 0.5333333333333333, 0.15125000000000002, -0.14666666666666667, 0.25, 0.1877551020408163, 0.13636363636363635, 0.0, -0.3729166666666667, 0.09166666666666667, 0.7, 0.0, 0.5, -0.16, 0.7, 0.5, 0.0, -1.0, 0.13636363636363635, -0.35, 0.34076450892857146, -0.08333333333333333, -0.25, -0.12056277056277054, 0.8, 0.0, 0.0, 0.24545454545454545, 0.7, 0.0, -0.09333333333333334, -0.07982954545454546, -0.08333333333333333, 0.0, 0.3, 0.16666666666666666, 0.0, 0.13333333333333333, 1.0, -1.0, 0.595, 0.2333333333333333, -0.08333333333333333, 0.39999999999999997, 0.0, 0.25, 0.0, -0.18333333333333335, 0.8, 0.7, 0.0, 0.0, -0.07958333333333334, 0.036111111111111094, 0.2, 0.0, 0.6, -0.06285714285714288, -0.3194444444444444, 0.5, 0.0, -0.25, 0.10416666666666667, -0.7999999999999999, 0.8, 1.0, 0.0, 0.8, 0.2854761904761905, 0.5, 0.0, 0.0, -0.6333333333333334, 0.3333333333333333, 0.0, 0.35, 0.16874999999999998, 0.5, -0.625, -1.0, 0.0, -0.10833333333333334, -0.07878787878787877, 0.10666666666666666, 0.8662109375, 0.8, 0.35, 0.30416666666666664, -0.20984848484848487, 0.043333333333333335, 0.0, 0.09665951058884295, 0.0, 1.0, -0.04480519480519481, 0.0, 0.0, 0.8, 1.0, 0.07099905303030303, -0.17142857142857143, -0.07142857142857142, 0.5, 0.0, -0.2, 0.175, 0.0, 0.234375, 0.0, 0.0, 0.39166666666666666, -0.2, 0.23061224489795926, 0.7, 0.0, 0.2257142857142857, 0.0, 0.0, 0.8, 0.09027777777777779, -0.05555555555555558, 0.8, 0.625, 0.8, -0.4772727272727273, 0.0, 0.5, 0.24375000000000002, -0.21666666666666667, 0.12314814814814816, 0.0, 0.15488980716253442, 0.6, -1.0, 0.14976851851851852, 0.25, 0.0, -0.15, 0.12499999999999999, -0.20397727272727276, -0.09999999999999992, 0.27878787878787875, -0.4318181818181818, 0.4666666666666667, 1.0, -0.2625, -0.2432291666666667, 0.15555555555555556, 0.0, 0.0, -0.3055555555555555, -0.030555555555555558, 1.0, 0.3, 0.30000000000000004, -0.5, 0.45555555555555555, 1.0, 0.2833333333333333, 0.0, 0.369140625, 0.2866666666666667, 0.033333333333333326, 0.0, 0.8, 0.0, 0.15, 0.0, 1.0, 0.0, 0.054999999999999966, -0.3, 0.9099999999999999, 0.26666666666666666, 0.25, 0.0, 0.625, 0.0, 0.375, -1.0, 0.525, 0.4, -1.0, -0.8, -0.25166666666666665, 0.0, -0.05, -0.07142857142857144, -0.08491071428571428, 0.0, 0.007954545454545445, -0.2916666666666667, 0.275, 0.43333333333333335, 0.1875, -0.25, 0.0, 1.0, 0.0, 0.0, -0.48787878787878797, -0.11000000000000001, 0.5, -0.4, 0.43333333333333335, 0.7, -0.225, 0.8, 0.3383333333333334, 0.06562499999999999, 0.125, 0.4666666666666666, -0.25, -0.5625, 0.7, 0.7, -0.2333333333333333, -0.015909090909090914, 0.5, 0.5, -0.4875000000000001, 0.5, -0.03143939393939394, -0.39999999999999997, 0.21666666666666667, -0.03270833333333333, 0.8, 0.39999999999999997, 0.0, -0.29166666666666663, 0.8, 0.06666666666666662, 0.5, 1.0, 0.05833333333333333, 0.0, 0.7, 0.19749999999999998, -0.15, -0.09090909090909091, -0.08333333333333333, 0.16666666666666666, 0.26904761904761904, -0.033558238636363646, 0.0, -0.10138888888888888, -0.75, 0.075, 0.75, 0.0, -0.12592592592592589, 0.0, -0.25000000000000006, 0.05, 0.0, 0.27037037037037037, 0.0, 0.0, 0.3, 0.1939393939393939, 0.35, 0.0, 0.625, 0.125, 0.20833333333333334, 0.0, -0.1, -0.39166666666666666, 0.5454545454545454, -0.8333333333333333, 0.2791666666666667, -0.30000000000000004, 0.7, -0.3, 0.10416666666666666, 0.5, 0.21349206349206348, 0.25, 0.0, 0.2, 0.0, 0.0, 0.7, 0.0, 0.0, -0.3194444444444444, -0.25, -1.850371707708594e-17, 0.0, 0.5, 0.4166666666666667, 0.0, 0.5, 0.17222222222222222, 0.4, 0.0, -0.15, 0.0, 0.06818181818181818, 0.8, 0.5625, 0.35, 0.7, -0.29999999999999993, 0.0, 0.16444444444444445, 0.4222222222222222, 0.2, 0.0, 0.0, 0.5, 0.12222222222222223, -0.1625, 0.08666666666666667, -0.25, 1.0, 0.24924242424242424, -0.009523809523809518, 0.16875, 0.075, -1.0, -0.30000000000000004, -0.16666666666666669, -0.2, 0.9099999999999999, 1.0, 0.0, 0.23981481481481481, 0.13636363636363635, 0.0, 0.4, -0.30000000000000004, 0.0, 5.551115123125783e-17, 0.7699999999999999, -0.15627104377104378, -0.00782828282828281, -0.09664502164502163, 0.5, -0.11090909090909093, -0.3, 0.0, 0.0, 0.08750000000000002, 0.8, 0.43333333333333335, 0.625, 0.8, 0.18142857142857144, 0.25, 0.07374939874939875, -0.3, 0.1431818181818182, -0.4270833333333333, 0.9099999999999999, 0.0, -0.16666666666666666, -0.1625, 0.4872727272727272, 0.8, 0.8, 0.2852272727272727, 0.8, -0.25, 0.15, 0.11875, -0.35, 1.0, -0.19999999999999996, 0.35, 0.0, 0.0, 0.5, 0.03409090909090909, 0.4166666666666667, -0.275, 0.875, 0.19618055555555555, 0.55, -0.12187500000000001, 0.35714285714285715, -0.020000000000000007, 0.14999999999999997, 0.8, 0.0, 0.35, -0.4333333333333333, 0.07777777777777779, 0.5, -0.09375, -0.1, 0.0, 0.0, -0.275, 0.0, 0.8, -0.3125, -0.014285714285714278, -0.23333333333333328, 1.0, 0.25833333333333336, 0.5, 0.0, 0.0, 0.24318181818181817, 0.3666666666666667, 0.26666666666666666, -0.4, -0.10476190476190479, 0.6833333333333333, 0.4080357142857143, -0.05000000000000001, 0.0, 0.0, 0.18333333333333332, 0.0, -0.029166666666666636, 0.0, 0.7, 0.0, 0.075, 0.7, -0.5374999999999999, 0.5, 0.34765625, 0.0, -0.11272727272727275, 0.0, 0.39999999999999997, 0.0, 0.3625, 0.08333333333333333, 0.0, -0.75, 0.3166666666666667, -0.5, 0.0, 0.45, -0.15, 0.21079545454545456, 0.203125, 0.0, 0.8, 0.06818181818181818, -0.0625, 0.75, 0.3, 0.159375, -0.2, 0.7, -0.25, 0.08060606060606061, -0.09999999999999999, 0.5, 0.5, 1.0, 0.3, -0.10375000000000001, 0.8, 0.2176767676767677, 0.0, -0.4619047619047619, 0.5, -0.25, 0.5775, 0.0, 0.5, 0.3, 0.9099999999999999, 0.0, -0.25, -0.16999999999999998, -0.0975, 0.16666666666666666, 0.19999999999999998, 0.7, 0.7, 0.025, 0.5, 0.8, 0.5, 0.0, 0.0, 0.0, 0.9099999999999999, 0.016666666666666663, -0.49999999999999994, 0.8, -0.39000000000000007, -0.05, -0.13000000000000003, 1.0, 0.0, -0.3333333333333333, 0.390625, 0.9765625, 0.5, 0.675, -0.15, 0.16818181818181818, -0.2647727272727272, -0.43333333333333335, 0.0, -0.029166666666666674, 0.6791666666666667, 0.0, 0.7, 0.0, 0.0, -0.16666666666666666, 0.35125, 0.2, -0.10750000000000001, 0.0, 0.5, 0.002083333333333326, 0.2, 0.8, 0.13636363636363635, 0.0, 0.18333333333333335, 0.7166666666666667, 0.4425, 0.08064164370982553, 0.8, 0.125, 0.0007440476190476164, 0.0, 0.4, 0.0, 0.0, 0.0, 0.25, 0.0, -0.25, 0.8, 0.49722222222222223, -1.0, 0.8, 0.21666666666666667, 0.22222222222222224, 0.0, 0.0, 0.43333333333333335, -0.15, -0.061190476190476184, 0.0, 0.39444444444444443, 0.35000000000000003, -0.10625, 0.7, 0.6, -0.21306818181818182, 0.024999999999999994, 0.625, 0.02694128787878787, 0.3, 0.0, 0.5, 0.5, 0.0, -0.21250000000000002, 0.0, 0.23142857142857146, -0.07768110795454547, 1.0, 0.5, 0.04, 0.0, 0.0, -0.25, 0.0, 0.0, 0.2642857142857143, -0.33333333333333337, 0.34375, -0.4, 0.5, 0.27499999999999997, 0.6, 0.011616161616161613, 0.0, -0.45, 0.0, 0.06666666666666667, 0.43333333333333335, 0.5, -0.15416666666666667, 0.0, -0.3, 0.7, 0.0, -0.01428571428571429, 0.008333333333333323, 0.6, 0.9099999999999999, 1.0, 0.14285714285714288, 0.0, 0.125, 0.0, 0.3444444444444444, 0.13636363636363635, 0.8, 0.2, 0.0, 0.0, 0.4166666666666667, 0.8, -0.125, 0.0, -0.30000000000000004, -0.125, 0.0, 0.11154401154401153, -0.2833333333333333, -0.18181818181818182, 0.0, 0.16818181818181818, 0.026339285714285694, -0.28095238095238095, 0.8, 0.4, -0.10833333333333334, 0.43333333333333335, 0.8, 0.0, 0.5, 0.0, 0.07500000000000001, 0.16471861471861474, 0.35, -0.055555555555555546, 0.3, 0.14583333333333331, 1.0, -0.4, 0.6516666666666667, 0.024242424242424232, -0.07999999999999999, 0.35, -0.11477272727272725, 0.35555555555555557, -0.16666666666666666, 0.025, -0.15185185185185188, 0.43333333333333335, -0.11111111111111112, 0.15, 0.5416666666666666, 0.35, 0.2, 0.19999999999999998, -0.08333333333333333, 1.0, 0.0, 0.0, 0.1387878787878788, -0.02291666666666667, 0.0, 0.2, 0.7, 0.26666666666666666, 0.43333333333333335, 0.525, -0.2634469696969697, 0.3368055555555555, 0.0, 0.0, 0.0, -0.07333333333333333, 0.8, 0.43333333333333335, -0.5, -0.3541666666666667, -0.1875, 0.5, -0.1, 0.5, 0.7, 1.0, 1.0, 0.65, 0.0, 0.008680555555555552, 0.06562499999999999, -0.15000000000000002, 0.43333333333333335, 0.42111111111111116, 0.2, 0.0, 0.4, 0.07083333333333333, 0.7, 0.0, -0.18181818181818182, 0.15000000000000002, -0.25, 0.06666666666666667, 0.7, 0.8, -0.06944444444444443, 0.3, 0.0, -0.25, 0.0, 0.0, 0.8, -0.732421875, 0.15, 1.0, 0.0, 0.33999999999999997, 0.5, -0.1875, 0.0, 0.0, -0.8, 0.7, 0.7, -0.23020833333333332, 0.29999999999999993, 0.35, 0.6166666666666667, -0.3, 0.5, 0.0, 0.7, 0.0, 0.7, -0.2916666666666667, -0.4318181818181818, 0.3625, 0.0, 1.0, -0.21772727272727277, 0.49375, 0.0, 0.3333333333333333, -1.0, -1.0, 0.0, 0.0, 0.5, 0.2791666666666667, 0.0, -0.3068181818181818, -0.37272727272727274, 0.0, 0.7, 0.2, 0.0, 0.1827777777777778, 0.0, 0.32857142857142857, 0.7, 0.5, -0.25, 0.5, 0.55, 0.4875, 0.0, 0.525, -0.037896825396825394, 0.012499999999999997, -0.45, 0.2838744588744589, 0.125, 0.5, 0.22962962962962966, 0.8, 0.6944444444444443, 0.13636363636363635, 0.0, -0.4333333333333333, 0.17222222222222225, -0.04155844155844157, 0.3729166666666667, 0.05833333333333335, 0.0, -0.4458333333333333, 1.0, 0.875, -0.75, -0.2916666666666667, 0.5, 0.17954545454545454, 0.10871212121212122, 0.41645951704545453, 0.43333333333333335, 1.0, 0.0, -0.5, -0.22000000000000003, 0.0, 0.5633333333333334, 0.5, -0.04090909090909091, -0.18181818181818182, -0.39000000000000007, 0.2, -0.29296875, 0.0, -0.05277777777777779, -0.5666666666666667, 0.23484848484848483, 0.0, 0.2924242424242424, 1.0, 0.39999999999999997, 1.0, 0.0, -0.02857142857142858, -0.25, 0.0, 0.43333333333333335, 0.6000000000000001, 0.0, 0.0, 1.0, 0.0, 0.1301863078327922, -0.5, 0.0, 0.06190476190476191, 0.2, 0.65, 0.7, 0.9099999999999999, 0.0, 0.5, 0.0793388429752066, -0.3333333333333333, 0.6, 0.0, -0.12045454545454545, 0.0, 0.5, 0.0, -0.125, -0.2545454545454546, -0.125, 0.4375, 0.43333333333333335, 0.1, 0.7, 0.12499999999999999, 0.0, 0.0, 0.1, 0.2708333333333333, 0.65, 0.7, 0.34404761904761905, 0.0, 0.0, -0.5, 0.5, 0.0, -0.175, -1.0, 1.0, -0.7666666666666666, 0.0, -0.5, 0.0, 0.0, -0.11006172839506173, -0.3, -0.12250000000000001, 0.06818181818181818, 0.7, 0.0, 0.2207070707070707, 0.0, 0.78125, -0.1409090909090909, 0.13636363636363635, 0.4, 0.0, 0.0, 0.65, 1.0, 0.0, 0.27878787878787875, -0.3, 0.0, 1.0, -0.18, 0.08199999999999996, -0.03214285714285715, 0.125, -0.18333333333333335, 0.31666666666666665, 0.13749999999999998, 0.5, -0.275, 0.0, 0.0, 0.8, 0.47500000000000003, 0.35000000000000003, 0.0, 0.7, 0.05499999999999999, 0.6, 0.7, 0.4, 0.7, -0.3499999999999999, -1.0, -0.02361111111111111, 0.0, 0.35, 0.8, 0.17777777777777778, -0.26666666666666666, 0.0, 0.0, 1.0, 0.7, -1.0, 0.0, -0.09499999999999999, 0.125, 0.009375000000000005, 1.0, 0.1, 0.0, 0.3791666666666667, 0.5, -0.05185185185185185, -0.2, 0.0, -0.04285714285714284, 1.0, 0.26785714285714285, 0.0077380952380952175, 0.13636363636363635, 0.0, 0.20208333333333334, 0.5, 0.0, -0.2659090909090909, 0.18750000000000006, 0.0, 0.07777777777777779, -0.8, 0.9099999999999999, -0.12250000000000001, -0.625, 0.0, 0.0, 0.1276190476190476, 0.5, 0.3181818181818182, 0.0, -0.21458333333333335, 0.0, -0.008369408369408388, 0.0, 0.25, -0.3333333333333333, 0.3181818181818182, -0.19166666666666665, 0.5, 0.7, 0.16666666666666666, 0.0, 0.14166666666666666, 0.5666666666666667, 0.7, 0.1, 0.78125, -0.75, 0.5, 0.0, 0.0, 0.2, 0.8, -0.30454545454545456, 0.125, 0.0, 0.5, 0.8, 0.35511363636363635, 0.25, 0.625, -0.4, -0.55, 0.03333333333333333, 0.0, -0.026666666666666672, 0.0, 1.0, 0.3444444444444444, 0.17222222222222225, -0.375, 1.0, -0.38125000000000003, 0.14285714285714285, -0.45, 0.2222222222222222, 0.0, 0.16818181818181818, 0.0, 0.0, -0.05, 0.0, 0.033333333333333326, 0.18971861471861473, 0.13636363636363635, 0.025000000000000012, 0.19318181818181818, 0.17222222222222225, 0.7125, 0.625, 0.7, 0.040476190476190464, 0.0, 0.0, 0.0, -1.0, -0.3, 0.5, -0.25, 0.16666666666666666, 0.13636363636363635, 0.0, 0.0, -0.8125, -0.18888888888888888, 0.0, -0.13181818181818183, 0.375, -1.0, 0.6, 0.0, 0.8, 0.2138888888888889, 0.016666666666666663, 0.13636363636363635, 0.25, 0.0, 0.2, 0.21666666666666667, 1.0, 0.0, 0.7, 0.35, 0.0, 0.4666666666666667, 0.0, -0.13055555555555556, 0.1590909090909091, 0.0, 1.0, -1.0, 0.7, 0.0, -0.35, 0.0, 0.15340909090909088, -0.037500000000000006, 0.0325170068027211, -0.26666666666666666, -0.4333333333333333, -1.0, -0.15, -0.013657407407407396, 0.0, 0.0, 0.25, 0.0, 0.03333333333333333, 0.5, -0.125, 0.65, 0.0, -0.15000000000000002, 1.0, 0.5, 0.2333333333333333, 0.0, 0.5, 0.0, 0.0, 0.5, -0.165, 0.0, 1.0, -0.3233333333333333, 0.0, -0.39999999999999997, 0.32222222222222224, 0.01588541666666667, 0.7875, 0.3, 0.43333333333333335, 0.5, 0.0, 0.04326599326599326, 0.7, -0.15, 0.8, 0.49583333333333335, 0.0, 1.0, -0.732421875, 0.0, 0.0, -0.345, -0.3, 0.5, 0.0, 0.43333333333333335, 0.1590909090909091, 0.35000000000000003, 0.0, 0.0, 0.5, 0.0, 0.011111111111111118, -0.06590909090909092, 0.06944444444444443, -0.03333333333333335, 0.03666666666666667, -0.22235621521335805, -0.625, -0.30772727272727274, 0.0, -0.2, -0.1, 0.1, -0.30000000000000004, -0.3666666666666667, -0.45624999999999993, -0.07000000000000002, -0.47500000000000003, 0.5, 0.30125, 0.3833333333333333, -0.031249999999999993, -0.5, 0.5, -0.06999999999999999, 0.15, 0.0, 1.0, 0.0, 0.07878787878787878, 0.0, 0.0, -0.578125, 0.2207070707070707, 0.1375, 0.0, 0.5, 0.0, -0.10327380952380952, 0.0, -0.25, 0.1, 1.0, 0.0, 0.23750000000000004, 0.6666666666666666, 0.045138888888888895, 0.61, -0.04583333333333334, 0.5, 0.06666666666666667, 0.4069444444444445, 0.0, 0.0051948051948051965, 0.0, -0.4000000000000001, 0.43333333333333335, -0.04363636363636365, 0.13636363636363635, 0.35, 0.0, -0.11066017316017317, -1.0, 0.0, 0.0625, 0.0, 0.35000000000000003, 0.0, 0.0, 0.27499999999999997, 0.5, 0.11818181818181818, 0.20000000000000004, 0.0, 0.2, 0.0, 0.6, -0.5, -0.2, 0.55, -0.275, 0.13636363636363635, 0.0, 0.3, 0.00043290043290043566, 0.39999999999999997, -0.16666666666666666, 0.0, 0.092, 0.4583333333333333, 1.0, 0.125, 0.0, -0.10000000000000002, -0.4, 0.0, 0.5, -0.11590909090909092, -0.06666666666666665, 0.0, -0.2625, 0.8, -0.05694444444444444, 0.0, 0.17777777777777778, 0.2866666666666667, 0.0, 0.0, 0.0, -0.13333333333333333, 0.25, 0.46666666666666673, 0.8, 0.5, 0.7, -0.4, 0.0, 0.0, 0.0, 0.0642857142857143, -0.25, 0.0, -0.04, 0.1708333333333333, 0.075, 0.0, 0.0, 0.23821969696969697, 0.5, 1.0, 0.8, -0.125, 0.1590909090909091, 0.18727272727272726, -0.06565656565656565, 0.0, 0.0, 0.1, 0.3, 0.06818181818181818, -0.3, -0.18787878787878784, 0.14517045454545455, 0.5, 0.1590909090909091, -0.11901041666666667, 0.2130681818181818, 0.0, -0.09047619047619047, 0.7, 0.0, 0.08333333333333333, 0.0, -0.059999999999999984, 0.8, -0.52, -0.13645833333333335, 0.5, -0.34, 0.8, -0.65, 0.0, 1.0, -0.09305555555555556, 0.0, 0.4166666666666667, 0.0, 0.0, 0.0, -0.16666666666666666, 0.3840909090909091, 0.2, 0.0, 0.11604938271604939, 0.625, 0.0, -0.4041666666666667, 0.0, 0.7, 0.5, 0.14297520661157026, 0.2565656565656566, 0.22222222222222224, 0.0, -0.1, 0.08134920634920637, 0.3, -0.5, 0.38888888888888884, -0.16, 1.0, 0.0, 0.0, -0.3, 0.6000000000000001, -1.0, 0.0, -0.5259740259740261, 0.5, 0.0, -0.11708333333333333, 0.4, 0.0, 0.5, 0.8, 0.0, 0.0, -0.5, 0.35, -0.3, 0.5, -0.125, -0.01746031746031746, -0.375, 0.0, 0.78125, 0.2, 0.0, 0.3125, -0.3, -0.2878787878787879, 0.0, 0.0, 0.0, -0.28541666666666665, 0.55, -0.125, 0.36041666666666666, 0.1875, 0.7, 0.0, -0.3, 0.1, 0.3333333333333333, -0.09999999999999999, 0.08148148148148147, 0.06875, 0.8, 0.31166666666666665, 0.2552083333333333, -0.05, 0.625, 0.0, 1.0, 0.10000000000000002, 0.0, 0.8, 0.375, 0.0, 0.375, 0.5, 0.0, 0.0, -0.29166666666666663, 0.0, 0.0, -0.6, 0.8, -0.10000000000000002, 0.0, 0.13636363636363635, 0.0, -0.10461309523809524, 0.4777777777777778, 1.0, 0.5, -0.05624999999999997, 0.0, 0.0, 0.0, 0.05909090909090908, 0.625, 0.8, 0.7, 0.8, 0.0, 0.7, 1.0, 0.7, 0.0, -0.14285714285714285, 0.125, 0.7, 0.05625, -0.07142857142857144, -0.30000000000000004, -0.30000000000000004, 0.39999999999999997, 0.13636363636363635, 0.5, 0.0, 0.6, -0.07500000000000001, 0.07930772569444437, 0.65, 0.5, 0.17083333333333334, 0.4166666666666667, 0.2447811447811448, -0.24375, 0.5, 0.15, 0.0, 0.45, 0.7844444444444444, 0.5, 0.06818181818181818, 0.0, 0.0, -0.2, 1.0, 0.06818181818181818, 0.0, -1.0, -0.049999999999999996, 0.0, 0.0, 0.35, 0.8, 0.0, 0.05000000000000001, -0.1717171717171717, -0.35499999999999987, 0.0, 0.7, 0.8, 0.7, -0.08124999999999996, 0.5681818181818181, 0.4583333333333333, -0.10416666666666667, -0.16666666666666669, 0.2125, 0.8, 0.2, 1.0, -0.01666666666666666, 0.1, 0.0, 0.175, -0.14285714285714285, 0.0, 0.78125, 0.06666666666666667, 0.0, 0.009090909090909094, 0.09375000000000001, 0.06818181818181818, 0.7, 0.0, 0.7, 0.0, -0.15625, 0.125, 0.7, 0.7, 0.0, 0.0, -0.2, 0.4681818181818182, 0.0, 0.8, 1.0, 0.075, 0.44000000000000006, 0.6000000000000001, 1.0, 0.0, 0.17222222222222222, 0.29333333333333333, 0.7, 0.625, 0.6816666666666666, 0.009090909090909087, 0.8, -0.35, 0.0, 0.0, 0.09999999999999999, -0.26, 0.0, 0.0, 0.0, 0.8, 0.0, 0.8, 0.0, 0.0, -0.4001736111111111, 0.8, -0.02121212121212121, -0.18181818181818182, -0.3, -0.38285714285714284, 0.7, 0.275, -0.075, 1.0, 0.0, 0.16666666666666666, 0.4, 0.0, 0.11666666666666665, -0.009999999999999998, -0.5, 0.4, 0.030952380952380946, 0.35727272727272724, 0.5395833333333333, 0.011111111111111118, 0.0, -0.12499999999999999, 0.615451388888889, 0.0, -0.08590909090909091, 0.32222222222222224, 0.625, -0.16666666666666669, 0.5, 0.0, -0.15000000000000002, 0.7, 0.5, -0.03750000000000001, 0.36250000000000004, 0.0, 0.6, -0.014285714285714275, 0.0, 0.23958333333333334, 0.3181818181818182, 0.00980861244019139, 0.0, -0.4375, 0.0, 0.0, 0.625, 0.8, 0.9, 0.625, 0.5, 0.25, 0.0, 0.75, 0.221875, 0.5, 0.25, 0.7, -0.008333333333333331, 0.1424479166666667, 0.5, 0.18928571428571428, 0.3, 0.0, -0.15625, 0.13636363636363635, 1.0, 1.0, 0.35, -0.3, 0.0, 0.7, 0.0, 0.5, 0.5, 0.5, 0.0, -0.5000000000000001, 0.16666666666666666, 0.2875, -0.14444444444444446, -0.22678571428571428, 0.24166666666666667, -0.8333333333333333, -0.55, 0.0, 0.10714285714285714, 0.0, -0.52, 0.43333333333333335, 0.04761904761904764, -0.19090909090909092, 0.8, 0.14545454545454548, 0.5, 0.20952380952380953, 0.7, 0.1, 1.0, -0.5, 0.0, 0.11727272727272726, 0.0, 0.8, 0.7, 0.3255208333333333, 0.22857142857142856, 0.4000000000000001, 0.0, 1.0, 0.7, 0.1, 0.7, 0.07828282828282829, 0.625, -0.18749999999999994, 0.0, 0.5, -0.125, -0.19296296296296292, -0.04285714285714284, 0.7, -0.6212121212121212, 0.027380952380952384, -0.65, 0.12344322344322348, 0.0, 0.6, -0.26, -0.10000000000000003, -0.30000000000000004, 0.8, 0.8, -0.017045454545454558, 0.8, -0.10000000000000002, 0.0, -0.30000000000000004, 0.0, 0.0, 0.2309895833333333, -0.15000000000000002, 0.0, 1.0, 0.1, 1.0, 0.7, 0.8125, 1.0, -0.21666666666666667, -0.06666666666666667, 0.17255291005291007, 0.10000000000000003, -0.06666666666666665, 0.0, 0.4, -0.26666666666666666, 0.02500000000000001, 0.1, 0.30833333333333335, 0.43333333333333335, 0.5, -0.06000000000000001, 0.0, 0.31666666666666665, 0.0, 0.2393939393939394, 0.7, -0.04285714285714285, 0.0, 0.5, -0.3333333333333333, 0.06161616161616162, 0.0, 0.8, 0.5, -0.5, 0.0, 0.7, 0.0, 0.09930555555555555, 0.5, 0.0, 0.0, 0.16203703703703703, 0.23214285714285715, 0.0, 0.5, 0.25555555555555554, 0.2, -0.15364583333333334, -1.0, 0.31666666666666665, 1.0, -0.1416666666666667, -0.24999999999999992, 0.056666666666666664, 0.0, 0.2, 0.0, 0.3931818181818182, 0.13636363636363635, 0.0, 0.0, -0.24047619047619045, -0.2, 0.8, 0.075, 0.31666666666666665, 0.13636363636363635, 0.5, 0.26666666666666666, 0.1875, -0.05, 0.0, 0.2333333333333333, 0.0, 0.32467803030303033, 0.5, 0.5, -0.5, -0.02306547619047618, 0.0, 0.5, 0.4, -0.4, 1.0, 0.19166666666666665, -0.4, 0.7, 0.7, 0.8, 0.2, 0.7, 0.7, 1.0, 0.19999999999999998, 0.5, 0.2, 0.35, -0.857763671875, -0.5, -0.1, 0.6, 0.43333333333333335, -0.24166666666666667, -0.08619047619047619, -0.6999999999999998, -0.04393939393939392, 0.048148148148148155, 0.11458333333333334, 0.39999999999999997, 0.0, 0.09999999999999998, 0.0, 0.3, 0.5, 0.31666666666666665, 0.0, -0.5, 0.0, 0.5, 0.7, 0.125, 0.0, 0.7, -0.1402014652014652, 0.13419237012987012, 0.033856534090909086, 0.0, -0.5, 0.4340909090909091, 0.0, 0.19443359375000002, 0.44999999999999996, -1.0, 1.0, -0.65, 0.15, 0.0, -0.9765625, 0.43333333333333335, 0.0, 0.0, 0.1875, 0.0, -0.23333333333333328, 0.0, 0.0, 0.5, 0.0, -0.31666666666666665, -0.5, 0.48333333333333334, 0.15, -0.1, 0.0, -0.04285714285714286, 0.0, 0.05, 0.0, 1.0, 0.0, -0.5, 0.0, 0.0, -0.049999999999999996, 0.5833333333333334, 0.7, -0.16107954545454545, 0.0, 0.425, 0.3803030303030303, 0.0, -0.48749999999999993, 0.3, 1.0, 0.12727272727272726, 0.638095238095238, 1.0, 0.0, 0.5, 0.7, 0.0, 0.48750000000000004, 0.1583333333333333, -0.08181818181818182, 0.0, 1.0, 0.4, 0.05555555555555556, 0.0, 0.0, 0.0, 0.5, 0.033333333333333326, -1.0, -0.25, 0.09765625, -0.3754545454545455, 0.25, 0.2, 0.4616666666666667, -0.2916666666666667, 0.0, -0.13666666666666663, 0.5, -0.1444805194805195, 0.0, -0.04106060606060606, 0.0, 0.7166666666666667, 0.2857142857142857, 0.1, 0.2, -0.05, 0.43333333333333335, 0.5, 0.8, 1.0, 0.43333333333333335, 0.6666666666666667, 0.0, 0.8, -0.6999999999999998, 0.7, -0.1, 0.0, 0.0, 0.0, 0.0, 0.0, 0.15, 0.15, -1.0, 0.7, -0.1935143849206349, -0.004545454545454547, 0.43333333333333335, -0.18095238095238095, 0.25, 0.15000000000000002, 0.06875, 0.0, -0.1875, 0.2833333333333333, 0.0, -0.16666666666666666, 0.08333333333333333, 0.0, -0.02891774891774892, 0.02878787878787879, 0.0, 0.20833333333333334, 0.0, 0.3666666666666667, 0.0, 0.5444444444444444, -0.4, 0.0, 0.10714285714285714, -0.125, 0.11568181818181818, 0.5619047619047619, 0.30735930735930733, 0.0, 0.34027777777777773, -0.06458333333333335, -0.13333333333333333, 0.6, -0.3, 0.31666666666666665, 0.0, -0.5833333333333334, 0.8, 0.0, 0.0, 0.26666666666666666, 0.8, 0.5, -0.5, -0.2125, 0.16666666666666666, -0.25, 0.0, 0.9099999999999999, 0.0, 0.0, 0.0, 0.5, 0.1, 0.5, 1.0, -0.2125, 0.37083333333333335, -0.004048295454545454, 0.8, 0.25, 1.0, -0.2, 0.3, -0.14666666666666664, 0.5, 0.12727272727272726, 0.2077083333333333, 0.017142857142857137, 0.3416666666666667, 0.0, 0.0, -0.006144781144781138, 0.75, -0.65, -0.45, 0.0, -0.125, 0.5, -0.125, 1.0, 0.9099999999999999, 0.9099999999999999, 0.0, 0.8, 0.325, 0.6666666666666666, 0.8, 0.7, 0.10000000000000002, 0.0, 0.65, 1.0, -0.26666666666666666, 0.0, 0.0, 0.25, -0.125, 0.06, 0.43333333333333335, -0.0625, 0.5, 0.0, -0.05833333333333333, -0.2796875, -0.10416666666666666, -0.5, -0.48040364583333334, 0.09642857142857143, 0.5, 0.5, -0.037500000000000006, 0.109375, 0.43333333333333335, -0.04166666666666665, 0.8, -0.19999999999999998, 0.13124999999999998, 0.24857142857142858, 0.7250000000000001, 0.25, 1.0, -0.21020408163265308, 0.8, 0.89, -0.19285714285714287, 0.125, 0.0625, -1.0, 0.0, -1.0, 0.0, 0.09999999999999998, 0.06666666666666665, 0.125, 0.6875, 0.0, 0.8, 0.0, -0.21319444444444444, 0.4166666666666667, -0.19499999999999998, 0.0, 0.8, 0.325, 0.5, -0.7999999999999999, 0.35, 1.0, 0.22976190476190478, 0.0, 0.40909090909090906, 0.0, -0.3, 0.31666666666666665, 0.0, -0.625, 0.584375, 0.4071428571428572, 0.625, 0.22348484848484848, 0.0, -0.10729166666666665, 0.65, 0.625, 0.1, 0.5208333333333334, 0.0, 0.0, -0.5, 0.6666666666666666, -0.3, 0.25, 0.2767857142857143, 1.0, -0.15714285714285717, -0.0712752525252525, 0.0, -0.12708333333333333, 0.0, 0.4044444444444444, 0.8, 0.475, 0.7, -0.029629629629629627, 0.5208333333333334, 0.0, 0.0, 0.625, 0.08333333333333331, 0.04007936507936508, -0.4549999999999999, 0.2, -0.2, 0.0, -0.08888888888888889, 0.017380952380952382, 0.0, -0.3, 0.3111111111111111, 0.5, -0.35, 1.0, 0.0, 0.04285714285714284, -0.03733766233766234, 0.016666666666666677, 0.7, 0.5, 0.05218855218855219, -0.2, 0.43333333333333335, 0.8250000000000001, 0.5, 0.0, 0.0, 0.8, 0.125, 0.3, 0.8, 0.0, 0.2298828125, 0.35, -0.125, 0.30541666666666667, 1.0, 0.0, 0.35, 0.0, 0.43333333333333335, 1.0, 0.0, 0.5, 0.9, 0.44999999999999996, 0.23712121212121215, 0.5, -0.015151515151515152, 0.1428996598639456, -0.24305555555555558, 0.0, 0.5, 0.0, 0.08333333333333333, 0.18333333333333335, 0.5, -0.11939393939393939, 0.3, 0.39999999999999997, 0.0, 0.0, 0.55, -0.25, 0.8, -0.2159090909090909, -0.07500000000000001, 0.04999999999999999, 0.04999999999999999, 0.5, 0.43333333333333335, 0.2, 0.5, 0.43333333333333335, 0.0, 0.12416666666666668, 0.7, 0.6166666666666667, 0.0, 0.4166666666666667, 0.2375, 0.24444444444444446, 0.31666666666666665, 0.4533333333333333, 1.0, -0.06666666666666668, 0.5774305555555556, 0.8, 0.375, 0.43333333333333335, 0.0, 0.625, 0.2857142857142857, -0.05000000000000001, 0.0, 0.0, 1.0, 0.4166666666666667, 0.0, -0.5, 0.43333333333333335, 0.7, 0.3816666666666667, 0.35, -0.011111111111111108, 0.25, -0.3, 0.0, 0.6, 0.0, 0.7444444444444445, 0.0, 0.0, 0.45, 0.0, 0.0, 0.4, 0.8, 0.0, 0.10714285714285714, 0.8, -0.0552272727272727, 0.13636363636363635, 0.12023809523809524, 0.5, 0.0, 0.0, -0.15694444444444444, 0.27083333333333337, 0.4166666666666667, 0.3125, 0.0, 0.3, 0.0, 0.5, 0.1, 1.0, 0.3111111111111111, -0.09722222222222222, -0.19727272727272727, -0.1835404829545454, 1.0, 1.0, 0.5633333333333334, 0.0, 0.0, -0.6999999999999998, 0.0, 0.0, 0.5, 0.7, 0.0018750000000000155, 0.24261363636363636, 0.0, 0.5, 0.375, 0.3, 0.7, 0.7, 0.0, 0.25, 1.0, 0.0, 0.0, 0.5, 1.0, 0.20625000000000002, 0.8, 0.08712121212121211, 0.48750000000000004, 0.1625, 0.0, 0.0, 0.0, -0.4666666666666666, -0.09166666666666666, -0.26666666666666666, 0.2, 0.0, 0.7, 1.0, 0.0, 0.3121212121212121, 0.5666666666666667, -0.3, 0.3854166666666667, 0.0, 0.0, 0.14393939393939395, 0.0, 0.4166666666666667, 0.9099999999999999, 0.3444444444444445, 1.0, 0.43333333333333335, 0.4166666666666667, 0.49166666666666664, 0.024999999999999994, -0.3, 0.033888888888888885, 0.0, 0.5, 0.5, 1.0, 0.0, 0.5, 0.425, 0.19999999999999998, 0.5, 0.0, -0.2, 0.8, 0.7, 0.0, -0.5, 0.55, 0.25, 0.0, 0.1, 0.7, 0.43333333333333335, 0.43333333333333335, 0.0, 0.8, 0.25833333333333336, -0.02500000000000005, 0.0, 0.5, 0.8463541666666669, 0.27777777777777773, 0.6, 0.5, -0.18, 0.0, 0.5, 0.8, 0.43333333333333335, 0.625, 0.6, 0.2, 0.5, 0.0, 0.5, 0.625, 0.13636363636363635, 1.0, 0.7, 0.0, 0.7, -0.278395061728395, 0.005555555555555554, 0.0, -0.39000000000000007, 0.175, 0.17102272727272727, 0.15, -1.0, 0.0, 0.05729166666666666, 0.6166666666666667, 0.5, 0.26666666666666666, 0.32, 0.0, 0.0, -0.8875000000000001, 0.625, 0.7, 0.0, 0.0, 0.041666666666666664, 1.0, 0.4, -0.23474025974025975, -0.6999999999999998, 0.23188920454545453, -0.175, 0.0, 0.5, 0.37777777777777777, 0.8, 0.4875, 0.3, 0.175, 0.21818181818181817, 0.7, 0.03333333333333335, 0.9099999999999999, -0.16666666666666666, 0.0, 1.0, 0.75, 0.9099999999999999, 0.0, 0.25, 0.325, -0.05, 0.0, 0.7, 0.0, 0.0, 0.0, 0.08333333333333333, 0.0, 0.0, 0.6000000000000001, 0.5, -0.2, -0.8125, 0.0, 0.0, 0.5722222222222223, 0.5, 0.78125, 0.0, 1.0, 0.0, 1.0, 0.43333333333333335, 0.8, -0.7142857142857143, 0.9099999999999999, 0.30833333333333335, -0.14458333333333337, 0.8, 1.0, 1.0, 1.0, -0.25, 0.2857142857142857, 0.8, 0.3090909090909091, 0.3, 0.7, 0.8, 0.1, 0.5, 0.5666666666666667, 0.9099999999999999, 1.0, 1.0, 0.5, 0.7, 0.7, 0.5, 0.8, 0.0, 0.04666666666666667, 0.7, 0.25, 0.0, -0.3, -0.5558035714285714, 0.8, 0.6875, -0.2, 0.7, -0.06904761904761904, -0.2990845959595959, 0.18888888888888888, 0.7, 0.3, 0.9099999999999999, 0.7, -0.15555555555555559, -0.3, 1.0, 0.4666666666666666, -0.010000000000000009, -0.6666666666666666, -0.46875, 0.8, 0.35, -0.038461538461538464, 0.8, 0.28809523809523807, 0.20000000000000004, 0.0, 0.39999999999999997, -0.25, 0.06718750000000001, 0.705, 0.5333333333333333, 0.2, -0.07575757575757576, -0.21666666666666667, 0.0, -0.4066666666666667, -0.13888888888888887, -0.27499999999999997, 0.45, 0.8, 0.5111111111111112, 0.3833333333333333, 0.0, -0.35714285714285715, 1.0, 0.1708333333333333, -0.5, 0.5, -0.009999999999999998, 0.05357142857142857, 0.31666666666666665, 0.5, 0.22878787878787876, 0.25, -0.46875000000000006, 0.0, 0.20476190476190473, 0.0, 0.0, 0.7, 0.5, 0.32749999999999996, 0.39, 0.0, 0.875, 0.0, 0.5, -0.18181818181818182, 0.0, 0.5, 0.4121212121212121, 0.3, -0.16875, 0.0, 0.0, 0.2857142857142857, 0.35, 0.0, 0.3, -0.05833333333333333, -0.018750000000000003, 0.5, -0.625, -0.5, 0.7, 0.8, -0.13333333333333333, 0.2578733766233766, 0.0, 0.8, 0.06000000000000001, 0.8, 0.55, 0.7, 0.5, -0.03977564102564104, 1.0, 0.43333333333333335, -0.2, 0.049999999999999996, 0.0, 0.3, 0.0, 0.0, 0.0625, -1.0, -0.14583333333333334, -0.7, 0.5, 0.0, 0.0, -0.65, 0.25, 0.4, 0.27499999999999997, 0.0, 0.7000000000000001, 0.5, 0.23258928571428572, 0.0, 0.30277777777777776, 0.5, 0.45714285714285713, 0.4, -0.35, 0.5, 1.0, 0.0, 0.5, -0.45, -0.3, 0.46875, 0.14, 1.0, 0.5416666666666667, -0.35, 0.0, 0.6166666666666667, 0.0, 1.0, 0.5, 1.0, 0.09526515151515151, 0.0, 0.4681818181818182, 0.0, 0.0, -0.39000000000000007, -0.25, 0.27166666666666667, 0.0, 0.0, 0.375, 0.4333333333333333, 0.0, 0.7, 0.7, 0.13333333333333333, 0.0, -0.375, 0.39166666666666666, -0.2564102564102564, 0.0, 0.7, 0.0, -0.26666666666666666, 0.7, -0.15277777777777776, -0.5875, 0.0, 1.0, 0.43333333333333335, -1.0, 0.0, 0.45444444444444443, 0.30234375, 0.08, 0.1366161616161616, -0.48750000000000004, -0.65, 0.8, 0.0, 0.13636363636363635, -0.1598214285714286, -0.22357954545454545, -0.30000000000000004, 0.13636363636363635, 0.0625, 0.7, 0.3090909090909091, -0.2916666666666667, -0.28125, 0.43333333333333335, 0.14999999999999997, 0.0, 0.227, -1.0, 0.0, 0.0, -0.6, 0.8, 0.4, 0.0, 0.0, 0.8, -0.03796296296296296, -1.0, -0.03333333333333333, 0.1953125, 0.0, 0.0, -0.15625, 0.8, 0.0, 0.4666666666666667, -0.14166666666666666, -0.21666666666666667, -0.36388888888888893, 0.0, 0.5, 0.0, 0.5, 0.4, 0.0, 0.30185185185185187, -0.35, 1.0, 0.0, 0.7, 0.9, 1.0, 0.5, 0.3125, 0.8, 0.75, -0.6, 0.0, -0.1, 0.43333333333333335, 0.43333333333333335, -0.6666666666666666, -0.1340909090909091, -0.18, 0.75, 0.35, 0.0, 0.5, 0.43333333333333335, 0.033333333333333326, 0.17500000000000002, 0.4000000000000001, 0.65, 0.0, -0.375, 0.7, 0.4, 0.125, -0.6591796875, 0.0, 0.4, 0.0, 0.8, 0.0, -0.5, -0.25, -0.06666666666666667, 0.5, 0.25, 0.7, 0.0, 0.5, 0.65, 0.09999999999999998, 0.7, 0.35, -0.2878787878787879, 0.0, 0.35, 1.0, 0.8, 0.8, -0.11825284090909091, 0.0, 0.6166666666666667, 0.2026785714285714, 0.0638888888888889, 0.9099999999999999, -0.10000000000000002, 0.0, -0.125, 0.018181818181818174, -0.9765625, 0.2809523809523809, 0.25648148148148153, 0.0, 0.0, 0.8, 0.0, 0.0, 0.0, 0.8, 0.24375, 0.0, 0.0, 0.1340909090909091, 0.0, 0.5, 0.0, 0.7, 0.05000000000000002, 0.5166666666666667, 0.0, 0.15892857142857142, 0.02500000000000001, 0.31666666666666665, 0.0, 0.0, 0.43333333333333335, 0.5, 0.5666666666666667, 0.0, 0.5, -0.26125, 0.0, -0.05, 0.39999999999999997, 0.7, -0.09227272727272724, 0.0, -0.30000000000000004, 0.7, 0.5, -0.10622767857142856, 0.8, 0.26190476190476186, 0.8, 0.0, -0.65, -0.06499999999999999, 0.22000000000000003, 0.1875, -0.25, 0.0, 0.5, 0.0, 0.0, 0.0, 0.0, 0.12690476190476194, -0.1609375, 0.0, 0.0, 0.0, 0.16818181818181818, -0.3, 1.0, 0.2, -0.03125, 0.0, 0.0, 0.0, -0.4, 0.05833333333333335, 0.5, 0.8, 0.0, 0.0, 0.0, 0.7, 0.07291666666666666, -0.03571428571428571, -1.0, -0.2, 0.55, -0.24375, -0.8, 0.35, 0.5121212121212121, 0.06249999999999999, -0.21666666666666667, 0.5111111111111112, 0.38214285714285723, -1.0, -0.4, 0.0, 0.21532738095238096, 0.0, 0.039999999999999994, 0.0, 0.15, -0.35000000000000003, -0.013825757575757582, 0.65, 0.0, 0.38095238095238093, 0.25, 0.0, 0.0, 0.25, 0.0, 0.7, 0.0, 0.0, 0.0, 0.27499999999999997, -0.25, 0.5, 0.0, -0.125, 0.2, 0.5, 0.8, 0.9099999999999999, 0.8, 0.43333333333333335, 0.10914285714285714, 0.19999999999999998, 0.0, 1.0, -0.25, 0.2, -0.0125, -0.15833333333333335, 1.0, 0.0, 0.13636363636363635, 0.25, -0.6999999999999998, 0.35, -0.30000000000000004, 1.0, 0.5633333333333334, -0.2916666666666667, 0.23611111111111113, 1.0, 0.4, 0.7, -0.3, 1.0, 0.0, 1.0, 0.03333333333333333, 0.65, -0.25, 0.1, -1.0, 0.9099999999999999, 0.5, 0.5, 0.7, -0.3, 0.5, 0.43333333333333335, 0.8, 0.0, 0.0, -0.008593749999999997, 0.425, 0.10714285714285714, 0.8, 0.7, 0.32857142857142857, -0.5874999999999999, 1.0, -0.13333333333333333, 0.0, 0.06805555555555556, -1.0, 0.0, 0.0, 0.0, 0.0, -0.375, -0.6, -0.2416666666666667, 0.7, 0.15000000000000002, 0.4, -1.0, 0.8, 0.13987654320987652, 0.0, -0.08454545454545455, 0.39999999999999997, 0.25, 0.0, 0.3208333333333333, 0.0, 0.8, -0.075, 0.55, 0.4166666666666667, 0.04142857142857144, 0.49531250000000004, 0.13393939393939394, 0.5, 0.7, 0.10714285714285714, 0.5, -0.30000000000000004, 0.0, 0.8, 0.5666666666666667, 0.21428571428571427, 1.0, 0.5, 0.0, 0.14166666666666666, 0.875, 0.2875, -0.06833333333333334, 0.7, 0.20000000000000004, 0.7, 0.7, 0.5, 1.0, 0.0, -0.15000000000000002, 0.5, 0.3, -0.027777777777777773, -0.11666666666666668, -0.6999999999999998, 0.2611742424242424, 0.75, 0.0, 0.9099999999999999, 0.7, 0.25, 0.0, -0.17261904761904762, 0.7, 0.0, 1.0, 0.02777777777777779, -0.375, 0.4666666666666666, 0.42000000000000004, -0.5, 0.5, 0.21666666666666667, 0.0, -0.1375, 0.35, 0.8, 0.0, 0.16666666666666666, 0.0, 0.4988888888888889, 0.8, 0.8, 0.0, 0.0, 0.0, 0.5666666666666667, -0.5, -0.1220703125, 0.0, 0.8, 1.0, 0.016666666666666677, 0.5, 0.5, 0.39218749999999997, 0.78, 0.0, 0.125, 0.8, 0.4777777777777778, -0.34090909090909094, 0.0, 1.0, 0.5, 0.8, 0.25393939393939396, -0.4, 0.0, 0.004494949494949485, 0.0, 0.0, 0.25416666666666665, 0.09, 0.84375, 0.033333333333333326, -0.05, -0.15000000000000002, -0.13333333333333333, -0.25, 0.2, 0.0, 0.018750000000000003, 0.5, -0.0666666666666667, 0.0, 0.7, 0.0, 0.43333333333333335, 0.0, 0.8, 1.0, 0.024999999999999994, 0.05, -0.26765625, -0.21666666666666667, 0.0, -0.3212121212121212, -0.4583333333333333, 0.8, 0.0, 0.0, 0.8, 0.0, 0.215, 0.10975378787878787, -0.015384615384615398, 0.5, 0.2, 0.0, 0.4, 0.0, 0.625, -0.05500000000000001, 0.8, 0.5, 0.0, 1.0, 0.0, 0.8, 0.13636363636363635, 0.29166666666666663, 0.21212121212121213, 0.9099999999999999, 0.5, -0.35, -0.78, 0.11212121212121212, 0.5, -0.8, 0.5, 0.0, -0.4318181818181818, 0.0, -0.09722222222222222, 0.06142857142857143, 1.0, -0.10064102564102566, -0.30416666666666664, 0.0, 0.5, -0.30000000000000004, 0.0, 1.0, 0.37083333333333335, 0.3333333333333333, -1.0, 0.0, 0.7, 0.0, 0.0, 0.6, 0.2, -0.5, -0.01955555555555556, 0.9099999999999999, 0.7, 0.425, 0.24285714285714285, -0.0625, -0.2, 0.0, 0.5, 0.2375, -1.0, 0.0, 0.2, -0.33996212121212127, 0.0, 0.4, 0.8, -0.18125, 0.18333333333333335, 0.7, 0.7, 0.15284090909090908, -0.3, 0.5, 0.5, 0.0, -0.5, 0.7, 0.0, 0.5, 0.1, 0.2611111111111111, 0.8, -0.16666666666666666, 0.1409090909090909, 0.6000000000000001, 1.0, 0.5, 0.7, 0.3, -0.175, 0.125, 0.5, 0.0, -0.19999999999999996, 0.0, 0.7, 0.01548602912239276, 0.26633522727272724, -0.1453125, 0.0, -0.20000000000000004, 0.0, 0.0, 0.4666666666666667, 0.3333333333333333, 0.0, -0.1324404761904762, 0.12159090909090908, 0.24999999999999997, 0.5, -0.35, 0.1742694805194805, 0.5, 0.2416666666666667, -0.07361111111111109, 0.25, 0.0, 0.19999999999999998, 0.05909090909090909, 0.0, 0.020000000000000018, -0.2916666666666667, -0.14285714285714285, 0.5, 0.0, 0.0, 0.5, -0.21666666666666667, 0.19999999999999998, 0.26875, 0.4666666666666667, 0.0, 0.41818181818181815, 0.5, 0.25, -0.015909090909090907, -0.10833333333333335, 0.0, 0.0, 0.4116666666666667, -0.10277777777777779, 0.525, 0.0, -0.3, 0.5, -0.0625, 0.7, 0.8, 0.5, 0.5, -0.25, 0.0, 1.0, 0.5, 0.3340909090909091, 0.0, 0.0, 0.39583333333333337, 1.0, -0.78125, 0.0, 0.0023148148148148064, 0.0, 0.0, 0.7, 0.15, -0.09999999999999999, 0.0, 0.039999999999999994, 0.5681818181818181, 0.11704545454545456, 0.0, 0.5, 0.0, 0.5, 0.79, 0.0, 0.46666666666666673, 0.2, 0.19083333333333335, 0.7, 0.0, 0.0, 1.0, 0.8, 0.8, 0.0, 0.39999999999999997, 0.8, 0.125, 0.0, 0.5, 0.0, 0.8, 0.8, 0.7, -0.06666666666666665, 1.0, -0.7999999999999999, -0.15555555555555559, -0.175, 0.010937500000000044, -0.17812500000000003, -0.25, 0.7200000000000001, 0.25, 0.0, 0.2, 0.8, 0.0, -0.11874999999999994, 0.0, 0.7, 0.0625, 0.5, 0.0, 0.7, 0.0, -0.21666666666666667, -1.0, 1.0, 0.0, 0.275, 0.0, -0.10000000000000002, 0.4666666666666666, 0.0, 0.5, 0.8, -0.050000000000000024, 0.8, -0.3, 0.0, 0.3, -1.0, 1.0, 0.3121212121212121, 1.0, 0.5, 1.0, 0.8, 0.0, 0.2, 0.675, -0.06793650793650795, 0.7, 0.5, -0.16, 0.625, 0.8, 0.0, 0.7, 0.175, 0.4777777777777778, 0.0, 0.0, 0.5, 0.5, -0.5, 0.25, -0.25, -0.2916666666666667, 0.5, -0.3, 0.6, 0.5, 0.0, -0.07142857142857142, 0.0, 0.5, 1.0, 0.0, 0.13636363636363635, 0.5, 0.0, 0.7, -0.2125, 0.0, 0.0, 0.0, -0.2375, -0.31279761904761905, 0.5, 0.0, 0.0, 0.0, 0.4166666666666667, 0.0, 0.0, -0.6999999999999998, 0.0, 0.5, 0.375, 0.4375, 0.0, 0.0, 1.0, 0.7, 0.0, -0.08333333333333333, 0.05833333333333335, 0.0, -0.006060606060606077, 0.8, 0.0, 0.5, 0.2857142857142857, 0.5333333333333333, 0.0, 0.0, 0.0, 0.425, 0.09034090909090908, 0.0, 1.0, 0.0, -0.18333333333333335, -0.08181818181818185, 0.7, 0.0, 0.0, 0.0, 0.0, -0.13990700461647732, -0.375, 0.03928571428571427, 0.5, -1.0, 0.0, 0.8, 0.09999999999999998, 0.0, -0.20000000000000004, 0.2375, -0.22999999999999998, 0.43333333333333335, 0.5, -0.15555555555555553, 0.375, 0.0, 0.1, 0.0, -0.125, -0.32125, 0.8, 1.0, 0.0, 0.425, 0.65, 0.0, 0.2816666666666667, -0.038333333333333365, 0.14666666666666667, 0.0, 0.12946428571428573, 0.03571428571428571, -0.9765625, 0.25, -0.07777777777777779, -1.0, 0.625, 0.0, 0.65, -0.30000000000000004, 1.0, 0.625, 0.0, 0.8, 0.5, 1.0, 0.5, 0.0, -0.5, 0.4116666666666667, 0.4166666666666667, 0.2, -0.017013888888888846, -0.13999999999999999, 0.0, 0.0, 0.0, 0.44090909090909086, 0.0, 0.8, 0.5, 0.3, 0.0, 0.4166666666666667, 0.2, 0.039540816326530615, 0.57, 0.0340909090909091, 0.25, -0.19999999999999998, 0.5, 0.8, -0.12380952380952381, 0.8, 0.0, 0.0, 0.475, -0.16666666666666666, -0.08819444444444446, -0.26, -0.6999999999999998, 0.0, 0.9099999999999999, 0.5, 1.0, 0.7444444444444445, 0.7, 0.0, 0.049999999999999996, 0.0, 0.78828125, 0.4166666666666667, 1.0, 0.0, -1.0, 0.9099999999999999, 0.0, 0.0, 0.7, -0.30000000000000004, -0.25, 0.5, 0.5166666666666667, 0.0, 0.44000000000000006, 0.55, -0.041666666666666664, 0.8, 0.8, 0.8, 1.0, 0.0, -0.19351851851851853, 0.1, 0.0, 0.0, -0.30000000000000004, 0.12083333333333332, 0.8125, 0.08750000000000002, 0.5125, 1.0, 0.2, 0.5, -0.05, 0.8, 0.0, -0.04090909090909092, 1.0, 0.25, 1.0, -0.27777777777777785, 0.6, 0.5, 0.2714285714285714, -0.07916666666666666, 0.25, 0.41666666666666663, 1.0, 1.0, 0.8, 0.2666666666666667, 0.5, 0.10281385281385282, -0.11272727272727275, -0.52, 0.0, 0.25, 0.7041666666666667, 0.31666666666666665, -0.52, 0.65625, 0.8, 0.0, 0.30000000000000004, 0.0, 0.5, 0.43333333333333335, 0.8, 0.5, 0.384280303030303, 0.0, -0.04897727272727272, 0.0, 0.019999999999999983, -0.1875, 0.7, 0.13636363636363635, 0.0, 0.21666666666666667, 0.125, 0.0, 0.35, 0.625, 0.0, 0.09404761904761906, 0.78125, 0.0, 0.3, 0.0028409090909090884, 0.0, 0.15, 0.25, 0.8, 0.18214285714285713, 0.5, 0.8, 0.0, 0.0, 0.06666666666666667, 0.0, 0.35, 0.8, 0.7, -0.25, 0.0, 0.0, 0.0, 0.7, -0.013333333333333319, 0.25, 0.2, 0.0, 0.09166666666666667, 0.0, 0.3501543209876543, 0.08333333333333333, 0.5, -0.07007575757575757, 0.7, -0.1982142857142857, 0.20833333333333334, 0.0, 0.0, 0.21428571428571427, 0.0, -0.08690476190476192, 0.12878787878787878, 0.3333333333333333, 0.0, -0.15, -0.06041666666666667, 0.08333333333333333, 0.10248299319727891, 0.11244019138755985, 0.3490740740740741, -0.2013703703703704, 0.0, 0.013920454545454541, 1.0, -0.15, 0.08888888888888889, -1.0, 0.5249999999999999, 0.192, -0.26666666666666666, 0.16071428571428573, 0.027500000000000004, 0.03518518518518518, 0.18636363636363634, 3.700743415417188e-17, 0.32, -0.425, 0.1625, 0.1, 0.0, 0.23333333333333334, -0.0625, 0.00019531250000000047, -0.08888888888888889, -0.2916666666666667, -0.025000000000000005, 0.0, -0.09999999999999999, 0.0, -0.3, 0.0, 0.5580357142857142, 0.0, -0.1, 0.0, -0.4, 0.0, 0.3, 0.0, -0.07500000000000001, 0.13146825396825396, 0.4, -0.2978114478114478, 0.6666666666666666, 0.3333333333333333, 0.2, 0.11880260942760944, 0.1, 0.25, 0.1206439393939394, 1.0, -0.17333333333333334, -0.11249999999999999, -0.29999999999999993, 0.8, -0.14090909090909093, 0.0, -0.22664062499999998, -0.10000000000000002, -0.25, 0.014285714285714282, 0.15, 0.14, -0.008796296296296302, 0.08333333333333334, -0.9765625, -0.08333333333333333, 0.0506060606060606, 1.0, 0.03125, 0.7, -0.6212121212121212, 0.5, 1.0, 0.5, 0.19583333333333333, 0.04142857142857146, 0.03333333333333335, 0.0, -0.4666666666666666, -0.012499999999999997, 0.13874999999999998, -0.1111111111111111, 0.038888888888888896, 0.027142857142857142, 0.2375, 0.6000000000000001, 0.2857142857142857, -0.3324675324675325, 0.5, -0.061111111111111095, -0.3, 0.016666666666666653, 0.2722222222222222, 0.4590277777777778, -0.032575757575757584, 0.0, 0.25, 0.7, 0.4166666666666667, 0.0, 0.1541666666666667, 0.23125, -0.01780626780626782, 0.011185383244206763, -0.33181818181818185, -0.15, -0.8, -0.12, -0.07333333333333333, 0.32, 0.315625, -0.11484374999999998, -0.225, 0.1125, 0.25416666666666665, -0.17142857142857143, 0.04648268398268398, 0.0, 0.0, 0.2, 0.24375000000000002, -0.2833333333333333, 0.4166666666666667, 0.0161904761904762, -0.005050505050505065, 0.021875000000000006, 0.6, 0.06145833333333332, -0.014583333333333337, 0.25999999999999995, -0.2, -0.033333333333333326, 0.11111111111111109, 0.26249999999999996, 0.5125, -0.325, -0.15741550116550118, 0.0, 0.0, -1.0, -0.16333333333333333, -0.15, -0.5833333333333334, 0.3333333333333333, -0.09363370547581074, 0.625, -0.08430555555555555, 0.27724867724867724, -0.5, 0.78125, 0.1, 0.425, 0.8, -0.041666666666666664, -0.21701388888888884, 0.042857142857142864, -0.08333333333333333, 0.0, -1.0, 0.3247448979591837, 0.0, 0.0, -0.2416666666666667, 0.0, -0.20389610389610388, 0.18571428571428572, -0.022222222222222216, 0.008482142857142858, 0.22000000000000003, -0.20357142857142857, 0.2, 0.29500000000000004, 0.0, -0.5, 0.8, 0.21428571428571427, 0.3, 0.625, 0.3125, -0.2666666666666666, -0.20833333333333334, 0.5625, 0.0, 0.55, -0.24305555555555558, 0.375, -0.2708333333333333, -0.5083333333333333, 0.07500000000000001, -0.10666666666666669, -0.15, 0.05238095238095238, -0.15833333333333335, 0.027777777777777773, 0.0, -0.1, 0.30000000000000004, -0.5125, 0.0, -0.1824074074074074, -1.0, 0.7000000000000001, 0.325, -0.08272727272727273, 0.25, 0.09999999999999998, 0.5, -0.4, 0.27499999999999997, -0.18571428571428572, -0.10583333333333333, 0.13636363636363635, -0.15000000000000002, -0.06666666666666667, 0.3, 0.2513888888888889, -0.625, 0.0, 0.22000000000000003, 0.024999999999999994, 0.18333333333333335, -0.89453125, 0.14396645021645021, -0.08916666666666669, 0.4583333333333333, -0.10000000000000002, -0.1238095238095238, 0.15103305785123966, -0.15000000000000002, -0.016450216450216444, -0.13597222222222222, -0.225, 0.30000000000000004, -0.1125, 0.3157142857142857, 0.0, -0.5, 0.0, 0.1475, 0.28, 0.744140625, 0.30000000000000004, -0.06194444444444446, 0.15, 0.0005238095238095181, -0.02083333333333333, 0.5, 0.6666666666666666, -0.30176767676767674, 0.0, -0.14283854166666665, 0.0, -0.24666666666666667, 0.175, 0.048920454545454545, 0.1621212121212121, 0.05000000000000001, 0.3124458874458874, 0.04947916666666666, -0.16666666666666666, -0.1383838383838384, 0.0, 0.03368055555555552, -0.078125, 0.2111111111111111, 0.06481481481481483, -0.2722222222222222, 0.2, -0.08888888888888886, -0.13333333333333333, -0.14750000000000002, 0.5, -0.2738095238095238, 0.2333333333333333, 0.04946402803545662, -0.06666666666666667, 0.0, 0.4000000000000001, 0.2525, 0.09375, -0.0546875, 0.13372393692805085, 0.275, 0.0, 0.25, -0.6999999999999998, -0.2333333333333333, 0.42500000000000004, -0.28437500000000004, -0.06134067952249771, -0.20833333333333334, -1.0, 0.2857142857142857, 0.16249999999999995, 0.13999999999999999, -0.25, -0.4318181818181818, 0.2, 0.00591787439613525, 0.04999999999999999, 0.0006998697916666487, 0.2857142857142857, -0.6, 0.03333333333333333, 0.047207792207792205, 0.20857007575757577, -0.04444444444444445, -0.15833333333333333, -0.3125, 0.35, 0.19034090909090906, 0.39249999999999996, 0.04531249999999998, 0.0, -0.09687499999999999, -0.13333333333333333, -0.4318181818181818, 0.0, -0.5, 0.5, 0.0, -0.06266233766233764, -0.2333333333333333, -0.7, -0.3147727272727273, 0.18333333333333335, 0.34375, 0.7000000000000001, -0.08333333333333333, 0.0, -0.05277777777777778, 0.2333333333333333, -0.4318181818181818, 0.14081632653061224, 0.3214285714285714, 0.0851851851851852, -0.31009615384615385, 0.35, -0.1179976851851852, -0.15000000000000002, -0.3499999999999999, 0.125, -0.049999999999999996, 0.0, -0.2, 1.0, 0.2125, 0.0, 0.0, -0.08750000000000001, -0.1925, -0.21666666666666667, 0.12857142857142856, -0.1953125, 0.0, -0.4087662337662337, -0.22569444444444445, 0.0, -0.028571428571428564, 0.0425, 0.43333333333333335, -0.2625, 0.22727272727272724, 0.08, 0.12159090909090908, 0.21527777777777776, -0.3863257575757576, 0.1407142857142857, -0.2899999999999999, 0.0, -0.08787878787878788, -0.10952380952380948, 0.35, 0.06818181818181818, 0.022102864583333333, 0.0037878787878787845, -0.25192307692307697, 0.3, -0.061111111111111116, -0.275, 0.02222222222222222, -0.4525, 0.02402146464646465, -0.05000000000000002, 0.5166666666666666, 0.027272727272727275, -0.6966666666666667, 0.2, 0.0, -0.3125, 0.059166666666666666, 0.14625850340136057, -0.1216517857142857, -0.15, 0.03333333333333333, -0.033333333333333326, 0.0, -0.2871428571428572, 0.07999999999999999, 0.038571428571428555, 0.0, 0.0, 0.17363636363636364, 0.13, 0.4666666666666667, -0.03765624999999999, 0.0, 0.22916666666666666, -0.09999999999999999, -0.017708333333333343, 0.5, -0.0055555555555554985, 0.08333333333333333, 0.16686507936507936, -0.16475299873737373, -0.26, -0.0625, 0.22380952380952382, 0.15625, 0.0, 0.0, -0.0931547619047619, -0.02111111111111112, -0.17916666666666664, -0.1, -0.2798697916666667, 0.005683563748079878, 0.78125, -0.2625, 0.08409090909090909, 0.0, 0.1, 0.15, 0.5, -0.13333333333333333, 0.0, 0.0, 0.07626262626262627, -0.52, 0.0, -0.27976190476190477, 0.41944444444444445, -0.08055555555555556, 0.0, 0.061111111111111116, -0.28781144781144774, 0.1238888888888889, 0.32, 0.45000000000000007, -0.03939393939393938, 0.0, -0.36250000000000004, 0.22485712245756892, 0.34583333333333327, 0.55, 0.0, -0.18181818181818182, -0.7999999999999999, 0.0, 0.6000000000000001, 0.240625, 0.0, 0.07857142857142856, -0.08492063492063492, 0.6111111111111112, 0.08571428571428573, 0.04229166666666667, -0.1986111111111111, -0.12500000000000003, 0.0, -0.34358723958333337, -0.0842857142857143, -0.3302083333333333, -0.15454545454545454, -0.09861111111111114, 0.008333333333333331, 0.06071428571428571, 0.2625, 0.5, -0.25, -1.0, 0.25, -0.10000000000000002, -0.01666666666666667, 0.21727272727272728, 0.2, 0.03888888888888889, 0.8, 0.04077380952380952, 0.5, -0.35000000000000003, -0.05, -0.6, -0.06195286195286196, 0.15, 0.16666666666666669, -0.1545454545454545, -0.21249999999999997, -0.19921875, 0.5, 0.0, -0.07777777777777779, -0.13888888888888887, 0.5, 0.6083333333333333, 0.2770833333333333, 0.5, -0.0625, 0.065, -0.00018939393939392863, 0.23194444444444443, -0.1875, 0.0, 0.12777777777777777, 0.6607142857142857, -0.0023674242424242403, -0.18333333333333332, 0.0, -0.3, 0.39687500000000003, -0.0875, 0.011111111111111108, 0.0, 0.03409090909090909, 0.0, 0.20262586805555555, -0.009217171717171726, -0.21875, 0.0, 0.2, 0.5125, 0.4, 0.10000000000000005, -0.075, 0.0, -1.0, 0.062277777777777786, -0.05275835275835276, -0.1368686868686869, -0.004166666666666666, 0.07575757575757575, 0.3166666666666667, -0.28181818181818175, -0.06666666666666661, -0.06666666666666661, -0.06666666666666661, -0.11201298701298701, 0.0, 0.016666666666666656, 0.0, 0.010416666666666666, 0.009523809523809537, 0.13783854166666668, 0.16944444444444443, 0.5754166666666667, 0.175, 0.55, -0.1725378787878788, 0.0, 0.25, 0.515625, -0.08718487394957986, 0.48125, -0.06002331002331003, -0.26666666666666666, -0.11874999999999998, -0.3333333333333333, 0.44999999999999996, 0.17499999999999996, 0.26944444444444443, 1.0, 0.5, -0.13333333333333333, 0.0, 0.26999999999999996, -0.005555555555555573, 0.05625000000000002, 0.35, 0.04999999999999999, -0.1796875, 0.16666666666666666, 0.0513888888888889, -0.15, 0.02071969696969697, -0.13333333333333333, -0.19583333333333336, -0.3, -0.075, 0.15, 0.05, -0.07777777777777779, -0.15, -0.265625, -0.012500000000000011, 0.36666666666666664, 0.0, -0.125, 0.1875, 0.0, 0.2942857142857143, 0.0, 0.7, -0.18, 0.32666666666666666, 0.75, 1.0, 0.07083333333333335, 0.0, 0.3666666666666667, 0.13636363636363635, 0.13636363636363635, 0.44999999999999996, 0.9, 0.13636363636363635, 1.0, 0.2, -0.09280303030303032, 0.0, 0.25312500000000004, 0.0, -0.038333333333333316, 0.03409090909090909, 0.7999999999999999, 0.0, -0.04207482993197279, 0.25, 0.7816666666666667, 0.8, 0.178125, 0.0, 0.2, 0.0, 0.8, 0.2966666666666667, 0.321875, 0.06702380952380953, -0.10037878787878789, 0.14645833333333333, 0.7, 0.15000000000000002, 0.2, 0.17222222222222225, 0.13020833333333334, -0.09583333333333337, 0.0, 0.375, 0.30416666666666664, 0.31666666666666665, 0.5, 0.375, 0.0, -0.7066666666666666, 0.0, 0.12361111111111116, 0.11666666666666667, 0.12878787878787878, 0.5222222222222223, 0.13636363636363635, 0.17142857142857143, 0.5666666666666667, 0.20586419753086418, -0.38199999999999995, 0.0, 0.16, 1.0, 0.06439393939393938, 0.49833333333333335, 0.11818181818181818, 0.0, 0.5, -0.28125, 0.0, -0.06, 0.0, -0.3333333333333333, 0.296875, 0.0, 0.8, 0.32, 0.8, -0.14666666666666664, 0.0, 0.13061224489795917, 0.8, -0.024444444444444435, 0.7953125, 0.2875, -0.6083333333333333, -0.14937499999999995, -0.1361111111111111, 1.0, 0.2708333333333333, 0.18888888888888888, 0.3, -0.21875, 0.3833333333333333, 0.6, 0.0, -0.004797979797979808, 0.0, 0.390625, 0.0, 0.0, -0.16772727272727278, 0.0, 0.5, 0.12654474431818183, 0.5, 0.8, 0.23333333333333336, -0.06623376623376623, 0.0, 0.25, 0.1, -0.16625, 0.4625, 0.09375, 0.0, 0.16, 0.2777777777777778, -0.05833333333333333, 0.65, 0.49674014136904765, -0.225, -0.375, 0.0, 0.0, 0.07291666666666667, 0.26, 0.26666666666666666, 0.2916666666666667, 0.10974025974025974, -0.1714285714285714, 0.051041666666666666, 0.10909090909090909, -0.2875, 0.78125, 0.0, 0.0, -0.14285714285714285, 0.21875, -0.016176470588235303, 0.3583333333333333, 0.24545454545454545, 0.13142857142857145, 0.11468750000000003, -0.12666666666666668, 0.29692307692307696, 0.2, -0.049999999999999996, 0.7333333333333334, 0.5, 0.006349206349206347, 0.0, 0.4666666666666667, 0.4, -0.28781144781144774, 0.5, 0.20000000000000004, 0.5071428571428571, 0.0, 0.0, 0.0, 0.5333333333333333, -0.023214285714285715, 0.5, 0.4444444444444445, -0.09999999999999998, 0.5, 0.6166666666666667, 0.19722222222222222, 1.0, 0.78125, 0.5, 0.1830498866213152, 0.0, 0.41818181818181815, 0.5166666666666667, 0.008333333333333304, 0.0844155844155844, -0.25, 0.0, 0.4666666666666667, 0.125, 0.3895714285714285, 0.0, 0.10092592592592596, 0.3642857142857143, 1.0, 0.8307291666666667, 0.21428571428571427, 0.5, 0.13636363636363635, -0.04861111111111112, 0.4375, 0.8032986111111112, 0.35833333333333334, 0.008333333333333323, 0.8, 0.30833333333333335, -0.4, -0.4, 0.16, 0.375, 0.0, 0.4, 0.8, 0.0, 0.3458333333333333, -0.46875, 0.2, 0.5375, 0.5, -0.060858585858585855, 0.0, 0.8, 0.8, 0.0, 0.5666666666666667, -0.20833333333333334, 0.3090909090909091, 0.30833333333333335, 1.0, 0.2333333333333333, -0.13285714285714287, 0.25, 0.625, 0.48750000000000004, 0.1282716049382716, 0.0, 1.0, 0.17083333333333334, 0.75, 0.0, 0.0, 0.0, 0.0, -0.2916666666666667, -0.17499999999999996, -0.42500000000000004, 0.43333333333333335, -0.2333333333333333, 0.0, 0.0, 0.08333333333333333, 0.0, 0.04999999999999999, -0.4318181818181818, -0.19507575757575754, -0.2375, -0.125, 0.29583333333333334, 0.040340909090909094, 0.2681818181818182, 0.0693877551020408, 0.05, 1.0, 0.375, 0.0, 0.0, 0.22777777777777777, 1.0, 0.4635416666666667, 0.43333333333333335, 0.06413690476190474, 0.42666666666666664, 0.8666666666666667, 0.1, 0.0, 0.4375, 0.5, -0.007031250000000007, 0.13636363636363635, 0.2, -0.33181818181818185, -0.4625, 0.5881676136363636, -0.25, -0.1, 0.0, 0.15, -0.16893939393939397, -0.4777777777777778, -0.04166666666666666, 0.3590909090909091, 0.2028409090909091, 0.855, 0.8, 0.5821180555555556, -0.4375, 0.325, -0.3976888020833334, 0.3729166666666667, 0.0, 0.65, -0.9, -0.15, -0.13333333333333333, 1.0, 0.5, 0.5125, 0.2050925925925926, 0.48666666666666664, 0.6, -1.0, 0.5564630681818181, 0.5, 0.19999999999999998, 1.0, 1.0, 0.5605555555555556, -0.36458333333333337, 0.45, 0.25, 0.5, 0.475, 0.5416666666666667, 0.19666666666666666, 0.5166666666666667, 0.585, 0.44291666666666674, 0.04166666666666666, -0.8, 1.0, 0.0, 0.17878787878787875, 0.0, 0.4, 0.04523809523809522, 0.015000000000000005, 0.05446428571428571, 0.5, -1.0, 0.5, -0.041666666666666664, -0.48828125, -0.0625, 0.2, 5.551115123125783e-17, 1.0, 0.0, 0.44700000000000006, 0.0, 0.39285714285714285, 0.22000000000000003, -0.09285714285714286, 0.7, 0.0, 0.16097711811997525, -0.022222222222222216, -0.026041666666666678, 0.04999999999999999, 1.0, 0.26666666666666666, 0.16666666666666669, 0.3642857142857143, 0.27499999999999997, 0.3715909090909091, 0.0, 0.31666666666666665, 0.12708333333333335, 0.0, 0.0, 0.5, 1.0, 0.29411764705882354, 0.0, 0.4270833333333333, 0.2, 0.0, 0.0, 1.0, 0.0, 0.0, 1.0, 0.11856060606060605, 0.4375, -0.18833333333333332, 0.02159090909090909, 0.3444444444444445, 0.5222222222222223, 0.13636363636363635, 0.6, 0.65, 0.0, 0.25, 0.9099999999999999, 0.2, 0.375, 0.5599999999999999, -0.05, 0.43333333333333335, 0.5, 0.7333333333333334, 0.8687500000000001, -0.7999999999999999, 0.5, -0.1020408163265306, -0.3851010101010101, 0.0, 0.1708333333333333, 0.08750000000000008, 0.4000000000000001, 0.0, 0.09249999999999999, 0.03827160493827161, -0.6999999999999998, -0.04375000000000001, 0.0, 1.0, 0.0, 0.43333333333333335, 0.43333333333333335, 0.0, 0.19166666666666665, 0.2708333333333333, 0.65, 0.0, 0.07083333333333333, 0.7, 0.18572261072261073, 0.2625, -0.19090909090909092, 0.28, 0.019880445075757567, -0.12081228956228952, 0.061111111111111116, 0.4116666666666667, -0.1756172839506173, 0.125, -0.125, -1.0, -0.1, -0.2878787878787879, 1.0, 0.8, 0.3035714285714286, 0.0, 0.38, 0.11666666666666665, 0.0, 0.08611111111111112, 0.0, 0.375, 0.1739393939393939, 0.03148148148148147, 0.5285714285714287, 0.6785714285714285, 0.5, 0.035, -0.4, 0.4, 0.4, -0.05873015873015871, 0.9765625, 0.07000000000000002, 0.2, -0.15, 0.0, 0.7166666666666667, 0.30000000000000004, 0.46530612244897956, 0.028298611111111115, 0.625, 0.11999999999999997, 0.1, 0.35, 0.7833333333333333, 0.4980952380952381, 0.5, 0.0, 0.2, 0.0, 0.5354166666666667, -0.08, 0.6666666666666666, 0.3125, -0.0125, -0.07291666666666666, 0.21428571428571427, 0.43333333333333335, -0.15931818181818178, 0.5, -0.05178571428571429, 0.1, 0.5666666666666667, 0.65, 0.0, 0.25, 0.625, 0.0, 0.0, 0.06818181818181818, 0.6, 0.8, 0.2333333333333333, 0.43333333333333335, 0.06818181818181818, 0.28909090909090907, 0.0, 0.23484848484848483, 0.3111111111111111, 0.04380952380952381, 0.55, 0.88828125, 0.27499999999999997, 0.48333333333333334, 0.0406060606060606, 0.5, -0.07579365079365079, 0.5611111111111111, -0.0625, 0.1, 0.0, -0.15833333333333335, -0.17000000000000004, -0.1125, 0.1604081632653061, 0.06818181818181818, 0.3979166666666667, -0.10138888888888886, -0.24666666666666665, 0.2201666666666667, 0.11741071428571428, 0.0, -0.1, 0.03229166666666667, 0.0, 0.2916666666666667, 0.15825396825396826, -0.25, 0.16666666666666666, 0.9765625, 0.041666666666666664, 0.7, -0.5, 0.2, 0.4781746031746031, 0.006481481481481483, 0.2611111111111111, -0.10000000000000002, 0.9, 0.0, 0.0, 0.5, 0.492, 0.5, 0.24791666666666665, 0.5, 1.0, 0.0, 0.0, 0.0, 0.03148148148148147, 0.5, 0.17689393939393938, 0.47152777777777777, -0.36, 0.3995535714285714, -0.007575757575757576, 0.65, 0.0, -1.0, 0.09166666666666667, 0.0, 0.5, 0.6666666666666666, 0.0, -0.16666666666666666, 0.4, 0.5266666666666667, 0.0, 0.49166666666666664, 0.5, 0.07899449035812672, 0.5444444444444444, 0.10208333333333336, 0.09166666666666667, -0.030468750000000003, 0.7, -0.049999999999999996, 0.5, 0.0, 0.5625, 0.584375, 0.6000000000000001, 0.75, 0.0, -0.14095238095238097, 0.15550595238095238, 0.10057720057720057, 0.31666666666666665, 1.0, 0.0, -0.1171875, 0.13636363636363635, 0.5, 0.0, 0.0, 0.5, 0.5, 0.4375, 0.2, 0.5, 0.65, 0.12102272727272727, 1.0, 0.78125, 1.0, 0.0, 0.07878787878787878, 0.13636363636363635, -0.4027272727272727, 0.24999999999999997, 0.0, 0.0, 0.4866666666666667, 0.2, 0.12222222222222223, 0.10416666666666667, 0.11111111111111112, 1.0, 1.0, -0.038095238095238106, 0.8000000000000002, 0.12142857142857141, -0.22500000000000003, -0.3749999999999999, 0.31666666666666665, 0.2517857142857143, -0.06336088154269973, -0.33181818181818185, 0.0, 0.33249999999999996, 0.1, 0.5, -0.007133838383838372, 0.19166666666666665, 0.5, 0.29166666666666663, -0.07142857142857144, 0.20833333333333334, 1.0, 0.22, 0.32656250000000003, 0.6, 0.8, 0.3145833333333334, -0.08333333333333333, 0.78125, 0.24444444444444446, 1.0, 0.39999999999999997, 0.0, -0.054285714285714284, 0.3, 0.6666666666666667, 0.4270833333333333, 0.4547619047619048, 0.16041666666666668, 0.008333333333333337, 0.0, 0.5, 0.825, 0.0, -0.05, 0.0, -0.75, 0.7166666666666667, 0.35, 0.2130681818181818, 0.4, 0.0, 0.425, 0.75, 0.2625, -0.07777777777777778, 0.0625, 0.35, -0.35000000000000003, 0.12083333333333335, 0.125, 0.18333333333333332, 0.24861111111111112, 0.0, 0.6588541666666666, 0.2125, 0.4583333333333333, 1.0, 0.3, 0.30000000000000004, 0.5214285714285715, 0.04999999999999999, 0.0, 0.0, -0.75, 0.0, -0.2972222222222223, 0.2590909090909091, 0.8125, 0.4666666666666667, 0.1393939393939394, 0.5, 0.28500000000000003, -0.05, 0.5052083333333334, 0.0, 0.0, -0.037500000000000006, -0.15, 0.09, 0.45, 0.4, -0.11130952380952382, 0.8125, 0.0, -0.06666666666666667, 0.15768398268398268, 0.25, 0.47916666666666663, -0.21145833333333333, 0.3333333333333333, -0.02999999999999998, -0.15272727272727274, -0.05505050505050505, 0.215625, 0.37777777777777777, -0.20454545454545456, 0.48333333333333334, 1.0, 0.35153061224489796, 0.0, -0.0038888888888888975, 0.33392857142857146, 0.0, -0.0035714285714285704, 0.125, -0.3, 0.16666666666666666, 1.0, 0.08214285714285711, 0.35, 0.06944444444444446, 0.4444444444444445, 0.013888888888888876, 0.65625, -0.325, 0.3333333333333333, -0.07142857142857142, 0.027777777777777773, -0.13663636363636364, 0.0, 0.10101010101010101, -0.05, 0.0156060606060606, -0.08750000000000001, 0.175, 0.8, 0.6666666666666666, 0.44166666666666665, 0.65625, 0.1, 0.75, 0.04545454545454545, 0.11079545454545454, 0.3444444444444444, 0.7916666666666666, 0.0909090909090909, 0.006349206349206347, 0.0, 0.2814814814814815, 0.0, 0.5833333333333333, 0.5, 0.0, 0.1, 0.7875, -0.5, 0.0, 0.1, 0.85, 0.0, -0.3, -0.125, 0.625, 0.4222222222222222, -0.17307692307692307, 0.48828125, 0.21666666666666667, 0.0, 0.175, 0.5333333333333333, 0.6666666666666666, 0.35, 0.43333333333333335, 0.0, 0.6, 0.65, 0.27878787878787875, 0.6, 0.4, 0.39166666666666666, 0.0, 0.3, -0.05, -0.8, 0.47500000000000003, 0.5, 0.4166666666666667, 0.0, 0.0, 0.05553385416666665, 0.46666666666666673, 0.75, 0.7816666666666667, 0.45681818181818185, 0.0, 0.38920634920634917, 0.125, 0.3, 0.1412121212121212, 0.16972222222222222, 0.75, 0.0, 0.0, -0.4375, 0.38888888888888884, 0.75, 0.15419786096256685, 0.6777777777777777, 0.25, 0.5, 0.5, -0.05745920745920747, 0.0, 0.0, 0.0, 0.78125, 0.2681818181818182, 0.0, -0.2471590909090909, 0.0, -0.2, 0.5, 0.19666666666666668, 0.16, 0.0, 0.225, 0.5, 1.0, 1.0, 0.7, 1.0, -0.10000000000000002, 1.0, 0.6666666666666666, 0.5, 0.0, -0.18139730639730642, 0.6, 0.0, 0.0, 0.8, -0.2375, 1.0, -0.15, 0.16666666666666666, -0.09722222222222222, 0.625, -0.07500000000000001, 0.17045454545454544, 0.5, 0.2, 0.611111111111111, 0.9765625, 0.6000000000000001, 0.75, 0.8, 0.13866595643939394, -0.041666666666666664, 0.5333333333333333, -0.15176767676767677, -0.2222222222222222, 0.19176136363636362, 0.5, -0.027961760461760465, -0.5, 0.0, -0.275, 0.1409722222222222, 0.0, 0.3145833333333333, 0.4666666666666667, 0.48250000000000004, -0.16896694214876032, 0.06737213403880071, 0.4733333333333333, -0.24074074074074073, 0.4887784090909092, 0.09375, -0.65, 0.0, 0.0, 0.0, 0.0, 0.0, 0.4453125, 1.0, -0.11666666666666665, -0.10000000000000002, 0.1904761904761905, 0.6194444444444445, 0.13171487603305784, 0.06875, 0.024999999999999994, -0.24455492424242423, -0.2, 0.12363636363636363, 0.6499999999999999, 0.4166666666666667, 0.5, 0.444921875, 0.13636363636363635, 1.0, 0.5651041666666667, 0.65, -0.3, 0.0, -0.25, 0.006249999999999999, 0.2, 0.4666666666666667, -0.2833333333333333, 0.0, 0.11328125, -0.10833333333333334, 0.215, 0.5208333333333334, 0.7049479166666667, -0.13624338624338625, 0.15, 0.10022893772893773, 0.39, 0.3, -0.08124999999999999, -0.42500000000000004, -0.022862554112554112, -0.029166666666666636, 0.6000000000000001, -0.15, 0.4866666666666667, 0.43609375, 0.294, -0.05, 0.5, 0.22777777777777777, 0.0, -0.03810941043083901, -0.05, 0.11666666666666667, 0.3090909090909091, 0.625, -0.2, 0.7, 1.0, 0.1590909090909091, 0.78125, 0.6, 0.0, 0.0, 0.14545454545454545, 0.5, 0.0, 0.08863636363636364, 1.0, 0.0, 0.6, 0.24722222222222223, 0.7, 0.0, -0.033333333333333326, 0.0, 0.16666666666666666, 0.0, 0.0, -0.26666666666666666, 0.4533333333333333, 0.0, 0.11212121212121211, 0.1261904761904762, 0.3464285714285714, 0.7, 0.35, 1.0, -0.05555555555555555, 0.3666666666666667, 0.6, 0.0, 0.35, 0.1, 0.37878787878787873, 0.0, 0.125, 0.17500000000000002, -0.013888888888888888, 0.27602813852813857, 0.08363636363636363, 0.024999999999999994, 0.48333333333333334, 0.2548611111111111, 0.20833902939166096, -0.21388888888888888, 0.26666666666666666, 0.3333333333333333, 0.5, 0.39999999999999997, 0.26666666666666666, 0.018055555555555554, 0.0, 0.4166666666666667, 0.41111111111111104, 0.0, 0.146875, 0.5, 0.16818181818181818, 0.49083333333333334, 0.6325000000000001, 0.43, 0.0, -0.20999999999999996, -0.08333333333333333, 0.5, 0.5090277777777777, 0.6366666666666666, 0.26666666666666666, 0.6333333333333333, 0.3, 0.0, 0.75, 0.33765625, 0.0, 0.0, -0.19166666666666668, 0.0, -0.2878787878787879, 0.0, 0.37439393939393933, 0.43333333333333335, 0.0, 0.4166666666666667, 0.0, 0.9, 0.3333333333333333, 0.46388888888888885, 1.0, 0.0, -0.25, 0.0, 0.5, -0.2916666666666667, 0.6777777777777777, 0.020624999999999998, -0.015909090909090914, 0.3333333333333333, 0.2222222222222222, 0.22619047619047622, -0.8749999999999998, -0.10340909090909091, 0.26, 0.11071428571428572, 0.0, 0.14500000000000002, 0.0, 0.8, 0.75, 0.1, 0.0, 0.5773809523809524, 0.016666666666666635, -0.05, 0.47833333333333333, 0.5, 0.0, 0.0, -0.4212121212121212, 0.0, 0.0, -0.16666666666666666, 0.43166666666666664, 0.49333333333333335, 0.55, 0.625, -0.2152777777777778, -0.25, 0.0, -0.4375, 1.0, 0.9099999999999999, 0.0, 0.5741071428571428, -0.035, -1.0, 0.55, 0.625, 0.9765625, 0.5, 0.5, 0.0, 0.0, 0.0, 0.2, -0.2, 0.10519480519480519, 0.22395833333333331, -0.5125000000000001, 0.0, 0.018750000000000003, 0.5416666666666667, 0.35, 0.4, 0.06689453125, 0.5, 0.0, -0.0015151515151515433, 0.3875, -0.234375, 0.4222222222222222, 0.0, 0.0, 0.23015873015873015, 0.5, 0.0, 0.5, 0.4916666666666667, 0.3958333333333333, -0.20357142857142857, 1.0, 0.25, 0.4375, 0.2625, 0.07575757575757575, 0.7, 0.41666666666666663, 0.49444444444444446, 0.8, 0.35, -0.65, 0.7875000000000001, 0.0, 0.625, -0.08509778911564626, 0.0, 0.8, -0.8, 0.8111111111111112, 0.06033492822966507, 1.0, 0.20000000000000004, 0.0, 0.1, 0.48100000000000004, 0.0, 0.065, 0.0, 1.0, 0.08666666666666667, 0.0, 0.5166666666666666, 0.0, 0.78125, -0.1, 0.6, 0.2, 1.0, 0.0, 0.6000000000000001, 0.43333333333333335, 0.25, 1.0, 0.4071428571428571, 0.5428571428571429, 0.5211111111111111, 0.0, -0.16666666666666666, 0.2986111111111111, -0.47500000000000003, -0.4094065656565657, 0.24659090909090906, -0.29333333333333333, -0.07777777777777779, 0.1288888888888889, -0.11704545454545456, -0.05892857142857143, 0.0, 0.0, -0.15833333333333335, 0.0, 0.15327380952380956, 0.0, 0.21666666666666667, -0.13666666666666666, 0.3583333333333334, 0.30208333333333337, 0.4444444444444445, 0.19375, 0.44999999999999996, 0.625, 0.2857142857142857, -0.09112103174603174, -0.525, 0.0, 0.9, 0.10833333333333336, 0.061111111111111116, 0.008888888888888885, -0.13333333333333333, -1.0, 0.0, -0.25, -0.7, 0.0, -0.25, 0.0, -0.05694444444444444, 0.011640211640211636, 0.0, 0.5, 0.2, 0.4125, -1.0, 0.7291666666666667, 0.31666666666666665, 0.5, -0.16666666666666666, 0.04814814814814814, 0.8, 0.13636363636363635, -0.06272727272727274, 0.0, 0.0, 0.5108072916666667, 0.009090909090909094, 1.0, 0.43499999999999994, 0.0, 0.07999999999999999, 0.7, -0.33181818181818185, 0.5, 0.6, 0.625, 0.5, 0.125, 0.0, 0.5, 0.11416666666666668, 0.33809523809523806, 0.23750000000000002, -0.6666666666666666, 0.34920634920634924, 0.0, -0.8, 0.26750000000000007, 0.5, 0.0, 0.35833333333333334, 0.39999999999999997, 0.7, 0.35, -1.0, 0.0, 1.0, 0.2, 0.9765625, -0.2159090909090909, 0.0, 0.8333333333333334, 0.2, 0.4666666666666667, 0.7, 0.4666666666666667, 0.0, 0.13833333333333334, 0.5, 0.23611111111111108, 0.37645833333333334, 0.6166666666666667, 0.46875, 0.0, 0.575, 0.65, 0.009999999999999992, 0.07777777777777778, 0.0, 0.0, 0.31666666666666665, 0.05833333333333332, 0.43333333333333335, 0.5, 0.625, 1.0, 0.0, 0.638888888888889, -0.25, 0.42857142857142855, 0.0, -0.46875, 0.1420454545454545, 0.2, 0.16517857142857142, -0.04675925925925926, -0.017365210547028734, 0.9765625, 0.4000000000000001, -0.04583333333333334, 0.5, 0.36250000000000004, 0.2, 0.0, 0.0, 0.2636363636363636, 0.043148148148148185, 0.0, -0.012727272727272731, 1.0, 0.3466666666666667, -0.20238095238095238, 0.0, -0.024999999999999998, 0.43333333333333335, 0.3, 0.8802083333333334, 0.15499999999999997, 0.0, 0.475, 0.23611111111111113, 0.5666666666666667, -0.027777777777777766, 0.8719308035714285, 0.0, 0.3333333333333333, -0.09999999999999998, 0.01923076923076924, 1.0, -0.17407407407407408, 0.3125, 0.5, 0.6166666666666667, 0.13097098214285716, -0.09589947089947091, -0.01666666666666668, 0.5, 0.5, 0.0, 0.9, 0.0, 0.41666666666666663, -0.0875, 0.4063492063492064, 0.3583333333333334, 0.07159090909090908, 0.2, 0.0, 0.42848484848484847, 0.5272222222222223, 0.32333333333333336, 0.8, 0.04545454545454545, 0.4666666666666667, 0.9700000000000001, 0.0, 0.375, 0.7999999999999999, -0.2833333333333333, 0.11354166666666665, 0.0, 0.004296875, 0.1486111111111111, 0.03721590909090909, 0.5, 0.0, 1.0, 0.025000000000000005, 0.5, 0.0, 0.4, 0.0, 0.06666666666666667, 0.0, -0.625, 0.05555555555555556, -0.09837962962962964, 0.0, 0.5222222222222223, 1.0, 0.8333333333333334, 0.118046875, 0.1, 0.25, 0.3416666666666667, 0.5633333333333334, -0.23333333333333336, -0.3499999999999999, -0.08, 0.625, 0.5333333333333333, -0.027961760461760465, -0.2126262626262626, 0.20000000000000004, 0.19999999999999998, -0.3125, 0.38125, 0.25, -0.15555555555555559, 0.47500000000000003, 0.0, 0.0, -0.1268939393939394, 0.040476190476190485, -0.8749999999999998, 0.44666666666666666, 0.0, 0.78125, 0.9375000000000001, 0.061111111111111116, 0.06666666666666667, 0.6, 0.5, 0.09086111111111109, 0.425, 0.0, 0.5, 0.08766233766233766, 0.0, 0.630390625, 0.0, 0.38749999999999996, 0.5666666666666667, 0.4, 0.0, -0.2878787878787879, 0.9, 0.04999999999999999, -0.0018518518518518545, 0.0, 0.0, 1.0, 0.0, 0.0, 0.2, 0.525, 0.0, 0.005681818181818177, 0.0, 0.0, 0.0, 0.6, 0.0, -0.2, -0.4, 0.0, 0.09772727272727272, 0.20666666666666672, -0.175, 0.175, 0.3287878787878788, -0.016666666666666677, -0.1, -0.15, 0.5, 0.13636363636363635, 0.3, 0.0, -0.4, 0.02986111111111111, 0.2111111111111111, 0.3333333333333333, 0.2207070707070707, 0.35133928571428574, 0.25, 0.48333333333333334, -0.23981481481481484, 0.4625, 0.275, -0.032936507936507944, 0.7333333333333334, 0.11666666666666667, 0.0, 0.30833333333333335, 1.0, 0.26666666666666666, 1.0, -0.2972222222222222, 1.0, 0.625, 0.5, 0.31028138528138527, 0.1875, -0.3, 0.26666666666666666, 0.2, 0.0, 0.4666666666666667, 1.0, 0.253125, 0.2151515151515152, 0.0, 0.0, -0.125, -0.07500000000000001, 0.22833333333333336, 0.75, 0.625, 0.0, 0.37083333333333335, 0.30833333333333335, -0.16416666666666666, 0.0, 0.20000000000000004, 0.3416666666666666, 0.24375000000000002, 0.0, -0.16666666666666666, -0.05291666666666668, 0.8, 0.08888888888888889, 0.4, 0.0, 0.5, 0.0, 0.0, 0.1, -0.2019999999999999, 0.78125, 0.0, 0.30000000000000004, 0.047727272727272736, -0.09621212121212123, 0.010714285714285707, -0.007500000000000007, 0.4, 0.12521645021645023, 0.5, 1.0, 0.7708333333333334, 0.0, 0.8, 0.213888888888889, -0.019649621212121215, 0.0, 1.0, -0.2388888888888889, 0.13333333333333333, 0.4222222222222222, 0.0, 0.0, 0.625, 0.79, 0.08928571428571429, 0.5, 0.6, 0.13636363636363635, 0.5, 0.3, 0.625, 0.0, 0.8, 0.0, 1.0, 0.4083333333333333, 0.0, 0.4340909090909091, -0.09318181818181819, -0.20315656565656562, -0.6, 1.0, 0.0, 0.007272727272727269, 0.43333333333333335, 0.0, 0.1590909090909091, 1.0, 1.0, -0.09333333333333334, 0.5549999999999999, 0.375, 0.5666666666666667, -0.10333333333333332, 0.10555555555555556, 0.3060606060606061, 0.7, 0.0, 0.5, 0.06204836829836829, 0.62, -0.5666666666666665, 0.721953125, 0.28484848484848485, 0.5, 0.4375, 0.1392857142857143, 0.057500000000000016, -0.15, 0.1619047619047619, 0.0, 0.55, -0.07063492063492066, 0.6000000000000001, 0.225, 0.0, 1.0, 0.5, 0.5, 0.017708333333333333, 0.5290178571428571, 0.0, 0.0, 0.0, 0.0, 0.23333333333333334, 0.0, 0.25, 0.25625, 0.5, -0.1375, 0.5703703703703704, 0.16666666666666666, 0.0, 0.007272727272727275, -0.03465909090909092, 0.07599807599807601, 0.0, 0.3972222222222222, 0.43333333333333335, -0.42000000000000004, 0.1351190476190476, 0.12678571428571428, -0.2222222222222222, 1.0, -1.0, 0.7, 0.0, 0.2916666666666667, 1.0, 0.10892857142857143, 0.0, 0.7, 0.5, 0.25833333333333336, 0.3524038461538461, 0.5666666666666667, 0.06666666666666667, 0.3628676470588235, 0.4916666666666667, -0.15, 0.12777777777777777, 0.0, 0.5, 0.7, 0.42857142857142855, 0.6, 0.4283333333333333, -0.04315476190476192, 0.13636363636363635, 0.2625, 0.018181818181818174, 0.0, 0.17666666666666667, 0.38, 0.4702380952380953, 0.8, -0.05, -0.2916666666666667, 0.5833333333333334, -0.027777777777777773, 0.0, -0.14583333333333331, 0.059271284271284266, 0.17545454545454545, 1.0, 0.11481481481481481, 0.2898989898989899, -0.009999999999999964, 0.4222222222222222, -0.15000000000000002, 0.12499999999999999, 0.8, -0.10840909090909094, 0.375, 0.1, -0.12713068181818182, -0.05, 0.0, -0.05000000000000002, 0.3, -0.3888888888888889, -0.149609375, 0.0, 0.16, -0.0053571428571428424, 0.2845833333333333, -0.15539772727272727, -0.16287878787878787, 0.18500000000000003, 0.3, 0.08333333333333333, 0.15, 0.55, 0.5, -0.4812121212121212, 0.2333333333333333, 0.3181818181818182, 1.0, 0.13636363636363635, 0.6203125, -0.23750000000000002, 0.16833333333333333, 0.5, 0.3958333333333333, 0.18, 0.0, -0.06987012987012987, 0.5, 0.27, -0.09166666666666665, 0.26, 0.7, 0.9765625, 0.3, 0.171875, -0.3, 0.75, 0.22777777777777777, 0.20833333333333334, -0.24409722222222222, 0.43333333333333335, 0.3040246212121212, 0.3, 0.21944444444444444, 0.3111111111111111, 0.5, 0.4038095238095238, 0.05773809523809524, 0.4777777777777778, 0.23544642857142856, -0.16666666666666666, 0.3125, 0.9, 0.1875, 1.0, 0.033333333333333326, -0.11666666666666661, -0.5545454545454546, 0.23750000000000002, 0.0, -0.15176767676767677, 0.5, -0.30378787878787883, 0.18518518518518517, 0.8, 0.24722222222222223, 0.5, 0.19166666666666665, 0.3444444444444445, 0.0, 0.0, 0.09375, 0.2590909090909091, 0.625, 0.3263888888888889, 0.0, -0.2, 0.78125, 0.4777777777777778, 0.5875, 0.8463541666666669, 0.0, 0.0, 0.18055555555555558, 0.21481481481481482, 0.3, 0.0, 0.0, 0.8, 0.07878787878787878, 0.2, -0.8, 0.3333333333333333, 0.0, -0.004166666666666666, 0.0062500000000000056, -0.05974025974025973, 0.35, 0.5, 0.4, 0.4322916666666667, 0.3, 0.05277777777777781, 1.0, 0.3, 0.3125, 0.0, 0.44285714285714284, 0.0, 0.5625, 0.0, 0.5, 0.0, 0.16818181818181818, 1.0, 0.8, 0.004166666666666662, 0.0, 0.8, 0.6777777777777777, 0.5, 0.5, 0.14727272727272728, -0.15, 0.0625, 0.7, 0.06666666666666667, 0.0, 0.5822916666666667, 0.4, 0.5, 0.9375000000000001, 0.65, 0.5, 0.029981203007518786, 0.0, 0.8333333333333334, -0.15, 0.7, -0.1958333333333333, 0.35, 0.22499999999999998, -0.21666666666666667, 0.15, 0.0, 0.625, 0.225, 0.59375, 0.625, 0.8, 0.8, 0.4, -0.4777777777777778, 1.0, 0.6388888888888888, 0.5, -0.13787878787878785, 0.0, 0.06222222222222223, 0.1, 0.4502083333333333, 0.5041666666666668, 0.5158333333333334, 0.5, 0.39999999999999997, 0.007142857142857125, 0.6000000000000001, 0.25, -0.0638888888888889, 0.7266666666666668, -0.2916666666666667, -0.3791666666666667, -0.02777777777777778, 0.0225, 0.25, 0.175, -0.041666666666666685, 1.0, 0.43333333333333335, 0.13636363636363635, 0.05541666666666666, 0.0, 0.2333333333333333, 0.5, -0.05486111111111112, 0.3833333333333333, -0.2212121212121212, 0.18212121212121213, 0.7, 0.0, 0.04928571428571431, 0.0, 0.3, 0.5916666666666667, 0.125, 0.4041666666666666, 0.0, 0.1125, 0.0, -0.10347222222222223, 0.5666666666666667, 0.18727272727272729, -0.3333333333333333, 0.1, -0.02992424242424241, -0.09915764790764793, 0.2, 0.37142857142857144, -0.2878787878787879, 0.35793650793650794, -0.16666666666666669, 1.0, 0.2, 0.315, 0.0, 0.125, 0.75, 0.64, 0.0, 0.3444805194805195, 0.0, 0.8, 0.6666666666666666, 1.0, -0.15555555555555559, 0.0, -0.06861471861471861, 0.11754385964912281, 0.10277777777777776, 0.22499999999999998, 0.75, 0.43333333333333335, 0.13636363636363635, 0.5, -0.056392045454545445, 0.625, 0.0, 0.36458333333333337, 0.20370370370370372, 0.10075757575757577, 0.0, 0.06818181818181818, -0.14999999999999994, 0.25, 0.2875, 0.5, 0.0, 0.0, 0.0, -0.012499999999999997, 0.41999999999999993, 0.06818181818181818, 0.0, 0.375, 0.0, 0.0, 0.2875, 0.0, 0.8, 0.5, 0.0, 0.3361111111111111, -0.5, 1.0, -0.22708333333333333, 0.0, -0.15666666666666668, -0.8, -0.5399999999999999, 1.0, 0.85, -0.5, -0.3055555555555555, 0.5, 1.0, 0.21145833333333333, 0.17500000000000002, 0.4708333333333333, 1.0, 0.006623931623931626, 0.4, 0.3333333333333333, 0.43333333333333335, 0.2, 0.40625, 0.25555555555555554, 0.13636363636363635, 0.3595238095238095, 0.05810276679841898, 0.11041666666666668, -0.09722222222222222, 0.5, -0.8, 0.6666666666666666, -0.05037878787878789, 0.8, -0.41666666666666663, 0.44000000000000006, 0.0, -0.22499999999999998, 0.4444444444444445, 0.17045454545454544, -0.11666666666666668, 0.2, 0.0, 0.0, 0.45083333333333336, 0.0, 0.0, 0.12708333333333333, 0.8, 1.0, 0.2, 0.44999999999999996, 0.6000000000000001, 0.8, 0.4666666666666667, 0.09726190476190477, 0.8, 0.39999999999999997, 0.38125, 0.12718360071301246, 0.016666666666666663, 0.5, 0.0, 0.0, 0.44999999999999996, 0.1171875, -0.1, -0.003409090909090917, 0.5, 0.18714285714285714, 0.78125, -0.10147186147186148, 0.0, 0.1761363636363636, 0.31666666666666665, 1.0, 0.5, 0.09902597402597402, 0.0, 1.0, 0.5, 0.5888888888888889, 0.2857142857142857, 0.2, 0.41944444444444445, 0.75, 0.3053571428571429, 0.06666666666666667, 0.09659090909090909, 1.0, 0.033333333333333326, 0.02083333333333333, 0.39999999999999997, 0.25000000000000006, 0.5, 1.0, 0.5, -0.10750000000000001, 0.10726495726495726, 0.37666666666666665, -0.03583333333333333, 0.15047619047619049, 0.016666666666666677, -0.25, -3.9682539682537955e-05, 0.10416666666666666, 0.525, 0.43333333333333335, 0.0, 0.1590909090909091, 0.0, -0.4545454545454546, 1.0, 0.31666666666666665, -0.24722222222222226, 0.21022727272727273, -0.3, 0.18645833333333334, 0.0, 0.5416666666666666, 0.0, -0.1, -0.17380952380952377, 0.46590909090909094, 0.42638888888888893, 0.0, 0.5787878787878787, 0.5444444444444444, 0.0, -0.5622222222222223, 0.2, 0.9099999999999999, 0.5, -0.054545454545454564, 0.7, 0.0, 0.39, 0.41276041666666663, 0.8, 0.75, 1.0, 0.421875, 0.2380952380952381, -0.014285714285714294, -0.15185185185185185, -0.375, 0.0, 0.75, 0.06666666666666667, 0.0, 0.5, 0.4108630952380953, 0.5, 0.021666666666666674, 0.525, -0.125, 0.5, 1.0, 0.78125, 0.4444444444444445, 0.18858901515151516, 0.05, 0.95367431640625, 0.65, 0.0, 0.22499999999999998, 0.15000000000000002, 1.0, 0.075, 0.13636363636363635, 0.28, 0.8, -0.03333333333333329, -0.2845454545454546, 0.1, 0.0, 0.128125, 0.088008658008658, 0.0, -0.2, 0.05496632996632997, 0.5066666666666667, -0.125, 0.6666666666666666, 0.3333333333333333, 0.0, 0.28, 0.0, 0.5, -0.005555555555555564, 0.0, 0.0, -0.17916666666666664, 0.27878787878787875, 0.2, 0.0, 0.0, 1.0, 0.2625, 0.2857142857142857, 0.16287878787878787, 0.196875, 0.5, 0.35, 0.45, 0.42500000000000004, 0.0, 0.6588541666666666, 0.09777777777777777, 0.0, 0.0, 0.0, 0.7, 0.0, 0.325, 0.3565656565656566, 0.0, 0.16517857142857142, 0.13750000000000004, 0.8, 0.6904761904761905, 0.08333333333333333, 0.65, 0.7, 1.0, 1.0, -0.08299663299663301, 0.1590909090909091, 0.5, 0.0, 0.05557851239669422, 0.26875, -0.39000632546164765, 0.0, 0.5635416666666667, 0.6000000000000001, 1.0, 0.15833333333333333, 0.0, 0.640625, 0.0, -0.15000000000000002, 0.06999999999999999, 0.48828125, 0.21530303030303033, 0.0, 0.24444444444444446, 0.5, -0.04720279720279719, 0.1, 0.35, 0.48750000000000004, 0.041666666666666664, 0.14833333333333334, -0.5, 0.0, 1.0, 0.3, 0.1, 0.04583333333333333, -0.15555555555555559, 0.37142857142857144, 0.0, 0.6449999999999999, 1.0, 0.625, 0.4, -0.22727272727272727, 0.0, 0.125, 0.5, 0.20000000000000004, -0.09583333333333333, 0.5, 0.0, 0.30023809523809525, 0.75, 0.3453333333333333, 0.3794191919191919, 0.7500000000000001, 0.25, 0.20555555555555557, 0.301010101010101, 0.2583333333333333, 0.3625, 0.6666666666666666, 0.41111111111111115, -0.0034722222222222467, 0.7708333333333334, -0.07777777777777779, -0.34166666666666673, 0.06666666666666665, 0.0, 0.125, -0.10594405594405594, -0.14076599326599323, 0.7, 0.037500000000000006, 1.0, 0.6000000000000001, -0.18333333333333335, 1.0, 0.0, 0.07999999999999999, 0.7, -0.05, 0.06, 0.1, 0.0547387136672851, 0.4, 0.5, -0.16666666666666666, 0.15, 0.1340909090909091, -0.75, 0.7, 0.2583333333333333, 0.775, -0.15, -0.375, 0.3333333333333333, 0.5633333333333334, 0.825, 0.0, 0.13636363636363635, 1.0, 0.273015873015873, 0.06818181818181818, -0.7414772727272728, 0.25, 0.39907407407407414, 0.023232323232323233, 0.0, 0.5, 0.3125, 0.0988095238095238, 0.0, 0.1824980574980575, 0.0, 0.0, 0.10666666666666666, -0.05505050505050505, 0.25, 0.0, 0.21428571428571427, -0.30000000000000004, 0.0, 0.2, 0.55, 0.5766666666666667, 0.30000000000000004, 0.5, 0.78125, -0.12777777777777777, -0.04375000000000001, 0.5, 0.016666666666666663, -0.08333333333333333, 0.11818181818181818, -0.275, -0.10714285714285714, -0.07003367003366999, 0.12833333333333333, 0.0, 0.022970779220779208, 0.4041666666666667, 0.14242424242424243, 0.6, 0.05208333333333333, 0.49107142857142855, 0.3683333333333334, -0.14583333333333334, 0.5349999999999999, 0.35714285714285715, 0.5, 0.2982552800734619, 0.5633333333333334, -0.03125, 1.0, -0.42142857142857143, 0.3340909090909091, 0.0, 0.37816017316017314, -0.08892255892255892, -0.3127272727272727, 0.30000000000000004, 0.05714285714285713, 1.0, 0.2916666666666667, -0.15454545454545454, -0.040519480519480545, 0.0, 0.2, -1.0, -0.378125, 0.2, -0.016666666666666653, 0.19508928571428572, 1.0, -0.09166666666666667, 1.0, -0.4, 0.23393939393939395, 0.35416666666666663, 0.04, 0.8125, 1.0, 0.6, 0.75, 0.3340909090909091, -0.115625, -0.19166666666666668, -0.15454545454545454, 0.3520833333333333, 0.0, 0.04545454545454545, 0.37777777777777777, 0.7741666666666668, 0.0994047619047619, 0.1535714285714286, 0.4666666666666666, 0.6, -0.06888020833333332, 0.0, 1.0, 0.06000000000000001, 0.75, -0.15, 0.7, 0.0, 0.4, 0.0, 0.3, 0.05, 0.0, 0.23333333333333334, 0.24500000000000002, 0.6499999999999999, 0.35, 0.625, 0.12499999999999999, 0.7000000000000001, 0.625, 1.0, 0.0, 0.2571428571428571, -0.16018518518518518, 0.2537037037037037, 0.4583333333333333, 0.5, -0.020833333333333332, 0.0, 0.0, 0.43333333333333335, 0.08333333333333333, 0.1, 0.0, -0.13333333333333333, -0.041666666666666664, 0.04791666666666668, 0.65, 0.0, 0.052083333333333336, 0.225, 0.2916666666666667, 0.0, 0.387202380952381, 0.5, 0.78125, 0.55, 0.0, 0.0028571428571428437, 0.6000000000000001, -0.09722222222222222, -0.3, -0.10170454545454546, 0.43333333333333335, 0.25, 0.2857142857142857, 0.5833333333333334, 0.18012820512820513, 0.5, 0.15, 0.43333333333333335, 0.5, 0.045833333333333316, 0.43333333333333335, 0.6000000000000001, 0.5208333333333334, -0.46590909090909094, 0.8, 0.3416666666666667, 0.6, -0.16666666666666666, -0.31590909090909086, 0.655, 0.6000000000000001, -0.11944444444444446, 0.14727272727272728, -0.2037878787878788, 0.35, 0.0, 0.2, 0.3333333333333333, 1.0, 0.17500000000000002, -0.5, -0.0035714285714285726, 0.04999999999999999, 0.11055871212121211, 0.125, 1.0, 0.1, 0.1, -0.2658333333333333, 1.0, 0.04999999999999999, 0.47500000000000003, 0.10555555555555556, 0.2333333333333333, 0.5, 0.19444444444444445, 0.3333333333333333, 0.018181818181818174, 0.0, 0.4666666666666667, 0.004545454545454555, 0.325, 0.2571428571428572, 0.15416666666666667, 0.5, 0.24666666666666667, 0.4, 0.2, 0.16999999999999998, -0.041666666666666664, 0.75, -0.3, 0.0, 0.03333333333333336, 0.7, 0.75, 0.43333333333333335, 0.3833333333333333, -1.0, -0.20357142857142857, 0.01785714285714285, 0.0, 0.0, 0.06727272727272728, 0.5119791666666667, 0.008333333333333325, -0.16123966942148762, 0.5, 0.4166666666666667, 0.5, 0.0002754820936639136, -0.5, 0.0, 0.2, 0.41666666666666663, -0.25, 1.0, 0.1505050505050505, 0.3194444444444444, 0.008674918831168832, 0.0, 0.22499999999999998, 0.225, 0.0, 0.0, 0.052525252525252523, -0.1, 0.4583333333333333, 0.2714285714285714, 0.2, 0.16944444444444443, 0.3142857142857143, 0.0, 0.0, 0.5633333333333334, 0.10952380952380952, 0.5354166666666667, -0.02566287878787879, 0.09999999999999998, 0.3333333333333333, 0.5, 0.18522727272727274, 0.3047619047619048, -0.4967272727272727, 0.17777777777777778, 0.0, -0.0062500000000000056, 0.2333333333333333, -0.25416666666666665, 0.29583333333333334, 0.0, 0.16666666666666666, 0.23125, 0.08333333333333333, 0.31666666666666665, 0.0, 0.041666666666666664, 1.0, 0.5, 0.4666666666666666, 0.08255208333333333, 0.5, -0.0875, 0.0, 0.5, 0.5, -0.6666666666666666, 0.12224025974025975, 0.13636363636363635, 0.1, 0.032638888888888884, 0.7500000000000001, 0.0459280303030303, -0.2410714285714286, -0.13257575757575757, 0.08409090909090908, 0.10555555555555556, 0.75, 0.3, 0.625, -0.20714285714285713, 0.0, 0.5, 0.5625, 0.14267676767676768, 0.11111111111111112, -0.5541666666666667, 0.16527777777777777, 0.3125, 0.3, -0.10000000000000002, 0.5166666666666666, 0.0, 0.7, -0.0305871212121212, 0.5, -0.041666666666666664, 0.0, 1.0, 0.45555555555555555, -0.10275482093663912, 0.0, 0.0, -0.5, 0.534375, -0.09136363636363636, 0.0, 0.48333333333333334, 0.0, -0.34047619047619043, 0.5625, 0.525, 0.3604166666666667, -1.0, 0.0, 0.3758333333333333, 0.03219696969696969, 0.037962962962962976, 0.1090909090909091, 0.0, 0.012288469106650927, 0.7333333333333333, 1.0, 0.5, 0.041666666666666664, 0.6000000000000001, -0.3125, -0.36683238636363635, 0.0, 0.5666666666666668, 0.029040404040404033, 0.625, 0.0, 0.6000000000000001, -0.0037878787878787706, 0.1329861111111111, 0.31333333333333335, -0.14204545454545453, 0.275, 1.0, 0.027272727272727275, -0.1159090909090909, 0.19166666666666665, 0.39083333333333337, 0.03333333333333335, -0.0431818181818182, 0.0, 0.3333333333333333, 0.10277777777777779, 0.7083333333333334, 0.8, -0.14246031746031743, 0.0, 0.061666666666666675, 0.5, -0.075, 0.3802083333333333, -1.0, -0.02635062748699114, 0.16666666666666666, 0.08055555555555553, 0.65, -0.1111111111111111, 0.13636363636363635, -0.5, 0.3205357142857143, 0.033939393939393936, -0.04444444444444446, 0.13636363636363635, 0.22619047619047625, 0.8, 0.33125, 0.08571428571428572, 0.17045454545454544, -0.052816312475403394, -0.6124999999999999, 0.7, -0.20982142857142858, 0.04301948051948051, 0.5111111111111112, 0.625, 0.5, -0.09090909090909091, -0.12215909090909091, 0.5, 0.0, 0.43333333333333335, -0.1, 0.0, -0.05, 0.0625, 0.0, 1.0, 0.21437499999999998, -1.0, 0.23750000000000002, 0.5, 0.0, -0.25, 0.75, 0.0, -0.02500000000000001, 0.04393939393939394, 0.5, 0.36875, -0.1185921717171717, -0.4318181818181818, 0.0, 0.0, 0.27999999999999997, 0.3547619047619048, 0.0763888888888889, 0.8041666666666667, 0.2215909090909091, 0.06666666666666665, -0.052380952380952375, -0.035416666666666666, -0.565909090909091, 0.5, 0.125, 0.4375, 0.2556818181818182, 0.13636363636363635, 0.2778409090909091, 0.23611111111111113, 0.36875, -0.4318181818181818, 0.1303030303030303, -0.25, -0.2, -0.011111111111111108, 0.8, 0.0, 0.4166666666666667, 0.26, -0.65, -0.023863636363636365, 0.59375, 0.375, 1.0, 0.5, 0.35, 0.6, -0.10772727272727274, 0.29375, 1.0, 0.21666666666666667, 0.494047619047619, 0.2625, 0.12708333333333333, 0.19999999999999998, -0.4727272727272728, 0.7, 0.033333333333333326, 0.08617424242424243, 0.018181818181818174, 0.2, 1.0, 0.0, 0.5, 0.0, -0.3333333333333333, 0.3, -0.015186507936507943, 0.125, 1.0, -0.12121212121212122, 0.0, 0.11948051948051948, 0.3416666666666667, 0.8125, -0.25, -0.033333333333333326, 0.0, -0.10611111111111113, -0.024999999999999994, 1.0, -0.05238095238095238, -0.020684523809523812, -1.0, 0.3197310014204545, -0.4318181818181818, 0.5, 0.8, 0.0, 1.0, 0.5, 0.2, 0.3333333333333333, 0.0, -1.0, 0.43333333333333335, 0.8, 0.0, 0.75, 0.026388888888888903, 0.2759259259259259, 0.2944805194805195, -0.0017857142857142794, 0.6000000000000001, 0.020075757575757584, 0.5416666666666667, -0.004227053140096618, 0.75, -0.6999999999999998, 0.25, 0.25, -0.3333333333333333, 1.0, 0.5166666666666666, 0.6444444444444445, 0.5, 1.0, 0.0, 0.5, 0.4, 0.0, -0.125, 0.16111111111111112, 0.5209798177083333, -0.27, 0.26666666666666666, 0.09375, 0.0, 0.0, -0.078125, -0.009217171717171712, 0.2444805194805195, -0.10454545454545455, 0.0909090909090909, -0.15555555555555559, 0.45458333333333345, -0.2263888888888889, 0.8, 0.158125, 0.29489425505050504, 0.0, 0.6770833333333335, 0.11708333333333334, 0.04083333333333333, 0.37083333333333335, -0.10611111111111111, 0.19166666666666665, 0.0, 0.04545454545454545, 0.3541666666666667, 0.06101641414141415, -0.09848484848484848, 0.0, 0.75, 0.0, -0.6041666666666665, 0.35, 0.5, 0.6166666666666667, 0.06666666666666667, 0.07878787878787878, 0.43333333333333335, 0.6001785714285715, 0.078125, 0.014285714285714282, -0.25, 0.0, 0.0, 0.4666666666666666, 0.29531250000000003, -0.3409090909090909, -0.075, 0.01666666666666668, 0.021354166666666667, -0.625, -1.0, 0.0, 0.34375, 0.3571428571428571, 0.11818181818181818, 0.5866666666666667, 0.5340277777777778, -0.05, -0.5, 0.8, 0.375, 0.16704545454545455, -0.23333333333333336, 0.0412037037037037, 0.5, -0.5, -1.0, -0.25, 0.033333333333333326, 0.028333333333333332, 0.2916666666666667, 0.3260416666666666, -0.325, -0.2916666666666667, 0.0, 0.0, 0.041818181818181824, 0.0, 0.0, 0.2333333333333333, 0.0, 0.6111111111111112, -0.007142857142857141, 0.4067234848484849, -1.0, 0.3833333333333333, 0.5, 0.0, 0.15, -0.2, 0.0, 0.25, -0.1921875, 0.35, -0.37500000000000006, 0.8, -0.8, -0.075, -0.2545454545454546, 1.0, -0.22121212121212122, 0.20574544270833328, 0.75, 0.0, -0.04166666666666666, 0.0, 0.3025, 0.45, 0.5, 0.13579545454545455, 0.13636363636363635, -0.265, 0.16666666666666666, 0.47500000000000003, 0.0, 0.0, 0.35, 0.06785714285714285, 0.3, -0.013636363636363636, -0.29220303622159094, -0.18333333333333335, -0.11060606060606061, 0.08035714285714285, 0.5, 0.2583333333333333, -0.25, 0.2010416666666667, 0.13854166666666667, 0.0, 0.5166666666666666, 0.1142857142857143, 0.155, 0.07672727272727273, 0.7444444444444445, 1.0, 0.6166666666666667, 0.0, 0.43333333333333335, 0.625, -0.14722222222222223, 0.0, 0.26, -0.05194805194805193, 1.0, 0.7, 0.15833333333333335, 0.17247222222222222, 0.45625, 0.5437500000000001, 0.09999999999999999, -0.2659090909090909, -0.05520833333333333, 0.0, 0.11948051948051949, -0.07314814814814813, -1.0, -0.3172916666666667, 0.5, 0.5416666666666667, -0.1375, 0.0, 0.0, 0.041666666666666664, 0.051736111111111115, 0.2729166666666667, 0.04242424242424243, 0.06727272727272726, 0.0, 0.135, -0.09375, 0.75, -0.02121212121212122, -0.1416666666666667, -0.2, 0.3361111111111111, 0.16666666666666666, -0.057727272727272724, -0.16666666666666669, -0.5, -0.07272727272727271, 0.45535714285714285, 0.1875, -0.2878787878787879, 0.31666666666666665, 0.0, 0.5, 0.027083333333333327, 1.0, 1.0, 0.6, 0.6000000000000001, 0.5, 1.0, 0.0, 0.0, -0.7, 0.425, 0.36818181818181817, 0.3472727272727273, 0.37777777777777777, -0.25681818181818183, -0.8333333333333334, 0.65, 1.0, 0.5637276785714286, 0.20714285714285713, 0.10305059523809523, 0.0, -0.4318181818181818, -0.15272727272727274, -0.06208333333333334, -0.5596590909090909, 0.09652777777777778, 0.5, 0.375, 0.7, 0.2130681818181818, 0.2340909090909091, 0.58828125, 0.2902777777777778, 0.26701388888888894, 0.334375, 0.06333333333333342, -0.09218614718614719, 0.45, 0.3181818181818182, -0.20000000000000004, 0.0, 0.20952380952380953, 0.5416666666666667, 0.0008297258297258311, -0.5, 0.0, -0.2212121212121212, 0.478515625, -0.1, 0.2777777777777778, 0.3, 0.7, 0.5885416666666667, 0.25, -0.375, 0.06000000000000001, 0.0, 0.17142857142857146, -0.5, 0.6, 0.37083333333333335, 0.0625, 0.06666666666666667, -0.0625, -0.41765624999999995, -0.05602484472049691, 0.1090909090909091, -0.15302734375000002, 0.25, 0.29166666666666663, 0.4741071428571429, 0.1, -0.11590909090909092, 0.0, -0.125, 0.29333333333333333, 1.0, 1.0, 0.14444444444444446, 0.13636363636363635, -0.075, -0.325, -0.25, -0.26666666666666666, 1.0, 1.0, 0.0, 0.37142857142857144, -0.1478305785123967, -0.05, -0.3375, 0.6666666666666666, -0.4549999999999999, 0.8, 0.21024410774410773, 0.06666666666666665, 0.3, 1.0, 0.45, 0.4583333333333333, 0.25, 0.0, 0.2877092633928572, 0.13636363636363635, 0.0, 0.25, 0.07662337662337662, 0.0, 0.0, -0.023131868131868134, 0.0, 0.2, 0.31, 0.38, 0.4166666666666667, 0.5, 0.7604166666666666, -0.16666666666666666, 0.1340909090909091, -0.2712752525252526, 0.07083333333333336, -0.05893939393939394, -0.015151515151515152, -0.15, 0.5, -0.33181818181818185, 0.0, 1.0, 0.01249999999999999, -0.75, -1.0, 0.5333333333333333, 0.0, -0.33181818181818185, 0.8, 0.04444444444444443, 1.0, 0.32395833333333335, 0.5, 0.41666666666666663, 1.0, 0.3466666666666667, -0.025, 1.0, 0.0, 0.6000000000000001, 0.0, 0.334375, 0.25, 0.465, 0.5, -0.008333333333333331, -0.5, 0.05, 0.07878787878787878, 0.125, 0.0, 0.0, 0.34223484848484853, -0.11174242424242424, 0.0, 0.8, 0.0, 0.26212121212121214, -0.04, 0.0, 0.19517045454545456, 0.2847842261904762, -0.2761904761904762, 0.1815, 0.6000000000000001, 0.0, 0.4666666666666667, 0.0, -0.000843016632490315, -0.7999999999999999, 0.6588541666666666, 0.9375000000000001, -0.05, 0.2857142857142857, 0.012500000000000004, -1.0, 0.625, 0.022727272727272717, 0.0, 1.0, 0.0, 1.0, -0.375, 0.5416666666666667, 0.0, -0.15, 0.40041666666666664, -0.10566666666666666, 0.0, 0.05740740740740741, 0.2142857142857143, 1.0, -0.1875, 0.8, 0.78125, 0.12, 0.0, 0.42857142857142855, 0.015909090909090914, -0.7333333333333334, -0.003409090909090917, 0.6500000000000001, 0.2539393939393939, -0.33181818181818185, 0.125, 0.0, 0.5583333333333333, -0.00393518518518519, 0.19545454545454546, 1.0, -0.20984848484848487, 0.3028571428571428, -0.02666666666666666, -0.08333333333333333, -0.12738095238095237, 0.37878787878787873, -0.2318181818181818, 0.625, 0.676953125, 0.09375, 0.41439393939393937, 0.345045695045695, 0.0, 0.3, 0.0, -0.05833333333333335, 0.20555555555555557, 0.0, 0.16666666666666666, -0.1375, -0.006397306397306411, 0.011309523809523797, 0.0, 0.18333333333333335, -0.05, 0.2952380952380952, 1.0, 0.9765625, 0.0, 0.1666363636363636, 0.390625, 0.0, -0.13999999999999999, 0.6395833333333334, 0.017857142857142842, -0.6333333333333333, 0.5833333333333334, 0.05, 0.0, 0.0, -0.1, 0.4, -0.3377272727272727, -0.10833333333333334, -0.26666666666666666, -0.7666666666666666, 0.15833333333333335, -0.2375, 0.18409090909090908, 0.26666666666666666, 0.09753787878787878, 0.0, -0.30000000000000004, -0.02939393939393937, -0.1462121212121212, 0.11818181818181818, 0.6, 0.0175, 0.5, -0.016666666666666663, 0.140625, -0.28781144781144774, 0.2, 0.75, 0.0, 0.3565340909090909, 0.0, 0.65, -0.38125, 0.10416666666666666, 0.6, 0.0, 0.06371922348484849, -0.26666666666666666, 0.040202020202020204, -0.135, 0.8, -0.1670809659090909, -0.20984848484848487, 0.7083333333333334, -0.2916666666666667, 0.0, 0.0, 0.6000000000000001, 0.0, 0.5, -0.13333333333333333, 0.0, 0.1, -0.2238095238095238, 0.15, 0.12122564935064935, 0.4166666666666667, 0.48333333333333334, 0.3148148148148148, 0.0, 0.2142857142857143, 0.3, 0.6166666666666667, -0.5625, -0.037109375, 0.0, 0.0, 0.43333333333333335, 0.12727272727272726, 0.39999999999999997, -0.125, -0.050012025012025015, 0.3444444444444444, -0.030662878787878798, 0.09652777777777777, 0.12916666666666668, 0.5, -0.20416666666666666, -0.013333333333333332, 0.23892045454545457, 0.0, 0.09393939393939395, 0.00019480519480518814, 0.7333333333333334, -0.19027777777777777, -0.2875, 0.30000000000000004, 0.3333333333333333, 0.4375, -0.1534090909090909, 0.25, -0.4, 0.07166666666666667, 1.0, -0.1380952380952381, 0.5, -0.10385714285714287, 0.6, -0.17864583333333334, -0.23551948051948052, 0.15416666666666667, 0.028571428571428557, 0.012121212121212116, 0.08550482855902773, -0.36590909090909096, 0.7166666666666667, 0.2372474747474747, 0.8, -0.028138528138528147, 0.244140625, -0.17588383838383845, -0.2878787878787879, -0.24375000000000002, 0.11875, 0.38409090909090904, -0.3147727272727273, -0.15000000000000002, 0.4833333333333334, -0.048958333333333354, -1.0, 0.007272727272727275, -0.4, -0.8, 0.0893939393939394, 0.5, 0.0, 0.6, 0.06000000000000001, 0.0, 0.3642857142857143, 0.3666666666666667, 0.33999999999999997, -0.06640625, -0.24898989898989898, -0.02857142857142858, -0.3016666666666667, 0.75, 0.16666666666666666, 0.10562770562770563, -0.13333333333333333, 0.25, 0.5666666666666667, 0.5666666666666667, -0.09848484848484848, 0.25520833333333337, -0.20000000000000004, -0.4999999999999999, -1.0, 0.16666666666666666, 0.2355769230769231, 0.036147186147186136, -0.3147727272727273, -0.0012759170653907637, 0.5, 0.15867346938775514, 0.0, 0.1524621212121212, 0.0026262626262626137, 0.08727272727272727, -0.041666666666666664, 0.31666666666666665, 0.78125, 0.0625, -0.3333333333333333, -0.18920454545454546, -0.10416666666666664, 0.30277777777777776, 1.0, 0.17649410774410776, -0.02777777777777778, 0.16325757575757577, 0.13636363636363635, 0.65, -0.25, -0.40454545454545454, 0.0, 0.10732838589981446, -0.00833333333333334, 0.0, 0.03888888888888889, 0.1551948051948052, 0.9765625, 0.5, -0.07500000000000001, 0.35000000000000003, 0.6933333333333334, 0.08611111111111111, 0.0, 0.07500000000000001, 0.0, 0.0, 0.0, 0.8125, 0.0, 0.44204545454545463, 0.4416666666666667, 0.1671717171717172, 0.0, 0.5, 0.1393939393939394, -0.09805555555555556, 0.8111111111111112, -0.15, 0.19025974025974027, 0.9, -0.2625, 0.5, 0.10937500000000003, 0.2, 0.278125, -0.3319480519480519, -0.4, 0.6515625, -0.3333333333333333, 0.5, 0.175, 0.0, 0.07472027972027973, 0.0, 0.036538461538461534, 0.249609375, 0.55, 0.075, 0.1, 0.65, 1.1102230246251566e-17, -0.0035555555555555644, 0.0, 0.25, 0.2, 0.07132936507936508, -0.7, 0.52, 0.13636363636363635, 0.045722222222222206, 0.4861111111111111, -0.625, -0.4833333333333333, 0.022099567099567095, 0.4625, -0.6, 0.5, 0.049999999999999996, 0.38, 0.05892255892255892, 1.0, 0.25, 0.5166666666666667, -0.02895622895622895, 0.39285714285714285, 0.39444444444444443, 0.0, 0.6166666666666667, -0.5, 0.7, 0.2, -0.325, -0.03333333333333333, -0.1479166666666667, 0.25277777777777777, 0.13636363636363635, 0.0, 0.3520833333333333, 0.25, 0.53, 0.40625, 0.3111111111111111, 0.6000000000000001, 0.5, 0.1875, 0.0, 0.21363636363636362, 0.2787878787878788, 0.22499999999999998, 0.6333333333333333, -0.0474025974025974, -0.10833333333333335, 0.10181818181818181, -0.03896103896103896, 0.0625, 0.28500000000000003, 0.25, 0.11212121212121212, 0.0, 1.0, 0.16818181818181818, 0.26633522727272724, 0.0, -0.045115864527629244, -0.0023310023310023353, 0.45333333333333337, 0.4681818181818182, 0.08333333333333334, 0.07152777777777779, 1.0, 0.04545454545454545, -0.09999999999999999, -0.08257575757575757, 0.18, -0.3916666666666667, 0.7, 0.5, 1.0, 0.203125, 0.5222222222222223, -1.0, 0.20000000000000004, -0.11666666666666665, 0.5416666666666667, 0.3571428571428571, 0.1643939393939394, -0.1101010101010101, -0.09441287878787878, -0.5696614583333335, 0.6, 0.4805555555555556, 0.6033333333333333, 0.6000000000000001, 0.0, -0.2916666666666667, 0.1611111111111111, 0.009090909090909094, -0.15772727272727274, 0.71875, 0.75, 0.2, -0.38125, 0.0020833333333333467, -0.22916666666666666, 0.6634895833333334, -0.2878787878787879, 0.08825757575757576, 0.8, 0.27222222222222225, -0.013435132575757569, 0.11393939393939397, -0.5499999999999999, 0.3953030303030303, 0.5765151515151516, 1.0, 0.0, 0.5208333333333334, -0.008395061728395064, 0.5, -0.12774621212121212, -0.2, 0.0, -0.09333333333333334, 0.375, 0.0, 0.16666666666666666, 0.5, 0.19, 0.024999999999999994, -0.4318181818181818, 0.0, 0.7, 0.13636363636363635, 0.6666666666666666, 0.5333333333333333, 0.5208333333333334, -0.09901960784313722, -0.4318181818181818, -0.03272727272727276, 0.7, 0.22227272727272726, 0.2, 0.4986111111111111, 0.7000000000000001, -0.35, -0.006666666666666665, 0.13636363636363635, -0.20317460317460315, 0.0, 0.0, 0.4, 0.6000000000000001, 0.6, 0.05227272727272727, 0.1515151515151515, -0.15468749999999998, 0.625, -0.09999999999999998, 0.10050505050505053, -0.13181818181818183, 0.09325396825396824, 0.5, 0.03636363636363637, 0.3, 0.5, 0.0, 0.0, -0.4, 0.35, -0.46249999999999997, -0.022901912901912905, 0.11666666666666667, 0.425, 0.21875, -0.075, 0.35, -0.12777777777777774, 0.0226190476190476, -0.2077272727272727, -0.0631628787878788, 0.0, 0.00011160714285713651, 0.08750000000000001, -0.36590909090909096, 0.027272727272727282, 0.3740909090909091, 0.26, -0.15, -0.1303030303030303, 0.625, 0.0, 0.0, 0.2777777777777778, -0.33181818181818185, -0.05000000000000001, -0.4318181818181818, 0.14, -0.11060606060606061, 0.20879629629629629, 0.44666666666666666, 0.73828125, 0.0, 0.0, 0.04642857142857142, 0.2333333333333334, 0.25879953379953374, -0.3577272727272727, 0.03750000000000003, 0.5263888888888889, -0.25, -0.046875, 0.10666666666666672, 0.029166666666666664, 0.5, 0.10416666666666669, 0.0, 0.09959156020131624, 0.43333333333333335, 0.2916666666666667, 1.0, -0.14090909090909093, 0.46875, 0.0, 0.0, -0.047348484848484855, -0.4318181818181818, -0.15000000000000002, 0.5183333333333334, 0.11904761904761904, -0.3229166666666667, 0.39999999999999997, 1.0, 0.9, -0.4318181818181818, 0.25, -0.1284090909090909, 0.23376623376623382, 0.018073593073593065, 0.07619047619047621, 0.0, -0.07111111111111108, 0.3565656565656566, 0.4138888888888889, 0.13636363636363635, 0.14305555555555552, 0.8, -0.26875, 1.0, 0.06000000000000001, -0.10136363636363636, 0.6000000000000001, -0.19027777777777774, 0.35, -0.4159090909090909, 0.525, 0.85, 0.2, 0.0, 0.0, -0.125, -0.12121212121212122, -0.016666666666666677, 0.09090909090909091, 0.37777777777777777, 0.058703703703703716, -0.04702380952380952, 0.125, 0.037500000000000006, 0.5, 0.0, -0.175, 0.2568181818181818, 0.3125, -0.036363636363636376, 0.0, -1.0, 0.04663299663299664, 0.09269480519480519, -0.1, 0.9, 0.0, -0.125, 0.39999999999999997, 0.4166666666666667, 0.0, 0.07857142857142856, 0.5, -0.18357007575757575, -0.08766233766233766, 0.30277777777777776, 0.3333333333333333, -0.04583333333333334, -0.8, 0.0, 0.5, 0.0, -0.25, 0.19999999999999998, 0.0, -1.0, 0.006593406593406587, 0.06439393939393938, -0.10833333333333334, -0.033333333333333305, 0.5, 0.49609375, 0.0, 0.15530303030303028, 0.21666666666666667, 0.0, 0.45, -0.012499999999999999, 0.5, -0.375, 0.9, -0.4, 0.1, 0.23700000000000002, 0.0, -0.07083333333333335, -0.43333333333333324, -0.2877272727272727, 0.335, 0.0, 0.007161458333333336, 0.24666666666666667, 0.26666666666666666, -0.15000000000000002, -0.12291666666666667, 0.08522727272727272, 0.07255892255892256, -0.2, 0.8, 0.375, 0.4354166666666666, 0.001363636363636368, 0.21818181818181817, 0.14404761904761904, 0.06666666666666667, 0.35416666666666663, 0.44999999999999996, -0.4212121212121212, 0.0, -0.08888888888888886, 0.0, -0.11477272727272729, -0.4149999999999999, -0.45, 0.5, 0.045166666666666674, -0.14999999999999997, -0.195, 0.5, 1.0, 0.2, 0.0, 0.016666666666666663, 0.4083333333333333, 0.18409090909090908, -0.20833333333333331, 0.0, 0.2888888888888889, 0.0, -0.15262832405689547, 0.0, -0.005429292929292925, -0.1471590909090909, 0.5, 0.44999999999999996, -0.18333333333333335, 0.0, -0.3333333333333333, 0.8666666666666667, 0.10153061224489794, 0.0, 0.12407407407407404, 0.43333333333333335, 0.7, 0.2, 0.0, 0.7, 0.0, 0.0, 0.5, 0.6000000000000001, 0.0, 0.0, 0.4, 0.43333333333333335, 0.0, 0.35, 0.0, 0.0, 0.1, -0.14427083333333332, 0.0, 1.0, 0.9533333333333333, 0.415, 0.6148148148148148, 0.6, 0.7, -0.5972222222222222, 1.0, 0.625, 0.9, 0.0, 0.7, 0.5583333333333333, 0.5, -0.15555555555555559, 0.0, 0.0, -0.45, 0.0, 0.26666666666666666, 0.9, -0.21458333333333335, -0.6, -0.07142857142857142, 1.0, 0.7, 1.0, 0.0, 0.0, 0.0, 0.0, 0.0, 0.0, 0.21111111111111114, 0.7, 0.4666666666666667, 0.0, -0.07499999999999998, 0.0, 1.0, 0.3460111317254174, 0.39999999999999997, 0.029007936507936517, -0.6999999999999998, 0.425, 1.0, 0.10634920634920635, 0.5, 0.78125, 0.6, -0.04166666666666666, 0.39285714285714285, 0.6, 0.7, 0.0, 0.09999999999999999, -0.012499999999999997, -0.48333333333333334, 0.5, 0.8, 0.39999999999999997, 0.1875, 0.0, 0.0, 0.75, 0.75, 0.0, 0.12222222222222223, 0.35, 0.6, 0.775, 0.2111111111111111, 0.8, -0.00808080808080808, 0.13636363636363635, 0.2, 0.39999999999999997, 0.9375000000000001, 0.9, 0.0, 0.8, 0.2, 0.5, -0.3, 0.43333333333333335, 0.30000000000000004, -0.19999999999999998, 0.5, 0.0, 0.0, 0.6, 0.0, -0.5, -0.08787878787878789, 0.13636363636363635, 0.5, 0.7, 0.029007936507936517, 0.5, 0.011111111111111072, 1.0, 0.6, -0.30000000000000004, -0.625, 0.625, 0.0, 0.0, 0.7, 0.0, 0.39583333333333337, 0.7000000000000001, -0.075, 0.7, 0.4, -0.12121212121212122, -0.19333333333333327, 0.12, 0.0, 0.5, -0.0875, 0.7, 0.5, 0.09999999999999998, 0.5, 0.04999999999999999, 0.2, 0.4166666666666667, 1.0, -0.3, -0.23863636363636365, 1.0, 0.3333333333333333, 0.875, 0.4464285714285714, 0.0, 0.0, 0.3202678571428571, 0.08333333333333333, 0.7, 0.0, 0.0, -0.15000000000000002, -0.6999999999999998, 0.0, 0.26666666666666666, 1.0, 0.25, 0.16666666666666666, 0.030000000000000006, 0.030000000000000006, -0.7874999999999999, 0.6, -0.29190476190476194, 0.75, -0.05, 0.0, 0.0, 0.3333333333333333, 0.65, 0.5, 0.0, 0.0, 0.0, 0.5, 0.7, 0.0, 0.6000000000000001, 0.0, 0.23989898989898992, 0.35, 0.35, 0.0, 0.0, -0.5, -0.10000000000000002, 0.2, 0.7, 0.0, 0.505, -0.3333333333333333, 0.43333333333333335, 0.7, 0.2, -0.875, 0.9099999999999999, 0.7, 0.0, 0.0, 0.0625, 1.0, 0.0, 0.05, 0.5, -0.038000000000000034, 0.43333333333333335, 0.5, -0.4, 0.40347222222222223, 0.7, 0.3181818181818182, 0.25, 0.0, 0.9099999999999999, 0.0, 0.6, 0.0, -0.6999999999999998, 0.6, -0.1159090909090909, 0.0, 0.75, 0.0016666666666666312, 0.1968223905723906, -0.1, 0.0, 0.0, -0.12121212121212122, 0.0, 0.7, 0.6, 0.2, 0.0, 0.26, 0.4571428571428572, 0.075, 0.03454241071428572, 0.1, -0.8499999999999999, 0.6142857142857143, 0.0, 0.0, 0.0, 0.5208333333333334, -0.1590909090909091, 0.0, 0.7, 0.0, -0.2, 0.0, 0.5, 0.7, -0.4, 0.0, 0.4, 0.35, 0.2, 0.25625000000000003, 0.35, 0.2416666666666667, 1.0, 0.0, 0.0, -0.18333333333333335, 0.17784090909090908, -0.275, -0.19666666666666663, 0.4, 0.28750000000000003, -0.125, 0.0, 0.9099999999999999, 0.22148760330578512, -0.5, 0.0, -0.11000000000000001, 0.14285714285714285, 0.0, 0.18295454545454543, 0.8, 0.0, -0.2, 0.7, 0.7, 0.0, 0.0, 0.0, 0.2, -0.2625, -0.041666666666666664, 1.0, 1.0, 0.625, 0.5, 0.25, 1.0, 0.0, 0.4, 0.23333333333333336, -0.2777777777777778, 0.5125, 0.0, -0.25, 0.0, 0.3333333333333333, 0.0, 0.8, 0.0, 0.04642857142857142, 0.11111111111111112, 0.5, 0.5, 0.7, 0.0, 0.6, 1.0, 0.855, 0.7, 0.6, 0.3227272727272727, 0.0, 0.2333333333333333, 0.0, 0.0, 0.04261363636363636, 0.78, 0.2, 0.41818181818181815, 0.0, 1.0, 0.8, 0.014285714285714282, 0.6716666666666666, 0.20833333333333334, 0.0, 0.39999999999999997, 0.7, 0.7, -0.2, 0.5, -0.0955988455988456, 0.35, 0.0, 0.4359375, 0.5, -0.25, 0.0, 0.9, 0.0, 0.0, -0.06999999999999999, 0.0, 1.0, 0.8, 0.39999999999999997, 0.0, 0.09999999999999999, 0.0, 0.0, 0.08166666666666667, 1.0, 0.5, 0.0, 0.0, 0.6, 0.24722222222222223, -0.15, 1.0, 0.5, 0.6, 0.0, 0.43333333333333335, 0.55, 0.0, 0.39285714285714285, 0.7, 0.0, 0.0, 0.5, -0.8, 0.0, 0.0, 0.7, -0.4, -1.0, 1.0, 0.0, 1.0, 0.37777777777777777, 0.75, 0.0, 1.0, 0.4, -0.4108072916666667, 0.0, 1.0, 0.10833333333333332, 0.5, 0.65, 0.16799999999999998, 0.0, 0.0, 0.1, -0.6, 0.6666666666666666, 0.030555555555555558, -0.07916666666666666, -0.15, 1.0, 0.25, -0.25, 0.0, -0.041666666666666664, 0.0, -0.75, 0.0, 1.0, 0.4166666666666667, -0.05, 0.0, -1.0, 0.0, 0.015816326530612237, 0.6, 0.5666666666666667, 0.31666666666666665, 0.0, 0.8, 0.4666666666666667, -0.4, 0.08333333333333333, -0.20285714285714285, 0.85, 0.0, 0.0, 0.0, 0.7, 0.0, 0.43333333333333335, 0.35, 0.7, 0.2, 0.2, 0.0, 0.0, 0.65, 0.0, -0.5, 0.013333333333333336, 0.35714285714285715, -0.044285714285714275, 0.705, 0.0, -0.5, -0.15, 0.0, 0.05909090909090909, 0.0, 0.0, 0.5, -0.21000000000000002, 0.0, 0.5, 0.7, 0.0, 0.26534090909090907, 0.0, -0.05384615384615384, 0.22857142857142856, 0.8, 0.8, 0.6, -0.2, 0.0, -1.0, -0.024999999999999994, 0.0, -0.11911111111111111, 0.35, 0.0, 0.0, 0.03854166666666666, 0.0, 0.032407407407407406, 0.0, 0.0, 0.8, 0.6, -0.1258333333333333, 0.19999999999999998, 0.0, 0.7, 1.0, 0.7, 0.0, 0.5, 0.14349206349206348, 1.0, 0.25, 0.0, -0.2, 0.0, 0.8, 0.26, -0.6375000000000001, 0.575, 0.0, 0.7, 0.5, 0.25, 0.5, 0.0, 0.7, 0.0, 1.0, -0.07500000000000001, 0.65, 0.3, 0.8, 0.024999999999999967, 0.29398148148148145, 0.7666666666666666, 0.7, 0.5, 0.3, 0.5666666666666667, 0.0, 0.5, 0.2, -0.14583333333333331, 0.5, 0.8, 0.0, 0.7, 1.0, 0.5, 0.4, 0.6, 0.7750000000000001, 0.26, -0.09999999999999998, 0.26785714285714285, -0.2, -0.625, 0.25, 0.6, 0.0, 0.0, -0.1, 0.41041666666666665, 0.0, 0.7, -0.375, 0.7111111111111111, 0.0, 0.0, 0.8, -0.3068181818181818, 0.15, 1.0, 0.9765625, -0.6666666666666666, 0.0, 0.33888888888888896, 0.75, 0.47500000000000003, 1.0, 0.5, -0.52, 0.7, 0.3, 0.0, 0.16666666666666666, 1.0, 0.12678571428571428, 0.8, -0.1, 0.0, -0.15, 0.0, -0.04999999999999998, 0.0, -1.0, 0.5, 0.0, 0.65, 0.04999999999999999, 0.4, 0.875, 0.5, 0.06666666666666667, 0.6000000000000001, 0.5, 0.06666666666666667, 0.762939453125, 0.4777777777777778, -0.02291666666666667, 0.725, 0.875, 0.4, 0.9099999999999999, 0.5, 0.005555555555555554, 0.6, 0.3333333333333333, 1.0, -0.32013888888888886, 0.5, 0.8000000000000002, -0.16666666666666666, 0.0, -0.07777777777777779, -0.03571428571428571, 0.7125, 0.036111111111111115, 0.0, 0.0, -0.16562499999999994, 0.0, -0.5, 0.7, 0.0, -0.32499999999999996, 0.0, 0.2875, 0.0, -0.16666666666666666, 0.0, 0.478125, 0.16666666666666666, -0.3055555555555555, 0.0, 0.5, 0.0, 0.3, -0.52, 0.0, 0.5, 0.0, 0.35, 0.475, 0.0, 0.5, 0.42083333333333334, 0.175, 0.0, -0.18181818181818182, 0.1976190476190476, 0.0, -0.3, 0.7, -0.14375, -0.06071428571428572, 0.8, -0.125, 0.7, -0.125, 0.5, 0.05416666666666667, -0.26, 1.0, 0.7, 0.35, 0.225, 0.0, 0.45833333333333337, 0.8, 0.0, 0.016666666666666677, -0.15, 1.0, 0.8, 0.05555555555555556, 0.0, 0.4138888888888889, 1.0, 0.125, 0.0, 0.8333333333333333, 0.5, 0.25, 0.0, 0.5, 0.0, -0.21000000000000002, 0.0, -0.6666666666666666, 0.13636363636363635, 0.05625, 0.0, -0.6, 0.3666666666666667, -0.5, -0.125, 1.0, -0.25, 0.0, -0.05, 0.1875, 0.0, -0.175, 1.0, 0.0, -0.00714285714285715, 0.8, 1.0, 0.42699999999999994, 0.13636363636363635, 0.8, -1.0, 0.0, 0.8, 0.2, 0.0, 0.5208333333333334, -0.08571428571428566, 0.0, 0.14285714285714285, 0.0, 0.7, 0.20000000000000004, -0.5, -0.1111111111111111, 0.08095238095238094, 0.0, 0.4, 0.7, 1.0, -0.375, 0.0, 0.0, 1.0, 0.028571428571428574, 0.0, 0.7, 0.0, 0.0, 0.0, 0.7, 0.7, 0.8, 0.1125, 0.0, 0.0, 0.5, 0.6166666666666667, 0.8, -0.3, 0.1875, 0.7, -0.5, -0.2, 0.0, 0.0, 0.2, 0.0, 0.4916666666666667, 0.8, 0.7, 0.0, -0.8, -0.125, -0.15185185185185188, 0.0, 0.10238095238095236, 0.0, 0.5, 0.8, -0.30000000000000004, 0.0, 0.0, 0.0, 0.55, 0.2928571428571428, 0.2, 0.0, 0.0, 0.2333333333333333, 0.25, 0.0, 0.0, -0.30000000000000004, -1.0, 0.625, 0.0, -0.13285714285714287, 0.06818181818181818, -0.2333333333333333, -0.08333333333333333, 0.0, -0.375, -0.26666666666666666, -0.6999999999999998, 0.0, 0.04791666666666664, 0.7, 0.35, 0.0, 0.05, -0.26882812500000003, -0.04583333333333334, 0.0, 0.5194444444444445, 0.6625, 0.0, 1.0, -1.0, 0.0, 0.43333333333333335, 0.44999999999999996, 0.08333333333333333, 0.023333333333333338, 0.5, 0.0, 0.4, 0.5, -0.5222222222222221, 0.2, 0.7, 0.7, -0.35714285714285715, 0.0, 0.27734375, 0.09166666666666667, 0.39333333333333337, -0.325, 0.35, 0.7, 0.0, 0.3666666666666667, 0.9099999999999999, -0.3, 0.8, 1.0, -0.5, 0.4444444444444445, -0.14583333333333334, -0.08750000000000001, 0.0, 0.0, 0.0, 0.8, 0.35, -0.16666666666666666, 0.65, 0.26666666666666666, -1.0, 0.9099999999999999, -0.078125, 0.0, -0.125, -0.3499999999999999, 0.8, 0.25, 0.7, -0.15555555555555559, 0.6, 0.0, 0.2916666666666667, 0.0, 0.0, 0.5, -0.6666666666666666, 0.0, 1.0, 0.0, 0.0, -0.033333333333333326, 0.06736111111111114, 0.0, 0.17777777777777778, 0.0, 1.0, 0.5, 0.5, 0.3666666666666667, -0.15833333333333333, 0.7, 0.4, 0.7, 0.0, 0.15272108843537419, 0.32222222222222224, -1.0, 0.875, 0.2, 0.25, 0.02272727272727274, 0.0, 0.8, 0.26875, 0.0, 0.9099999999999999, -0.6999999999999998, 1.0, -0.154, 1.0, 0.3541666666666667, -0.6999999999999998, -0.25, -0.25, -1.0, 0.8, -0.9099999999999998, 0.8, 0.225, 0.39999999999999997, 0.65, 0.45, 0.0, 0.43333333333333335, 0.5, 0.0, 1.0, 0.1, 0.0, 0.3283772031539889, 0.5, 0.7, 0.43166666666666664, 0.7, -0.5, 0.043181818181818175, 0.35, -0.12121212121212122, 0.5, 1.0, 0.8, 0.7, 0.0, 0.0, -0.06964285714285715, 0.0, 0.0, -0.125, 0.6, 0.3125, 0.7, 0.7, 0.656, 0.0, 0.2333333333333333, 0.2, -0.4, 0.11574074074074076, 0.25, 0.0, 1.0, 0.0, -0.009693877551020405, 0.06818181818181818, 1.0, 0.7, -0.1714285714285714, 1.0, 0.8, 0.0, -0.6666666666666666, 0.5, 0.024999999999999994, 0.25, 0.7, 0.0, 0.0, 1.0, 0.13712121212121214, -0.20833333333333334, 0.7, 0.7, 0.7, 0.0, 0.7, 0.0, 0.4999999999999999, 0.7, 0.0, 0.45, -0.04531249999999998, 0.0, 0.0, 0.75, 0.13636363636363635, -0.26666666666666666, 0.15, 1.0, -1.0, 0.625, 0.036111111111111115, -0.4222222222222222, 0.44999999999999996, 0.6, -1.0, 0.0, 0.20357142857142857, 0.0, -0.21249999999999997, 0.425, 0.5, 0.125, 0.45, 0.8, 0.09166666666666667, 0.5, 0.8, 0.0, 0.0, 0.0, 0.7, 0.0, 0.26, 0.0, -0.10833333333333334, 0.2857142857142857, 0.7, 0.06, 0.6000000000000001, 0.04545454545454545, 0.25833333333333336, 0.5, 0.0, 0.0, 0.7500000000000001, 0.0, 0.6333333333333334, 0.7, 0.0, -0.5666666666666667, 0.0, 0.35, -0.2, 0.0, 0.1, 0.0, 0.875, 0.16410256410256407, 0.6, -0.2799999999999999, 0.07037037037037037, -0.5, 0.20634920634920637, 0.605, 0.4203125, 0.38, 0.06666666666666668, 0.0, 1.0, -0.375, 0.0, 0.0, -0.08431547619047616, -0.038461538461538464, 0.5, 0.0, 1.0, 0.0, 0.5428571428571429, -0.015000000000000013, 0.8, 0.6, 0.0, 0.39285714285714285, 0.2, 0.0, 0.5, 0.13636363636363635, 0.6, 0.2, 0.7, 0.8, 0.5, 0.6166666666666667, 0.5, -0.040000000000000015, 0.0, -0.05, 0.7, -0.5208333333333334, 0.0, -0.15555555555555559, 0.06818181818181818, 0.5, 0.375, 0.2, 0.8, 0.9765625, 0.0, 0.37333333333333335, 0.13636363636363635, 0.0, 0.37589285714285714, 0.8, 0.0, 0.7, -0.1875, 0.7, 0.8, -1.0, 0.7, 0.25, 0.7, 0.0, 0.0, 0.6, 0.0, 0.5, 0.7, 1.0, 0.8, 1.0, 0.7, 0.7, 0.5, 0.0, 0.625, -0.4, 0.8, 0.0, 0.7666666666666666, 0.6166666666666667, 0.0, 1.0, 1.0, 0.7, 0.37777777777777777, 0.0, 1.0, -0.15, 0.0, 0.43333333333333335, -0.07765151515151517, 0.09090909090909091, -0.39000000000000007, -0.07500000000000001, 3.700743415417188e-17, 0.8, 0.35, 0.625, 0.8, 0.7, 0.0, 0.3833333333333333, -0.9750000000000001, 1.0, -0.05, 0.0, 0.07500000000000001, 0.7, -0.3333333333333333, 0.20833333333333334, 0.0, -1.0, 0.9099999999999999, 0.07777777777777779, 0.0, 0.13333333333333333, 0.29666666666666663, 0.0, 0.0, -0.75, 0.5, -0.16666666666666666, 0.4, 0.3499999999999999, 0.7, -0.3125, 0.25, -0.20833333333333334, 0.0, 0.0, 0.0, 0.6000000000000001, 0.7, 0.0, -0.12166666666666666, 0.0, 0.0, 0.0, 0.9099999999999999, 0.0, 0.39, -0.9750000000000001, 0.5, 0.0, 0.5, -0.17857142857142858, 1.0, 0.20208333333333334, 0.8, 0.0, -0.225, 0.5444444444444444, 0.7, 0.016666666666666663, 0.0, 0.5633333333333334, 0.7, 0.78125, 0.9099999999999999, 0.16, 0.0, 0.004166666666666652, 0.0, 0.42857142857142855, 0.0, 0.4, 1.0, 0.0, 0.7, -0.03571428571428573, 0.0, 0.25, 0.0, 0.5633333333333334, 0.8, -0.22944444444444445, 0.0, -0.24999999999999992, 0.5803409090909091, 0.47333333333333333, 0.23015873015873015, 0.9099999999999999, -0.2, 1.0, 0.25, 0.0, 0.0, 0.0, 0.02976190476190476, 0.5666666666666667, -0.5, 0.0, 0.0, 0.32678571428571423, -0.4, 0.0, 0.0, 0.0, 0.0, 0.46328125, -0.0325, -0.1, 0.7, 0.0, 0.5, -0.2, 0.8, 0.7, 0.0, -0.16666666666666666, 0.4166666666666667, 0.04739583333333336, -0.049999999999999996, 0.5, 0.7, 0.7, 0.9, 0.7, 0.0, 0.0, -0.1625, -1.0, 0.7, 0.05714285714285715, 0.0, 0.8, 1.0, 0.35, 0.19446969696969696, 0.0, 0.8, 1.0, 0.0, 0.5, 0.15, 0.0, 0.0, 0.6000000000000001, 0.0, 0.0, 0.6000000000000001, 1.0, 0.6499999999999999, 0.7, 0.0, -0.15, 0.0, 0.35, 0.6000000000000001, 0.0, 0.0, 0.0, 0.0, 0.2, 0.0, 0.033333333333333326, 0.06666666666666667, 0.39999999999999997, -0.030128205128205125, 0.1, 0.20370370370370372, 0.7, 0.8, 0.15, -0.4, 1.0, 0.49, -0.08181818181818182, -0.02777777777777779, 0.05641025641025642, 0.0, 0.056666666666666664, 0.0, 0.0, 0.5, 0.20833333333333337, 1.0, 1.0, 1.0, -0.6999999999999998, 0.425, 0.5, 0.20277777777777772, 0.25, 0.5, 0.0, 0.9099999999999999, -0.6999999999999998, -0.4, 0.2, 0.0, 0.0, 1.0, 0.8, 0.1598639455782313, 0.0, 0.43333333333333335, 1.0, 0.0, 0.05, 0.2133333333333333, 0.0, 0.9765625, 1.0, 0.35, 0.0023437500000000056, -0.15000000000000002, 0.30000000000000004, 1.0, 0.0, 0.3, 0.06666666666666667, 0.7, 0.8, 0.0, 0.3025892857142857, 0.0, 0.0, 0.125, 0.0, 0.47159090909090906, 0.5, 0.0, 0.06666666666666668, 0.4017361111111111, 0.7, 0.425, 0.0, 0.625, 1.0, 0.5, 0.65, 0.0, 0.7, 0.0, 0.8333333333333334, 0.11600000000000002, 0.0, 0.8, 0.0, 0.0, 0.13, 0.11727272727272728, 0.9099999999999999, -0.22199999999999998, 0.1, 0.0, 0.0, 0.0, 0.15454545454545454, 0.0, 0.8, 0.4, 1.0, 0.6666666666666666, -0.4999999999999999, 0.8, 0.35833333333333334, 0.0, 0.4, 0.43333333333333335, 0.8, 0.0, 0.5, 0.0, 0.0, 0.9099999999999999, 1.0, 0.5, 0.0, -0.018750000000000003, 0.0, 0.8, 0.0, 0.09907407407407406, -0.3, 0.0, -0.13750000000000007, 0.0, 0.0, 0.0, 0.0, 0.0, 0.8, 0.06818181818181818, 0.0, 0.8, 0.25, 0.18333333333333335, 0.5, -0.25, 0.0, 0.225, 0.19999999999999998, 0.7, 0.1875, 0.4800000000000001, 0.40625, 0.4666666666666667, 0.7, -1.0, 0.5, 0.30000000000000004, 0.01157407407407407, 0.8, -0.10119047619047619, 0.0, 0.30000000000000004, 0.0, 0.5, 0.0, 0.0, 0.24583333333333335, -0.025, 0.650390625, 0.0, 0.9099999999999999, -0.004166666666666675, 0.32222222222222224, 0.9099999999999999, 0.6000000000000001, 0.5, 0.0, 0.26633522727272724, 0.5, 1.0, 0.39, 0.0, 0.7, 0.7, -0.35000000000000003, 0.5, 1.0, 0.47222222222222215, 0.45, 0.8, 0.0, 1.0, 0.5, 0.8, -0.19523809523809524, 0.0, 0.0, 0.0, 0.45, 0.16666666666666666, 0.9, 0.0, 0.0, 0.8, 0.3111111111111111, 0.5, 0.37666666666666665, 0.39, 1.0, 0.0, 0.5, 0.09107142857142857, 0.0, 0.0, -0.08750000000000001, -0.3068181818181818, 0.2, 0.0, 0.0, 0.0, 0.0, 0.75, 0.0, 0.9, 0.5, 0.0, 0.5, 0.0, -0.15, -0.6, 0.2965909090909091, 0.6000000000000001, 0.9099999999999999, -0.5, 0.75, 0.5, 0.5, 0.0, 0.0, 0.5, 0.0, 0.0, 0.5416666666666667, -0.05000000000000002, 0.0, 0.0, -0.25000000000000006, 0.7, 0.5, 0.8, 0.18888888888888888, 0.5, 0.0, 0.30000000000000004, -0.020000000000000018, 0.6, 0.0, 0.6, 0.7, -0.8, 0.15000000000000002, 0.375, 0.1, 0.0, -0.225, 0.0, 0.5, -0.2, 0.3, 0.0, 0.55, 0.0, 1.0, 0.2, -0.09375, 0.0, 0.1, 1.0, 0.0, 0.6333333333333333, 0.036111111111111094, 0.20666666666666672, 0.6666666666666666, 0.16666666666666666, 0.0, 1.0, 0.1, 0.5, 0.2, 0.0, 0.0, -0.05000000000000001, -1.0, 0.7, 0.65, 0.45, 0.5, 0.5, -0.11333333333333333, 1.0, 0.8, 0.8, 0.0, -0.5270833333333333, 0.0, 0.3333333333333333, 0.0, 0.0, -0.09444444444444444, 0.04999999999999999, 0.38666666666666666, 0.4, 0.8, 0.1568181818181818, 0.625, 0.7, 0.49500000000000005, -0.3125, 0.0, 0.5, 0.29166666666666663, 0.0, -0.3333333333333333, -0.36250000000000004, 0.45, 0.8, -0.75, 0.7, -1.0, 0.0, 0.2, 0.5, -0.3, 0.050000000000000044, 0.02777777777777778, 0.9270833333333334, 0.22265625, 0.2638888888888889, 0.0, 0.8, 0.5, 0.0, 0.48333333333333334, 0.85, -0.4666666666666666, 0.5416666666666666, 0.0, 0.16666666666666666, 0.7, -0.05, -0.1, 0.0, 0.7, 0.5, 0.5, 0.09999999999999999, 0.0, -0.23666666666666658, 0.20833333333333334, 0.225, 1.0, 1.0, 0.0, 0.36999999999999994, 0.0, 0.625, 0.6, 0.14999999999999997, 0.0, 0.6000000000000001, 0.6, -0.26666666666666666, 0.4, -0.7149999999999999, 1.0, 0.39999999999999997, 0.74, 0.0, 0.0, 0.0, -0.4, -0.5, 0.0, 0.275, 0.55, 0.0, 0.7, 0.1875, 0.0, 0.4, 0.7166666666666667, -0.025, 0.7, -0.15000000000000002, 0.14285714285714285, 0.7, 0.0, 0.7, -0.5, 0.0, -0.3, 0.3, 0.0, 0.0, 0.375, 0.0, 0.3416666666666666, -0.1, 1.0, 1.0, 0.8, 0.5, -0.125, -0.23882575757575758, 0.7, 0.705, 0.625, -0.325, 0.0, 0.25, 0.8, 0.7, 0.20833333333333334, 0.5, 1.0, 0.19999999999999998, 0.6000000000000001, -0.13333333333333336, 0.125, -0.22999999999999998, -0.14015151515151514, 0.0, 0.6000000000000001, 0.11802721088435374, 0.0, 0.009374999999999998, -0.125, 0.0, 0.30208333333333337, -1.0, -0.08333333333333333, 0.9099999999999999, 0.0, 0.0, 0.0, 0.7, 0.5, 0.5, 0.0, 0.15, 0.0, -0.5, 0.0, 0.5, 1.0, 0.04545454545454545, -0.11158854166666662, 0.5, 0.13636363636363635, 1.0, 0.5, 0.3833333333333333, 0.04924242424242424, 1.0, -0.4, 0.78125, 0.0, 0.8, -0.2916666666666667, -0.24366666666666661, 0.5, -0.05, -0.04999999999999999, 0.0, 0.4375, 0.7, 0.06875, -0.5066666666666667, 0.4481481481481482, 0.7, 0.6, 0.65, -0.275, 1.0, 0.0, 0.5166666666666666, 0.0, 0.31666666666666665, -0.15000000000000002, 0.0, 0.2, 0.55, 0.0, 0.5666666666666667, 0.0, 0.0, -0.35, -0.35000000000000003, 0.19166666666666665, 0.9099999999999999, 0.3255208333333333, 0.0, 0.5666666666666668, 0.9099999999999999, -0.10777777777777775, 0.6166666666666667, 0.1625, 0.25833333333333336, 1.0, 0.6, 0.5, 0.0, 0.5, 0.9099999999999999, -0.55, 0.0, -0.019375000000000003, 0.4222222222222222, 0.8, 1.0, 0.0, 0.016666666666666663, 0.0, 0.7500000000000001, 0.025000000000000005, 0.013888888888888895, 0.0, 0.08333333333333333, 0.13333333333333333, 0.0, 0.0, 0.0, 0.0, 0.09166666666666667, -1.0, -0.05, 0.5, 0.8, 0.5, -0.65, 0.0, -0.22000000000000003, -0.03333333333333333, 0.0, 0.7, 1.0, 0.25, 1.0, 0.7250000000000001, 0.7, 0.07454545454545454, -1.0, 0.7, 0.0, 0.08333333333333333, 0.43333333333333335, 0.505, 0.26666666666666666, 0.15, 0.5, 0.625, 0.04374999999999998, 0.5119047619047619, -0.10000000000000002, 0.6, 0.0, 0.0, 0.25, 0.24, 0.6, 1.0, 0.0, 0.2, 1.0, 0.65, 0.5428571428571429, -0.9099999999999998, 0.0, 0.0, 0.3, 0.0, -0.5848214285714286, 0.7, 0.0, 1.0, 0.8, 0.0, 0.7, -0.5, 0.8, 0.26666666666666666, -0.25, 0.4166666666666667, 0.1, 0.033333333333333326, -0.07500000000000001, 0.7, 0.6588541666666666, 0.8049999999999999, 0.41666666666666663, 0.28214285714285714, 0.0, 0.65, 1.0, -0.0068181818181818205, 0.8, 0.05, 0.7, -0.4400000000000001, 1.0, -0.37083333333333335, 0.8, -0.23333333333333336, 1.0, 0.0, 0.3, 0.8, 0.5, 0.5633333333333334, 0.5633333333333334, 0.5, 0.0, -0.390625, 0.5, -0.010000000000000009, 0.0, 0.13636363636363635, 0.7, 0.0, 0.0, 0.0, 0.36000000000000004, 0.0, 0.0, 0.5, 0.0, 1.0, 0.3058712121212121, 0.7, 0.06, 0.25, 0.0, -0.25, 0.5, 0.5, 0.0, 0.8, 0.8, -0.049999999999999996, 0.8, 0.8, 0.3111111111111111, 0.06666666666666667, -0.29642857142857143, 0.0, -0.26, 0.13636363636363635, 0.0, 0.0, 0.0, -0.1875, 0.9099999999999999, -0.3, 0.0, 0.0, 1.0, 0.15, 0.0, -0.5, 0.35416666666666663, 1.0, 0.0, 0.1, 0.0, -0.35, 0.0, 0.0, 0.5, 0.075, 0.0, 0.9, 0.7, 0.78125, 0.45625, 0.25, 0.625, 0.45499999999999996, -0.5, 0.35, 0.85, 0.8, 0.04999999999999999, 0.0, 0.10101010101010101, 0.5, 1.0, 0.5, 1.0, 0.7, 0.7, 0.9765625, 0.0, 0.0, 0.625, 0.0, 1.0, 0.0, -0.5, 0.7, 0.0, 0.0, 0.0, 0.1, 0.14206349206349203, 0.25, -0.19999999999999998, 0.0, 0.7, 0.0, 0.0, 0.0, 0.625, 0.6, 0.5, 0.20833333333333334, -0.30000000000000004, 0.5, 1.0, 0.4877777777777778, -0.24999999999999992, 0.0, 0.0, 0.125, 0.0, 0.0, 1.0, 0.8, 0.26666666666666666, -0.1606060606060606, 0.8, 0.7, -0.017857142857142863, -0.175, 0.6, 0.05454545454545455, 0.0, 1.0, -0.10833333333333335, 0.5, 0.2, 0.7, -0.6366666666666666, -0.25, 0.0, 0.07777777777777778, 0.125, 0.0, -0.055555555555555546, 0.3833333333333333, 0.5633333333333334, 0.1, -0.2699999999999999, 0.9099999999999999, -0.05, 1.0, 0.625, 0.3111111111111111, 1.0, 0.1, 0.8, -0.16666666666666666, 0.8, 0.0, -0.5, -0.18428571428571427, 0.43333333333333335, -0.25, 0.6, 0.5, -0.39999999999999997, 1.0, -0.25, 0.0, -0.2948381696428571, -0.2948381696428571, 0.2, 0.5, -1.0, 0.0, 0.0, 0.7, -0.15, 0.0, 0.5, 0.1875, -0.7, 0.5, 0.0, 0.4, -0.09259259259259259, -0.08333333333333333, 0.0, 0.0, 0.275, 0.5, -0.4, 0.0, 0.43333333333333335, 0.8, 0.8, 0.0, 0.0, 0.0, 0.0, 0.0, -0.3666666666666667, 0.7, 0.0, 0.0, 0.13636363636363635, 0.033333333333333326, 0.25, 0.125, 0.1, 0.20166666666666666, 0.7, 0.1392857142857143, 0.0, 0.8, -0.35, 0.008333333333333304, 0.25, 0.0, -0.30000000000000004, -0.125, 0.8, 0.5, -0.22585034013605446, 0.05, 0.7, 0.2, -1.0, 0.0, 0.39999999999999997, 0.0, -0.041666666666666664, 0.1, 0.0, 0.0, 0.27083333333333337, -0.18, -0.1, 0.2, 0.8, -0.625, -0.2916666666666667, 0.0, 0.2, 0.20833333333333334, 0.7, 1.0, -0.051851851851851864, 0.0, -0.30000000000000004, 0.0, 0.6166666666666667, 0.3333333333333333, 0.0, 1.0, 0.5, 0.7, 0.7, -1.0, 0.0, 0.9099999999999999, 0.6199999999999999, 0.0, -0.10833333333333332, 0.0, 0.2375, 0.0, -0.15, -0.03333333333333333, 0.1407828282828283, 0.8, 0.65, 0.2, 0.7, 0.7, 0.5, 0.7, 0.31666666666666665, 0.875, -0.20666666666666667, 0.25, 0.7, 0.5166666666666666, 0.9099999999999999, 0.0, 0.5, 1.0, 0.175, 0.5, 0.3, 0.16727272727272727, 0.0, -0.06666666666666667, -0.06666666666666667, 0.8, 0.07500000000000001, 1.0, 0.45, 0.3836734693877551, 0.18992346938775512, 0.3, -0.5, 0.5, 0.22857142857142856, 0.26666666666666666, 0.0, 0.1, 0.0, -0.1799107142857143, 0.7, 0.7, -0.073, 0.2, 0.13636363636363635, 0.0, -0.8, 0.9099999999999999, 0.8, 0.037037037037037035, -0.375, 0.0, 0.30000000000000004, 0.3, 1.0, 0.7, 0.5, 0.0, 0.7, 1.0, 0.0, -0.2230902777777778, 0.7, 0.16249999999999998, 0.5, 0.5, 0.3, 1.0, 0.2450520833333333, 0.8, 0.6875, 0.8, 0.3333333333333333, 0.17142857142857143, -0.5625, 0.2, 0.0, -0.025, 0.0, 0.5, 0.1757440476190476, 0.20535714285714285, 0.49999999999999994, 0.25, 0.0, -1.0, 0.8, 0.0, 0.0, 0.135, 0.7, 0.041666666666666664, 0.0, 0.0, 0.7, 0.0, 0.0, 0.4444444444444445, 0.7, -0.235, 0.6, 1.0, 0.0, 0.9099999999999999, 0.5291666666666667, 0.5, -0.3375, 0.325, 0.11369047619047616, 0.0, 0.7, 1.0, 0.0, 0.7, 0.7, 0.0625, 0.8, 0.19999999999999996, 0.8, 0.025, 0.5, -0.30000000000000004, 0.06666666666666665, 0.0, -0.30000000000000004, 0.0, 0.0, -0.275, 0.5416666666666666, 0.0, 0.0, 0.15, -0.9099999999999998, 0.4444444444444445, 0.0, 0.8, 0.3, 0.0, 0.3833333333333333, 0.7, 0.52, -0.06666666666666667, 0.7, 0.05575757575757575, 0.625, -0.1642045454545454, 1.0, 0.5, -0.5, 0.8, -0.03181818181818183, 0.0, 0.029761904761904767, -0.1171875, -0.16875, 1.0, 0.1, 0.8, -0.5833333333333334, 0.0, -0.2, 0.2857142857142857, 0.5, 0.5, 0.443125, -0.033333333333333305, 0.8, 0.6666666666666666, 0.21300505050505047, 0.16666666666666666, 0.0, -0.3333333333333333, -0.25, 0.0, -0.1875, -0.034484126984126985, 0.6000000000000001, 0.25, 0.5, 1.0, 0.5, 0.06666666666666667, 0.0, 0.09999999999999998, 0.5, 0.7, 0.0, -0.25, 0.30357142857142855, 0.3333333333333333, 0.7666666666666666, 0.5, -0.2, 0.0, 0.0, 0.0, -0.31, 0.8, -0.21666666666666667, -0.28333333333333327, 1.0, 0.009142857142857147, 0.050000000000000024, 0.7, 0.7666666666666666, -0.265625, 0.9099999999999999, 0.75, 0.0, 1.0, 0.375, 0.0, -0.02812500000000001, 0.0, 0.0, 0.9099999999999999, 0.0, 0.2, -0.6999999999999998, -0.30000000000000004, 0.39999999999999997, -0.65, -0.0375, 0.10000000000000003, 0.0, 1.0, -0.5, 0.4, 0.5, -0.30000000000000004, 0.5, 0.8125, 0.353968253968254, 0.8333333333333334, -0.13999999999999999, 0.0, 0.3, -0.01999999999999998, 0.7, 0.4, 0.0, 0.0, 1.0, 0.036666666666666646, 0.017499999999999995, 0.8, 0.7, 0.5, 0.7, 0.8, 0.41818181818181815, 0.0, 0.07619047619047618, 0.8125, -0.5, -0.1875, -0.20833333333333334, 0.3499999999999999, 0.0, 1.0, -0.2316666666666667, 0.9099999999999999, 0.21428571428571427, 0.0, 0.0, 0.0, 0.49444444444444446, 0.53125, 1.0, 0.0, -0.04000000000000001, -0.25, 0.0, 0.2694805194805195, 0.0, -0.12091836734693877, 0.7, 0.2710546875, 0.875, 0.1, 0.0, 0.6, -0.22799479166666667, 1.0, 0.7, 0.2, -0.25, 0.5, -0.020039682539682534, 0.0, -0.6999999999999998, -0.325, 0.0, 0.1, 0.0, -0.125, 0.7, 1.0, 0.053125000000000006, 0.7, 0.5, 0.7, 0.05833333333333335, -0.2916666666666667, 0.33482142857142855, 0.49, 0.0, 0.20555555555555557, 0.05000000000000002, 0.7, 0.7, -0.43809523809523815, 0.35, 0.07833333333333334, 0.0, 0.7, 1.0, 0.35, -1.0, 0.0, 0.0, 0.0, -0.09999999999999998, 0.6046875, 0.0, 0.0, 0.8, -0.10500000000000001, 0.1395833333333333, 0.09523809523809523, -1.0, -0.024375000000000015, 0.7, 0.0, 0.10000000000000002, -0.3666666666666667, 0.19999999999999998, 1.0, 0.8, 1.0, 0.625, 0.0, 0.002083333333333326, 0.7, 0.0, 0.0, 0.25, 1.0, 0.5, 1.0, 0.5, 1.0, 0.0, 0.0, -0.09375, -0.1, -0.4666666666666666, 0.0, 0.8, 0.09999999999999998, 0.0, 0.78125, 0.25, 1.0, 0.5222222222222223, -0.05, 0.5599999999999999, 0.25000000000000006, 0.0, 0.0, 0.8, 0.0, 0.8, 0.5, 0.0, 0.0642857142857143, 1.0, 0.19444444444444442, 0.2, 0.48, 0.425, 0.9099999999999999, 0.4, -0.5, 0.7, 0.0, 0.0, 0.6, -0.1, -0.2665624999999999, 0.9099999999999999, 0.0, 0.0, 0.19388095238095238, 0.43333333333333335, 0.35, 0.0, 0.8, 0.7, -0.2, 0.27083333333333337, 0.0, 0.16, 0.4666666666666667, 0.65625, 0.5, 0.43333333333333335, 0.0, 0.5, 0.0, 0.0, 0.5, 0.0, 0.2, -0.02653061224489796, 0.0, 0.0, 0.5, 0.8, 0.0, 0.0, -0.15, 0.5, 0.7, 0.475, 0.17125, 0.12824074074074074, 0.0, 0.0, 0.0, 1.0, 0.15833333333333335, 0.07777777777777778, 0.5, 0.0, 0.14444444444444446, 0.7, 0.5, -0.5, 0.2, 0.0, 0.8, 0.41111111111111115, 1.0, 0.0, 1.0, -0.8, 1.0, 0.4, 0.0, 0.0, 0.2333333333333333, 0.0, 0.0, 0.0, 0.8, -0.175, 0.2, 0.0, 0.0, 0.8, -0.13503787878787876, 0.0, 0.5, 0.48000000000000004, 0.34545454545454546, 1.0, 1.0, 1.0, 0.78, 0.0, 1.0, 0.0, -0.7, 0.3333333333333333, 0.11590909090909089, 0.35, 0.3, 0.325, 0.9099999999999999, -0.04375, 0.14722222222222223, 1.0, -0.7999999999999999, 1.0, -0.31210317460317455, 0.0, 0.8, 0.21689814814814815, 1.0, 0.7166666666666667, 0.0, 0.5633333333333334, 0.7, 0.0, 0.35714285714285715, -0.2, -0.4, 0.0, 0.0, 0.31666666666666665, 0.5, 0.0, -0.2700892857142857, 0.4790178571428571, -0.5, -0.040509259259259266, 0.4222222222222222, -0.6000000000000001, -0.375, 0.1, 0.0, 0.8, -0.2736111111111111, 0.0, -0.08333333333333333, 0.0, 0.0, 0.0, 0.6166666666666667, 0.5, -0.125, 0.5583333333333333, 0.5, 0.13636363636363635, 0.0, 0.27435897435897433, 0.0, -0.1, 0.43333333333333335, -0.8, 0.0, 0.7, 0.7, 1.0, 0.02916666666666668, 0.4628571428571428, 0.0, 0.6166666666666667, 0.43333333333333335, 0.0, 0.8, 0.8, 0.7, -0.03875000000000001, 0.6333333333333333, 0.6166666666666667, 0.08482142857142858, 0.5, -0.6999999999999998, 0.30000000000000004, 0.6901041666666667, 0.22063492063492066, -0.15, 0.9099999999999999, 0.0, 0.0, 0.45555555555555555, 0.9099999999999999, -0.4, 0.5291666666666667, 0.1, 0.4178571428571428, 0.19999999999999998, 0.0, 1.0, 0.7845703125, -0.152587890625, 1.0, 0.5, 0.7, 0.0, 0.33, -0.5, 0.0, 0.5, 0.6, 0.0, -0.1, 0.0, 0.005654761904761919, -0.5, 0.0, 0.43333333333333335, 0.6, 0.8, 0.0, 0.0, -0.09583333333333333, 0.0, 0.0, 0.7, -0.5, 0.8, 0.16666666666666666, -0.1, 0.5, 0.8, 0.0, 0.0, -0.78125, 0.0, -0.5, 0.16666666666666666, 0.9099999999999999, 0.4, -0.8, -0.15, -0.168, 0.09482065553494122, 0.8, 0.060416666666666646, 0.7, 0.0, -0.25, -0.3, 0.11875, 0.11875, -0.6999999999999998, 0.390625, 0.7, 0.125, 0.0, -0.2633333333333333, -0.8749999999999998, 0.5, 0.0, -0.06851851851851853, 0.7, 0.0, 0.0, 1.0, 0.35, -0.8, 0.29, 0.13333333333333333, 0.7, 0.013888888888888895, 0.0, 0.6, 0.0, 0.024999999999999984, 0.5, 0.0, -0.9, 0.0, 0.9765625, -0.5, 1.0, 0.375, 0.0, 0.0, -0.15, 0.41874999999999996, 0.0, 0.8, 1.0, 0.5, 0.5, 0.7, 0.5666666666666667, 0.225, 0.0, 0.5, 0.5, 0.43333333333333335, -0.2, 0.7, -1.0, 0.0, 1.0, 0.4, 0.1875, 0.0, 0.2, -0.25, -0.1, 0.175, 0.0, 0.6000000000000001, 0.9099999999999999, 1.0, 0.0, -0.10763888888888888, 0.7, 0.038888888888888896, -0.05, 0.33999999999999997, 0.7, 0.5, 0.7, 0.35, 0.0, 0.6, 0.5, -0.094, 0.7, -0.3, 0.7, 0.8, -0.09999999999999999, -0.04999999999999999, 0.10833333333333334, 0.525, 0.0, 0.125, 0.611111111111111, 0.0, 0.0, 0.625, 1.0, 0.30333333333333334, 0.7, 1.0, 0.6, 0.35, 0.5, -0.16666666666666666, 0.8, 0.5666666666666667, 0.5666666666666667, -0.6142857142857142, 0.5, 0.875, 0.7, 0.41818181818181815, -1.0, 0.0, 0.8049999999999999, 0.0, 0.6000000000000001, 0.25, -0.5, 0.0, 0.7, 0.2, 0.8, -0.5, 0.04083333333333331, 0.29444444444444445, 0.007407407407407395, -0.08454545454545458, 0.8, 0.0, 0.8, 0.5, 0.0, 0.0, 0.0, 0.11666666666666664, 0.0, 0.0, 0.0, 0.9099999999999999, 1.0, 1.0, 0.25, 0.35, 0.05, -0.3, 0.65, 0.43333333333333335, 0.0, -0.3, 0.7, 0.5, 0.7, 0.6166666666666667, 0.0, 0.11458333333333333, 0.08409090909090913, -0.6999999999999998, 0.0, 0.0, 0.20000000000000004, -0.051851851851851864, 0.0, 0.5, 0.0, 0.0, -0.26666666666666666, 0.6, 1.0, -0.35, -0.21000000000000002, 0.0, 0.3833333333333333, 1.0, 0.8, -0.1041666666666667, 0.3041666666666667, 0.30000000000000004, -0.5833333333333334, -0.1638888888888889, -0.29166666666666663, 0.0, 0.7, 0.7, 0.7, -0.3, 0.78125, -0.375, 0.625, -0.075, 0.6, 0.45000000000000007, 0.0, 0.0, 0.0, 0.0, -1.0, -0.5, 0.20833333333333334, 0.9099999999999999, 0.5, -0.16296296296296298, -0.05, 0.5, 0.75, 0.8, 0.0, 0.35, 1.0, 0.6, 0.5633333333333334, 0.0, 0.0, -0.05999999999999996, 0.6, 0.05, 0.7, 0.43333333333333335, 0.20833333333333331, 0.2681818181818182, 0.8, 0.6, 0.8, 0.0, 6.087662337661559e-05, 0.0, 0.0, -0.4777777777777778, 0.0, 0.0, -0.19444444444444448, 1.0, 0.9099999999999999, 0.0, 0.0, 0.5, 0.0, -0.0016666666666666635, -0.06666666666666667, 0.02526283240568955, 0.0, 0.43333333333333335, -0.043489583333333304, 0.5, 0.0, 0.0, 0.0, 1.0, 0.0, 1.0, 0.8, 0.341796875, 0.0, 0.8, 0.35, 1.0, 0.0, -0.125, 0.5, 0.0, -0.020000000000000018, 0.7, 0.41944444444444445, 0.0, 0.4666666666666666, 0.0, 0.0, 0.0, -0.125, 0.0375, 0.35, 0.55, 0.9099999999999999, 0.8, -0.9099999999999998, 0.2, 0.0, 1.0, 0.0, 0.5, 0.2, 0.6, 0.0, -0.15, -0.03125, 0.0, -1.0, 0.0, -0.09814814814814815, 0.43333333333333335, 0.5583333333333333, -0.6999999999999998, 0.0, 0.5, 0.5, 0.0, 0.0, 0.2, 0.640625, 1.0, 0.6, 0.8, 0.43333333333333335, 1.0, -0.62, 0.375, 0.7, 0.7, -1.0, 0.5, -0.30000000000000004, 0.0, -0.04799999999999997, -0.15, -0.6666666666666666, -0.15, 0.7, 0.6, 0.8, 0.0, 0.8, 1.0, 0.21428571428571427, 1.0, 0.6, 1.0, 0.0, -0.05000000000000002, 0.5, 0.0, 1.0, 1.0, 0.8, 0.8, 0.0, 1.0, 0.0, 0.0, 0.0, -0.3333333333333333, 0.0, 0.35000000000000003, 0.0, 0.5, -0.125, 0.3333333333333333, 1.0, 0.0, 0.0, 0.14285714285714285, 0.16666666666666666, -0.13333333333333333, 0.0625, 0.0, 0.0, 0.24010416666666667, 0.8, 0.5, 0.0, 0.0, 0.5, 0.2875, 0.20833333333333334, -0.25, 0.181859410430839, 0.6, 0.65, 0.31666666666666665, 0.5, 0.7, 0.0, 0.5, 0.0, -0.45, 0.35, 0.5, 0.0, 0.38666666666666666, -1.0, 0.037500000000000006, 0.8666666666666667, -0.4, 0.039999999999999994, 1.0, 0.5, 0.44000000000000006, -1.0, -0.16666666666666666, -0.16666666666666663, 1.0, 0.78, 0.012499999999999983, 0.8, 0.0, 0.6, 0.25, 0.7, -0.15833333333333335, 0.0, -0.042857142857142864, 0.0, -0.050000000000000024, 0.7, 1.0, 0.8, 0.53125, 0.5, 0.13636363636363635, 0.5, 0.5, -0.35, 0.0, -0.18, 1.0, -0.024999999999999994, 0.5, 0.20875, -0.21929499072356215, 0.0, 0.7, 0.20833333333333334, 0.0, 0.0, 1.0, 0.0, 0.0, 0.5, 0.2, 0.0, 0.69296875, 0.3125, -0.05, 0.8, 0.6499999999999999, 0.9, -0.18666666666666668, 0.6000000000000001, 0.5, -0.1, 0.08166666666666665, 0.9099999999999999, -0.05000000000000002, 0.0, 1.0, -0.6999999999999998, 0.5, 0.0, 0.5416666666666667, 1.0, -0.1660714285714286, 0.34722222222222227, 0.05238095238095238, 0.5633333333333334, -0.125, 0.06818181818181818, 0.0, 0.0, 0.7, 1.0, 0.13125, 0.0, 0.7, 0.0, 0.45, 0.9099999999999999, 1.0, 0.75, 0.8, 0.0, -0.6666666666666666, 0.0375, 0.8, 0.0, 0.0, -0.13333333333333333, 0.0, -0.25, 0.7500000000000001, -0.5, 1.0, 0.7, 0.0, 1.0, 0.43333333333333335, -0.006428571428571428, -0.375, 0.9099999999999999, 0.0, 0.1, -0.35, 1.0, 0.2333333333333333, 0.0, 0.425, 0.9099999999999999, 0.2, 0.4666666666666667, 0.0, 0.35625, 1.0, -0.35, 0.0, 0.9, 0.8, -0.5115740740740741, 0.17777777777777773, 0.0, 0.0, 0.8, 0.020833333333333322, 0.2, -0.5125, 0.175, 0.0, 0.0, 0.5, 0.0, 0.1, -0.06805555555555558, 0.7, 0.0, 0.6333333333333333, 1.0, 0.0, 0.0, 0.39999999999999997, 0.0, 0.0, 0.7, 0.0, 0.25, 0.0, 0.0, 0.09285714285714287, 1.0, 0.023232323232323215, 0.5416666666666667, 0.7, 0.0, 0.0, 0.6166666666666667, 0.2, 0.0, 0.0, 0.5, 0.7, 0.024999999999999994, 0.0, 0.0, 0.0, -0.35, -0.0625, 1.0, -0.0859375, 0.0, 1.0, 0.03333333333333333, 0.6, -0.2, -0.3, 0.0, 0.0, 0.01785714285714286, -0.32, 0.8, 0.3375, 0.7, 0.705, 0.0, -0.05, -0.13333333333333336, 0.0, 0.5, 0.15000000000000002, 0.0, 0.0, 0.8, 0.0, 0.7, 0.0031250000000000028, 0.0, -0.175, -0.11666666666666664, -0.2688888888888889, 0.19464594626913262, 0.1, -0.30000000000000004, -0.023809523809523798, 0.8, 0.0, 0.0, 0.2270833333333333, 0.7666666666666666, 0.7, 0.31666666666666665, 0.0, 0.9099999999999999, 0.0, 0.025, 0.39999999999999997, 0.0, 0.29545454545454547, 0.0, 1.0, -0.05555555555555555, 1.0, 1.0, 0.0, 0.25, 0.7, 0.2, 0.015625, 0.525, 0.55, 0.0, 0.9099999999999999, 0.04999999999999999, 0.5, 0.0, 0.0, 0.8, 0.41111111111111115, 0.018560606060606055, -0.4, 0.0, 0.0, 0.9099999999999999, 0.0, -0.08270833333333333, -0.5571428571428572, 0.7, 0.0, 0.0, 0.5, 0.5, 0.5, 0.5, 0.0, 0.5, 0.0, 0.0, -0.10681818181818181, 0.3666666666666667, 1.0, -0.5, 0.24444444444444446, 0.8, 0.7, -0.125, 0.5, 0.0, -0.3499999999999999, 0.1825, -0.18125, 0.7, 0.0, 0.5121212121212121, 0.14380952380952378, -0.058333333333333334, 0.2, 0.0, 0.0, 0.12698412698412698, 0.4, 0.4666666666666667, 0.0, 0.0, 0.0, -0.125, 0.5145833333333334, 0.3893939393939394, 0.5, 0.5166666666666666, 0.5, 0.475, 0.0, 0.8, 0.5, -0.020833333333333343, -0.20833333333333334, 1.0, 0.5777777777777778, 0.5, -0.2916666666666667, -0.2375, 0.3458333333333334, -0.2119047619047619, 0.7, 0.058333333333333334, 0.8, 0.7, 0.0, 0.244140625, 0.5, 0.6, 0.5, -0.2742857142857143, -0.5, 0.5, 0.0, -0.15, 0.45, -0.30000000000000004, 0.8, 0.9099999999999999, 0.5, 0.08492063492063494, -0.11666666666666668, 0.0, 0.6, -0.25, -0.19722222222222222, 0.375, 0.2, -0.30000000000000004, 0.0, 0.2, 0.2, 0.43603515625, -0.625, 0.0, 0.78, 0.5, 0.13636363636363635, 1.0, 1.0, 0.08409090909090909, 0.6, 0.0, 0.23875000000000002, 0.27619047619047615, 1.0, 0.3333333333333333, -0.125, 0.65, -0.5, 0.07999999999999999, 0.0, 0.45, 0.022222222222222216, -1.0, -0.4, -0.3125, -0.4, 1.0, 0.13636363636363635, -0.29166666666666663, 0.0, 0.75, -0.3, 0.0, -0.45, 0.43333333333333335, 0.8, 0.5, 0.1, 0.78125, -0.5, 0.4, 0.5729166666666666, 1.0, 0.0, 0.0996091871091871, 0.6, -0.8, 0.0, -0.2708333333333333, 0.0, 0.4, 0.0, 0.0, -0.07500000000000001, 1.0, -0.125, 0.0, 0.5, -0.19999999999999998, 0.8, -0.09999999999999992, 0.5, -0.344, 0.0625, -0.6999999999999998, 0.7, 0.7, 0.5125, 0.5, -0.2625, 0.016666666666666677, 0.2, 0.0, 0.7, 0.5, 0.0, -0.20000000000000004, 0.7, 0.25, 0.43333333333333335, 0.7166666666666667, 0.7, 0.4, 0.0, 0.7, 0.0, 1.0, 0.0, 0.25, 0.55, 0.43333333333333335, 0.7, 0.7, 0.7, -0.41931818181818187, 0.025, 0.0, 0.6, -0.25, -0.075, 1.0, 0.0, 0.6, 0.18333333333333335, 0.7, 0.5, 1.0, 0.2, 0.0, 0.3, 0.35, 0.3, -0.8, 0.31666666666666665, 0.8, 0.9099999999999999, -0.07500000000000001, 0.0, 0.0, 0.0, 0.5, 0.0, -0.6, -0.65, -1.0, 0.8, 0.8, 0.2, 0.5, 0.008703703703703701, -0.7111111111111111, 0.8, 0.0, -0.5249999999999999, 0.475, 0.0, -0.32, 0.5, 0.7, 0.0, 0.7, -0.09322916666666667, -0.7, 0.8, 0.0, -0.19722222222222222, -0.013888888888888876, -0.08392857142857142, 0.75, -0.15000000000000002, 0.5, 0.8, 0.9, 0.5566666666666666, 1.0, 0.8, 0.7, 0.7, -0.30000000000000004, 0.2, 1.0, 0.5, -0.08666666666666666, 0.4, 0.5, 0.03541666666666665, 0.12857142857142856, 0.13662337662337662, 0.0, 0.0, 0.356060606060606, 1.0, 0.0, 1.0, 0.5, 0.6875, 0.0, 0.0, 0.0, 0.0, 0.8, 1.0, 0.7, -0.3, 0.0, 0.375, 0.0, 1.0, 0.875, 0.98828125, 0.0, 0.012698412698412685, 1.0, -0.04924242424242427, 1.0, 0.0, 0.6, 0.0, 0.375, 0.0, -0.9549999999999998, 0.8, 0.5, 1.0, 0.5, 0.5, 0.6, 0.2, 0.5, 0.3681818181818182, 0.0, 0.0, 0.02954545454545455, 0.0, 0.0, 0.6166666666666667, -0.43333333333333335, 0.25, -0.11010416666666667, 0.7, 0.5, 0.1579910714285714, 0.5, 0.3, 0.0, 0.30000000000000004, -0.30000000000000004, 0.0, 0.0, 0.395, -0.12, 0.0, -0.35, 0.0, -0.35, 0.6, 0.1, 0.3666666666666667, 0.09166666666666663, 0.4166666666666667, 0.4666666666666667, 0.0, 0.5, 0.36874999999999997, 1.0, -0.31666666666666665, 0.36041666666666666, 1.0, 0.0, 0.4, 0.6, 0.0, -0.2878787878787879, 0.4, 1.0, 0.225, 0.04285714285714284, 0.8, -0.035, -0.8, 0.06944444444444443, -0.6999999999999998, 0.19999999999999998, 0.5, 0.0, -0.2, 0.0, 0.0, 0.5, 1.0, 0.7, 0.8, -1.0, 0.45, 0.7, 0.0, 0.9099999999999999, 0.57, 0.7, 0.7, -0.3375, 1.0, 0.18125000000000002, 0.375, 0.8, 0.8, 1.0, -0.22666666666666666, -0.26333333333333336, 0.2, -0.10000000000000002, 0.0, 0.41200000000000003, 0.0, 0.4416666666666667, 0.05, 0.21944444444444447, -0.5, 0.0, -0.19861111111111115, 0.2125, 0.08095238095238096, 0.6, -0.16666666666666666, 1.0, 0.2, 0.7, 0.0, 0.7, -0.125, -0.08333333333333333, 0.0, 0.75, 0.5, 0.5, -0.48828125, 0.6000000000000001, 0.4, -0.5833333333333334, 0.1, 0.0, 0.7, 0.7166666666666667, 0.55, 0.0, 0.65, 0.7, 1.0, 0.2, 0.7, 0.13636363636363635, -0.8, 0.4666666666666667, 0.5, 0.0, 0.0, -0.04404761904761904, 0.8, 0.9099999999999999, -1.0, 0.9099999999999999, 0.8, 1.0, 0.0, 0.5884185791015625, 0.18, 0.2875, -0.246875, 0.855, -0.016666666666666663, 1.0, 1.0, -0.08333333333333334, 0.0, 0.3333333333333333, 0.5, 0.0, 0.0, -0.52, 0.4, -0.24583333333333335, 0.2814814814814815, -0.40857142857142853, 0.5, 0.17500000000000002, -0.1, 0.0, 0.4666666666666666, 0.0, 0.45, 0.12698412698412698, 0.4116666666666667, 0.039999999999999994, 0.10714285714285714, -0.21333333333333337, 0.0, 0.7, 0.0, 0.7, 0.039206349206349224, 1.0, 0.6866666666666666, 0.5, 0.0, 0.0, 0.7, 0.0, 0.78125, 0.0, -0.21000000000000002, 0.8, 0.380952380952381, 0.7, 0.5, 0.6000000000000001, 0.02500000000000001, -0.54, 0.2, 0.0, 1.0, 0.8, 0.7999999999999999, 0.0, 0.6, 0.7, 0.20727272727272728, 0.48285714285714293, 1.0, 0.5166666666666666, 0.6, -0.5549999999999999, 0.4, -0.625, 0.3333333333333333, 0.7, 0.25, 0.07174603174603174, 0.7, 1.0, 0.3125, 0.49375, 0.3333333333333333, 0.0, 0.0, 0.1, 0.0, -0.04828282828282829, 0.0, 0.0, 0.75, 0.28125, 0.9099999999999999, 0.9099999999999999, 0.20000000000000004, 0.3825396825396825, 0.7, 0.6, 0.39999999999999997, 0.78125, 0.35, 0.5, 0.0, 1.0, 0.0, 0.0, -0.03333333333333333, 0.21818181818181817, 0.35, 0.5, 0.25, 1.0, 0.7000000000000001, -0.10436507936507938, 0.25555555555555554, 0.5, 0.33599999999999997, 0.2166666666666667, 0.6875, -0.24285714285714285, 0.8, 0.0, -0.6, 0.5, -0.22499999999999998, 0.5, 0.7, 0.6, 0.275, -0.01275252525252525, 0.9, 0.625, 0.16214285714285712, 0.0, 0.0, 0.13333333333333333, 0.0, 0.0, 0.5, 0.39999999999999997, 0.0, -0.10312500000000002, 0.0, -0.25, 0.225, -0.3333333333333333, 0.5833333333333334, 0.6, -0.7, -0.47619047619047616, 0.4152777777777778, 1.0, 0.7, 0.7, 0.3571428571428571, 1.0, 0.3333333333333333, 0.5, 0.35, 0.04999999999999999, 0.0, 0.0, 0.2, 0.5, 0.6166666666666667, 0.5, 0.0, 0.0, -0.15, -0.125, 0.0, 0.8049999999999999, 0.0, 0.35, 0.5, 0.0, 0.55, -0.35, -0.11904761904761907, 0.0, 0.15, 0.8, -0.5, 0.0, 0.029861111111111116, 0.7, 1.0, 0.4, 0.0, 0.875, 0.5, 0.9765625, 0.04999999999999999, 0.0, 0.5, 0.0, 0.8, 0.0, 0.5, 0.0, 0.125, 0.35, 0.0, 0.8, 0.4, 0.0, -1.0, 0.14888888888888888, -0.5, 0.09999999999999999, -0.017142857142857154, 0.0, 0.04999999999999999, 0.78, 1.0, 0.0, 0.26666666666666666, -0.35, 1.0, 0.0, -0.06818181818181818, 0.05185185185185185, 0.8, 0.0, -0.13036110617897728, 0.0, 0.0, 0.0, 0.0, -0.35000000000000003, 0.0, 0.0, 0.25, -0.2916666666666667, 0.0, 0.5, -0.16666666666666666, 0.8, 0.7, 0.0, 0.24166666666666667, 0.3333333333333333, 0.6, -0.1444444444444444, -0.25, 1.0, -0.2916666666666667, -0.3555555555555556, 0.0, 0.0, 0.21180555555555555, 0.2, 0.3642857142857143, 0.4, 0.18985795454545454, 0.10000000000000002, 0.7, 0.25, 0.6666666666666666, -0.7999999999999999, 0.13333333333333333, 0.0, -0.5166666666666667, 0.11111111111111112, 0.0, 0.1366161616161616, 0.8, 0.0, -0.3, 0.2, 0.25, 0.0, 0.04545454545454545, 0.5, 0.5, 0.0, -0.39000000000000007, 0.65, 0.0, 0.40774147727272725, 0.014583333333333337, 0.0, -0.022857142857142864, 0.21428571428571427, 0.0, 0.1, 1.0, 0.5, 0.0, 0.06562500000000002, 0.7, 0.02305575284090909, 0.9, 0.31666666666666665, -0.4, -0.340625, 0.3125, 0.3, 0.8, 0.6000000000000001, 0.5194444444444445, 0.9, 0.16, 0.0, 0.6000000000000001, 0.375, 0.5, -0.3868181818181817, 0.0, 0.0, 0.0, 0.15, 0.8, 0.6, -0.2916666666666667, 0.45833333333333337, 0.7, 0.0, 0.31244505494505503, 0.26666666666666666, 0.13199999999999998, 0.3121212121212121, 0.041666666666666664, 0.0, 0.5, 0.7, 1.0, 0.0, 1.0, 0.7, 0.475, 1.0, -0.4, 0.9099999999999999, 0.35, 0.0, 1.0, -0.275, 0.2857142857142857, -0.35000000000000003, 0.0, 0.0, 0.7, 0.7, 0.0, 0.0, 0.8, -0.3662109375, 0.7, 0.6, -0.016666666666666666, 0.0, 0.7, 0.0, -0.3366666666666666, 0.4666666666666667, -0.375, 0.0, 0.7, 0.0, 0.0016369047619047422, 0.5, -0.5, 0.033333333333333354, -0.5, 0.0, 0.0, 0.1, 0.8, 0.0, 0.0, 0.55, 0.7, 0.0, -0.5, 0.43333333333333335, 0.7, 0.45000000000000007, 0.0, 0.0125, 0.2, 0.0, 0.13437500000000002, 1.0, 0.5444444444444444, 0.1, 0.5, 0.0, -0.1, -0.3, -0.45, 0.0, 0.0, 0.4, 0.35, 1.0, -0.03154761904761907, 0.04999999999999999, -0.15, -0.25, 0.7, 0.0, 0.25, 0.2, 0.5, 1.0, 0.0, 0.0, 0.0, 0.037500000000000006, 0.2, 0.35, -0.31666666666666665, 0.11657848324514991, 0.5, 0.5, 0.0, 0.475, 0.0, 0.0, 0.0, 1.0, 0.0, 0.0, 0.0, 0.5, 0.24666666666666667, 0.09285714285714285, 0.6, 0.0, 0.7, -0.175, 0.6000000000000001, -0.25, -0.3, 1.0, 0.0, null, 0.7, 0.16, 0.0, 0.8, 0.55, 0.6, 0.0, 0.16666666666666666, 0.4, 0.0, -0.024999999999999994, 1.0, 0.0, 0.0, 0.0, 0.13999999999999999, 0.625, -0.065, -0.25, 0.0, 0.0, -0.030126262626262633, -0.08333333333333331, -0.30000000000000004, 0.26666666666666666, -0.15555555555555559, 0.5416666666666667, 0.0, 0.45749999999999996, 1.0, 0.09444444444444444, 0.75, -1.0, 0.2, 0.65, 0.7, 0.0, -0.08787878787878789, 0.5, 0.3333333333333333, -0.21000000000000002, 0.8, 0.0, 0.0, -0.35, 0.7, 0.0, 0.625, 0.07142857142857142, 0.0, 1.0, 0.0, 0.0, 0.2, -0.125, 0.03750000000000002, 0.0, 0.8, 0.8, -0.5444444444444444, 0.04999999999999999, 0.7, -0.24305555555555558, 0.0, 0.43333333333333335, 0.8, 0.425, -0.15, 0.4, 0.6, 0.0, 0.8, 0.6, 0.17222222222222225, 0.7, 0.4, 0.705, 0.0, -0.25, 0.5, 1.0, -0.25, 0.0, 0.0, 0.0, 0.08, 0.4, 0.01587301587301587, 1.0, -0.4000000000000001, 0.0, 0.35000000000000003, -0.15, 0.0, -0.2106060606060606, 0.0, 0.0, -0.012414965986394562, 1.0, 0.14375, 0.0, 0.8, 0.2333333333333333, 0.0, 0.5333333333333333, 0.55, 0.8, 0.0, 0.9099999999999999, 1.0, 0.0, 0.7, 0.0, 0.0, 0.13636363636363635, 0.43333333333333335, 0.3833333333333333, 0.025000000000000005, 0.5, 0.05606060606060606, -0.25, 0.5, 1.0, -0.0625, -0.35288461538461535, 0.6, 1.0, 0.25, 0.09999999999999999, 0.8, 0.3428571428571429, 0.0, -0.25, 0.1, 0.5, 0.7, -0.09047619047619047, 0.65, 0.35, 0.43333333333333335, 0.0, 0.0, -0.04666666666666667, -0.1111111111111111, 0.025000000000000005, -0.5, 0.45, 0.19999999999999998, 0.7, 0.1, 0.8, 0.43333333333333335, 0.7041666666666667, 0.7, 0.1, 0.5733333333333335, 0.8, 0.7, 0.39999999999999997, 0.7, 0.12878787878787878, -0.16666666666666666, 0.0, 0.11113636363636363, 0.5, 0.7, 0.3, -0.6, 0.08, 0.8, 0.14583333333333334, 0.0, 1.0, 0.5, -0.2, 0.0, 0.39999999999999997, -0.3693181818181818, 0.0375, -0.13333333333333333, 0.5, 0.65, 0.0, 0.9099999999999999, 0.0, 0.0, 0.8, -0.05499999999999999, 0.15476190476190477, 0.0, -0.3, 0.0, 0.9099999999999999, 0.0, 0.0, 0.625, -0.2, 0.0, -0.39000000000000007, 1.0, 0.49583333333333335, 0.0, 0.9099999999999999, 1.0, 1.0, 0.125, 0.9, 0.125, 0.5, 0.4, 0.2, 0.7, 0.9099999999999999, 0.7, -0.3125, 0.7, 0.11458333333333334, 0.1, -1.0, 0.43333333333333335, 0.0, 0.0, 0.09857142857142857, 0.7, 0.7, 0.4, 0.47000000000000003, 0.6, 0.2, 0.0, 0.4166666666666667, 0.0, -0.5333333333333333, 0.0, 0.5, 0.5, 0.20833333333333334, 0.4, 0.08333333333333333, -0.26041666666666663, 0.0, 0.5, 0.65, 0.8, -0.0833333333333333, 0.3325, 0.40476190476190477, 1.0, 0.0, 0.45399999999999996, -0.5, -1.0, 0.0, 0.0, 0.0, -1.0, 0.9765625, 0.2, 1.0, 0.0, 0.0, 0.7, 0.0, 0.75, 0.0, 0.4333333333333333, 1.0, 0.5, 0.0, 0.5, 0.0, 0.4, 0.4133333333333333, 0.5, 0.0, -0.8, 0.55, 0.13333333333333333, 0.8, 0.0, 1.0, 0.5625, 0.15, 0.1875, 0.2, -0.15555555555555559, -0.14719387755102042, 0.6, -0.11785714285714285, 0.0, 0.05340136054421768, 0.25, -0.35, 0.0, 0.5, -0.4, 0.0, -0.6999999999999998, 0.65, 0.5, -0.4, 0.0, 0.5666666666666667, -0.1, 0.9099999999999999, 0.14583333333333334, 0.0, 0.8, 0.5, 0.0, -0.3, 0.625, 0.5, 1.0, 0.7, 0.0, -0.038888888888888896, 0.0, 0.37777777777777777, 0.9099999999999999, 0.5, 0.8, 0.8, 1.0, 0.0, 0.5, 0.0, 0.5, 0.875, -0.5, 0.04545454545454545, -0.5, 0.5, 0.0, -0.35, 0.5, 0.04999999999999999, 0.04833333333333333, -0.26666666666666666, 0.31666666666666665, -0.5499999999999999, 1.0, 0.5453125, 0.0, 0.04523809523809524, -0.175, 0.4125, -0.52, -0.5, 0.0018518518518518452, 0.5, 0.0, 0.05, 0.0, 0.16428571428571428, -0.3, -0.15, 0.09999999999999999, 0.5, 0.0, 0.5, -0.30000000000000004, 0.8, 0.022499999999999992, 1.0, 0.0, -0.4318181818181818, 0.9, 0.7, -0.15, 0.5, 0.8, 0.0, 0.0, 0.0, 0.7, 0.43333333333333335, 0.5, 0.7, 0.0, 0.6, 0.0, 1.0, 0.75, 0.009999999999999998, 1.0, 0.0, 0.033825265643447455, 0.0, 0.3181818181818182, -0.4, 0.7, 1.0, 0.8, 0.7, 0.6, 0.6, 0.725, 0.0, 1.0, 0.14375, -0.30000000000000004, 0.43333333333333335, -0.027499999999999997, 0.7, 0.76, -0.6999999999999998, 0.275, 0.0, 0.8, -0.39, 0.5, 0.7, -0.25, 0.3833333333333333, 0.43333333333333335, 0.37500000000000006, 1.0, -0.19583333333333333, 0.0, 0.8, 0.5, 0.4666666666666667, 0.7, 0.34375, 0.0, 0.0, 1.0, 0.1, 0.0, 0.2857142857142857, 0.10416666666666666, 0.0, -0.33888888888888896, 0.0, 0.0, 0.38333333333333336, -0.15625, 0.0, 0.7, 0.9099999999999999, 1.0, -0.24375, 1.0, 0.7, 1.0, 0.7, 0.0, -0.12999999999999998, 0.3666666666666667, 0.21428571428571427, 0.7, -0.4, 0.8, -0.9099999999999998, 0.75, 0.5, 0.25, 0.0, 0.2, 1.0, 1.0, -1.0, -0.4, -0.053968253968253964, 0.4, 0.09765625, 0.5, 0.0, 0.65, 0.0, -0.65, 0.2, 0.1125, 0.13636363636363635, 0.06296296296296298, 0.0, 0.6, 0.5, -0.08395061728395062, 0.0, 0.0739795918367347, 0.0, 0.7, 0.17404513888888884, -0.20833333333333331, 0.5, 0.15, 0.0, -0.02250000000000001, 0.43333333333333335, 0.13214285714285715, 0.8, 0.7, 0.43333333333333335, 0.3, 0.0, 0.7, 0.7, 1.0, 0.8, 0.8, 0.0, 0.5, 0.125, 0.4000000000000001, 0.7, 1.0, 0.13636363636363635, -0.2277777777777778, 0.5566666666666666, 0.22000000000000003, 0.0, -0.9099999999999998, 0.0, -0.5, 0.75, 0.10416666666666666, 0.0, -0.3125, -0.3, 0.0, 0.2916666666666667, 0.3, 0.0, 0.7, 0.65, 0.8, 0.5, 0.9099999999999999, 0.5, 0.8, 0.0, -0.10555555555555556, 0.09965986394557823, -0.19123376623376623, 0.15416666666666665, 0.8, 1.0, 0.14861111111111108, 0.0, -0.2, -0.6999999999999998, 0.0, 0.0, 0.0, 0.7, -0.25, 0.65, 0.45555555555555555, 0.8, 0.12666666666666668, 0.0, 0.0, 1.0, 0.7, 0.7, 0.3, 0.0, 0.0, 1.0, -0.2916666666666667, 0.0, 0.0, 0.5, 0.0, 0.8, 0.0, 0.3952380952380952, -0.4, -0.6666666666666666, 0.65, -0.35, 0.0, -0.5166666666666666, 0.5, 0.6, -0.10000000000000002, 0.29000000000000004, 1.0, 0.3, 1.0, 0.6000000000000001, 0.8, 0.6, 0.44999999999999996, 0.0, 0.5444444444444444, 0.0, 0.30833333333333335, 0.5, 0.08208333333333333, 0.0, 0.41666666666666674, 0.6, 0.8, 0.30625, -0.125, 0.8, 0.5, 0.0, -0.875, 0.3333333333333333, 0.6, 0.2, -0.39999999999999997, 0.2875, 0.8, 0.5, 0.0, -0.23500000000000001, 0.0, 0.0, 0.5, 0.25625, 0.5, 0.19999999999999998, -0.5, 0.5, 0.0, 0.0, 0.0, 0.0, 0.8, -0.15, 0.8, 0.0, 0.625, 0.0, 0.4, 0.0, 1.0, 0.0, 0.0, 0.1875, 0.25416666666666665, 0.5, 0.2, 0.4200000000000001, 0.0, 0.0, 0.0, 0.8, 0.8, -0.15, 0.0, 0.0, 0.35, 0.0, 0.0, 0.5, 0.4166666666666667, 0.0, 0.39, 0.0, 0.24166666666666664, -0.43333333333333335, 0.8, -0.75, 1.0, 0.2757142857142857, 0.5, 0.0, 0.39999999999999997, 0.0, 0.1, -0.3125, 0.2, 0.43333333333333335, 0.5, -0.19999999999999998, 0.13636363636363635, 0.0, -0.002499999999999991, 0.0, 0.5, 0.0, 0.0, -0.15833333333333333, -0.15000000000000002, 0.8, 0.7, 0.0, 0.8, 0.0, -0.31666666666666665, -0.11287878787878791, 0.5633333333333334, -0.21666666666666667, 0.5, 0.5, 0.0, 0.6000000000000001, 0.4666666666666667, 0.1625, 0.5, 1.0, 0.0, 0.9099999999999999, 0.7, 0.4066666666666666, 0.7, 0.7, 0.0, 0.6699999999999999, 0.0, 0.0, 0.0, 1.0, -0.4799999999999999, -1.0, 0.7, 1.0, 0.5, 0.3571428571428571, -0.2, 0.0, 0.4, 0.9, -0.3999999999999999, 0.6, 0.0, 0.7, 0.625, 0.0, -0.7999999999999999, 1.0, 0.0, 0.0, 0.5, 0.6000000000000001, 0.7, -1.0, -0.028409090909090905, 0.4, 0.5, 0.0, -0.3, 0.2833333333333333, 0.27499999999999997, -0.1, 0.0, 0.25, 0.0, 0.13, 0.2525, 0.3333333333333333, 0.0, 0.0, -0.6666666666666666, -0.30000000000000004, 0.29583333333333334, 0.2333333333333333, 0.0, 0.4388888888888889, -0.0625, 0.0, 0.6416666666666667, 0.6, 0.7, 0.8, 0.13636363636363635, 0.11742424242424243, 0.0, 0.2, 0.5, -0.75, 0.04999999999999999, 0.28111111111111114, 0.8, 0.55, 0.43333333333333335, 0.7, 0.0, 0.6, -0.2028571428571429, 0.39999999999999997, 0.35, 1.0, 0.0, 0.05, 0.0, -0.3125, 0.0, 0.0, 0.7, 0.0, 0.0, 0.5, 0.0, 0.4166666666666667, 0.0, 0.0, 0.18888888888888888, -0.050000000000000044, 0.8, 0.74375, 0.7, 0.5, 0.0, 0.24999999999999997, 0.0, 0.1904761904761905, 1.0, 0.0, -1.0, 0.0, 0.25, 0.0, 1.0, 0.125, 0.1875, 0.45, 0.0, 0.0, 1.0, 0.0, 0.21428571428571427, 1.0, 0.0, 0.6000000000000001, 0.4541666666666667, 0.7, -0.18181818181818182, 0.5, -0.3333333333333333, 0.7, -0.10714285714285715, 0.39999999999999997, 0.13636363636363635, 0.0, 0.5, 0.7166666666666667, 0.9099999999999999, 0.7, 0.0, 1.0, 1.0, 0.8, 0.2, 0.5, 0.07500000000000001, 0.7, 0.7, -0.18055555555555555, 0.0, -0.24999999999999997, 0.5, -0.43333333333333335, 0.8, 5.551115123125783e-17, 0.0, 0.0, 0.75, 0.0, 0.0, 0.955, 0.0, -0.16666666666666666, 0.0, 0.9099999999999999, 0.0, 0.7, 0.5, 0.8, 0.39999999999999997, 0.0, 0.0, -0.20000000000000004, 1.0, 0.0, 0.55, -0.15885714285714286, 0.014285714285714282, 0.11384479717813052, -0.5999999999999999, 0.5, 0.0, 0.0, 0.8, 0.2, 0.020833333333333315, 0.7, -0.14212121212121212, 0.35, 0.4333333333333333, 0.8, 0.7, 0.8, 0.65, 0.125, 0.55, 0.7, 0.0, 0.0, 0.8, 0.0, -0.8499999999999999, 0.5, 0.0, 0.7, -0.6999999999999998, 0.041666666666666664, -0.03249999999999999, -0.16666666666666666, 0.6, 0.7, 0.7, -0.30000000000000004, 0.0, 0.1, 0.0, 0.125, 0.5, 0.4166666666666667, 0.0, 0.0, 0.5666666666666667, 0.13333333333333333, 0.0, 0.0, 0.15, 0.0, 0.7, 0.8, -0.3068181818181818, 0.025, 0.6716666666666666, 0.05000000000000001, 0.4000000000000001, 0.7, 0.0, 0.7, 0.5, 0.17222222222222222, 0.43333333333333335, 0.375, 0.40909090909090906, 1.0, 0.7, 0.5166666666666666, -0.3318181818181818, 0.7, 0.7, 0.5, 0.004523809523809513, 0.0, 0.8, 0.0, 0.8, 0.025, -0.049999999999999996, -0.8, 0.7, 0.2, 0.4666666666666667, 0.4, 0.7, -0.6, 0.1, 0.0, 0.7, -0.16666666666666666, 0.4166666666666667, 0.0, 0.15, 0.6, 0.0, 1.0, 0.0, 0.4666666666666667, -0.4845052083333333, 0.13333333333333333, -0.25, -0.3125, 0.0, 0.0, 1.0, 0.8, -0.14285714285714285, 0.0, 0.4, 0.5208333333333334, -0.22121212121212122, -0.30000000000000004, 0.7, 0.0, 0.0, 0.6, 0.0, 0.8, -1.0, 0.16, 1.0, 0.5, 0.25, 0.5, 1.0, 0.0, 0.43333333333333335, -1.0, 0.0, 0.0, -0.5922619047619048, 0.15736607142857142, 0.4166666666666667, 1.0, 0.0, -0.08611111111111112, 0.8, 0.16666666666666666, 0.7, -0.2916666666666667, 0.25, 0.4083333333333333, -0.5785714285714286, -0.25, 0.0, -0.24999999999999994, -0.13333333333333336, 0.0, 0.8, 0.7549999999999999, 1.0, 0.5416666666666666, 0.7, -0.25, 0.0, 0.0, 0.0, 0.7, -0.35000000000000003, 0.1579910714285714, 0.6, 0.09166666666666667, 0.55, 0.0, 1.0, 0.0, 0.0, 0.6000000000000001, 0.16666666666666666, 0.7, 0.6000000000000001, 0.16666666666666666, 0.6, 0.6, 0.0, -0.5208333333333333, 0.2, 0.43928571428571433, 0.0, 0.29000000000000004, 0.5, 0.7, 0.05555555555555555, 0.0, 0.0, 0.5249999999999999, 0.2, -0.2833333333333333, 0.55, 0.8, 0.9099999999999999, -0.8, 0.0, 0.0, -0.1, 0.0, 0.0, 0.0, 0.625, 0.0, 0.0, 0.41111111111111115, 0.5, 0.44999999999999996, -0.42499999999999993, 0.0, 0.2, 0.20833333333333334, 0.43333333333333335, 0.5, 1.0, 1.0, 0.45, -0.2518518518518519, -0.75, 0.15, 0.001041666666666663, 0.25, 0.7, 0.5, 0.8, 0.8, 0.4333333333333333, 0.0, -0.022222222222222216, 0.5, -0.5, 0.029166666666666674, 1.0, 0.0, 1.0, 0.39, 0.0, 1.0, 0.6166666666666667, 0.5, 0.3275, 0.0, 0.5, 0.0, -0.08095238095238093, -0.09403409090909093, 0.9099999999999999, 0.8, 1.0, 1.0, 0.0, 0.35, 0.43333333333333335, 1.0, 0.9099999999999999, 0.7, 0.7, 0.0, 1.0, 0.5, 0.0, 1.0, -0.15, 0.25, 0.36944444444444446, 1.0, 0.6716666666666666, 0.4333333333333333, 0.0, 0.2333333333333333, 1.0, 0.26666666666666666, 0.2, -0.5, 0.7, 0.5, 0.9099999999999999, -0.3, 0.175, -0.15555555555555559, 0.8, 0.25, 0.7, 0.06666666666666667, 0.8, 0.10000000000000002, 0.0, 0.43333333333333335, -0.09333333333333334, -0.08511303511303511, 1.0, 0.45, 0.12500000000000003, 0.7, 0.0, 0.1559375, 0.4, 0.0, 0.5, -0.049999999999999996, 0.6, 0.8, 0.9099999999999999, 0.0, 0.0, 0.0, 0.0, 0.5, 0.6, 1.0, 0.45, 0.0, 0.7, 0.875, 0.0, 0.20611111111111105, 0.43333333333333335, 0.7, 0.6, 0.6, 0.9099999999999999, 0.7500000000000001, 0.0, 0.5, 0.15, 0.0, null, -0.3, -0.15, -0.006666666666666672, 0.5428571428571429, 0.45555555555555555, 0.35, 0.8, 1.0, 0.78, -0.4, 0.5, 0.7, 0.7, 0.2, 0.0, 0.5, 0.0, -0.4777777777777778, 0.4875, 0.35, 0.0, 0.40499999999999997, 0.0, 0.48571428571428577, 0.6666666666666666, -0.32083333333333336, 0.7, 0.5, 0.5633333333333334, 0.0, 1.0, 0.0, 0.7, -0.1242269635126778, 0.22749999999999998, 0.8, 0.0, 0.5, 0.0, 0.0, -0.13333333333333333, 0.5, -0.7142857142857143, 0.43333333333333335, 0.29583333333333334, 0.0619047619047619, 0.75, 0.05, 0.625, 0.35, 1.0, 1.0, 0.5, 0.7, 0.0, 0.8, -0.5, 0.02301587301587301, 0.6, -0.04340909090909087, 0.0, 0.225, 0.9099999999999999, -0.8, 0.1208333333333333, 0.396484375, 0.4777777777777778, 0.9765625, 0.2857142857142857, 0.36750000000000005, 0.8125, 0.7, 0.40888888888888897, 0.6666666666666666, 0.6946969696969697, 0.8, 0.0, 0.5, -0.5499999999999999, 1.0, -0.39000000000000007, 0.0, 1.0, 0.225, 0.7, 0.0, -0.09396825396825399, 0.5333333333333333, 0.4166666666666667, 0.2625, 0.55, -0.04999999999999999, 0.0, 0.0, -0.05, 0.0, 0.11499999999999999, 1.0, -0.75, 0.0, 0.4, 0.0, 0.0, -0.15000000000000002, 0.22777777777777777, 0.425, 0.8, -0.15384615384615385, 0.0, -0.15, 0.0, 0.5, 0.7, -0.4475, 0.0, 0.0, 0.7, 0.575, 0.5, 0.5, -0.46875000000000006, 0.43333333333333335, 0.8, 1.0, 0.5, 0.5416666666666666, 0.5, 0.5, 0.4666666666666667, 0.3, 0.75, 1.0, 0.0, 1.0, 0.0, 0.5, 0.0, 0.24444444444444446, 0.5, 0.0, 0.5, -0.05, 0.5, -0.3, 0.35833333333333334, 0.0, 0.6666666666666666, 0.7, 0.0, 0.0, 0.2, 0.8, 0.0, 0.0, 0.2, 0.7, 0.0, 0.5, 0.0, 0.0, -0.21645021645021645, 0.5, -0.35, 0.21774891774891775, 0.35, -0.075, 0.16818181818181818, -0.3333333333333333, 0.061999999999999965, -0.375, 0.0, 0.0, 0.625, 0.0, 0.5, 0.0, 0.0, 0.6, 0.0, 0.6000000000000001, 0.8, -0.2, 0.5, 0.0, 0.0, 0.0, -0.46249999999999997, 0.7, 0.5, 0.0, 0.0, 0.0, 0.5, 0.35, 0.0, 0.44999999999999996, 1.0, 1.0, 0.7, 1.0, 0.0, 0.0, 0.0, 0.6, 0.8, 0.7, -1.0, 1.0, 0.5, 0.2, 0.0, 0.31, 0.5866666666666667, 0.5, 0.8, 0.6000000000000001, -0.16041666666666668, 0.8, 0.9765625, 0.9099999999999999, 1.0, 0.0, 0.8, -0.2, 0.6, 0.8, 0.0, 0.07500000000000001, 0.0, 0.5666666666666667, 0.034999999999999996, 0.3333333333333333, 0.7, -1.0, 0.4666666666666666, 0.7, -0.061111111111111095, 0.7, 0.0, 0.15, 0.7, 0.05000000000000002, 0.44999999999999996, 0.0, 0.2, 0.5211111111111112, -0.35, 1.0, -0.6, -0.2, -0.36388888888888893, 0.375, 0.6000000000000001, 0.5, 0.0, 0.0, -0.10285714285714284, 0.5, 0.39999999999999997, -0.02261904761904764, 0.13636363636363635, 0.4, 0.45, -0.45, 0.3, 0.7, 0.5, 0.0, 0.7, 0.5, 1.0, 0.55, 0.0, -0.5, 0.7, 0.0, -0.3499999999999999, -0.8, 0.0, 0.0, -0.02083333333333337, 0.7, 0.39999999999999997, 0.10416666666666666, -0.10375000000000001, 0.225, 0.7, 0.33482142857142855, 0.5, 0.0, 0.0, 0.2, 1.0, 1.0, 0.0, 0.43333333333333335, -0.30000000000000004, 0.125, 1.0, -0.375, 0.6000000000000001, 0.18, 0.9099999999999999, 0.31666666666666665, 0.0, 0.43333333333333335, 0.85, 0.3125, 0.7, 0.0, 0.22000000000000003, 0.7125, 0.6, 0.48, 0.0, 0.0, -0.03571428571428573, 1.0, 0.6, 1.0, 0.6166666666666667, 0.0, 1.0, 0.20833333333333331, 0.4666666666666667, 0.22777777777777777, -0.5950000000000001, 0.0, 0.39, 0.6, -0.6999999999999998, 0.9099999999999999, 0.175, 0.0, 0.5, 0.0, -0.0875, 0.0, -0.2541666666666667, 0.0, 1.0, 0.55, 0.9765625, 0.1, 0.0, 0.35, 0.8, 0.0, 0.5, -0.52, 0.0, 0.855, 1.0, 0.0, 0.016666666666666666, 0.0, 0.2125, 0.0, 1.0, 0.061111111111111095, 0.0, 0.0, 0.0, 0.0, 0.8, 0.25, 0.11063264715608467, 0.14666666666666667, 0.0, 0.0, 0.0, -0.525, -0.125, 0.8, 0.14285714285714285, 0.2, 0.0, 0.075, 0.7, 0.0, 1.0, -0.5499999999999999, 0.301860119047619, -0.1975, 0.8, 0.11111111111111112, 0.35, 0.5, -0.25, 1.0, -0.42500000000000004, 0.1075, -0.03571428571428573, 0.7, 0.5, 0.0, 0.75, -0.1111111111111111, -0.0033333333333333327, -0.028645833333333332, -0.25, 0.8, 1.0, 0.14523809523809522, -0.5, 0.09999999999999999, 0.44111111111111106, 1.0, 0.23333333333333336, -0.14359200613839285, -0.19500000000000003, 0.0, 0.0, 0.43333333333333335, 1.0, 0.0, -0.10925925925925925, -0.3666666666666667, 0.0, 0.0, 0.0, 0.0, 0.8033333333333333, 0.625, 0.6716666666666666, 0.7, 0.8, 0.35, 0.0, 0.0, 0.0, 0.25333333333333335, 0.0, 0.1, -0.0071590909090909136, 1.0, 0.0, -0.8, 0.0, 0.8, 1.0, 0.14166666666666666, 0.0, 0.0, 0.19285714285714284, 0.0, -0.1625, 0.32944444444444443, 0.0, -1.0, 0.17642045454545452, 0.43333333333333335, 0.65, 0.0, 1.0, -0.1380952380952381, 0.5953125, 1.0, 0.5416666666666667, 0.0, 0.0, 0.0, 0.0, 0.4666666666666667, 0.7, -0.35714285714285715, 0.0, 0.0, -0.1, 0.0, 1.0, -0.07777777777777779, 0.0, -0.3541666666666667, 0.5, 0.2, -0.010000000000000009, 0.7, -0.12000000000000002, 0.7, 0.8, -0.25, 0.0, 0.5833333333333334, 0.7, 0.0, -0.3666666666666667, 0.8, 0.0, 0.7, 0.6716666666666666, 0.7, 0.0, 0.175, 0.0, 0.5, 0.0, 0.7, -0.00714285714285715, 0.0, 0.7, 0.7, 0.35, 0.3111111111111111, -0.1, 0.0, 0.7, 0.7, 0.4, 0.7, -0.26666666666666666, 0.8, 0.3, 0.0, 0.9099999999999999, 0.8, 0.5, 0.0, 0.7, 0.8, 0.8, 0.0, -0.19999999999999998, -0.5, -0.21666666666666667, 0.0, -0.1444444444444444, 0.7, -0.26666666666666666, 0.6, -0.5, 0.0625, -0.32954545454545453, 0.5, 0.5, 0.0, 0.6875, -0.25, -0.16666666666666666, 0.0, 0.7, 0.6, 0.0, 0.04722222222222222, 0.5208333333333334, 0.7, 0.65, 0.65, 0.0, 0.35, 0.0, 0.8, 0.0, 0.0, -0.37500000000000006, 0.0, 0.7, 0.0, 0.17, 0.26, 0.5, 0.01249999999999999, 0.0, 0.0, 0.0, -0.25, -0.027083333333333313, 0.9099999999999999, 0.6, 0.0, 0.5, 0.75, 0.0, 0.8, 0.7, -0.2, 1.0, 0.7, 0.4, 0.0, 0.0, 0.5, 0.3226190476190476, 0.7, 0.05833333333333333, -0.175, 0.0, 0.55, 0.7, 0.512890625, 0.0, 0.0, 0.0, 0.16666666666666666, 0.5311111111111111, 0.26249999999999996, 0.0, 0.5, 0.403125, 0.3, 0.65, 0.17261904761904762, 0.5633333333333334, 0.9, 0.0, 0.0, 0.1444444444444445, 0.35, 0.35, 0.0, 0.0, -0.5, 0.63, -0.33999999999999997, 1.0, 0.7, 0.36000000000000004, 0.6166666666666667, 0.2, -1.0, 0.0, 0.0, 0.0, -0.07142857142857142, 0.0, 0.0, 0.09999999999999999, 0.32666666666666666, -0.09090909090909091, 0.0, 0.0, -0.4, -0.25, 0.5, 0.9, 0.37777777777777777, 0.75, 0.5, 0.296875, 0.24000000000000005, 0.0, 0.75, 0.2583333333333333, 0.0, 0.0, 0.0, 0.5, -0.03125, -0.40625, -0.011904761904761918, 0.55, -0.23750000000000002, 0.2857142857142857, -0.475, 0.0, 1.0, 0.1, 0.45833333333333337, 0.6, 0.625, 0.0, 0.5, -0.3, 0.43333333333333335, 0.7, 0.6, 0.0, 0.0, 0.2, -0.10387863005050506, 0.325, 0.15, 0.4, 0.32, 0.7, 0.06717171717171717, 0.15909090909090906, -0.10238095238095236, -0.5, 0.3, 0.7, 0.039494949494949486, -0.275, 0.175, -0.2916666666666667, 0.5, -0.1398308481641815, -0.014285714285714285, 0.14375, 0.5, 0.4314285714285715, 0.11249999999999999, -0.05625000000000001, 0.5, 0.0875, 1.0, -0.15000000000000002, 0.4, 0.1, 0.5, 0.1, 0.0, -0.30000000000000004, 0.5, 0.0, 0.03253968253968253, 0.4287121212121212, -0.14375, 0.7, 1.0, 0.0, -0.07999999999999999, 0.0, 0.0, 0.6, 0.0, 1.0, -0.05111111111111113, 0.0, 0.375, 0.6, 0.16666666666666666, 0.0, 0.3125, 0.6377604166666667, 0.6, 0.65, 0.0, 0.5, -0.08412698412698412, -0.2, 0.4, 1.0, 0.030000000000000006, 0.7, -0.3666666666666667, 0.0, 0.4, 0.0, 0.6740885416666668, 0.6000000000000001, -0.15, 1.0, 0.3833333333333333, 0.7, 0.0, 1.0, 0.9099999999999999, 0.15416666666666665, 0.5, 0.1625, -0.5, 0.12142857142857143, -0.5, 0.7, 0.1, 0.20833333333333331, 0.11800000000000002, 0.4833333333333334, 0.8, 0.0, 0.0, 0.25, -0.019999999999999997, 0.0, 0.0, 0.2, 0.0, 0.0, 0.09375, 0.3, 0.6, 0.8, 0.3008333333333333, -0.4, -0.5777777777777778, -1.0, 1.0, 0.3, 0.0, 0.0, -0.125, -0.024999999999999998, -0.2, 0.0, 0.0, 1.0, 0.1, 0.5, 0.5, 0.5, 0.032, 0.7, 0.5, 0.0, 0.0, 0.78125, 0.0, 0.0, 0.0, 0.44999999999999996, 0.5, 0.10729166666666665, 1.0, 0.8, 0.8, 0.8, 0.5, 0.5249999999999999, 0.0, 1.0, 0.0, 0.0, 0.0, 1.0, 0.6, 0.2579166666666667, 0.0, 0.0, 0.0, 0.30833333333333335, 0.10555555555555556, 0.7, 0.11137566137566138, -0.06746031746031747, 1.0, 0.26666666666666666, -0.1, 0.8, 0.0, 0.8, -0.14444444444444446, -0.24285714285714285, 0.03194444444444446, 0.33333333333333337, 0.5583333333333333, 0.0, 0.2, 0.0, 0.0, 0.9, 0.55, 0.0, -0.35, 0.0, 0.8, 0.43333333333333335, 0.5714285714285714, -0.4907142857142856, 0.3, 0.0, 0.75, 0.5, 0.06778273809523809, 0.8, 0.0, 0.0, 0.0, -0.3333333333333333, 0.0, 0.16944444444444448, 0.65, 0.0, 0.45, 0.8, 0.0, 0.8, 0.5, 0.5, -0.24375000000000002, 0.0, 0.0, -0.744140625, 0.0, 0.0, -0.1375, 0.0, 0.0, 0.8, 0.3333333333333333, 0.19806818181818187, 0.0, 1.0, 0.0, 0.6, 0.5, 0.45, 0.0, 0.1619047619047619, 0.0, 0.7, 0.0, -0.1, -0.27999999999999997, 0.7, 1.0, 0.9099999999999999, 1.0, 0.6000000000000001, 0.5, -0.1777777777777778, -0.1625, 0.0, 0.6166666666666667, 0.0, 0.0, 0.5833333333333333, -0.6999999999999998, 0.0, 0.0, 0.0, 0.0, 0.7, 0.5, 0.8, -0.14999999999999997, -0.16249999999999998, 1.0, 0.3909090909090909, 0.7, 0.0, 0.0, 0.0, -0.30000000000000004, 0.0, -0.7049999999999998, -0.4416666666666667, -0.6, 0.5, -1.0, 0.8, 0.7, 0.3, 0.7, 0.5, -1.0, 0.2, 0.05, 0.6666666666666666, 0.1525, -0.5, 0.1333333333333334, 0.31666666666666665, 0.0, 0.5625, 0.42857142857142855, 0.0, 0.5083333333333333, 1.0, 0.22727272727272727, 0.45, 0.0, -0.30000000000000004, 0.5, -0.25, -0.0145833333333333, 0.0, 0.0, 0.35, 0.0, 0.0, 0.2, 0.7, 0.5, 0.2, 0.5, 0.0, 0.0, -0.23055555555555554, 0.5, 0.0, 0.16468253968253968, 0.16704545454545455, -0.0625, 0.0, 0.5, 0.7, 1.0, 0.6000000000000001, 0.9099999999999999, -0.009259259259259264, 0.2, 0.6000000000000001, 0.6000000000000001, 0.0, 0.2, 0.35, -0.4, 0.7, 1.0, -0.37500000000000006, 0.0, 0.1690952380952381, 0.0, -0.15, 1.0, 1.0, 0.7, 0.75, 0.3333333333333333, 0.43333333333333335, 0.7, -0.5875, 0.0, 0.25396825396825395, 0.8, 0.44999999999999996, 0.8, 0.27499999999999997, 0.8, 0.09375, 0.0, -1.0, 0.5, 0.0, 0.0, -0.2722222222222222, 0.3666666666666667, 0.8, -0.22142857142857145, 0.4185267857142857, 0.0, -0.2833333333333333, 0.4, 0.625, 0.3333333333333333, -0.25333333333333335, -0.03146972656250002, -0.05937499999999998, 0.35, 0.0, 0.1, -0.035666666666666645, 0.75, 0.5, 0.07500000000000001, 0.0, 0.0, 0.14375, 0.19242424242424241, 0.6666666666666666, 0.5, -0.14047619047619048, 0.4, 0.8, -0.02923280423280424, 0.8, 0.3180555555555556, 0.0, 0.7111111111111111, 1.0, 0.325, 0.8, 0.8, 0.5, 0.59375, 0.625, -0.6999999999999998, 0.7, -0.5, 0.5, 0.0, 0.0, 0.0, 1.0, 0.0, 0.7, 0.5, 0.1, 0.5, 0.3, 0.31666666666666665, 0.0, 0.43333333333333335, -0.2083333333333333, 0.07458333333333333, -0.15, 0.0, 0.5, 0.8, 0.0, -0.3, 0.4222222222222222, -0.09375, 0.1125, 0.2, 1.0, 1.0, 0.0, 0.21666666666666667, -0.60625, -0.049999999999999996, 0.5, 0.7, 1.0, 0.4, 0.0, -0.30000000000000004, 0.7, -0.1375, -0.052083333333333336, 0.0, 0.39285714285714285, 0.8, 0.0, -0.15092592592592594, -1.0, 0.5, 0.5, 0.0, 0.4666666666666667, 0.23214285714285712, 0.8, 1.0, -0.03733333333333333, 0.5, 0.7, -0.16666666666666666, 0.0, -0.07142857142857142, -0.38750000000000007, 1.0, 0.0, 0.625, 0.0, 0.20833333333333334, 0.5, -0.025, 0.175, -0.023968253968253972, -0.75, 0.43333333333333335, 0.19375, 0.0, -0.9099999999999998, 0.25, 0.09666666666666665, 0.2011904761904762, 0.5, 1.0, 0.8, 0.29166666666666663, 0.0227891156462585, 0.0, 0.6000000000000001, 0.0, 0.125, 0.3, 0.43333333333333335, 0.5199999999999999, 0.5416666666666667, 0.75, 0.7, 0.48333333333333334, 0.625, 0.9099999999999999, -0.4, 0.8, 0.0, 0.5, 0.0, 0.5, -0.13333333333333325, 0.0, -0.39285714285714285, -0.11875, 0.6000000000000001, 1.0, -0.125, 0.6, 0.033333333333333326, 0.0, 0.7, 1.0, 0.43333333333333335, 0.55, 0.6777777777777777, -0.04833333333333334, 0.6, 0.7, 0.7, 0.5416666666666667, 0.0, 0.8, 0.8, 0.0, -0.3, 0.17500000000000002, 0.5, 0.0, -0.125, 0.08333333333333333, 0.0, 0.0, 0.8, 0.5, 0.0, 0.8, 0.6000000000000001, 0.35, 0.5, 0.0, 0.0, 0.0, -0.046875, 0.0, 0.1, 0.0, 1.0, 0.0, 0.5, -0.18333333333333335, 0.05000000000000001, 0.0, 0.30499999999999994, 1.0, -0.08499999999999999, 0.0, 0.7, 0.0, -0.35, 1.0, 0.0, 0.0, 0.24, 0.0, 0.875, -0.48999999999999994, 0.35000000000000003, -0.4149999999999999, 0.75, 0.13375, 0.0, 0.08333333333333333, 0.4, 0.2, 0.21000000000000002, 0.75, 0.8, 0.1638095238095238, 0.0, 0.29444444444444445, 0.65, 0.17, 0.0, 0.9099999999999999, 0.6, 0.7, 0.7, 0.5, 0.16666666666666666, 0.3675132275132275, 0.0, 0.0, 0.8, 0.25, 0.06818181818181818, 0.7, 0.0, 0.5066666666666666, -0.09999999999999999, 0.0, 0.5, -0.30000000000000004, 0.0, 0.0, 0.0, -0.16666666666666666, 0.78, -0.1281746031746032, 0.75, 0.4166666666666667, 0.5, 0.5, 0.5, 0.7, 0.0, 0.9099999999999999, 0.04545454545454545, 0.0, 0.0, 0.27777777777777785, 0.0, -0.012499999999999997, 0.0, 0.18888888888888888, 0.4142361111111111, 0.0, -0.7666666666666666, -0.2, 0.25, 0.5, 0.7, 0.3, 0.0, 1.0, 0.0, 1.0, 0.6000000000000001, -1.0, 0.0, 0.15000000000000002, 0.0, 0.75, -0.05, 0.5, 0.0, -0.6999999999999998, 0.6, 0.6, 0.0, -0.09333333333333334, 1.0, -0.07500000000000001, 0.445, 0.15, 0.4333333333333333, 1.0, -0.049999999999999975, 0.15, -0.125, -1.0, 0.0, 0.8, 0.0, 0.673611111111111, 0.31666666666666665, 1.0, 0.0, 1.0, 0.09285714285714287, 0.019047619047619042, 0.4666666666666667, 0.0, 0.0, 0.1676190476190476, 0.7, -0.21666666666666667, 0.0, 0.5, -0.25, 0.7, 0.7, 0.0, 0.2, 0.0, 0.2, 0.0, -0.03194444444444444, 0.7, -0.5859375, -0.0666666666666667, 0.0, 0.0, -0.0625, 0.0, 0.43333333333333335, 0.0, 0.0, 0.0, 0.0, 0.7, 0.7, 0.0, 0.0, 0.7, 0.0, 0.2, 0.33749999999999997, 0.8, 0.5, 0.0, 0.5222222222222223, 1.0, 0.17767857142857144, 0.0, 0.3333333333333333, 0.2111111111111111, 0.1, 0.35, 0.0, -1.0, 0.0669047619047619, 0.7, 0.0, 0.47, 0.0, -0.15, 0.8, 0.9099999999999999, 0.0, 0.0, 0.6, -1.0, 0.5071428571428571, 0.0, -0.4846153846153845, 0.1, 0.0, -0.15625, 0.13993939393939395, 0.7, 0.9099999999999999, 0.35, 0.7, 0.5333333333333333, 0.0, 0.0, 0.0, 0.019047619047619042, 0.35, 0.75, -0.16666666666666666, 0.5, 0.2, 0.0, 0.0, 0.9765625, 0.0, 0.8, 0.7, 0.6, -0.3353174603174603, 0.7, 0.0, 0.6, -0.16666666666666666, 0.5, 0.0, 0.7, 0.2857142857142857, 0.0, -1.0, 0.75, 0.0, 0.7, -0.125, 0.0, 0.5, 0.8666666666666667, -1.0, 0.275, 0.9, 0.0, 0.8, 0.475, 0.5, 0.0, 0.18750000000000003, -0.1851851851851852, 0.2, 1.0, 0.06666666666666665, 0.5, 0.7, 0.32666666666666666, 0.5, 0.15, 0.5, 0.06666666666666665, -0.3, 0.7, 0.5, 0.25, 0.11212121212121212, 0.27083333333333337, -0.5, 0.175, -0.2916666666666667, 0.35, 0.21666666666666667, 0.0, 0.7, -0.8, 0.4, 0.7, 0.5, -0.2, 0.12222222222222223, 0.008333333333333337, -0.5777777777777778, 0.8, 0.5, 0.5333333333333333, 0.25, 0.20833333333333334, 0.0, -0.12083333333333333, 0.32999999999999996, 0.0, 0.0, 0.0, 0.4125, 0.5, 1.0, 0.2313852813852814, 0.4, 0.325, -0.14583333333333331, 0.3, -0.028333333333333332, 0.5666666666666667, 0.09375, 0.375, 0.43333333333333335, 0.28121212121212125, 0.25, 0.5, 0.7, 0.8, 0.0, 0.0, 0.0, 0.5666666666666667, -0.125, 0.9099999999999999, 0.0, -0.15, 0.018750000000000003, 0.2815656565656565, -0.1375, 0.29166666666666663, 0.48333333333333334, 0.5, 0.35, -0.35, 0.12227272727272727, 0.7, 0.8, 0.5, 0.0, 0.0, -0.3, 0.275, 0.2333333333333333, 0.0, 0.625, 0.19999999999999998, 0.5, 0.0, -0.30000000000000004, 0.7000000000000001, 0.0, 0.8, 0.44999999999999996, 0.6, -0.30000000000000004, -0.009999999999999998, 0.55, 0.0, 0.17777777777777778, -0.18555555555555556, 0.0, 0.0, 0.0, 0.0, 0.5, 0.9, 0.0, 0.8, 0.0, 0.0, 0.0, 0.4, 0.20555555555555557, 0.0, -0.08928571428571429, -0.2212121212121212, 0.0, -0.5, 0.445, 0.0, 0.08050595238095237, 0.7, 0.54, 0.0, 0.0, 0.0, 0.0, 0.7, -1.0, 0.5, 0.2369047619047619, 0.07500000000000001, -0.275, 0.11666666666666665, 1.0, 0.5, 1.0, 0.7, 0.4, 0.7, 1.0, 0.0, 0.0, 0.8, 0.7, 0.13636363636363635, 0.6, 0.35, 0.35, 0.08582251082251086, 0.8, 0.0, -0.20260416666666667, 0.0, 0.7, 0.2, -0.30000000000000004, 1.0, 0.32222222222222224, -0.10654761904761904, 0.0, 0.0, 0.09999999999999998, 0.5, 0.0, 0.0, 0.03666666666666668, 0.5249999999999999, 0.505, 0.5, 0.7, 0.0, 0.0, 0.7, 0.0]}],\n",
              "                        {\"barmode\": \"overlay\", \"legend\": {\"bgcolor\": \"#151516\", \"font\": {\"color\": \"#D9D9D9\"}}, \"paper_bgcolor\": \"#151516\", \"plot_bgcolor\": \"#151516\", \"template\": {\"data\": {\"bar\": [{\"error_x\": {\"color\": \"#2a3f5f\"}, \"error_y\": {\"color\": \"#2a3f5f\"}, \"marker\": {\"line\": {\"color\": \"#E5ECF6\", \"width\": 0.5}}, \"type\": \"bar\"}], \"barpolar\": [{\"marker\": {\"line\": {\"color\": \"#E5ECF6\", \"width\": 0.5}}, \"type\": \"barpolar\"}], \"carpet\": [{\"aaxis\": {\"endlinecolor\": \"#2a3f5f\", \"gridcolor\": \"white\", \"linecolor\": \"white\", \"minorgridcolor\": \"white\", \"startlinecolor\": \"#2a3f5f\"}, \"baxis\": {\"endlinecolor\": \"#2a3f5f\", \"gridcolor\": \"white\", \"linecolor\": \"white\", \"minorgridcolor\": \"white\", \"startlinecolor\": \"#2a3f5f\"}, \"type\": \"carpet\"}], \"choropleth\": [{\"colorbar\": {\"outlinewidth\": 0, \"ticks\": \"\"}, \"type\": \"choropleth\"}], \"contour\": [{\"colorbar\": {\"outlinewidth\": 0, \"ticks\": \"\"}, \"colorscale\": [[0.0, \"#0d0887\"], [0.1111111111111111, \"#46039f\"], [0.2222222222222222, \"#7201a8\"], [0.3333333333333333, \"#9c179e\"], [0.4444444444444444, \"#bd3786\"], [0.5555555555555556, \"#d8576b\"], [0.6666666666666666, \"#ed7953\"], [0.7777777777777778, \"#fb9f3a\"], [0.8888888888888888, \"#fdca26\"], [1.0, \"#f0f921\"]], \"type\": \"contour\"}], \"contourcarpet\": [{\"colorbar\": {\"outlinewidth\": 0, \"ticks\": \"\"}, \"type\": \"contourcarpet\"}], \"heatmap\": [{\"colorbar\": {\"outlinewidth\": 0, \"ticks\": \"\"}, \"colorscale\": [[0.0, \"#0d0887\"], [0.1111111111111111, \"#46039f\"], [0.2222222222222222, \"#7201a8\"], [0.3333333333333333, \"#9c179e\"], [0.4444444444444444, \"#bd3786\"], [0.5555555555555556, \"#d8576b\"], [0.6666666666666666, \"#ed7953\"], [0.7777777777777778, \"#fb9f3a\"], [0.8888888888888888, \"#fdca26\"], [1.0, \"#f0f921\"]], \"type\": \"heatmap\"}], \"heatmapgl\": [{\"colorbar\": {\"outlinewidth\": 0, \"ticks\": \"\"}, \"colorscale\": [[0.0, \"#0d0887\"], [0.1111111111111111, \"#46039f\"], [0.2222222222222222, \"#7201a8\"], [0.3333333333333333, \"#9c179e\"], [0.4444444444444444, \"#bd3786\"], [0.5555555555555556, \"#d8576b\"], [0.6666666666666666, \"#ed7953\"], [0.7777777777777778, \"#fb9f3a\"], [0.8888888888888888, \"#fdca26\"], [1.0, \"#f0f921\"]], \"type\": \"heatmapgl\"}], \"histogram\": [{\"marker\": {\"colorbar\": {\"outlinewidth\": 0, \"ticks\": \"\"}}, \"type\": \"histogram\"}], \"histogram2d\": [{\"colorbar\": {\"outlinewidth\": 0, \"ticks\": \"\"}, \"colorscale\": [[0.0, \"#0d0887\"], [0.1111111111111111, \"#46039f\"], [0.2222222222222222, \"#7201a8\"], [0.3333333333333333, \"#9c179e\"], [0.4444444444444444, \"#bd3786\"], [0.5555555555555556, \"#d8576b\"], [0.6666666666666666, \"#ed7953\"], [0.7777777777777778, \"#fb9f3a\"], [0.8888888888888888, \"#fdca26\"], [1.0, \"#f0f921\"]], \"type\": \"histogram2d\"}], \"histogram2dcontour\": [{\"colorbar\": {\"outlinewidth\": 0, \"ticks\": \"\"}, \"colorscale\": [[0.0, \"#0d0887\"], [0.1111111111111111, \"#46039f\"], [0.2222222222222222, \"#7201a8\"], [0.3333333333333333, \"#9c179e\"], [0.4444444444444444, \"#bd3786\"], [0.5555555555555556, \"#d8576b\"], [0.6666666666666666, \"#ed7953\"], [0.7777777777777778, \"#fb9f3a\"], [0.8888888888888888, \"#fdca26\"], [1.0, \"#f0f921\"]], \"type\": \"histogram2dcontour\"}], \"mesh3d\": [{\"colorbar\": {\"outlinewidth\": 0, \"ticks\": \"\"}, \"type\": \"mesh3d\"}], \"parcoords\": [{\"line\": {\"colorbar\": {\"outlinewidth\": 0, \"ticks\": \"\"}}, \"type\": \"parcoords\"}], \"pie\": [{\"automargin\": true, \"type\": \"pie\"}], \"scatter\": [{\"marker\": {\"colorbar\": {\"outlinewidth\": 0, \"ticks\": \"\"}}, \"type\": \"scatter\"}], \"scatter3d\": [{\"line\": {\"colorbar\": {\"outlinewidth\": 0, \"ticks\": \"\"}}, \"marker\": {\"colorbar\": {\"outlinewidth\": 0, \"ticks\": \"\"}}, \"type\": \"scatter3d\"}], \"scattercarpet\": [{\"marker\": {\"colorbar\": {\"outlinewidth\": 0, \"ticks\": \"\"}}, \"type\": \"scattercarpet\"}], \"scattergeo\": [{\"marker\": {\"colorbar\": {\"outlinewidth\": 0, \"ticks\": \"\"}}, \"type\": \"scattergeo\"}], \"scattergl\": [{\"marker\": {\"colorbar\": {\"outlinewidth\": 0, \"ticks\": \"\"}}, \"type\": \"scattergl\"}], \"scattermapbox\": [{\"marker\": {\"colorbar\": {\"outlinewidth\": 0, \"ticks\": \"\"}}, \"type\": \"scattermapbox\"}], \"scatterpolar\": [{\"marker\": {\"colorbar\": {\"outlinewidth\": 0, \"ticks\": \"\"}}, \"type\": \"scatterpolar\"}], \"scatterpolargl\": [{\"marker\": {\"colorbar\": {\"outlinewidth\": 0, \"ticks\": \"\"}}, \"type\": \"scatterpolargl\"}], \"scatterternary\": [{\"marker\": {\"colorbar\": {\"outlinewidth\": 0, \"ticks\": \"\"}}, \"type\": \"scatterternary\"}], \"surface\": [{\"colorbar\": {\"outlinewidth\": 0, \"ticks\": \"\"}, \"colorscale\": [[0.0, \"#0d0887\"], [0.1111111111111111, \"#46039f\"], [0.2222222222222222, \"#7201a8\"], [0.3333333333333333, \"#9c179e\"], [0.4444444444444444, \"#bd3786\"], [0.5555555555555556, \"#d8576b\"], [0.6666666666666666, \"#ed7953\"], [0.7777777777777778, \"#fb9f3a\"], [0.8888888888888888, \"#fdca26\"], [1.0, \"#f0f921\"]], \"type\": \"surface\"}], \"table\": [{\"cells\": {\"fill\": {\"color\": \"#EBF0F8\"}, \"line\": {\"color\": \"white\"}}, \"header\": {\"fill\": {\"color\": \"#C8D4E3\"}, \"line\": {\"color\": \"white\"}}, \"type\": \"table\"}]}, \"layout\": {\"annotationdefaults\": {\"arrowcolor\": \"#2a3f5f\", \"arrowhead\": 0, \"arrowwidth\": 1}, \"coloraxis\": {\"colorbar\": {\"outlinewidth\": 0, \"ticks\": \"\"}}, \"colorscale\": {\"diverging\": [[0, \"#8e0152\"], [0.1, \"#c51b7d\"], [0.2, \"#de77ae\"], [0.3, \"#f1b6da\"], [0.4, \"#fde0ef\"], [0.5, \"#f7f7f7\"], [0.6, \"#e6f5d0\"], [0.7, \"#b8e186\"], [0.8, \"#7fbc41\"], [0.9, \"#4d9221\"], [1, \"#276419\"]], \"sequential\": [[0.0, \"#0d0887\"], [0.1111111111111111, \"#46039f\"], [0.2222222222222222, \"#7201a8\"], [0.3333333333333333, \"#9c179e\"], [0.4444444444444444, \"#bd3786\"], [0.5555555555555556, \"#d8576b\"], [0.6666666666666666, \"#ed7953\"], [0.7777777777777778, \"#fb9f3a\"], [0.8888888888888888, \"#fdca26\"], [1.0, \"#f0f921\"]], \"sequentialminus\": [[0.0, \"#0d0887\"], [0.1111111111111111, \"#46039f\"], [0.2222222222222222, \"#7201a8\"], [0.3333333333333333, \"#9c179e\"], [0.4444444444444444, \"#bd3786\"], [0.5555555555555556, \"#d8576b\"], [0.6666666666666666, \"#ed7953\"], [0.7777777777777778, \"#fb9f3a\"], [0.8888888888888888, \"#fdca26\"], [1.0, \"#f0f921\"]]}, \"colorway\": [\"#636efa\", \"#EF553B\", \"#00cc96\", \"#ab63fa\", \"#FFA15A\", \"#19d3f3\", \"#FF6692\", \"#B6E880\", \"#FF97FF\", \"#FECB52\"], \"font\": {\"color\": \"#2a3f5f\"}, \"geo\": {\"bgcolor\": \"white\", \"lakecolor\": \"white\", \"landcolor\": \"#E5ECF6\", \"showlakes\": true, \"showland\": true, \"subunitcolor\": \"white\"}, \"hoverlabel\": {\"align\": \"left\"}, \"hovermode\": \"closest\", \"mapbox\": {\"style\": \"light\"}, \"paper_bgcolor\": \"white\", \"plot_bgcolor\": \"#E5ECF6\", \"polar\": {\"angularaxis\": {\"gridcolor\": \"white\", \"linecolor\": \"white\", \"ticks\": \"\"}, \"bgcolor\": \"#E5ECF6\", \"radialaxis\": {\"gridcolor\": \"white\", \"linecolor\": \"white\", \"ticks\": \"\"}}, \"scene\": {\"xaxis\": {\"backgroundcolor\": \"#E5ECF6\", \"gridcolor\": \"white\", \"gridwidth\": 2, \"linecolor\": \"white\", \"showbackground\": true, \"ticks\": \"\", \"zerolinecolor\": \"white\"}, \"yaxis\": {\"backgroundcolor\": \"#E5ECF6\", \"gridcolor\": \"white\", \"gridwidth\": 2, \"linecolor\": \"white\", \"showbackground\": true, \"ticks\": \"\", \"zerolinecolor\": \"white\"}, \"zaxis\": {\"backgroundcolor\": \"#E5ECF6\", \"gridcolor\": \"white\", \"gridwidth\": 2, \"linecolor\": \"white\", \"showbackground\": true, \"ticks\": \"\", \"zerolinecolor\": \"white\"}}, \"shapedefaults\": {\"line\": {\"color\": \"#2a3f5f\"}}, \"ternary\": {\"aaxis\": {\"gridcolor\": \"white\", \"linecolor\": \"white\", \"ticks\": \"\"}, \"baxis\": {\"gridcolor\": \"white\", \"linecolor\": \"white\", \"ticks\": \"\"}, \"bgcolor\": \"#E5ECF6\", \"caxis\": {\"gridcolor\": \"white\", \"linecolor\": \"white\", \"ticks\": \"\"}}, \"title\": {\"x\": 0.05}, \"xaxis\": {\"automargin\": true, \"gridcolor\": \"white\", \"linecolor\": \"white\", \"ticks\": \"\", \"title\": {\"standoff\": 15}, \"zerolinecolor\": \"white\", \"zerolinewidth\": 2}, \"yaxis\": {\"automargin\": true, \"gridcolor\": \"white\", \"linecolor\": \"white\", \"ticks\": \"\", \"title\": {\"standoff\": 15}, \"zerolinecolor\": \"white\", \"zerolinewidth\": 2}}}, \"title\": {\"font\": {\"color\": \"#D9D9D9\"}, \"text\": \"Sentiment Polarity Distribution\"}, \"xaxis\": {\"gridcolor\": \"#434343\", \"linecolor\": \"black\", \"showgrid\": true, \"tickfont\": {\"color\": \"#C2C2C2\"}, \"title\": {\"font\": {\"color\": \"#D9D9D9\"}, \"text\": \"Polarity\"}, \"zerolinecolor\": \"#666570\"}, \"yaxis\": {\"gridcolor\": \"#434343\", \"linecolor\": \"black\", \"showgrid\": true, \"tickfont\": {\"color\": \"#C2C2C2\"}, \"title\": {\"font\": {\"color\": \"#D9D9D9\"}, \"text\": \"count\"}, \"zerolinecolor\": \"#666570\"}},\n",
              "                        {\"showLink\": true, \"linkText\": \"Export to plot.ly\", \"plotlyServerURL\": \"https://plot.ly\", \"responsive\": true}\n",
              "                    ).then(function(){\n",
              "                            \n",
              "var gd = document.getElementById('37911e11-906b-42ea-b45b-20d5cd2cf230');\n",
              "var x = new MutationObserver(function (mutations, observer) {{\n",
              "        var display = window.getComputedStyle(gd).display;\n",
              "        if (!display || display === 'none') {{\n",
              "            console.log([gd, 'removed!']);\n",
              "            Plotly.purge(gd);\n",
              "            observer.disconnect();\n",
              "        }}\n",
              "}});\n",
              "\n",
              "// Listen for the removal of the full notebook cells\n",
              "var notebookContainer = gd.closest('#notebook-container');\n",
              "if (notebookContainer) {{\n",
              "    x.observe(notebookContainer, {childList: true});\n",
              "}}\n",
              "\n",
              "// Listen for the clearing of the current output cell\n",
              "var outputEl = gd.closest('.output');\n",
              "if (outputEl) {{\n",
              "    x.observe(outputEl, {childList: true});\n",
              "}}\n",
              "\n",
              "                        })\n",
              "                };\n",
              "                \n",
              "            </script>\n",
              "        </div>\n",
              "</body>\n",
              "</html>"
            ]
          },
          "metadata": {
            "tags": []
          }
        }
      ]
    },
    {
      "cell_type": "code",
      "metadata": {
        "id": "v1RyNHvPyDfr"
      },
      "source": [
        "positive_df = dataset[dataset.Sentiment == 'positive']"
      ],
      "execution_count": 65,
      "outputs": []
    },
    {
      "cell_type": "code",
      "metadata": {
        "id": "OAxnhYTtLM6y",
        "outputId": "98d13157-0d9c-41e0-f05c-50f5369ac1c9",
        "colab": {
          "base_uri": "https://localhost:8080/",
          "height": 570
        }
      },
      "source": [
        "positive_df"
      ],
      "execution_count": 17,
      "outputs": [
        {
          "output_type": "execute_result",
          "data": {
            "text/html": [
              "<div>\n",
              "<style scoped>\n",
              "    .dataframe tbody tr th:only-of-type {\n",
              "        vertical-align: middle;\n",
              "    }\n",
              "\n",
              "    .dataframe tbody tr th {\n",
              "        vertical-align: top;\n",
              "    }\n",
              "\n",
              "    .dataframe thead th {\n",
              "        text-align: right;\n",
              "    }\n",
              "</style>\n",
              "<table border=\"1\" class=\"dataframe\">\n",
              "  <thead>\n",
              "    <tr style=\"text-align: right;\">\n",
              "      <th></th>\n",
              "      <th>App</th>\n",
              "      <th>Store</th>\n",
              "      <th>Country</th>\n",
              "      <th>Version</th>\n",
              "      <th>Rating</th>\n",
              "      <th>Date</th>\n",
              "      <th>Subject</th>\n",
              "      <th>Body</th>\n",
              "      <th>Sentiment</th>\n",
              "      <th>Language</th>\n",
              "    </tr>\n",
              "  </thead>\n",
              "  <tbody>\n",
              "    <tr>\n",
              "      <th>14</th>\n",
              "      <td>Walmart - Shopping &amp; Grocery</td>\n",
              "      <td>iOS</td>\n",
              "      <td>USA</td>\n",
              "      <td>20.4</td>\n",
              "      <td>5</td>\n",
              "      <td>2020-10-16</td>\n",
              "      <td>Thank You</td>\n",
              "      <td>I like being able to order on line . I have le...</td>\n",
              "      <td>positive</td>\n",
              "      <td>English</td>\n",
              "    </tr>\n",
              "    <tr>\n",
              "      <th>20</th>\n",
              "      <td>Walmart - Shopping &amp; Grocery</td>\n",
              "      <td>iOS</td>\n",
              "      <td>USA</td>\n",
              "      <td>20.4</td>\n",
              "      <td>5</td>\n",
              "      <td>2020-10-15</td>\n",
              "      <td>Convenient</td>\n",
              "      <td>Now that Walmart sells gas. It should have a g...</td>\n",
              "      <td>positive</td>\n",
              "      <td>English</td>\n",
              "    </tr>\n",
              "    <tr>\n",
              "      <th>71</th>\n",
              "      <td>Walmart - Shopping &amp; Grocery</td>\n",
              "      <td>iOS</td>\n",
              "      <td>USA</td>\n",
              "      <td>20.4</td>\n",
              "      <td>3</td>\n",
              "      <td>2020-10-12</td>\n",
              "      <td>Great - but lacking when it comes to the pick-...</td>\n",
              "      <td>Overall I think the app works great. However, ...</td>\n",
              "      <td>positive</td>\n",
              "      <td>English</td>\n",
              "    </tr>\n",
              "    <tr>\n",
              "      <th>133</th>\n",
              "      <td>Walmart - Shopping &amp; Grocery</td>\n",
              "      <td>iOS</td>\n",
              "      <td>USA</td>\n",
              "      <td>20.4</td>\n",
              "      <td>5</td>\n",
              "      <td>2020-10-08</td>\n",
              "      <td>Now I can eat</td>\n",
              "      <td>I love this service &amp; have used a long time no...</td>\n",
              "      <td>positive</td>\n",
              "      <td>English</td>\n",
              "    </tr>\n",
              "    <tr>\n",
              "      <th>146</th>\n",
              "      <td>Walmart - Shopping &amp; Grocery</td>\n",
              "      <td>iOS</td>\n",
              "      <td>USA</td>\n",
              "      <td>20.39</td>\n",
              "      <td>5</td>\n",
              "      <td>2020-10-07</td>\n",
              "      <td>dionisio laroco</td>\n",
              "      <td>easy to find stuff on line/ competitive prices...</td>\n",
              "      <td>positive</td>\n",
              "      <td>English</td>\n",
              "    </tr>\n",
              "    <tr>\n",
              "      <th>...</th>\n",
              "      <td>...</td>\n",
              "      <td>...</td>\n",
              "      <td>...</td>\n",
              "      <td>...</td>\n",
              "      <td>...</td>\n",
              "      <td>...</td>\n",
              "      <td>...</td>\n",
              "      <td>...</td>\n",
              "      <td>...</td>\n",
              "      <td>...</td>\n",
              "    </tr>\n",
              "    <tr>\n",
              "      <th>39786</th>\n",
              "      <td>Amazon Shopping - Search, Find, Ship, and Save</td>\n",
              "      <td>Google Play</td>\n",
              "      <td>English</td>\n",
              "      <td>NaN</td>\n",
              "      <td>5</td>\n",
              "      <td>2020-09-04</td>\n",
              "      <td>NaN</td>\n",
              "      <td>Very good and professional, luv it</td>\n",
              "      <td>positive</td>\n",
              "      <td>English</td>\n",
              "    </tr>\n",
              "    <tr>\n",
              "      <th>39787</th>\n",
              "      <td>Amazon Shopping - Search, Find, Ship, and Save</td>\n",
              "      <td>Google Play</td>\n",
              "      <td>English</td>\n",
              "      <td>NaN</td>\n",
              "      <td>5</td>\n",
              "      <td>2020-09-04</td>\n",
              "      <td>NaN</td>\n",
              "      <td>I love this app because I can just find phone ...</td>\n",
              "      <td>positive</td>\n",
              "      <td>English</td>\n",
              "    </tr>\n",
              "    <tr>\n",
              "      <th>39789</th>\n",
              "      <td>Amazon Shopping - Search, Find, Ship, and Save</td>\n",
              "      <td>Google Play</td>\n",
              "      <td>English</td>\n",
              "      <td>NaN</td>\n",
              "      <td>4</td>\n",
              "      <td>2020-09-04</td>\n",
              "      <td>NaN</td>\n",
              "      <td>I like the way they do bissness</td>\n",
              "      <td>positive</td>\n",
              "      <td>English</td>\n",
              "    </tr>\n",
              "    <tr>\n",
              "      <th>39791</th>\n",
              "      <td>Amazon Shopping - Search, Find, Ship, and Save</td>\n",
              "      <td>Google Play</td>\n",
              "      <td>Spanish</td>\n",
              "      <td>NaN</td>\n",
              "      <td>5</td>\n",
              "      <td>2020-09-04</td>\n",
              "      <td>NaN</td>\n",
              "      <td>Good</td>\n",
              "      <td>positive</td>\n",
              "      <td>English</td>\n",
              "    </tr>\n",
              "    <tr>\n",
              "      <th>39794</th>\n",
              "      <td>Amazon Shopping - Search, Find, Ship, and Save</td>\n",
              "      <td>Google Play</td>\n",
              "      <td>English</td>\n",
              "      <td>NaN</td>\n",
              "      <td>5</td>\n",
              "      <td>2020-09-04</td>\n",
              "      <td>NaN</td>\n",
              "      <td>Found the item I needed</td>\n",
              "      <td>positive</td>\n",
              "      <td>English</td>\n",
              "    </tr>\n",
              "  </tbody>\n",
              "</table>\n",
              "<p>10865 rows × 10 columns</p>\n",
              "</div>"
            ],
            "text/plain": [
              "                                                  App  ... Language\n",
              "14                       Walmart - Shopping & Grocery  ...  English\n",
              "20                       Walmart - Shopping & Grocery  ...  English\n",
              "71                       Walmart - Shopping & Grocery  ...  English\n",
              "133                      Walmart - Shopping & Grocery  ...  English\n",
              "146                      Walmart - Shopping & Grocery  ...  English\n",
              "...                                               ...  ...      ...\n",
              "39786  Amazon Shopping - Search, Find, Ship, and Save  ...  English\n",
              "39787  Amazon Shopping - Search, Find, Ship, and Save  ...  English\n",
              "39789  Amazon Shopping - Search, Find, Ship, and Save  ...  English\n",
              "39791  Amazon Shopping - Search, Find, Ship, and Save  ...  English\n",
              "39794  Amazon Shopping - Search, Find, Ship, and Save  ...  English\n",
              "\n",
              "[10865 rows x 10 columns]"
            ]
          },
          "metadata": {
            "tags": []
          },
          "execution_count": 17
        }
      ]
    },
    {
      "cell_type": "code",
      "metadata": {
        "id": "4IBQz63UNlU6"
      },
      "source": [
        "def sentiment_calc(Body):\n",
        "    try:\n",
        "        return TextBlob(Body).sentiment.polarity\n",
        "    except:\n",
        "        return None\n",
        "\n",
        "positive_df['polarity'] = positive_df['Body'].apply(sentiment_calc)"
      ],
      "execution_count": 87,
      "outputs": []
    },
    {
      "cell_type": "code",
      "metadata": {
        "id": "c8eEh4AyOEk-",
        "outputId": "9f60a300-7122-4c88-a429-9ee5461a9734",
        "colab": {
          "base_uri": "https://localhost:8080/",
          "height": 195
        }
      },
      "source": [
        "positive_df[['polarity','Body']][0:5]"
      ],
      "execution_count": 88,
      "outputs": [
        {
          "output_type": "execute_result",
          "data": {
            "text/html": [
              "<div>\n",
              "<style scoped>\n",
              "    .dataframe tbody tr th:only-of-type {\n",
              "        vertical-align: middle;\n",
              "    }\n",
              "\n",
              "    .dataframe tbody tr th {\n",
              "        vertical-align: top;\n",
              "    }\n",
              "\n",
              "    .dataframe thead th {\n",
              "        text-align: right;\n",
              "    }\n",
              "</style>\n",
              "<table border=\"1\" class=\"dataframe\">\n",
              "  <thead>\n",
              "    <tr style=\"text-align: right;\">\n",
              "      <th></th>\n",
              "      <th>polarity</th>\n",
              "      <th>Body</th>\n",
              "    </tr>\n",
              "  </thead>\n",
              "  <tbody>\n",
              "    <tr>\n",
              "      <th>14</th>\n",
              "      <td>0.375000</td>\n",
              "      <td>I like being able to order on line . I have le...</td>\n",
              "    </tr>\n",
              "    <tr>\n",
              "      <th>20</th>\n",
              "      <td>0.000000</td>\n",
              "      <td>Now that Walmart sells gas. It should have a g...</td>\n",
              "    </tr>\n",
              "    <tr>\n",
              "      <th>71</th>\n",
              "      <td>0.400000</td>\n",
              "      <td>Overall I think the app works great. However, ...</td>\n",
              "    </tr>\n",
              "    <tr>\n",
              "      <th>133</th>\n",
              "      <td>0.366667</td>\n",
              "      <td>I love this service &amp; have used a long time no...</td>\n",
              "    </tr>\n",
              "    <tr>\n",
              "      <th>146</th>\n",
              "      <td>0.333333</td>\n",
              "      <td>easy to find stuff on line/ competitive prices...</td>\n",
              "    </tr>\n",
              "  </tbody>\n",
              "</table>\n",
              "</div>"
            ],
            "text/plain": [
              "     polarity                                               Body\n",
              "14   0.375000  I like being able to order on line . I have le...\n",
              "20   0.000000  Now that Walmart sells gas. It should have a g...\n",
              "71   0.400000  Overall I think the app works great. However, ...\n",
              "133  0.366667  I love this service & have used a long time no...\n",
              "146  0.333333  easy to find stuff on line/ competitive prices..."
            ]
          },
          "metadata": {
            "tags": []
          },
          "execution_count": 88
        }
      ]
    },
    {
      "cell_type": "code",
      "metadata": {
        "id": "x7TYR7EsQiQB"
      },
      "source": [
        "negative_df['polarity'] = negative_df['Body'].apply(sentiment_calc)"
      ],
      "execution_count": 89,
      "outputs": []
    },
    {
      "cell_type": "code",
      "metadata": {
        "id": "k7KcJZIxQWR6",
        "outputId": "492b296f-601b-4777-87e3-ce356b100fb4",
        "colab": {
          "base_uri": "https://localhost:8080/",
          "height": 195
        }
      },
      "source": [
        "negative_df[['polarity','Body']][0:5]"
      ],
      "execution_count": 90,
      "outputs": [
        {
          "output_type": "execute_result",
          "data": {
            "text/html": [
              "<div>\n",
              "<style scoped>\n",
              "    .dataframe tbody tr th:only-of-type {\n",
              "        vertical-align: middle;\n",
              "    }\n",
              "\n",
              "    .dataframe tbody tr th {\n",
              "        vertical-align: top;\n",
              "    }\n",
              "\n",
              "    .dataframe thead th {\n",
              "        text-align: right;\n",
              "    }\n",
              "</style>\n",
              "<table border=\"1\" class=\"dataframe\">\n",
              "  <thead>\n",
              "    <tr style=\"text-align: right;\">\n",
              "      <th></th>\n",
              "      <th>polarity</th>\n",
              "      <th>Body</th>\n",
              "    </tr>\n",
              "  </thead>\n",
              "  <tbody>\n",
              "    <tr>\n",
              "      <th>0</th>\n",
              "      <td>0.000000</td>\n",
              "      <td>It won’t let me set up Walmart pay. It just st...</td>\n",
              "    </tr>\n",
              "    <tr>\n",
              "      <th>1</th>\n",
              "      <td>-0.350000</td>\n",
              "      <td>I cannot checkin to pick up my order. Not good...</td>\n",
              "    </tr>\n",
              "    <tr>\n",
              "      <th>2</th>\n",
              "      <td>0.136364</td>\n",
              "      <td>Ever since the new update, my app doesn’t swit...</td>\n",
              "    </tr>\n",
              "    <tr>\n",
              "      <th>3</th>\n",
              "      <td>0.055556</td>\n",
              "      <td>Do your developers not understand that we use ...</td>\n",
              "    </tr>\n",
              "    <tr>\n",
              "      <th>4</th>\n",
              "      <td>0.233333</td>\n",
              "      <td>I saw a sale stem mop $68,I scan it it’s $39,w...</td>\n",
              "    </tr>\n",
              "  </tbody>\n",
              "</table>\n",
              "</div>"
            ],
            "text/plain": [
              "   polarity                                               Body\n",
              "0  0.000000  It won’t let me set up Walmart pay. It just st...\n",
              "1 -0.350000  I cannot checkin to pick up my order. Not good...\n",
              "2  0.136364  Ever since the new update, my app doesn’t swit...\n",
              "3  0.055556  Do your developers not understand that we use ...\n",
              "4  0.233333  I saw a sale stem mop $68,I scan it it’s $39,w..."
            ]
          },
          "metadata": {
            "tags": []
          },
          "execution_count": 90
        }
      ]
    },
    {
      "cell_type": "code",
      "metadata": {
        "id": "n0EeIAba2BqT"
      },
      "source": [
        "negative_df = dataset[dataset.Sentiment == 'negative']"
      ],
      "execution_count": 18,
      "outputs": []
    },
    {
      "cell_type": "code",
      "metadata": {
        "id": "TTuFjgfk8bHh",
        "outputId": "ce9125e1-2fc3-417c-cf28-39abd66fc37d",
        "colab": {
          "base_uri": "https://localhost:8080/",
          "height": 570
        }
      },
      "source": [
        "negative_df"
      ],
      "execution_count": 19,
      "outputs": [
        {
          "output_type": "execute_result",
          "data": {
            "text/html": [
              "<div>\n",
              "<style scoped>\n",
              "    .dataframe tbody tr th:only-of-type {\n",
              "        vertical-align: middle;\n",
              "    }\n",
              "\n",
              "    .dataframe tbody tr th {\n",
              "        vertical-align: top;\n",
              "    }\n",
              "\n",
              "    .dataframe thead th {\n",
              "        text-align: right;\n",
              "    }\n",
              "</style>\n",
              "<table border=\"1\" class=\"dataframe\">\n",
              "  <thead>\n",
              "    <tr style=\"text-align: right;\">\n",
              "      <th></th>\n",
              "      <th>App</th>\n",
              "      <th>Store</th>\n",
              "      <th>Country</th>\n",
              "      <th>Version</th>\n",
              "      <th>Rating</th>\n",
              "      <th>Date</th>\n",
              "      <th>Subject</th>\n",
              "      <th>Body</th>\n",
              "      <th>Sentiment</th>\n",
              "      <th>Language</th>\n",
              "    </tr>\n",
              "  </thead>\n",
              "  <tbody>\n",
              "    <tr>\n",
              "      <th>0</th>\n",
              "      <td>Walmart - Shopping &amp; Grocery</td>\n",
              "      <td>iOS</td>\n",
              "      <td>USA</td>\n",
              "      <td>20.4</td>\n",
              "      <td>2</td>\n",
              "      <td>2020-10-17</td>\n",
              "      <td>Walmart Pay</td>\n",
              "      <td>It won’t let me set up Walmart pay. It just st...</td>\n",
              "      <td>negative</td>\n",
              "      <td>English</td>\n",
              "    </tr>\n",
              "    <tr>\n",
              "      <th>1</th>\n",
              "      <td>Walmart - Shopping &amp; Grocery</td>\n",
              "      <td>iOS</td>\n",
              "      <td>USA</td>\n",
              "      <td>20.4</td>\n",
              "      <td>2</td>\n",
              "      <td>2020-10-17</td>\n",
              "      <td>Checkin for pickup broken</td>\n",
              "      <td>I cannot checkin to pick up my order. Not good...</td>\n",
              "      <td>negative</td>\n",
              "      <td>English</td>\n",
              "    </tr>\n",
              "    <tr>\n",
              "      <th>2</th>\n",
              "      <td>Walmart - Shopping &amp; Grocery</td>\n",
              "      <td>iOS</td>\n",
              "      <td>USA</td>\n",
              "      <td>20.4</td>\n",
              "      <td>2</td>\n",
              "      <td>2020-10-17</td>\n",
              "      <td>New update</td>\n",
              "      <td>Ever since the new update, my app doesn’t swit...</td>\n",
              "      <td>negative</td>\n",
              "      <td>English</td>\n",
              "    </tr>\n",
              "    <tr>\n",
              "      <th>3</th>\n",
              "      <td>Walmart - Shopping &amp; Grocery</td>\n",
              "      <td>iOS</td>\n",
              "      <td>USA</td>\n",
              "      <td>20.4</td>\n",
              "      <td>1</td>\n",
              "      <td>2020-10-17</td>\n",
              "      <td>Frustration</td>\n",
              "      <td>Do your developers not understand that we use ...</td>\n",
              "      <td>negative</td>\n",
              "      <td>English</td>\n",
              "    </tr>\n",
              "    <tr>\n",
              "      <th>4</th>\n",
              "      <td>Walmart - Shopping &amp; Grocery</td>\n",
              "      <td>iOS</td>\n",
              "      <td>USA</td>\n",
              "      <td>20.4</td>\n",
              "      <td>1</td>\n",
              "      <td>2020-10-17</td>\n",
              "      <td>Doesn’t offer free shipping,Employees not friedly</td>\n",
              "      <td>I saw a sale stem mop $68,I scan it it’s $39,w...</td>\n",
              "      <td>negative</td>\n",
              "      <td>English</td>\n",
              "    </tr>\n",
              "    <tr>\n",
              "      <th>...</th>\n",
              "      <td>...</td>\n",
              "      <td>...</td>\n",
              "      <td>...</td>\n",
              "      <td>...</td>\n",
              "      <td>...</td>\n",
              "      <td>...</td>\n",
              "      <td>...</td>\n",
              "      <td>...</td>\n",
              "      <td>...</td>\n",
              "      <td>...</td>\n",
              "    </tr>\n",
              "    <tr>\n",
              "      <th>39771</th>\n",
              "      <td>Amazon Shopping - Search, Find, Ship, and Save</td>\n",
              "      <td>Google Play</td>\n",
              "      <td>English</td>\n",
              "      <td>NaN</td>\n",
              "      <td>1</td>\n",
              "      <td>2020-09-04</td>\n",
              "      <td>NaN</td>\n",
              "      <td>The app shows all items enlarged so much that ...</td>\n",
              "      <td>negative</td>\n",
              "      <td>English</td>\n",
              "    </tr>\n",
              "    <tr>\n",
              "      <th>39774</th>\n",
              "      <td>Amazon Shopping - Search, Find, Ship, and Save</td>\n",
              "      <td>Google Play</td>\n",
              "      <td>English</td>\n",
              "      <td>NaN</td>\n",
              "      <td>2</td>\n",
              "      <td>2020-09-04</td>\n",
              "      <td>NaN</td>\n",
              "      <td>Why does it keep kicking me out of the app ┐(͡...</td>\n",
              "      <td>negative</td>\n",
              "      <td>English</td>\n",
              "    </tr>\n",
              "    <tr>\n",
              "      <th>39779</th>\n",
              "      <td>Amazon Shopping - Search, Find, Ship, and Save</td>\n",
              "      <td>Google Play</td>\n",
              "      <td>English</td>\n",
              "      <td>NaN</td>\n",
              "      <td>1</td>\n",
              "      <td>2020-09-04</td>\n",
              "      <td>NaN</td>\n",
              "      <td>Dnt use</td>\n",
              "      <td>negative</td>\n",
              "      <td>English</td>\n",
              "    </tr>\n",
              "    <tr>\n",
              "      <th>39782</th>\n",
              "      <td>Amazon Shopping - Search, Find, Ship, and Save</td>\n",
              "      <td>Google Play</td>\n",
              "      <td>English</td>\n",
              "      <td>NaN</td>\n",
              "      <td>1</td>\n",
              "      <td>2020-09-04</td>\n",
              "      <td>NaN</td>\n",
              "      <td>Used to love it. However it has become the slo...</td>\n",
              "      <td>negative</td>\n",
              "      <td>English</td>\n",
              "    </tr>\n",
              "    <tr>\n",
              "      <th>39790</th>\n",
              "      <td>Amazon Shopping - Search, Find, Ship, and Save</td>\n",
              "      <td>Google Play</td>\n",
              "      <td>Spanish</td>\n",
              "      <td>NaN</td>\n",
              "      <td>3</td>\n",
              "      <td>2020-09-04</td>\n",
              "      <td>NaN</td>\n",
              "      <td>Regular</td>\n",
              "      <td>negative</td>\n",
              "      <td>English</td>\n",
              "    </tr>\n",
              "  </tbody>\n",
              "</table>\n",
              "<p>16771 rows × 10 columns</p>\n",
              "</div>"
            ],
            "text/plain": [
              "                                                  App  ... Language\n",
              "0                        Walmart - Shopping & Grocery  ...  English\n",
              "1                        Walmart - Shopping & Grocery  ...  English\n",
              "2                        Walmart - Shopping & Grocery  ...  English\n",
              "3                        Walmart - Shopping & Grocery  ...  English\n",
              "4                        Walmart - Shopping & Grocery  ...  English\n",
              "...                                               ...  ...      ...\n",
              "39771  Amazon Shopping - Search, Find, Ship, and Save  ...  English\n",
              "39774  Amazon Shopping - Search, Find, Ship, and Save  ...  English\n",
              "39779  Amazon Shopping - Search, Find, Ship, and Save  ...  English\n",
              "39782  Amazon Shopping - Search, Find, Ship, and Save  ...  English\n",
              "39790  Amazon Shopping - Search, Find, Ship, and Save  ...  English\n",
              "\n",
              "[16771 rows x 10 columns]"
            ]
          },
          "metadata": {
            "tags": []
          },
          "execution_count": 19
        }
      ]
    },
    {
      "cell_type": "markdown",
      "metadata": {
        "id": "AbRe7NoeyEIv"
      },
      "source": [
        "Sentimental Analysis using Sentiment Field and using Count Vectorizer techniques and also n-grams technique:\n"
      ]
    },
    {
      "cell_type": "code",
      "metadata": {
        "id": "0dqa0JYG8hxQ"
      },
      "source": [
        "from sklearn.feature_extraction.text import CountVectorizer\n",
        "def get_top_n_words(corpus, n=None):\n",
        "    vec = CountVectorizer(stop_words = 'english').fit(corpus)\n",
        "    bag_of_words = vec.transform(corpus)\n",
        "    sum_words = bag_of_words.sum(axis=0) \n",
        "    words_freq = [(word, sum_words[0, idx]) for word, idx in vec.vocabulary_.items()]\n",
        "    words_freq =sorted(words_freq, key = lambda x: x[1], reverse=True)\n",
        "    return words_freq[:n]\n",
        "common_words = get_top_n_words(positive_df['Body'], 15)"
      ],
      "execution_count": 27,
      "outputs": []
    },
    {
      "cell_type": "code",
      "metadata": {
        "id": "fgrSVymn8oTO",
        "outputId": "8c97e890-ff6c-4660-e636-cd7ce9df8742",
        "colab": {
          "base_uri": "https://localhost:8080/"
        }
      },
      "source": [
        "common_words"
      ],
      "execution_count": 28,
      "outputs": [
        {
          "output_type": "execute_result",
          "data": {
            "text/plain": [
              "[('app', 2419),\n",
              " ('love', 2407),\n",
              " ('great', 1988),\n",
              " ('good', 1738),\n",
              " ('amazon', 1618),\n",
              " ('easy', 1108),\n",
              " ('shopping', 971),\n",
              " ('walmart', 852),\n",
              " ('use', 738),\n",
              " ('best', 613),\n",
              " ('service', 606),\n",
              " ('time', 522),\n",
              " ('like', 497),\n",
              " ('need', 485),\n",
              " ('shop', 479)]"
            ]
          },
          "metadata": {
            "tags": []
          },
          "execution_count": 28
        }
      ]
    },
    {
      "cell_type": "code",
      "metadata": {
        "id": "nvt1XY9pVFHS"
      },
      "source": [
        "dataframe_positive_polarity_unigrams = pd.DataFrame(common_words,columns=['Body','count'])"
      ],
      "execution_count": 29,
      "outputs": []
    },
    {
      "cell_type": "code",
      "metadata": {
        "id": "WdjV6xjZVMzk",
        "outputId": "95498e63-f0e6-4e39-c8dd-be2c9ef7650f",
        "colab": {
          "base_uri": "https://localhost:8080/",
          "height": 491
        }
      },
      "source": [
        "dataframe_positive_polarity_unigrams"
      ],
      "execution_count": 83,
      "outputs": [
        {
          "output_type": "execute_result",
          "data": {
            "text/html": [
              "<div>\n",
              "<style scoped>\n",
              "    .dataframe tbody tr th:only-of-type {\n",
              "        vertical-align: middle;\n",
              "    }\n",
              "\n",
              "    .dataframe tbody tr th {\n",
              "        vertical-align: top;\n",
              "    }\n",
              "\n",
              "    .dataframe thead th {\n",
              "        text-align: right;\n",
              "    }\n",
              "</style>\n",
              "<table border=\"1\" class=\"dataframe\">\n",
              "  <thead>\n",
              "    <tr style=\"text-align: right;\">\n",
              "      <th></th>\n",
              "      <th>Body</th>\n",
              "      <th>count</th>\n",
              "    </tr>\n",
              "  </thead>\n",
              "  <tbody>\n",
              "    <tr>\n",
              "      <th>0</th>\n",
              "      <td>app</td>\n",
              "      <td>2419</td>\n",
              "    </tr>\n",
              "    <tr>\n",
              "      <th>1</th>\n",
              "      <td>love</td>\n",
              "      <td>2407</td>\n",
              "    </tr>\n",
              "    <tr>\n",
              "      <th>2</th>\n",
              "      <td>great</td>\n",
              "      <td>1988</td>\n",
              "    </tr>\n",
              "    <tr>\n",
              "      <th>3</th>\n",
              "      <td>good</td>\n",
              "      <td>1738</td>\n",
              "    </tr>\n",
              "    <tr>\n",
              "      <th>4</th>\n",
              "      <td>amazon</td>\n",
              "      <td>1618</td>\n",
              "    </tr>\n",
              "    <tr>\n",
              "      <th>5</th>\n",
              "      <td>easy</td>\n",
              "      <td>1108</td>\n",
              "    </tr>\n",
              "    <tr>\n",
              "      <th>6</th>\n",
              "      <td>shopping</td>\n",
              "      <td>971</td>\n",
              "    </tr>\n",
              "    <tr>\n",
              "      <th>7</th>\n",
              "      <td>walmart</td>\n",
              "      <td>852</td>\n",
              "    </tr>\n",
              "    <tr>\n",
              "      <th>8</th>\n",
              "      <td>use</td>\n",
              "      <td>738</td>\n",
              "    </tr>\n",
              "    <tr>\n",
              "      <th>9</th>\n",
              "      <td>best</td>\n",
              "      <td>613</td>\n",
              "    </tr>\n",
              "    <tr>\n",
              "      <th>10</th>\n",
              "      <td>service</td>\n",
              "      <td>606</td>\n",
              "    </tr>\n",
              "    <tr>\n",
              "      <th>11</th>\n",
              "      <td>time</td>\n",
              "      <td>522</td>\n",
              "    </tr>\n",
              "    <tr>\n",
              "      <th>12</th>\n",
              "      <td>like</td>\n",
              "      <td>497</td>\n",
              "    </tr>\n",
              "    <tr>\n",
              "      <th>13</th>\n",
              "      <td>need</td>\n",
              "      <td>485</td>\n",
              "    </tr>\n",
              "    <tr>\n",
              "      <th>14</th>\n",
              "      <td>shop</td>\n",
              "      <td>479</td>\n",
              "    </tr>\n",
              "  </tbody>\n",
              "</table>\n",
              "</div>"
            ],
            "text/plain": [
              "        Body  count\n",
              "0        app   2419\n",
              "1       love   2407\n",
              "2      great   1988\n",
              "3       good   1738\n",
              "4     amazon   1618\n",
              "5       easy   1108\n",
              "6   shopping    971\n",
              "7    walmart    852\n",
              "8        use    738\n",
              "9       best    613\n",
              "10   service    606\n",
              "11      time    522\n",
              "12      like    497\n",
              "13      need    485\n",
              "14      shop    479"
            ]
          },
          "metadata": {
            "tags": []
          },
          "execution_count": 83
        }
      ]
    },
    {
      "cell_type": "code",
      "metadata": {
        "id": "mVaSNTAxQQ1-",
        "outputId": "c2dc69db-7603-4b10-dd77-d680f73a411c",
        "colab": {
          "base_uri": "https://localhost:8080/",
          "height": 542
        }
      },
      "source": [
        "dataframe_positive_polarity_unigrams.groupby('Body').sum()['count'].sort_values(ascending=False).iplot(\n",
        "    kind='bar', yTitle='Count', linecolor='black', title='Top words in review after removing stop words')"
      ],
      "execution_count": 93,
      "outputs": [
        {
          "output_type": "display_data",
          "data": {
            "text/html": [
              "<html>\n",
              "<head><meta charset=\"utf-8\" /></head>\n",
              "<body>\n",
              "    <div>\n",
              "            <script src=\"https://cdnjs.cloudflare.com/ajax/libs/mathjax/2.7.5/MathJax.js?config=TeX-AMS-MML_SVG\"></script><script type=\"text/javascript\">if (window.MathJax) {MathJax.Hub.Config({SVG: {font: \"STIX-Web\"}});}</script>\n",
              "                <script type=\"text/javascript\">window.PlotlyConfig = {MathJaxConfig: 'local'};</script>\n",
              "        <script src=\"https://cdn.plot.ly/plotly-latest.min.js\"></script>    \n",
              "            <div id=\"72fce514-3e86-4eb7-912e-3ee8d3a997f6\" class=\"plotly-graph-div\" style=\"height:525px; width:100%;\"></div>\n",
              "            <script type=\"text/javascript\">\n",
              "                \n",
              "                    window.PLOTLYENV=window.PLOTLYENV || {};\n",
              "                    window.PLOTLYENV.BASE_URL='https://plot.ly';\n",
              "                    \n",
              "                if (document.getElementById(\"72fce514-3e86-4eb7-912e-3ee8d3a997f6\")) {\n",
              "                    Plotly.newPlot(\n",
              "                        '72fce514-3e86-4eb7-912e-3ee8d3a997f6',\n",
              "                        [{\"marker\": {\"color\": \"rgba(255, 153, 51, 0.6)\", \"line\": {\"color\": \"rgba(255, 153, 51, 1.0)\", \"width\": 1}}, \"name\": \"count\", \"orientation\": \"v\", \"text\": \"\", \"type\": \"bar\", \"x\": [\"app\", \"love\", \"great\", \"good\", \"amazon\", \"easy\", \"shopping\", \"walmart\", \"use\", \"best\", \"service\", \"time\", \"like\", \"need\", \"shop\"], \"y\": [2419, 2407, 1988, 1738, 1618, 1108, 971, 852, 738, 613, 606, 522, 497, 485, 479]}],\n",
              "                        {\"legend\": {\"bgcolor\": \"#151516\", \"font\": {\"color\": \"#D9D9D9\"}}, \"paper_bgcolor\": \"#151516\", \"plot_bgcolor\": \"#151516\", \"template\": {\"data\": {\"bar\": [{\"error_x\": {\"color\": \"#2a3f5f\"}, \"error_y\": {\"color\": \"#2a3f5f\"}, \"marker\": {\"line\": {\"color\": \"#E5ECF6\", \"width\": 0.5}}, \"type\": \"bar\"}], \"barpolar\": [{\"marker\": {\"line\": {\"color\": \"#E5ECF6\", \"width\": 0.5}}, \"type\": \"barpolar\"}], \"carpet\": [{\"aaxis\": {\"endlinecolor\": \"#2a3f5f\", \"gridcolor\": \"white\", \"linecolor\": \"white\", \"minorgridcolor\": \"white\", \"startlinecolor\": \"#2a3f5f\"}, \"baxis\": {\"endlinecolor\": \"#2a3f5f\", \"gridcolor\": \"white\", \"linecolor\": \"white\", \"minorgridcolor\": \"white\", \"startlinecolor\": \"#2a3f5f\"}, \"type\": \"carpet\"}], \"choropleth\": [{\"colorbar\": {\"outlinewidth\": 0, \"ticks\": \"\"}, \"type\": \"choropleth\"}], \"contour\": [{\"colorbar\": {\"outlinewidth\": 0, \"ticks\": \"\"}, \"colorscale\": [[0.0, \"#0d0887\"], [0.1111111111111111, \"#46039f\"], [0.2222222222222222, \"#7201a8\"], [0.3333333333333333, \"#9c179e\"], [0.4444444444444444, \"#bd3786\"], [0.5555555555555556, \"#d8576b\"], [0.6666666666666666, \"#ed7953\"], [0.7777777777777778, \"#fb9f3a\"], [0.8888888888888888, \"#fdca26\"], [1.0, \"#f0f921\"]], \"type\": \"contour\"}], \"contourcarpet\": [{\"colorbar\": {\"outlinewidth\": 0, \"ticks\": \"\"}, \"type\": \"contourcarpet\"}], \"heatmap\": [{\"colorbar\": {\"outlinewidth\": 0, \"ticks\": \"\"}, \"colorscale\": [[0.0, \"#0d0887\"], [0.1111111111111111, \"#46039f\"], [0.2222222222222222, \"#7201a8\"], [0.3333333333333333, \"#9c179e\"], [0.4444444444444444, \"#bd3786\"], [0.5555555555555556, \"#d8576b\"], [0.6666666666666666, \"#ed7953\"], [0.7777777777777778, \"#fb9f3a\"], [0.8888888888888888, \"#fdca26\"], [1.0, \"#f0f921\"]], \"type\": \"heatmap\"}], \"heatmapgl\": [{\"colorbar\": {\"outlinewidth\": 0, \"ticks\": \"\"}, \"colorscale\": [[0.0, \"#0d0887\"], [0.1111111111111111, \"#46039f\"], [0.2222222222222222, \"#7201a8\"], [0.3333333333333333, \"#9c179e\"], [0.4444444444444444, \"#bd3786\"], [0.5555555555555556, \"#d8576b\"], [0.6666666666666666, \"#ed7953\"], [0.7777777777777778, \"#fb9f3a\"], [0.8888888888888888, \"#fdca26\"], [1.0, \"#f0f921\"]], \"type\": \"heatmapgl\"}], \"histogram\": [{\"marker\": {\"colorbar\": {\"outlinewidth\": 0, \"ticks\": \"\"}}, \"type\": \"histogram\"}], \"histogram2d\": [{\"colorbar\": {\"outlinewidth\": 0, \"ticks\": \"\"}, \"colorscale\": [[0.0, \"#0d0887\"], [0.1111111111111111, \"#46039f\"], [0.2222222222222222, \"#7201a8\"], [0.3333333333333333, \"#9c179e\"], [0.4444444444444444, \"#bd3786\"], [0.5555555555555556, \"#d8576b\"], [0.6666666666666666, \"#ed7953\"], [0.7777777777777778, \"#fb9f3a\"], [0.8888888888888888, \"#fdca26\"], [1.0, \"#f0f921\"]], \"type\": \"histogram2d\"}], \"histogram2dcontour\": [{\"colorbar\": {\"outlinewidth\": 0, \"ticks\": \"\"}, \"colorscale\": [[0.0, \"#0d0887\"], [0.1111111111111111, \"#46039f\"], [0.2222222222222222, \"#7201a8\"], [0.3333333333333333, \"#9c179e\"], [0.4444444444444444, \"#bd3786\"], [0.5555555555555556, \"#d8576b\"], [0.6666666666666666, \"#ed7953\"], [0.7777777777777778, \"#fb9f3a\"], [0.8888888888888888, \"#fdca26\"], [1.0, \"#f0f921\"]], \"type\": \"histogram2dcontour\"}], \"mesh3d\": [{\"colorbar\": {\"outlinewidth\": 0, \"ticks\": \"\"}, \"type\": \"mesh3d\"}], \"parcoords\": [{\"line\": {\"colorbar\": {\"outlinewidth\": 0, \"ticks\": \"\"}}, \"type\": \"parcoords\"}], \"pie\": [{\"automargin\": true, \"type\": \"pie\"}], \"scatter\": [{\"marker\": {\"colorbar\": {\"outlinewidth\": 0, \"ticks\": \"\"}}, \"type\": \"scatter\"}], \"scatter3d\": [{\"line\": {\"colorbar\": {\"outlinewidth\": 0, \"ticks\": \"\"}}, \"marker\": {\"colorbar\": {\"outlinewidth\": 0, \"ticks\": \"\"}}, \"type\": \"scatter3d\"}], \"scattercarpet\": [{\"marker\": {\"colorbar\": {\"outlinewidth\": 0, \"ticks\": \"\"}}, \"type\": \"scattercarpet\"}], \"scattergeo\": [{\"marker\": {\"colorbar\": {\"outlinewidth\": 0, \"ticks\": \"\"}}, \"type\": \"scattergeo\"}], \"scattergl\": [{\"marker\": {\"colorbar\": {\"outlinewidth\": 0, \"ticks\": \"\"}}, \"type\": \"scattergl\"}], \"scattermapbox\": [{\"marker\": {\"colorbar\": {\"outlinewidth\": 0, \"ticks\": \"\"}}, \"type\": \"scattermapbox\"}], \"scatterpolar\": [{\"marker\": {\"colorbar\": {\"outlinewidth\": 0, \"ticks\": \"\"}}, \"type\": \"scatterpolar\"}], \"scatterpolargl\": [{\"marker\": {\"colorbar\": {\"outlinewidth\": 0, \"ticks\": \"\"}}, \"type\": \"scatterpolargl\"}], \"scatterternary\": [{\"marker\": {\"colorbar\": {\"outlinewidth\": 0, \"ticks\": \"\"}}, \"type\": \"scatterternary\"}], \"surface\": [{\"colorbar\": {\"outlinewidth\": 0, \"ticks\": \"\"}, \"colorscale\": [[0.0, \"#0d0887\"], [0.1111111111111111, \"#46039f\"], [0.2222222222222222, \"#7201a8\"], [0.3333333333333333, \"#9c179e\"], [0.4444444444444444, \"#bd3786\"], [0.5555555555555556, \"#d8576b\"], [0.6666666666666666, \"#ed7953\"], [0.7777777777777778, \"#fb9f3a\"], [0.8888888888888888, \"#fdca26\"], [1.0, \"#f0f921\"]], \"type\": \"surface\"}], \"table\": [{\"cells\": {\"fill\": {\"color\": \"#EBF0F8\"}, \"line\": {\"color\": \"white\"}}, \"header\": {\"fill\": {\"color\": \"#C8D4E3\"}, \"line\": {\"color\": \"white\"}}, \"type\": \"table\"}]}, \"layout\": {\"annotationdefaults\": {\"arrowcolor\": \"#2a3f5f\", \"arrowhead\": 0, \"arrowwidth\": 1}, \"coloraxis\": {\"colorbar\": {\"outlinewidth\": 0, \"ticks\": \"\"}}, \"colorscale\": {\"diverging\": [[0, \"#8e0152\"], [0.1, \"#c51b7d\"], [0.2, \"#de77ae\"], [0.3, \"#f1b6da\"], [0.4, \"#fde0ef\"], [0.5, \"#f7f7f7\"], [0.6, \"#e6f5d0\"], [0.7, \"#b8e186\"], [0.8, \"#7fbc41\"], [0.9, \"#4d9221\"], [1, \"#276419\"]], \"sequential\": [[0.0, \"#0d0887\"], [0.1111111111111111, \"#46039f\"], [0.2222222222222222, \"#7201a8\"], [0.3333333333333333, \"#9c179e\"], [0.4444444444444444, \"#bd3786\"], [0.5555555555555556, \"#d8576b\"], [0.6666666666666666, \"#ed7953\"], [0.7777777777777778, \"#fb9f3a\"], [0.8888888888888888, \"#fdca26\"], [1.0, \"#f0f921\"]], \"sequentialminus\": [[0.0, \"#0d0887\"], [0.1111111111111111, \"#46039f\"], [0.2222222222222222, \"#7201a8\"], [0.3333333333333333, \"#9c179e\"], [0.4444444444444444, \"#bd3786\"], [0.5555555555555556, \"#d8576b\"], [0.6666666666666666, \"#ed7953\"], [0.7777777777777778, \"#fb9f3a\"], [0.8888888888888888, \"#fdca26\"], [1.0, \"#f0f921\"]]}, \"colorway\": [\"#636efa\", \"#EF553B\", \"#00cc96\", \"#ab63fa\", \"#FFA15A\", \"#19d3f3\", \"#FF6692\", \"#B6E880\", \"#FF97FF\", \"#FECB52\"], \"font\": {\"color\": \"#2a3f5f\"}, \"geo\": {\"bgcolor\": \"white\", \"lakecolor\": \"white\", \"landcolor\": \"#E5ECF6\", \"showlakes\": true, \"showland\": true, \"subunitcolor\": \"white\"}, \"hoverlabel\": {\"align\": \"left\"}, \"hovermode\": \"closest\", \"mapbox\": {\"style\": \"light\"}, \"paper_bgcolor\": \"white\", \"plot_bgcolor\": \"#E5ECF6\", \"polar\": {\"angularaxis\": {\"gridcolor\": \"white\", \"linecolor\": \"white\", \"ticks\": \"\"}, \"bgcolor\": \"#E5ECF6\", \"radialaxis\": {\"gridcolor\": \"white\", \"linecolor\": \"white\", \"ticks\": \"\"}}, \"scene\": {\"xaxis\": {\"backgroundcolor\": \"#E5ECF6\", \"gridcolor\": \"white\", \"gridwidth\": 2, \"linecolor\": \"white\", \"showbackground\": true, \"ticks\": \"\", \"zerolinecolor\": \"white\"}, \"yaxis\": {\"backgroundcolor\": \"#E5ECF6\", \"gridcolor\": \"white\", \"gridwidth\": 2, \"linecolor\": \"white\", \"showbackground\": true, \"ticks\": \"\", \"zerolinecolor\": \"white\"}, \"zaxis\": {\"backgroundcolor\": \"#E5ECF6\", \"gridcolor\": \"white\", \"gridwidth\": 2, \"linecolor\": \"white\", \"showbackground\": true, \"ticks\": \"\", \"zerolinecolor\": \"white\"}}, \"shapedefaults\": {\"line\": {\"color\": \"#2a3f5f\"}}, \"ternary\": {\"aaxis\": {\"gridcolor\": \"white\", \"linecolor\": \"white\", \"ticks\": \"\"}, \"baxis\": {\"gridcolor\": \"white\", \"linecolor\": \"white\", \"ticks\": \"\"}, \"bgcolor\": \"#E5ECF6\", \"caxis\": {\"gridcolor\": \"white\", \"linecolor\": \"white\", \"ticks\": \"\"}}, \"title\": {\"x\": 0.05}, \"xaxis\": {\"automargin\": true, \"gridcolor\": \"white\", \"linecolor\": \"white\", \"ticks\": \"\", \"title\": {\"standoff\": 15}, \"zerolinecolor\": \"white\", \"zerolinewidth\": 2}, \"yaxis\": {\"automargin\": true, \"gridcolor\": \"white\", \"linecolor\": \"white\", \"ticks\": \"\", \"title\": {\"standoff\": 15}, \"zerolinecolor\": \"white\", \"zerolinewidth\": 2}}}, \"title\": {\"font\": {\"color\": \"#D9D9D9\"}, \"text\": \"Top words in review after removing stop words\"}, \"xaxis\": {\"gridcolor\": \"#434343\", \"linecolor\": \"black\", \"showgrid\": true, \"tickfont\": {\"color\": \"#C2C2C2\"}, \"title\": {\"font\": {\"color\": \"#D9D9D9\"}, \"text\": \"\"}, \"zerolinecolor\": \"#666570\"}, \"yaxis\": {\"gridcolor\": \"#434343\", \"linecolor\": \"black\", \"showgrid\": true, \"tickfont\": {\"color\": \"#C2C2C2\"}, \"title\": {\"font\": {\"color\": \"#D9D9D9\"}, \"text\": \"Count\"}, \"zerolinecolor\": \"#666570\"}},\n",
              "                        {\"showLink\": true, \"linkText\": \"Export to plot.ly\", \"plotlyServerURL\": \"https://plot.ly\", \"responsive\": true}\n",
              "                    ).then(function(){\n",
              "                            \n",
              "var gd = document.getElementById('72fce514-3e86-4eb7-912e-3ee8d3a997f6');\n",
              "var x = new MutationObserver(function (mutations, observer) {{\n",
              "        var display = window.getComputedStyle(gd).display;\n",
              "        if (!display || display === 'none') {{\n",
              "            console.log([gd, 'removed!']);\n",
              "            Plotly.purge(gd);\n",
              "            observer.disconnect();\n",
              "        }}\n",
              "}});\n",
              "\n",
              "// Listen for the removal of the full notebook cells\n",
              "var notebookContainer = gd.closest('#notebook-container');\n",
              "if (notebookContainer) {{\n",
              "    x.observe(notebookContainer, {childList: true});\n",
              "}}\n",
              "\n",
              "// Listen for the clearing of the current output cell\n",
              "var outputEl = gd.closest('.output');\n",
              "if (outputEl) {{\n",
              "    x.observe(outputEl, {childList: true});\n",
              "}}\n",
              "\n",
              "                        })\n",
              "                };\n",
              "                \n",
              "            </script>\n",
              "        </div>\n",
              "</body>\n",
              "</html>"
            ]
          },
          "metadata": {
            "tags": []
          }
        }
      ]
    },
    {
      "cell_type": "code",
      "metadata": {
        "id": "yZAuStLm8rBN"
      },
      "source": [
        "from sklearn.feature_extraction.text import CountVectorizer\n",
        "def get_top_n_words(corpus, n=None):\n",
        "    vec = CountVectorizer(ngram_range = (2,2),stop_words = 'english').fit(corpus)\n",
        "    bag_of_words = vec.transform(corpus)\n",
        "    sum_words = bag_of_words.sum(axis=0) \n",
        "    words_freq = [(word, sum_words[0, idx]) for word, idx in vec.vocabulary_.items()]\n",
        "    words_freq =sorted(words_freq, key = lambda x: x[1], reverse=True)\n",
        "    return words_freq[:n]\n",
        "common_words = get_top_n_words(positive_df['Body'], 20)"
      ],
      "execution_count": 31,
      "outputs": []
    },
    {
      "cell_type": "code",
      "metadata": {
        "id": "Z7wpZpVc8xtI",
        "outputId": "d4323b28-be1f-4553-dd0c-38e0affb92bb",
        "colab": {
          "base_uri": "https://localhost:8080/"
        }
      },
      "source": [
        "common_words"
      ],
      "execution_count": 32,
      "outputs": [
        {
          "output_type": "execute_result",
          "data": {
            "text/plain": [
              "[('easy use', 358),\n",
              " ('love amazon', 343),\n",
              " ('love app', 320),\n",
              " ('great app', 303),\n",
              " ('good app', 187),\n",
              " ('love walmart', 180),\n",
              " ('customer service', 147),\n",
              " ('love shopping', 127),\n",
              " ('app easy', 121),\n",
              " ('shopping app', 99),\n",
              " ('best app', 99),\n",
              " ('online shopping', 98),\n",
              " ('amazon prime', 98),\n",
              " ('walmart app', 94),\n",
              " ('great service', 88),\n",
              " ('shopping amazon', 85),\n",
              " ('wal mart', 80),\n",
              " ('love love', 79),\n",
              " ('use app', 73),\n",
              " ('amazon app', 73)]"
            ]
          },
          "metadata": {
            "tags": []
          },
          "execution_count": 32
        }
      ]
    },
    {
      "cell_type": "code",
      "metadata": {
        "id": "MS634Mih80W3"
      },
      "source": [
        "dataframe_positive_polarity_bigrams = pd.DataFrame(common_words,columns=['Body','count'])"
      ],
      "execution_count": 33,
      "outputs": []
    },
    {
      "cell_type": "code",
      "metadata": {
        "id": "ruH8l0wM87Uw",
        "outputId": "c6672d11-90b4-4146-bb92-28a53946d3dd",
        "colab": {
          "base_uri": "https://localhost:8080/",
          "height": 639
        }
      },
      "source": [
        "dataframe_positive_polarity_bigrams\n"
      ],
      "execution_count": 81,
      "outputs": [
        {
          "output_type": "execute_result",
          "data": {
            "text/html": [
              "<div>\n",
              "<style scoped>\n",
              "    .dataframe tbody tr th:only-of-type {\n",
              "        vertical-align: middle;\n",
              "    }\n",
              "\n",
              "    .dataframe tbody tr th {\n",
              "        vertical-align: top;\n",
              "    }\n",
              "\n",
              "    .dataframe thead th {\n",
              "        text-align: right;\n",
              "    }\n",
              "</style>\n",
              "<table border=\"1\" class=\"dataframe\">\n",
              "  <thead>\n",
              "    <tr style=\"text-align: right;\">\n",
              "      <th></th>\n",
              "      <th>Body</th>\n",
              "      <th>count</th>\n",
              "    </tr>\n",
              "  </thead>\n",
              "  <tbody>\n",
              "    <tr>\n",
              "      <th>0</th>\n",
              "      <td>easy use</td>\n",
              "      <td>358</td>\n",
              "    </tr>\n",
              "    <tr>\n",
              "      <th>1</th>\n",
              "      <td>love amazon</td>\n",
              "      <td>343</td>\n",
              "    </tr>\n",
              "    <tr>\n",
              "      <th>2</th>\n",
              "      <td>love app</td>\n",
              "      <td>320</td>\n",
              "    </tr>\n",
              "    <tr>\n",
              "      <th>3</th>\n",
              "      <td>great app</td>\n",
              "      <td>303</td>\n",
              "    </tr>\n",
              "    <tr>\n",
              "      <th>4</th>\n",
              "      <td>good app</td>\n",
              "      <td>187</td>\n",
              "    </tr>\n",
              "    <tr>\n",
              "      <th>5</th>\n",
              "      <td>love walmart</td>\n",
              "      <td>180</td>\n",
              "    </tr>\n",
              "    <tr>\n",
              "      <th>6</th>\n",
              "      <td>customer service</td>\n",
              "      <td>147</td>\n",
              "    </tr>\n",
              "    <tr>\n",
              "      <th>7</th>\n",
              "      <td>love shopping</td>\n",
              "      <td>127</td>\n",
              "    </tr>\n",
              "    <tr>\n",
              "      <th>8</th>\n",
              "      <td>app easy</td>\n",
              "      <td>121</td>\n",
              "    </tr>\n",
              "    <tr>\n",
              "      <th>9</th>\n",
              "      <td>shopping app</td>\n",
              "      <td>99</td>\n",
              "    </tr>\n",
              "    <tr>\n",
              "      <th>10</th>\n",
              "      <td>best app</td>\n",
              "      <td>99</td>\n",
              "    </tr>\n",
              "    <tr>\n",
              "      <th>11</th>\n",
              "      <td>online shopping</td>\n",
              "      <td>98</td>\n",
              "    </tr>\n",
              "    <tr>\n",
              "      <th>12</th>\n",
              "      <td>amazon prime</td>\n",
              "      <td>98</td>\n",
              "    </tr>\n",
              "    <tr>\n",
              "      <th>13</th>\n",
              "      <td>walmart app</td>\n",
              "      <td>94</td>\n",
              "    </tr>\n",
              "    <tr>\n",
              "      <th>14</th>\n",
              "      <td>great service</td>\n",
              "      <td>88</td>\n",
              "    </tr>\n",
              "    <tr>\n",
              "      <th>15</th>\n",
              "      <td>shopping amazon</td>\n",
              "      <td>85</td>\n",
              "    </tr>\n",
              "    <tr>\n",
              "      <th>16</th>\n",
              "      <td>wal mart</td>\n",
              "      <td>80</td>\n",
              "    </tr>\n",
              "    <tr>\n",
              "      <th>17</th>\n",
              "      <td>love love</td>\n",
              "      <td>79</td>\n",
              "    </tr>\n",
              "    <tr>\n",
              "      <th>18</th>\n",
              "      <td>use app</td>\n",
              "      <td>73</td>\n",
              "    </tr>\n",
              "    <tr>\n",
              "      <th>19</th>\n",
              "      <td>amazon app</td>\n",
              "      <td>73</td>\n",
              "    </tr>\n",
              "  </tbody>\n",
              "</table>\n",
              "</div>"
            ],
            "text/plain": [
              "                Body  count\n",
              "0           easy use    358\n",
              "1        love amazon    343\n",
              "2           love app    320\n",
              "3          great app    303\n",
              "4           good app    187\n",
              "5       love walmart    180\n",
              "6   customer service    147\n",
              "7      love shopping    127\n",
              "8           app easy    121\n",
              "9       shopping app     99\n",
              "10          best app     99\n",
              "11   online shopping     98\n",
              "12      amazon prime     98\n",
              "13       walmart app     94\n",
              "14     great service     88\n",
              "15   shopping amazon     85\n",
              "16          wal mart     80\n",
              "17         love love     79\n",
              "18           use app     73\n",
              "19        amazon app     73"
            ]
          },
          "metadata": {
            "tags": []
          },
          "execution_count": 81
        }
      ]
    },
    {
      "cell_type": "code",
      "metadata": {
        "id": "Whjfm-LjQK4h",
        "outputId": "9bf535f4-d5ef-4e15-853c-bacd008242ab",
        "colab": {
          "base_uri": "https://localhost:8080/",
          "height": 542
        }
      },
      "source": [
        "dataframe_positive_polarity_bigrams.groupby('Body').sum()['count'].sort_values(ascending=False).iplot(\n",
        "    kind='bar', yTitle='Count', linecolor='black', title='Top words in review after removing stop words')"
      ],
      "execution_count": 94,
      "outputs": [
        {
          "output_type": "display_data",
          "data": {
            "text/html": [
              "<html>\n",
              "<head><meta charset=\"utf-8\" /></head>\n",
              "<body>\n",
              "    <div>\n",
              "            <script src=\"https://cdnjs.cloudflare.com/ajax/libs/mathjax/2.7.5/MathJax.js?config=TeX-AMS-MML_SVG\"></script><script type=\"text/javascript\">if (window.MathJax) {MathJax.Hub.Config({SVG: {font: \"STIX-Web\"}});}</script>\n",
              "                <script type=\"text/javascript\">window.PlotlyConfig = {MathJaxConfig: 'local'};</script>\n",
              "        <script src=\"https://cdn.plot.ly/plotly-latest.min.js\"></script>    \n",
              "            <div id=\"6628c3f2-f23b-4a2d-9647-19733dc721f5\" class=\"plotly-graph-div\" style=\"height:525px; width:100%;\"></div>\n",
              "            <script type=\"text/javascript\">\n",
              "                \n",
              "                    window.PLOTLYENV=window.PLOTLYENV || {};\n",
              "                    window.PLOTLYENV.BASE_URL='https://plot.ly';\n",
              "                    \n",
              "                if (document.getElementById(\"6628c3f2-f23b-4a2d-9647-19733dc721f5\")) {\n",
              "                    Plotly.newPlot(\n",
              "                        '6628c3f2-f23b-4a2d-9647-19733dc721f5',\n",
              "                        [{\"marker\": {\"color\": \"rgba(255, 153, 51, 0.6)\", \"line\": {\"color\": \"rgba(255, 153, 51, 1.0)\", \"width\": 1}}, \"name\": \"count\", \"orientation\": \"v\", \"text\": \"\", \"type\": \"bar\", \"x\": [\"easy use\", \"love amazon\", \"love app\", \"great app\", \"good app\", \"love walmart\", \"customer service\", \"love shopping\", \"app easy\", \"shopping app\", \"best app\", \"amazon prime\", \"online shopping\", \"walmart app\", \"great service\", \"shopping amazon\", \"wal mart\", \"love love\", \"use app\", \"amazon app\"], \"y\": [358, 343, 320, 303, 187, 180, 147, 127, 121, 99, 99, 98, 98, 94, 88, 85, 80, 79, 73, 73]}],\n",
              "                        {\"legend\": {\"bgcolor\": \"#151516\", \"font\": {\"color\": \"#D9D9D9\"}}, \"paper_bgcolor\": \"#151516\", \"plot_bgcolor\": \"#151516\", \"template\": {\"data\": {\"bar\": [{\"error_x\": {\"color\": \"#2a3f5f\"}, \"error_y\": {\"color\": \"#2a3f5f\"}, \"marker\": {\"line\": {\"color\": \"#E5ECF6\", \"width\": 0.5}}, \"type\": \"bar\"}], \"barpolar\": [{\"marker\": {\"line\": {\"color\": \"#E5ECF6\", \"width\": 0.5}}, \"type\": \"barpolar\"}], \"carpet\": [{\"aaxis\": {\"endlinecolor\": \"#2a3f5f\", \"gridcolor\": \"white\", \"linecolor\": \"white\", \"minorgridcolor\": \"white\", \"startlinecolor\": \"#2a3f5f\"}, \"baxis\": {\"endlinecolor\": \"#2a3f5f\", \"gridcolor\": \"white\", \"linecolor\": \"white\", \"minorgridcolor\": \"white\", \"startlinecolor\": \"#2a3f5f\"}, \"type\": \"carpet\"}], \"choropleth\": [{\"colorbar\": {\"outlinewidth\": 0, \"ticks\": \"\"}, \"type\": \"choropleth\"}], \"contour\": [{\"colorbar\": {\"outlinewidth\": 0, \"ticks\": \"\"}, \"colorscale\": [[0.0, \"#0d0887\"], [0.1111111111111111, \"#46039f\"], [0.2222222222222222, \"#7201a8\"], [0.3333333333333333, \"#9c179e\"], [0.4444444444444444, \"#bd3786\"], [0.5555555555555556, \"#d8576b\"], [0.6666666666666666, \"#ed7953\"], [0.7777777777777778, \"#fb9f3a\"], [0.8888888888888888, \"#fdca26\"], [1.0, \"#f0f921\"]], \"type\": \"contour\"}], \"contourcarpet\": [{\"colorbar\": {\"outlinewidth\": 0, \"ticks\": \"\"}, \"type\": \"contourcarpet\"}], \"heatmap\": [{\"colorbar\": {\"outlinewidth\": 0, \"ticks\": \"\"}, \"colorscale\": [[0.0, \"#0d0887\"], [0.1111111111111111, \"#46039f\"], [0.2222222222222222, \"#7201a8\"], [0.3333333333333333, \"#9c179e\"], [0.4444444444444444, \"#bd3786\"], [0.5555555555555556, \"#d8576b\"], [0.6666666666666666, \"#ed7953\"], [0.7777777777777778, \"#fb9f3a\"], [0.8888888888888888, \"#fdca26\"], [1.0, \"#f0f921\"]], \"type\": \"heatmap\"}], \"heatmapgl\": [{\"colorbar\": {\"outlinewidth\": 0, \"ticks\": \"\"}, \"colorscale\": [[0.0, \"#0d0887\"], [0.1111111111111111, \"#46039f\"], [0.2222222222222222, \"#7201a8\"], [0.3333333333333333, \"#9c179e\"], [0.4444444444444444, \"#bd3786\"], [0.5555555555555556, \"#d8576b\"], [0.6666666666666666, \"#ed7953\"], [0.7777777777777778, \"#fb9f3a\"], [0.8888888888888888, \"#fdca26\"], [1.0, \"#f0f921\"]], \"type\": \"heatmapgl\"}], \"histogram\": [{\"marker\": {\"colorbar\": {\"outlinewidth\": 0, \"ticks\": \"\"}}, \"type\": \"histogram\"}], \"histogram2d\": [{\"colorbar\": {\"outlinewidth\": 0, \"ticks\": \"\"}, \"colorscale\": [[0.0, \"#0d0887\"], [0.1111111111111111, \"#46039f\"], [0.2222222222222222, \"#7201a8\"], [0.3333333333333333, \"#9c179e\"], [0.4444444444444444, \"#bd3786\"], [0.5555555555555556, \"#d8576b\"], [0.6666666666666666, \"#ed7953\"], [0.7777777777777778, \"#fb9f3a\"], [0.8888888888888888, \"#fdca26\"], [1.0, \"#f0f921\"]], \"type\": \"histogram2d\"}], \"histogram2dcontour\": [{\"colorbar\": {\"outlinewidth\": 0, \"ticks\": \"\"}, \"colorscale\": [[0.0, \"#0d0887\"], [0.1111111111111111, \"#46039f\"], [0.2222222222222222, \"#7201a8\"], [0.3333333333333333, \"#9c179e\"], [0.4444444444444444, \"#bd3786\"], [0.5555555555555556, \"#d8576b\"], [0.6666666666666666, \"#ed7953\"], [0.7777777777777778, \"#fb9f3a\"], [0.8888888888888888, \"#fdca26\"], [1.0, \"#f0f921\"]], \"type\": \"histogram2dcontour\"}], \"mesh3d\": [{\"colorbar\": {\"outlinewidth\": 0, \"ticks\": \"\"}, \"type\": \"mesh3d\"}], \"parcoords\": [{\"line\": {\"colorbar\": {\"outlinewidth\": 0, \"ticks\": \"\"}}, \"type\": \"parcoords\"}], \"pie\": [{\"automargin\": true, \"type\": \"pie\"}], \"scatter\": [{\"marker\": {\"colorbar\": {\"outlinewidth\": 0, \"ticks\": \"\"}}, \"type\": \"scatter\"}], \"scatter3d\": [{\"line\": {\"colorbar\": {\"outlinewidth\": 0, \"ticks\": \"\"}}, \"marker\": {\"colorbar\": {\"outlinewidth\": 0, \"ticks\": \"\"}}, \"type\": \"scatter3d\"}], \"scattercarpet\": [{\"marker\": {\"colorbar\": {\"outlinewidth\": 0, \"ticks\": \"\"}}, \"type\": \"scattercarpet\"}], \"scattergeo\": [{\"marker\": {\"colorbar\": {\"outlinewidth\": 0, \"ticks\": \"\"}}, \"type\": \"scattergeo\"}], \"scattergl\": [{\"marker\": {\"colorbar\": {\"outlinewidth\": 0, \"ticks\": \"\"}}, \"type\": \"scattergl\"}], \"scattermapbox\": [{\"marker\": {\"colorbar\": {\"outlinewidth\": 0, \"ticks\": \"\"}}, \"type\": \"scattermapbox\"}], \"scatterpolar\": [{\"marker\": {\"colorbar\": {\"outlinewidth\": 0, \"ticks\": \"\"}}, \"type\": \"scatterpolar\"}], \"scatterpolargl\": [{\"marker\": {\"colorbar\": {\"outlinewidth\": 0, \"ticks\": \"\"}}, \"type\": \"scatterpolargl\"}], \"scatterternary\": [{\"marker\": {\"colorbar\": {\"outlinewidth\": 0, \"ticks\": \"\"}}, \"type\": \"scatterternary\"}], \"surface\": [{\"colorbar\": {\"outlinewidth\": 0, \"ticks\": \"\"}, \"colorscale\": [[0.0, \"#0d0887\"], [0.1111111111111111, \"#46039f\"], [0.2222222222222222, \"#7201a8\"], [0.3333333333333333, \"#9c179e\"], [0.4444444444444444, \"#bd3786\"], [0.5555555555555556, \"#d8576b\"], [0.6666666666666666, \"#ed7953\"], [0.7777777777777778, \"#fb9f3a\"], [0.8888888888888888, \"#fdca26\"], [1.0, \"#f0f921\"]], \"type\": \"surface\"}], \"table\": [{\"cells\": {\"fill\": {\"color\": \"#EBF0F8\"}, \"line\": {\"color\": \"white\"}}, \"header\": {\"fill\": {\"color\": \"#C8D4E3\"}, \"line\": {\"color\": \"white\"}}, \"type\": \"table\"}]}, \"layout\": {\"annotationdefaults\": {\"arrowcolor\": \"#2a3f5f\", \"arrowhead\": 0, \"arrowwidth\": 1}, \"coloraxis\": {\"colorbar\": {\"outlinewidth\": 0, \"ticks\": \"\"}}, \"colorscale\": {\"diverging\": [[0, \"#8e0152\"], [0.1, \"#c51b7d\"], [0.2, \"#de77ae\"], [0.3, \"#f1b6da\"], [0.4, \"#fde0ef\"], [0.5, \"#f7f7f7\"], [0.6, \"#e6f5d0\"], [0.7, \"#b8e186\"], [0.8, \"#7fbc41\"], [0.9, \"#4d9221\"], [1, \"#276419\"]], \"sequential\": [[0.0, \"#0d0887\"], [0.1111111111111111, \"#46039f\"], [0.2222222222222222, \"#7201a8\"], [0.3333333333333333, \"#9c179e\"], [0.4444444444444444, \"#bd3786\"], [0.5555555555555556, \"#d8576b\"], [0.6666666666666666, \"#ed7953\"], [0.7777777777777778, \"#fb9f3a\"], [0.8888888888888888, \"#fdca26\"], [1.0, \"#f0f921\"]], \"sequentialminus\": [[0.0, \"#0d0887\"], [0.1111111111111111, \"#46039f\"], [0.2222222222222222, \"#7201a8\"], [0.3333333333333333, \"#9c179e\"], [0.4444444444444444, \"#bd3786\"], [0.5555555555555556, \"#d8576b\"], [0.6666666666666666, \"#ed7953\"], [0.7777777777777778, \"#fb9f3a\"], [0.8888888888888888, \"#fdca26\"], [1.0, \"#f0f921\"]]}, \"colorway\": [\"#636efa\", \"#EF553B\", \"#00cc96\", \"#ab63fa\", \"#FFA15A\", \"#19d3f3\", \"#FF6692\", \"#B6E880\", \"#FF97FF\", \"#FECB52\"], \"font\": {\"color\": \"#2a3f5f\"}, \"geo\": {\"bgcolor\": \"white\", \"lakecolor\": \"white\", \"landcolor\": \"#E5ECF6\", \"showlakes\": true, \"showland\": true, \"subunitcolor\": \"white\"}, \"hoverlabel\": {\"align\": \"left\"}, \"hovermode\": \"closest\", \"mapbox\": {\"style\": \"light\"}, \"paper_bgcolor\": \"white\", \"plot_bgcolor\": \"#E5ECF6\", \"polar\": {\"angularaxis\": {\"gridcolor\": \"white\", \"linecolor\": \"white\", \"ticks\": \"\"}, \"bgcolor\": \"#E5ECF6\", \"radialaxis\": {\"gridcolor\": \"white\", \"linecolor\": \"white\", \"ticks\": \"\"}}, \"scene\": {\"xaxis\": {\"backgroundcolor\": \"#E5ECF6\", \"gridcolor\": \"white\", \"gridwidth\": 2, \"linecolor\": \"white\", \"showbackground\": true, \"ticks\": \"\", \"zerolinecolor\": \"white\"}, \"yaxis\": {\"backgroundcolor\": \"#E5ECF6\", \"gridcolor\": \"white\", \"gridwidth\": 2, \"linecolor\": \"white\", \"showbackground\": true, \"ticks\": \"\", \"zerolinecolor\": \"white\"}, \"zaxis\": {\"backgroundcolor\": \"#E5ECF6\", \"gridcolor\": \"white\", \"gridwidth\": 2, \"linecolor\": \"white\", \"showbackground\": true, \"ticks\": \"\", \"zerolinecolor\": \"white\"}}, \"shapedefaults\": {\"line\": {\"color\": \"#2a3f5f\"}}, \"ternary\": {\"aaxis\": {\"gridcolor\": \"white\", \"linecolor\": \"white\", \"ticks\": \"\"}, \"baxis\": {\"gridcolor\": \"white\", \"linecolor\": \"white\", \"ticks\": \"\"}, \"bgcolor\": \"#E5ECF6\", \"caxis\": {\"gridcolor\": \"white\", \"linecolor\": \"white\", \"ticks\": \"\"}}, \"title\": {\"x\": 0.05}, \"xaxis\": {\"automargin\": true, \"gridcolor\": \"white\", \"linecolor\": \"white\", \"ticks\": \"\", \"title\": {\"standoff\": 15}, \"zerolinecolor\": \"white\", \"zerolinewidth\": 2}, \"yaxis\": {\"automargin\": true, \"gridcolor\": \"white\", \"linecolor\": \"white\", \"ticks\": \"\", \"title\": {\"standoff\": 15}, \"zerolinecolor\": \"white\", \"zerolinewidth\": 2}}}, \"title\": {\"font\": {\"color\": \"#D9D9D9\"}, \"text\": \"Top words in review after removing stop words\"}, \"xaxis\": {\"gridcolor\": \"#434343\", \"linecolor\": \"black\", \"showgrid\": true, \"tickfont\": {\"color\": \"#C2C2C2\"}, \"title\": {\"font\": {\"color\": \"#D9D9D9\"}, \"text\": \"\"}, \"zerolinecolor\": \"#666570\"}, \"yaxis\": {\"gridcolor\": \"#434343\", \"linecolor\": \"black\", \"showgrid\": true, \"tickfont\": {\"color\": \"#C2C2C2\"}, \"title\": {\"font\": {\"color\": \"#D9D9D9\"}, \"text\": \"Count\"}, \"zerolinecolor\": \"#666570\"}},\n",
              "                        {\"showLink\": true, \"linkText\": \"Export to plot.ly\", \"plotlyServerURL\": \"https://plot.ly\", \"responsive\": true}\n",
              "                    ).then(function(){\n",
              "                            \n",
              "var gd = document.getElementById('6628c3f2-f23b-4a2d-9647-19733dc721f5');\n",
              "var x = new MutationObserver(function (mutations, observer) {{\n",
              "        var display = window.getComputedStyle(gd).display;\n",
              "        if (!display || display === 'none') {{\n",
              "            console.log([gd, 'removed!']);\n",
              "            Plotly.purge(gd);\n",
              "            observer.disconnect();\n",
              "        }}\n",
              "}});\n",
              "\n",
              "// Listen for the removal of the full notebook cells\n",
              "var notebookContainer = gd.closest('#notebook-container');\n",
              "if (notebookContainer) {{\n",
              "    x.observe(notebookContainer, {childList: true});\n",
              "}}\n",
              "\n",
              "// Listen for the clearing of the current output cell\n",
              "var outputEl = gd.closest('.output');\n",
              "if (outputEl) {{\n",
              "    x.observe(outputEl, {childList: true});\n",
              "}}\n",
              "\n",
              "                        })\n",
              "                };\n",
              "                \n",
              "            </script>\n",
              "        </div>\n",
              "</body>\n",
              "</html>"
            ]
          },
          "metadata": {
            "tags": []
          }
        }
      ]
    },
    {
      "cell_type": "code",
      "metadata": {
        "id": "hFO7ed8K8-CC"
      },
      "source": [
        "from sklearn.feature_extraction.text import CountVectorizer\n",
        "def get_top_n_words(corpus, n=None):\n",
        "    vec = CountVectorizer(ngram_range = (3,3),stop_words = 'english').fit(corpus)\n",
        "    bag_of_words = vec.transform(corpus)\n",
        "    sum_words = bag_of_words.sum(axis=0) \n",
        "    words_freq = [(word, sum_words[0, idx]) for word, idx in vec.vocabulary_.items()]\n",
        "    words_freq =sorted(words_freq, key = lambda x: x[1], reverse=True)\n",
        "    return words_freq[:n]\n",
        "common_words = get_top_n_words(positive_df['Body'], 20)"
      ],
      "execution_count": 36,
      "outputs": []
    },
    {
      "cell_type": "code",
      "metadata": {
        "id": "C6ubmHXO9DlD",
        "outputId": "6b5ee376-7649-4627-b786-fbd2dc724048",
        "colab": {
          "base_uri": "https://localhost:8080/"
        }
      },
      "source": [
        "common_words"
      ],
      "execution_count": 37,
      "outputs": [
        {
          "output_type": "execute_result",
          "data": {
            "text/plain": [
              "[('app easy use', 71),\n",
              " ('love shopping amazon', 40),\n",
              " ('love walmart app', 35),\n",
              " ('love love love', 33),\n",
              " ('love amazon prime', 25),\n",
              " ('love wal mart', 24),\n",
              " ('best shopping app', 23),\n",
              " ('great app easy', 23),\n",
              " ('love amazon app', 23),\n",
              " ('love shopping walmart', 22),\n",
              " ('great customer service', 19),\n",
              " ('love app easy', 19),\n",
              " ('great place shop', 19),\n",
              " ('best online shopping', 19),\n",
              " ('easy use app', 17),\n",
              " ('makes life easier', 17),\n",
              " ('app works great', 15),\n",
              " ('app makes easy', 15),\n",
              " ('love shopping online', 15),\n",
              " ('app easy navigate', 15)]"
            ]
          },
          "metadata": {
            "tags": []
          },
          "execution_count": 37
        }
      ]
    },
    {
      "cell_type": "code",
      "metadata": {
        "id": "_g9OMhvJ9Ge8"
      },
      "source": [
        "dataframe_positive_polarity_trigrams = pd.DataFrame(common_words,columns=['Body','count'])"
      ],
      "execution_count": 38,
      "outputs": []
    },
    {
      "cell_type": "code",
      "metadata": {
        "id": "EOhO1rtHU-X3",
        "outputId": "756daee5-1a79-4ed2-be6e-d976f6d4dd77",
        "colab": {
          "base_uri": "https://localhost:8080/",
          "height": 639
        }
      },
      "source": [
        "dataframe_positive_polarity_trigrams"
      ],
      "execution_count": 39,
      "outputs": [
        {
          "output_type": "execute_result",
          "data": {
            "text/html": [
              "<div>\n",
              "<style scoped>\n",
              "    .dataframe tbody tr th:only-of-type {\n",
              "        vertical-align: middle;\n",
              "    }\n",
              "\n",
              "    .dataframe tbody tr th {\n",
              "        vertical-align: top;\n",
              "    }\n",
              "\n",
              "    .dataframe thead th {\n",
              "        text-align: right;\n",
              "    }\n",
              "</style>\n",
              "<table border=\"1\" class=\"dataframe\">\n",
              "  <thead>\n",
              "    <tr style=\"text-align: right;\">\n",
              "      <th></th>\n",
              "      <th>Body</th>\n",
              "      <th>count</th>\n",
              "    </tr>\n",
              "  </thead>\n",
              "  <tbody>\n",
              "    <tr>\n",
              "      <th>0</th>\n",
              "      <td>app easy use</td>\n",
              "      <td>71</td>\n",
              "    </tr>\n",
              "    <tr>\n",
              "      <th>1</th>\n",
              "      <td>love shopping amazon</td>\n",
              "      <td>40</td>\n",
              "    </tr>\n",
              "    <tr>\n",
              "      <th>2</th>\n",
              "      <td>love walmart app</td>\n",
              "      <td>35</td>\n",
              "    </tr>\n",
              "    <tr>\n",
              "      <th>3</th>\n",
              "      <td>love love love</td>\n",
              "      <td>33</td>\n",
              "    </tr>\n",
              "    <tr>\n",
              "      <th>4</th>\n",
              "      <td>love amazon prime</td>\n",
              "      <td>25</td>\n",
              "    </tr>\n",
              "    <tr>\n",
              "      <th>5</th>\n",
              "      <td>love wal mart</td>\n",
              "      <td>24</td>\n",
              "    </tr>\n",
              "    <tr>\n",
              "      <th>6</th>\n",
              "      <td>best shopping app</td>\n",
              "      <td>23</td>\n",
              "    </tr>\n",
              "    <tr>\n",
              "      <th>7</th>\n",
              "      <td>great app easy</td>\n",
              "      <td>23</td>\n",
              "    </tr>\n",
              "    <tr>\n",
              "      <th>8</th>\n",
              "      <td>love amazon app</td>\n",
              "      <td>23</td>\n",
              "    </tr>\n",
              "    <tr>\n",
              "      <th>9</th>\n",
              "      <td>love shopping walmart</td>\n",
              "      <td>22</td>\n",
              "    </tr>\n",
              "    <tr>\n",
              "      <th>10</th>\n",
              "      <td>great customer service</td>\n",
              "      <td>19</td>\n",
              "    </tr>\n",
              "    <tr>\n",
              "      <th>11</th>\n",
              "      <td>love app easy</td>\n",
              "      <td>19</td>\n",
              "    </tr>\n",
              "    <tr>\n",
              "      <th>12</th>\n",
              "      <td>great place shop</td>\n",
              "      <td>19</td>\n",
              "    </tr>\n",
              "    <tr>\n",
              "      <th>13</th>\n",
              "      <td>best online shopping</td>\n",
              "      <td>19</td>\n",
              "    </tr>\n",
              "    <tr>\n",
              "      <th>14</th>\n",
              "      <td>easy use app</td>\n",
              "      <td>17</td>\n",
              "    </tr>\n",
              "    <tr>\n",
              "      <th>15</th>\n",
              "      <td>makes life easier</td>\n",
              "      <td>17</td>\n",
              "    </tr>\n",
              "    <tr>\n",
              "      <th>16</th>\n",
              "      <td>app works great</td>\n",
              "      <td>15</td>\n",
              "    </tr>\n",
              "    <tr>\n",
              "      <th>17</th>\n",
              "      <td>app makes easy</td>\n",
              "      <td>15</td>\n",
              "    </tr>\n",
              "    <tr>\n",
              "      <th>18</th>\n",
              "      <td>love shopping online</td>\n",
              "      <td>15</td>\n",
              "    </tr>\n",
              "    <tr>\n",
              "      <th>19</th>\n",
              "      <td>app easy navigate</td>\n",
              "      <td>15</td>\n",
              "    </tr>\n",
              "  </tbody>\n",
              "</table>\n",
              "</div>"
            ],
            "text/plain": [
              "                      Body  count\n",
              "0             app easy use     71\n",
              "1     love shopping amazon     40\n",
              "2         love walmart app     35\n",
              "3           love love love     33\n",
              "4        love amazon prime     25\n",
              "5            love wal mart     24\n",
              "6        best shopping app     23\n",
              "7           great app easy     23\n",
              "8          love amazon app     23\n",
              "9    love shopping walmart     22\n",
              "10  great customer service     19\n",
              "11           love app easy     19\n",
              "12        great place shop     19\n",
              "13    best online shopping     19\n",
              "14            easy use app     17\n",
              "15       makes life easier     17\n",
              "16         app works great     15\n",
              "17          app makes easy     15\n",
              "18    love shopping online     15\n",
              "19       app easy navigate     15"
            ]
          },
          "metadata": {
            "tags": []
          },
          "execution_count": 39
        }
      ]
    },
    {
      "cell_type": "code",
      "metadata": {
        "id": "--qSk1UIQD-O",
        "outputId": "ae6a3e82-ca0d-4af1-9d2f-b9b174415189",
        "colab": {
          "base_uri": "https://localhost:8080/",
          "height": 542
        }
      },
      "source": [
        "dataframe_positive_polarity_trigrams.groupby('Body').sum()['count'].sort_values(ascending=False).iplot(\n",
        "    kind='bar', yTitle='Count', linecolor='black', title='Top words in review after removing stop words')\n"
      ],
      "execution_count": 95,
      "outputs": [
        {
          "output_type": "display_data",
          "data": {
            "text/html": [
              "<html>\n",
              "<head><meta charset=\"utf-8\" /></head>\n",
              "<body>\n",
              "    <div>\n",
              "            <script src=\"https://cdnjs.cloudflare.com/ajax/libs/mathjax/2.7.5/MathJax.js?config=TeX-AMS-MML_SVG\"></script><script type=\"text/javascript\">if (window.MathJax) {MathJax.Hub.Config({SVG: {font: \"STIX-Web\"}});}</script>\n",
              "                <script type=\"text/javascript\">window.PlotlyConfig = {MathJaxConfig: 'local'};</script>\n",
              "        <script src=\"https://cdn.plot.ly/plotly-latest.min.js\"></script>    \n",
              "            <div id=\"f2f92109-7dc9-4484-925f-cb7193acefa0\" class=\"plotly-graph-div\" style=\"height:525px; width:100%;\"></div>\n",
              "            <script type=\"text/javascript\">\n",
              "                \n",
              "                    window.PLOTLYENV=window.PLOTLYENV || {};\n",
              "                    window.PLOTLYENV.BASE_URL='https://plot.ly';\n",
              "                    \n",
              "                if (document.getElementById(\"f2f92109-7dc9-4484-925f-cb7193acefa0\")) {\n",
              "                    Plotly.newPlot(\n",
              "                        'f2f92109-7dc9-4484-925f-cb7193acefa0',\n",
              "                        [{\"marker\": {\"color\": \"rgba(255, 153, 51, 0.6)\", \"line\": {\"color\": \"rgba(255, 153, 51, 1.0)\", \"width\": 1}}, \"name\": \"count\", \"orientation\": \"v\", \"text\": \"\", \"type\": \"bar\", \"x\": [\"app easy use\", \"love shopping amazon\", \"love walmart app\", \"love love love\", \"love amazon prime\", \"love wal mart\", \"best shopping app\", \"love amazon app\", \"great app easy\", \"love shopping walmart\", \"great place shop\", \"love app easy\", \"great customer service\", \"best online shopping\", \"makes life easier\", \"easy use app\", \"app works great\", \"app makes easy\", \"love shopping online\", \"app easy navigate\"], \"y\": [71, 40, 35, 33, 25, 24, 23, 23, 23, 22, 19, 19, 19, 19, 17, 17, 15, 15, 15, 15]}],\n",
              "                        {\"legend\": {\"bgcolor\": \"#151516\", \"font\": {\"color\": \"#D9D9D9\"}}, \"paper_bgcolor\": \"#151516\", \"plot_bgcolor\": \"#151516\", \"template\": {\"data\": {\"bar\": [{\"error_x\": {\"color\": \"#2a3f5f\"}, \"error_y\": {\"color\": \"#2a3f5f\"}, \"marker\": {\"line\": {\"color\": \"#E5ECF6\", \"width\": 0.5}}, \"type\": \"bar\"}], \"barpolar\": [{\"marker\": {\"line\": {\"color\": \"#E5ECF6\", \"width\": 0.5}}, \"type\": \"barpolar\"}], \"carpet\": [{\"aaxis\": {\"endlinecolor\": \"#2a3f5f\", \"gridcolor\": \"white\", \"linecolor\": \"white\", \"minorgridcolor\": \"white\", \"startlinecolor\": \"#2a3f5f\"}, \"baxis\": {\"endlinecolor\": \"#2a3f5f\", \"gridcolor\": \"white\", \"linecolor\": \"white\", \"minorgridcolor\": \"white\", \"startlinecolor\": \"#2a3f5f\"}, \"type\": \"carpet\"}], \"choropleth\": [{\"colorbar\": {\"outlinewidth\": 0, \"ticks\": \"\"}, \"type\": \"choropleth\"}], \"contour\": [{\"colorbar\": {\"outlinewidth\": 0, \"ticks\": \"\"}, \"colorscale\": [[0.0, \"#0d0887\"], [0.1111111111111111, \"#46039f\"], [0.2222222222222222, \"#7201a8\"], [0.3333333333333333, \"#9c179e\"], [0.4444444444444444, \"#bd3786\"], [0.5555555555555556, \"#d8576b\"], [0.6666666666666666, \"#ed7953\"], [0.7777777777777778, \"#fb9f3a\"], [0.8888888888888888, \"#fdca26\"], [1.0, \"#f0f921\"]], \"type\": \"contour\"}], \"contourcarpet\": [{\"colorbar\": {\"outlinewidth\": 0, \"ticks\": \"\"}, \"type\": \"contourcarpet\"}], \"heatmap\": [{\"colorbar\": {\"outlinewidth\": 0, \"ticks\": \"\"}, \"colorscale\": [[0.0, \"#0d0887\"], [0.1111111111111111, \"#46039f\"], [0.2222222222222222, \"#7201a8\"], [0.3333333333333333, \"#9c179e\"], [0.4444444444444444, \"#bd3786\"], [0.5555555555555556, \"#d8576b\"], [0.6666666666666666, \"#ed7953\"], [0.7777777777777778, \"#fb9f3a\"], [0.8888888888888888, \"#fdca26\"], [1.0, \"#f0f921\"]], \"type\": \"heatmap\"}], \"heatmapgl\": [{\"colorbar\": {\"outlinewidth\": 0, \"ticks\": \"\"}, \"colorscale\": [[0.0, \"#0d0887\"], [0.1111111111111111, \"#46039f\"], [0.2222222222222222, \"#7201a8\"], [0.3333333333333333, \"#9c179e\"], [0.4444444444444444, \"#bd3786\"], [0.5555555555555556, \"#d8576b\"], [0.6666666666666666, \"#ed7953\"], [0.7777777777777778, \"#fb9f3a\"], [0.8888888888888888, \"#fdca26\"], [1.0, \"#f0f921\"]], \"type\": \"heatmapgl\"}], \"histogram\": [{\"marker\": {\"colorbar\": {\"outlinewidth\": 0, \"ticks\": \"\"}}, \"type\": \"histogram\"}], \"histogram2d\": [{\"colorbar\": {\"outlinewidth\": 0, \"ticks\": \"\"}, \"colorscale\": [[0.0, \"#0d0887\"], [0.1111111111111111, \"#46039f\"], [0.2222222222222222, \"#7201a8\"], [0.3333333333333333, \"#9c179e\"], [0.4444444444444444, \"#bd3786\"], [0.5555555555555556, \"#d8576b\"], [0.6666666666666666, \"#ed7953\"], [0.7777777777777778, \"#fb9f3a\"], [0.8888888888888888, \"#fdca26\"], [1.0, \"#f0f921\"]], \"type\": \"histogram2d\"}], \"histogram2dcontour\": [{\"colorbar\": {\"outlinewidth\": 0, \"ticks\": \"\"}, \"colorscale\": [[0.0, \"#0d0887\"], [0.1111111111111111, \"#46039f\"], [0.2222222222222222, \"#7201a8\"], [0.3333333333333333, \"#9c179e\"], [0.4444444444444444, \"#bd3786\"], [0.5555555555555556, \"#d8576b\"], [0.6666666666666666, \"#ed7953\"], [0.7777777777777778, \"#fb9f3a\"], [0.8888888888888888, \"#fdca26\"], [1.0, \"#f0f921\"]], \"type\": \"histogram2dcontour\"}], \"mesh3d\": [{\"colorbar\": {\"outlinewidth\": 0, \"ticks\": \"\"}, \"type\": \"mesh3d\"}], \"parcoords\": [{\"line\": {\"colorbar\": {\"outlinewidth\": 0, \"ticks\": \"\"}}, \"type\": \"parcoords\"}], \"pie\": [{\"automargin\": true, \"type\": \"pie\"}], \"scatter\": [{\"marker\": {\"colorbar\": {\"outlinewidth\": 0, \"ticks\": \"\"}}, \"type\": \"scatter\"}], \"scatter3d\": [{\"line\": {\"colorbar\": {\"outlinewidth\": 0, \"ticks\": \"\"}}, \"marker\": {\"colorbar\": {\"outlinewidth\": 0, \"ticks\": \"\"}}, \"type\": \"scatter3d\"}], \"scattercarpet\": [{\"marker\": {\"colorbar\": {\"outlinewidth\": 0, \"ticks\": \"\"}}, \"type\": \"scattercarpet\"}], \"scattergeo\": [{\"marker\": {\"colorbar\": {\"outlinewidth\": 0, \"ticks\": \"\"}}, \"type\": \"scattergeo\"}], \"scattergl\": [{\"marker\": {\"colorbar\": {\"outlinewidth\": 0, \"ticks\": \"\"}}, \"type\": \"scattergl\"}], \"scattermapbox\": [{\"marker\": {\"colorbar\": {\"outlinewidth\": 0, \"ticks\": \"\"}}, \"type\": \"scattermapbox\"}], \"scatterpolar\": [{\"marker\": {\"colorbar\": {\"outlinewidth\": 0, \"ticks\": \"\"}}, \"type\": \"scatterpolar\"}], \"scatterpolargl\": [{\"marker\": {\"colorbar\": {\"outlinewidth\": 0, \"ticks\": \"\"}}, \"type\": \"scatterpolargl\"}], \"scatterternary\": [{\"marker\": {\"colorbar\": {\"outlinewidth\": 0, \"ticks\": \"\"}}, \"type\": \"scatterternary\"}], \"surface\": [{\"colorbar\": {\"outlinewidth\": 0, \"ticks\": \"\"}, \"colorscale\": [[0.0, \"#0d0887\"], [0.1111111111111111, \"#46039f\"], [0.2222222222222222, \"#7201a8\"], [0.3333333333333333, \"#9c179e\"], [0.4444444444444444, \"#bd3786\"], [0.5555555555555556, \"#d8576b\"], [0.6666666666666666, \"#ed7953\"], [0.7777777777777778, \"#fb9f3a\"], [0.8888888888888888, \"#fdca26\"], [1.0, \"#f0f921\"]], \"type\": \"surface\"}], \"table\": [{\"cells\": {\"fill\": {\"color\": \"#EBF0F8\"}, \"line\": {\"color\": \"white\"}}, \"header\": {\"fill\": {\"color\": \"#C8D4E3\"}, \"line\": {\"color\": \"white\"}}, \"type\": \"table\"}]}, \"layout\": {\"annotationdefaults\": {\"arrowcolor\": \"#2a3f5f\", \"arrowhead\": 0, \"arrowwidth\": 1}, \"coloraxis\": {\"colorbar\": {\"outlinewidth\": 0, \"ticks\": \"\"}}, \"colorscale\": {\"diverging\": [[0, \"#8e0152\"], [0.1, \"#c51b7d\"], [0.2, \"#de77ae\"], [0.3, \"#f1b6da\"], [0.4, \"#fde0ef\"], [0.5, \"#f7f7f7\"], [0.6, \"#e6f5d0\"], [0.7, \"#b8e186\"], [0.8, \"#7fbc41\"], [0.9, \"#4d9221\"], [1, \"#276419\"]], \"sequential\": [[0.0, \"#0d0887\"], [0.1111111111111111, \"#46039f\"], [0.2222222222222222, \"#7201a8\"], [0.3333333333333333, \"#9c179e\"], [0.4444444444444444, \"#bd3786\"], [0.5555555555555556, \"#d8576b\"], [0.6666666666666666, \"#ed7953\"], [0.7777777777777778, \"#fb9f3a\"], [0.8888888888888888, \"#fdca26\"], [1.0, \"#f0f921\"]], \"sequentialminus\": [[0.0, \"#0d0887\"], [0.1111111111111111, \"#46039f\"], [0.2222222222222222, \"#7201a8\"], [0.3333333333333333, \"#9c179e\"], [0.4444444444444444, \"#bd3786\"], [0.5555555555555556, \"#d8576b\"], [0.6666666666666666, \"#ed7953\"], [0.7777777777777778, \"#fb9f3a\"], [0.8888888888888888, \"#fdca26\"], [1.0, \"#f0f921\"]]}, \"colorway\": [\"#636efa\", \"#EF553B\", \"#00cc96\", \"#ab63fa\", \"#FFA15A\", \"#19d3f3\", \"#FF6692\", \"#B6E880\", \"#FF97FF\", \"#FECB52\"], \"font\": {\"color\": \"#2a3f5f\"}, \"geo\": {\"bgcolor\": \"white\", \"lakecolor\": \"white\", \"landcolor\": \"#E5ECF6\", \"showlakes\": true, \"showland\": true, \"subunitcolor\": \"white\"}, \"hoverlabel\": {\"align\": \"left\"}, \"hovermode\": \"closest\", \"mapbox\": {\"style\": \"light\"}, \"paper_bgcolor\": \"white\", \"plot_bgcolor\": \"#E5ECF6\", \"polar\": {\"angularaxis\": {\"gridcolor\": \"white\", \"linecolor\": \"white\", \"ticks\": \"\"}, \"bgcolor\": \"#E5ECF6\", \"radialaxis\": {\"gridcolor\": \"white\", \"linecolor\": \"white\", \"ticks\": \"\"}}, \"scene\": {\"xaxis\": {\"backgroundcolor\": \"#E5ECF6\", \"gridcolor\": \"white\", \"gridwidth\": 2, \"linecolor\": \"white\", \"showbackground\": true, \"ticks\": \"\", \"zerolinecolor\": \"white\"}, \"yaxis\": {\"backgroundcolor\": \"#E5ECF6\", \"gridcolor\": \"white\", \"gridwidth\": 2, \"linecolor\": \"white\", \"showbackground\": true, \"ticks\": \"\", \"zerolinecolor\": \"white\"}, \"zaxis\": {\"backgroundcolor\": \"#E5ECF6\", \"gridcolor\": \"white\", \"gridwidth\": 2, \"linecolor\": \"white\", \"showbackground\": true, \"ticks\": \"\", \"zerolinecolor\": \"white\"}}, \"shapedefaults\": {\"line\": {\"color\": \"#2a3f5f\"}}, \"ternary\": {\"aaxis\": {\"gridcolor\": \"white\", \"linecolor\": \"white\", \"ticks\": \"\"}, \"baxis\": {\"gridcolor\": \"white\", \"linecolor\": \"white\", \"ticks\": \"\"}, \"bgcolor\": \"#E5ECF6\", \"caxis\": {\"gridcolor\": \"white\", \"linecolor\": \"white\", \"ticks\": \"\"}}, \"title\": {\"x\": 0.05}, \"xaxis\": {\"automargin\": true, \"gridcolor\": \"white\", \"linecolor\": \"white\", \"ticks\": \"\", \"title\": {\"standoff\": 15}, \"zerolinecolor\": \"white\", \"zerolinewidth\": 2}, \"yaxis\": {\"automargin\": true, \"gridcolor\": \"white\", \"linecolor\": \"white\", \"ticks\": \"\", \"title\": {\"standoff\": 15}, \"zerolinecolor\": \"white\", \"zerolinewidth\": 2}}}, \"title\": {\"font\": {\"color\": \"#D9D9D9\"}, \"text\": \"Top words in review after removing stop words\"}, \"xaxis\": {\"gridcolor\": \"#434343\", \"linecolor\": \"black\", \"showgrid\": true, \"tickfont\": {\"color\": \"#C2C2C2\"}, \"title\": {\"font\": {\"color\": \"#D9D9D9\"}, \"text\": \"\"}, \"zerolinecolor\": \"#666570\"}, \"yaxis\": {\"gridcolor\": \"#434343\", \"linecolor\": \"black\", \"showgrid\": true, \"tickfont\": {\"color\": \"#C2C2C2\"}, \"title\": {\"font\": {\"color\": \"#D9D9D9\"}, \"text\": \"Count\"}, \"zerolinecolor\": \"#666570\"}},\n",
              "                        {\"showLink\": true, \"linkText\": \"Export to plot.ly\", \"plotlyServerURL\": \"https://plot.ly\", \"responsive\": true}\n",
              "                    ).then(function(){\n",
              "                            \n",
              "var gd = document.getElementById('f2f92109-7dc9-4484-925f-cb7193acefa0');\n",
              "var x = new MutationObserver(function (mutations, observer) {{\n",
              "        var display = window.getComputedStyle(gd).display;\n",
              "        if (!display || display === 'none') {{\n",
              "            console.log([gd, 'removed!']);\n",
              "            Plotly.purge(gd);\n",
              "            observer.disconnect();\n",
              "        }}\n",
              "}});\n",
              "\n",
              "// Listen for the removal of the full notebook cells\n",
              "var notebookContainer = gd.closest('#notebook-container');\n",
              "if (notebookContainer) {{\n",
              "    x.observe(notebookContainer, {childList: true});\n",
              "}}\n",
              "\n",
              "// Listen for the clearing of the current output cell\n",
              "var outputEl = gd.closest('.output');\n",
              "if (outputEl) {{\n",
              "    x.observe(outputEl, {childList: true});\n",
              "}}\n",
              "\n",
              "                        })\n",
              "                };\n",
              "                \n",
              "            </script>\n",
              "        </div>\n",
              "</body>\n",
              "</html>"
            ]
          },
          "metadata": {
            "tags": []
          }
        }
      ]
    },
    {
      "cell_type": "markdown",
      "metadata": {
        "id": "bs2yyZnwP_4o"
      },
      "source": [
        "Negative Reviews analysis:\n"
      ]
    },
    {
      "cell_type": "code",
      "metadata": {
        "id": "F7WK7pGH-0W4"
      },
      "source": [
        "from sklearn.feature_extraction.text import CountVectorizer\n",
        "def get_top_n_words(corpus, n=None):\n",
        "    vec = CountVectorizer(stop_words = 'english').fit(corpus)\n",
        "    bag_of_words = vec.transform(corpus)\n",
        "    sum_words = bag_of_words.sum(axis=0) \n",
        "    words_freq = [(word, sum_words[0, idx]) for word, idx in vec.vocabulary_.items()]\n",
        "    words_freq =sorted(words_freq, key = lambda x: x[1], reverse=True)\n",
        "    return words_freq[:n]\n",
        "common_words = get_top_n_words(negative_df['Body'], 20)"
      ],
      "execution_count": 48,
      "outputs": []
    },
    {
      "cell_type": "code",
      "metadata": {
        "id": "pYC7blRq-3dC",
        "outputId": "211e014a-113c-41b5-c773-4d60e3bbbb5e",
        "colab": {
          "base_uri": "https://localhost:8080/"
        }
      },
      "source": [
        "common_words"
      ],
      "execution_count": 49,
      "outputs": [
        {
          "output_type": "execute_result",
          "data": {
            "text/plain": [
              "[('app', 13834),\n",
              " ('order', 3968),\n",
              " ('walmart', 3568),\n",
              " ('items', 3180),\n",
              " ('time', 3138),\n",
              " ('just', 2747),\n",
              " ('store', 2738),\n",
              " ('use', 2530),\n",
              " ('update', 2497),\n",
              " ('grocery', 2282),\n",
              " ('amazon', 2152),\n",
              " ('don', 1851),\n",
              " ('new', 1838),\n",
              " ('check', 1767),\n",
              " ('like', 1686),\n",
              " ('item', 1675),\n",
              " ('fix', 1608),\n",
              " ('work', 1549),\n",
              " ('cart', 1421),\n",
              " ('used', 1352)]"
            ]
          },
          "metadata": {
            "tags": []
          },
          "execution_count": 49
        }
      ]
    },
    {
      "cell_type": "code",
      "metadata": {
        "id": "W9q4q_eeLyFc"
      },
      "source": [
        "dataframe_negative_polarity_unigrams = pd.DataFrame(common_words,columns=['Body','count'])"
      ],
      "execution_count": 52,
      "outputs": []
    },
    {
      "cell_type": "code",
      "metadata": {
        "id": "Wtt36B8qL81p",
        "outputId": "bd7b36da-a0c5-4d3c-e25d-2b2c5816715d",
        "colab": {
          "base_uri": "https://localhost:8080/",
          "height": 639
        }
      },
      "source": [
        "dataframe_negative_polarity_unigrams"
      ],
      "execution_count": 53,
      "outputs": [
        {
          "output_type": "execute_result",
          "data": {
            "text/html": [
              "<div>\n",
              "<style scoped>\n",
              "    .dataframe tbody tr th:only-of-type {\n",
              "        vertical-align: middle;\n",
              "    }\n",
              "\n",
              "    .dataframe tbody tr th {\n",
              "        vertical-align: top;\n",
              "    }\n",
              "\n",
              "    .dataframe thead th {\n",
              "        text-align: right;\n",
              "    }\n",
              "</style>\n",
              "<table border=\"1\" class=\"dataframe\">\n",
              "  <thead>\n",
              "    <tr style=\"text-align: right;\">\n",
              "      <th></th>\n",
              "      <th>Body</th>\n",
              "      <th>count</th>\n",
              "    </tr>\n",
              "  </thead>\n",
              "  <tbody>\n",
              "    <tr>\n",
              "      <th>0</th>\n",
              "      <td>app</td>\n",
              "      <td>13834</td>\n",
              "    </tr>\n",
              "    <tr>\n",
              "      <th>1</th>\n",
              "      <td>order</td>\n",
              "      <td>3968</td>\n",
              "    </tr>\n",
              "    <tr>\n",
              "      <th>2</th>\n",
              "      <td>walmart</td>\n",
              "      <td>3568</td>\n",
              "    </tr>\n",
              "    <tr>\n",
              "      <th>3</th>\n",
              "      <td>items</td>\n",
              "      <td>3180</td>\n",
              "    </tr>\n",
              "    <tr>\n",
              "      <th>4</th>\n",
              "      <td>time</td>\n",
              "      <td>3138</td>\n",
              "    </tr>\n",
              "    <tr>\n",
              "      <th>5</th>\n",
              "      <td>just</td>\n",
              "      <td>2747</td>\n",
              "    </tr>\n",
              "    <tr>\n",
              "      <th>6</th>\n",
              "      <td>store</td>\n",
              "      <td>2738</td>\n",
              "    </tr>\n",
              "    <tr>\n",
              "      <th>7</th>\n",
              "      <td>use</td>\n",
              "      <td>2530</td>\n",
              "    </tr>\n",
              "    <tr>\n",
              "      <th>8</th>\n",
              "      <td>update</td>\n",
              "      <td>2497</td>\n",
              "    </tr>\n",
              "    <tr>\n",
              "      <th>9</th>\n",
              "      <td>grocery</td>\n",
              "      <td>2282</td>\n",
              "    </tr>\n",
              "    <tr>\n",
              "      <th>10</th>\n",
              "      <td>amazon</td>\n",
              "      <td>2152</td>\n",
              "    </tr>\n",
              "    <tr>\n",
              "      <th>11</th>\n",
              "      <td>don</td>\n",
              "      <td>1851</td>\n",
              "    </tr>\n",
              "    <tr>\n",
              "      <th>12</th>\n",
              "      <td>new</td>\n",
              "      <td>1838</td>\n",
              "    </tr>\n",
              "    <tr>\n",
              "      <th>13</th>\n",
              "      <td>check</td>\n",
              "      <td>1767</td>\n",
              "    </tr>\n",
              "    <tr>\n",
              "      <th>14</th>\n",
              "      <td>like</td>\n",
              "      <td>1686</td>\n",
              "    </tr>\n",
              "    <tr>\n",
              "      <th>15</th>\n",
              "      <td>item</td>\n",
              "      <td>1675</td>\n",
              "    </tr>\n",
              "    <tr>\n",
              "      <th>16</th>\n",
              "      <td>fix</td>\n",
              "      <td>1608</td>\n",
              "    </tr>\n",
              "    <tr>\n",
              "      <th>17</th>\n",
              "      <td>work</td>\n",
              "      <td>1549</td>\n",
              "    </tr>\n",
              "    <tr>\n",
              "      <th>18</th>\n",
              "      <td>cart</td>\n",
              "      <td>1421</td>\n",
              "    </tr>\n",
              "    <tr>\n",
              "      <th>19</th>\n",
              "      <td>used</td>\n",
              "      <td>1352</td>\n",
              "    </tr>\n",
              "  </tbody>\n",
              "</table>\n",
              "</div>"
            ],
            "text/plain": [
              "       Body  count\n",
              "0       app  13834\n",
              "1     order   3968\n",
              "2   walmart   3568\n",
              "3     items   3180\n",
              "4      time   3138\n",
              "5      just   2747\n",
              "6     store   2738\n",
              "7       use   2530\n",
              "8    update   2497\n",
              "9   grocery   2282\n",
              "10   amazon   2152\n",
              "11      don   1851\n",
              "12      new   1838\n",
              "13    check   1767\n",
              "14     like   1686\n",
              "15     item   1675\n",
              "16      fix   1608\n",
              "17     work   1549\n",
              "18     cart   1421\n",
              "19     used   1352"
            ]
          },
          "metadata": {
            "tags": []
          },
          "execution_count": 53
        }
      ]
    },
    {
      "cell_type": "code",
      "metadata": {
        "id": "QW7oAsbgP6kS",
        "outputId": "05566947-e302-4da6-d66c-ee5188fce3f9",
        "colab": {
          "base_uri": "https://localhost:8080/",
          "height": 542
        }
      },
      "source": [
        "dataframe_negative_polarity_unigrams.groupby('Body').sum()['count'].sort_values(ascending=False).iplot(\n",
        "    kind='bar', yTitle='Count', linecolor='black', title='Top words in review after removing stop words')\n"
      ],
      "execution_count": 96,
      "outputs": [
        {
          "output_type": "display_data",
          "data": {
            "text/html": [
              "<html>\n",
              "<head><meta charset=\"utf-8\" /></head>\n",
              "<body>\n",
              "    <div>\n",
              "            <script src=\"https://cdnjs.cloudflare.com/ajax/libs/mathjax/2.7.5/MathJax.js?config=TeX-AMS-MML_SVG\"></script><script type=\"text/javascript\">if (window.MathJax) {MathJax.Hub.Config({SVG: {font: \"STIX-Web\"}});}</script>\n",
              "                <script type=\"text/javascript\">window.PlotlyConfig = {MathJaxConfig: 'local'};</script>\n",
              "        <script src=\"https://cdn.plot.ly/plotly-latest.min.js\"></script>    \n",
              "            <div id=\"e204a26b-0fbb-45fc-b015-5d88e7dd76d6\" class=\"plotly-graph-div\" style=\"height:525px; width:100%;\"></div>\n",
              "            <script type=\"text/javascript\">\n",
              "                \n",
              "                    window.PLOTLYENV=window.PLOTLYENV || {};\n",
              "                    window.PLOTLYENV.BASE_URL='https://plot.ly';\n",
              "                    \n",
              "                if (document.getElementById(\"e204a26b-0fbb-45fc-b015-5d88e7dd76d6\")) {\n",
              "                    Plotly.newPlot(\n",
              "                        'e204a26b-0fbb-45fc-b015-5d88e7dd76d6',\n",
              "                        [{\"marker\": {\"color\": \"rgba(255, 153, 51, 0.6)\", \"line\": {\"color\": \"rgba(255, 153, 51, 1.0)\", \"width\": 1}}, \"name\": \"count\", \"orientation\": \"v\", \"text\": \"\", \"type\": \"bar\", \"x\": [\"app\", \"order\", \"walmart\", \"items\", \"time\", \"just\", \"store\", \"use\", \"update\", \"grocery\", \"amazon\", \"don\", \"new\", \"check\", \"like\", \"item\", \"fix\", \"work\", \"cart\", \"used\"], \"y\": [13834, 3968, 3568, 3180, 3138, 2747, 2738, 2530, 2497, 2282, 2152, 1851, 1838, 1767, 1686, 1675, 1608, 1549, 1421, 1352]}],\n",
              "                        {\"legend\": {\"bgcolor\": \"#151516\", \"font\": {\"color\": \"#D9D9D9\"}}, \"paper_bgcolor\": \"#151516\", \"plot_bgcolor\": \"#151516\", \"template\": {\"data\": {\"bar\": [{\"error_x\": {\"color\": \"#2a3f5f\"}, \"error_y\": {\"color\": \"#2a3f5f\"}, \"marker\": {\"line\": {\"color\": \"#E5ECF6\", \"width\": 0.5}}, \"type\": \"bar\"}], \"barpolar\": [{\"marker\": {\"line\": {\"color\": \"#E5ECF6\", \"width\": 0.5}}, \"type\": \"barpolar\"}], \"carpet\": [{\"aaxis\": {\"endlinecolor\": \"#2a3f5f\", \"gridcolor\": \"white\", \"linecolor\": \"white\", \"minorgridcolor\": \"white\", \"startlinecolor\": \"#2a3f5f\"}, \"baxis\": {\"endlinecolor\": \"#2a3f5f\", \"gridcolor\": \"white\", \"linecolor\": \"white\", \"minorgridcolor\": \"white\", \"startlinecolor\": \"#2a3f5f\"}, \"type\": \"carpet\"}], \"choropleth\": [{\"colorbar\": {\"outlinewidth\": 0, \"ticks\": \"\"}, \"type\": \"choropleth\"}], \"contour\": [{\"colorbar\": {\"outlinewidth\": 0, \"ticks\": \"\"}, \"colorscale\": [[0.0, \"#0d0887\"], [0.1111111111111111, \"#46039f\"], [0.2222222222222222, \"#7201a8\"], [0.3333333333333333, \"#9c179e\"], [0.4444444444444444, \"#bd3786\"], [0.5555555555555556, \"#d8576b\"], [0.6666666666666666, \"#ed7953\"], [0.7777777777777778, \"#fb9f3a\"], [0.8888888888888888, \"#fdca26\"], [1.0, \"#f0f921\"]], \"type\": \"contour\"}], \"contourcarpet\": [{\"colorbar\": {\"outlinewidth\": 0, \"ticks\": \"\"}, \"type\": \"contourcarpet\"}], \"heatmap\": [{\"colorbar\": {\"outlinewidth\": 0, \"ticks\": \"\"}, \"colorscale\": [[0.0, \"#0d0887\"], [0.1111111111111111, \"#46039f\"], [0.2222222222222222, \"#7201a8\"], [0.3333333333333333, \"#9c179e\"], [0.4444444444444444, \"#bd3786\"], [0.5555555555555556, \"#d8576b\"], [0.6666666666666666, \"#ed7953\"], [0.7777777777777778, \"#fb9f3a\"], [0.8888888888888888, \"#fdca26\"], [1.0, \"#f0f921\"]], \"type\": \"heatmap\"}], \"heatmapgl\": [{\"colorbar\": {\"outlinewidth\": 0, \"ticks\": \"\"}, \"colorscale\": [[0.0, \"#0d0887\"], [0.1111111111111111, \"#46039f\"], [0.2222222222222222, \"#7201a8\"], [0.3333333333333333, \"#9c179e\"], [0.4444444444444444, \"#bd3786\"], [0.5555555555555556, \"#d8576b\"], [0.6666666666666666, \"#ed7953\"], [0.7777777777777778, \"#fb9f3a\"], [0.8888888888888888, \"#fdca26\"], [1.0, \"#f0f921\"]], \"type\": \"heatmapgl\"}], \"histogram\": [{\"marker\": {\"colorbar\": {\"outlinewidth\": 0, \"ticks\": \"\"}}, \"type\": \"histogram\"}], \"histogram2d\": [{\"colorbar\": {\"outlinewidth\": 0, \"ticks\": \"\"}, \"colorscale\": [[0.0, \"#0d0887\"], [0.1111111111111111, \"#46039f\"], [0.2222222222222222, \"#7201a8\"], [0.3333333333333333, \"#9c179e\"], [0.4444444444444444, \"#bd3786\"], [0.5555555555555556, \"#d8576b\"], [0.6666666666666666, \"#ed7953\"], [0.7777777777777778, \"#fb9f3a\"], [0.8888888888888888, \"#fdca26\"], [1.0, \"#f0f921\"]], \"type\": \"histogram2d\"}], \"histogram2dcontour\": [{\"colorbar\": {\"outlinewidth\": 0, \"ticks\": \"\"}, \"colorscale\": [[0.0, \"#0d0887\"], [0.1111111111111111, \"#46039f\"], [0.2222222222222222, \"#7201a8\"], [0.3333333333333333, \"#9c179e\"], [0.4444444444444444, \"#bd3786\"], [0.5555555555555556, \"#d8576b\"], [0.6666666666666666, \"#ed7953\"], [0.7777777777777778, \"#fb9f3a\"], [0.8888888888888888, \"#fdca26\"], [1.0, \"#f0f921\"]], \"type\": \"histogram2dcontour\"}], \"mesh3d\": [{\"colorbar\": {\"outlinewidth\": 0, \"ticks\": \"\"}, \"type\": \"mesh3d\"}], \"parcoords\": [{\"line\": {\"colorbar\": {\"outlinewidth\": 0, \"ticks\": \"\"}}, \"type\": \"parcoords\"}], \"pie\": [{\"automargin\": true, \"type\": \"pie\"}], \"scatter\": [{\"marker\": {\"colorbar\": {\"outlinewidth\": 0, \"ticks\": \"\"}}, \"type\": \"scatter\"}], \"scatter3d\": [{\"line\": {\"colorbar\": {\"outlinewidth\": 0, \"ticks\": \"\"}}, \"marker\": {\"colorbar\": {\"outlinewidth\": 0, \"ticks\": \"\"}}, \"type\": \"scatter3d\"}], \"scattercarpet\": [{\"marker\": {\"colorbar\": {\"outlinewidth\": 0, \"ticks\": \"\"}}, \"type\": \"scattercarpet\"}], \"scattergeo\": [{\"marker\": {\"colorbar\": {\"outlinewidth\": 0, \"ticks\": \"\"}}, \"type\": \"scattergeo\"}], \"scattergl\": [{\"marker\": {\"colorbar\": {\"outlinewidth\": 0, \"ticks\": \"\"}}, \"type\": \"scattergl\"}], \"scattermapbox\": [{\"marker\": {\"colorbar\": {\"outlinewidth\": 0, \"ticks\": \"\"}}, \"type\": \"scattermapbox\"}], \"scatterpolar\": [{\"marker\": {\"colorbar\": {\"outlinewidth\": 0, \"ticks\": \"\"}}, \"type\": \"scatterpolar\"}], \"scatterpolargl\": [{\"marker\": {\"colorbar\": {\"outlinewidth\": 0, \"ticks\": \"\"}}, \"type\": \"scatterpolargl\"}], \"scatterternary\": [{\"marker\": {\"colorbar\": {\"outlinewidth\": 0, \"ticks\": \"\"}}, \"type\": \"scatterternary\"}], \"surface\": [{\"colorbar\": {\"outlinewidth\": 0, \"ticks\": \"\"}, \"colorscale\": [[0.0, \"#0d0887\"], [0.1111111111111111, \"#46039f\"], [0.2222222222222222, \"#7201a8\"], [0.3333333333333333, \"#9c179e\"], [0.4444444444444444, \"#bd3786\"], [0.5555555555555556, \"#d8576b\"], [0.6666666666666666, \"#ed7953\"], [0.7777777777777778, \"#fb9f3a\"], [0.8888888888888888, \"#fdca26\"], [1.0, \"#f0f921\"]], \"type\": \"surface\"}], \"table\": [{\"cells\": {\"fill\": {\"color\": \"#EBF0F8\"}, \"line\": {\"color\": \"white\"}}, \"header\": {\"fill\": {\"color\": \"#C8D4E3\"}, \"line\": {\"color\": \"white\"}}, \"type\": \"table\"}]}, \"layout\": {\"annotationdefaults\": {\"arrowcolor\": \"#2a3f5f\", \"arrowhead\": 0, \"arrowwidth\": 1}, \"coloraxis\": {\"colorbar\": {\"outlinewidth\": 0, \"ticks\": \"\"}}, \"colorscale\": {\"diverging\": [[0, \"#8e0152\"], [0.1, \"#c51b7d\"], [0.2, \"#de77ae\"], [0.3, \"#f1b6da\"], [0.4, \"#fde0ef\"], [0.5, \"#f7f7f7\"], [0.6, \"#e6f5d0\"], [0.7, \"#b8e186\"], [0.8, \"#7fbc41\"], [0.9, \"#4d9221\"], [1, \"#276419\"]], \"sequential\": [[0.0, \"#0d0887\"], [0.1111111111111111, \"#46039f\"], [0.2222222222222222, \"#7201a8\"], [0.3333333333333333, \"#9c179e\"], [0.4444444444444444, \"#bd3786\"], [0.5555555555555556, \"#d8576b\"], [0.6666666666666666, \"#ed7953\"], [0.7777777777777778, \"#fb9f3a\"], [0.8888888888888888, \"#fdca26\"], [1.0, \"#f0f921\"]], \"sequentialminus\": [[0.0, \"#0d0887\"], [0.1111111111111111, \"#46039f\"], [0.2222222222222222, \"#7201a8\"], [0.3333333333333333, \"#9c179e\"], [0.4444444444444444, \"#bd3786\"], [0.5555555555555556, \"#d8576b\"], [0.6666666666666666, \"#ed7953\"], [0.7777777777777778, \"#fb9f3a\"], [0.8888888888888888, \"#fdca26\"], [1.0, \"#f0f921\"]]}, \"colorway\": [\"#636efa\", \"#EF553B\", \"#00cc96\", \"#ab63fa\", \"#FFA15A\", \"#19d3f3\", \"#FF6692\", \"#B6E880\", \"#FF97FF\", \"#FECB52\"], \"font\": {\"color\": \"#2a3f5f\"}, \"geo\": {\"bgcolor\": \"white\", \"lakecolor\": \"white\", \"landcolor\": \"#E5ECF6\", \"showlakes\": true, \"showland\": true, \"subunitcolor\": \"white\"}, \"hoverlabel\": {\"align\": \"left\"}, \"hovermode\": \"closest\", \"mapbox\": {\"style\": \"light\"}, \"paper_bgcolor\": \"white\", \"plot_bgcolor\": \"#E5ECF6\", \"polar\": {\"angularaxis\": {\"gridcolor\": \"white\", \"linecolor\": \"white\", \"ticks\": \"\"}, \"bgcolor\": \"#E5ECF6\", \"radialaxis\": {\"gridcolor\": \"white\", \"linecolor\": \"white\", \"ticks\": \"\"}}, \"scene\": {\"xaxis\": {\"backgroundcolor\": \"#E5ECF6\", \"gridcolor\": \"white\", \"gridwidth\": 2, \"linecolor\": \"white\", \"showbackground\": true, \"ticks\": \"\", \"zerolinecolor\": \"white\"}, \"yaxis\": {\"backgroundcolor\": \"#E5ECF6\", \"gridcolor\": \"white\", \"gridwidth\": 2, \"linecolor\": \"white\", \"showbackground\": true, \"ticks\": \"\", \"zerolinecolor\": \"white\"}, \"zaxis\": {\"backgroundcolor\": \"#E5ECF6\", \"gridcolor\": \"white\", \"gridwidth\": 2, \"linecolor\": \"white\", \"showbackground\": true, \"ticks\": \"\", \"zerolinecolor\": \"white\"}}, \"shapedefaults\": {\"line\": {\"color\": \"#2a3f5f\"}}, \"ternary\": {\"aaxis\": {\"gridcolor\": \"white\", \"linecolor\": \"white\", \"ticks\": \"\"}, \"baxis\": {\"gridcolor\": \"white\", \"linecolor\": \"white\", \"ticks\": \"\"}, \"bgcolor\": \"#E5ECF6\", \"caxis\": {\"gridcolor\": \"white\", \"linecolor\": \"white\", \"ticks\": \"\"}}, \"title\": {\"x\": 0.05}, \"xaxis\": {\"automargin\": true, \"gridcolor\": \"white\", \"linecolor\": \"white\", \"ticks\": \"\", \"title\": {\"standoff\": 15}, \"zerolinecolor\": \"white\", \"zerolinewidth\": 2}, \"yaxis\": {\"automargin\": true, \"gridcolor\": \"white\", \"linecolor\": \"white\", \"ticks\": \"\", \"title\": {\"standoff\": 15}, \"zerolinecolor\": \"white\", \"zerolinewidth\": 2}}}, \"title\": {\"font\": {\"color\": \"#D9D9D9\"}, \"text\": \"Top words in review after removing stop words\"}, \"xaxis\": {\"gridcolor\": \"#434343\", \"linecolor\": \"black\", \"showgrid\": true, \"tickfont\": {\"color\": \"#C2C2C2\"}, \"title\": {\"font\": {\"color\": \"#D9D9D9\"}, \"text\": \"\"}, \"zerolinecolor\": \"#666570\"}, \"yaxis\": {\"gridcolor\": \"#434343\", \"linecolor\": \"black\", \"showgrid\": true, \"tickfont\": {\"color\": \"#C2C2C2\"}, \"title\": {\"font\": {\"color\": \"#D9D9D9\"}, \"text\": \"Count\"}, \"zerolinecolor\": \"#666570\"}},\n",
              "                        {\"showLink\": true, \"linkText\": \"Export to plot.ly\", \"plotlyServerURL\": \"https://plot.ly\", \"responsive\": true}\n",
              "                    ).then(function(){\n",
              "                            \n",
              "var gd = document.getElementById('e204a26b-0fbb-45fc-b015-5d88e7dd76d6');\n",
              "var x = new MutationObserver(function (mutations, observer) {{\n",
              "        var display = window.getComputedStyle(gd).display;\n",
              "        if (!display || display === 'none') {{\n",
              "            console.log([gd, 'removed!']);\n",
              "            Plotly.purge(gd);\n",
              "            observer.disconnect();\n",
              "        }}\n",
              "}});\n",
              "\n",
              "// Listen for the removal of the full notebook cells\n",
              "var notebookContainer = gd.closest('#notebook-container');\n",
              "if (notebookContainer) {{\n",
              "    x.observe(notebookContainer, {childList: true});\n",
              "}}\n",
              "\n",
              "// Listen for the clearing of the current output cell\n",
              "var outputEl = gd.closest('.output');\n",
              "if (outputEl) {{\n",
              "    x.observe(outputEl, {childList: true});\n",
              "}}\n",
              "\n",
              "                        })\n",
              "                };\n",
              "                \n",
              "            </script>\n",
              "        </div>\n",
              "</body>\n",
              "</html>"
            ]
          },
          "metadata": {
            "tags": []
          }
        }
      ]
    },
    {
      "cell_type": "code",
      "metadata": {
        "id": "qrzJfwVQ-7Y7"
      },
      "source": [
        "from sklearn.feature_extraction.text import CountVectorizer\n",
        "def get_top_n_words(corpus, n=None):\n",
        "    vec = CountVectorizer(ngram_range=(2,2),stop_words = 'english').fit(corpus)\n",
        "    bag_of_words = vec.transform(corpus)\n",
        "    sum_words = bag_of_words.sum(axis=0) \n",
        "    words_freq = [(word, sum_words[0, idx]) for word, idx in vec.vocabulary_.items()]\n",
        "    words_freq =sorted(words_freq, key = lambda x: x[1], reverse=True)\n",
        "    return words_freq[:n]\n",
        "common_words = get_top_n_words(negative_df['Body'], 20)"
      ],
      "execution_count": 57,
      "outputs": []
    },
    {
      "cell_type": "code",
      "metadata": {
        "id": "Wl8H7c8h_EQz",
        "outputId": "c3a46d1b-e656-4214-9cf4-3d83ac9428a5",
        "colab": {
          "base_uri": "https://localhost:8080/"
        }
      },
      "source": [
        "common_words"
      ],
      "execution_count": 58,
      "outputs": [
        {
          "output_type": "execute_result",
          "data": {
            "text/plain": [
              "[('grocery app', 914),\n",
              " ('new app', 531),\n",
              " ('customer service', 512),\n",
              " ('walmart app', 493),\n",
              " ('use app', 480),\n",
              " ('doesn work', 450),\n",
              " ('walmart pay', 423),\n",
              " ('place order', 373),\n",
              " ('won let', 335),\n",
              " ('old app', 334),\n",
              " ('went wrong', 311),\n",
              " ('new update', 297),\n",
              " ('items cart', 280),\n",
              " ('try later', 261),\n",
              " ('grocery pickup', 252),\n",
              " ('update app', 250),\n",
              " ('latest update', 248),\n",
              " ('app just', 236),\n",
              " ('walmart grocery', 234),\n",
              " ('using app', 227)]"
            ]
          },
          "metadata": {
            "tags": []
          },
          "execution_count": 58
        }
      ]
    },
    {
      "cell_type": "code",
      "metadata": {
        "id": "51ouGwx1MMHM"
      },
      "source": [
        "dataframe_negative_polarity_bigrams = pd.DataFrame(common_words,columns=['Body','count'])"
      ],
      "execution_count": 59,
      "outputs": []
    },
    {
      "cell_type": "code",
      "metadata": {
        "id": "7Rxj-mSGMPtM",
        "outputId": "d4a10060-c3bd-46fa-ffba-50726b1bd6d7",
        "colab": {
          "base_uri": "https://localhost:8080/",
          "height": 639
        }
      },
      "source": [
        "dataframe_negative_polarity_bigrams"
      ],
      "execution_count": 60,
      "outputs": [
        {
          "output_type": "execute_result",
          "data": {
            "text/html": [
              "<div>\n",
              "<style scoped>\n",
              "    .dataframe tbody tr th:only-of-type {\n",
              "        vertical-align: middle;\n",
              "    }\n",
              "\n",
              "    .dataframe tbody tr th {\n",
              "        vertical-align: top;\n",
              "    }\n",
              "\n",
              "    .dataframe thead th {\n",
              "        text-align: right;\n",
              "    }\n",
              "</style>\n",
              "<table border=\"1\" class=\"dataframe\">\n",
              "  <thead>\n",
              "    <tr style=\"text-align: right;\">\n",
              "      <th></th>\n",
              "      <th>Body</th>\n",
              "      <th>count</th>\n",
              "    </tr>\n",
              "  </thead>\n",
              "  <tbody>\n",
              "    <tr>\n",
              "      <th>0</th>\n",
              "      <td>grocery app</td>\n",
              "      <td>914</td>\n",
              "    </tr>\n",
              "    <tr>\n",
              "      <th>1</th>\n",
              "      <td>new app</td>\n",
              "      <td>531</td>\n",
              "    </tr>\n",
              "    <tr>\n",
              "      <th>2</th>\n",
              "      <td>customer service</td>\n",
              "      <td>512</td>\n",
              "    </tr>\n",
              "    <tr>\n",
              "      <th>3</th>\n",
              "      <td>walmart app</td>\n",
              "      <td>493</td>\n",
              "    </tr>\n",
              "    <tr>\n",
              "      <th>4</th>\n",
              "      <td>use app</td>\n",
              "      <td>480</td>\n",
              "    </tr>\n",
              "    <tr>\n",
              "      <th>5</th>\n",
              "      <td>doesn work</td>\n",
              "      <td>450</td>\n",
              "    </tr>\n",
              "    <tr>\n",
              "      <th>6</th>\n",
              "      <td>walmart pay</td>\n",
              "      <td>423</td>\n",
              "    </tr>\n",
              "    <tr>\n",
              "      <th>7</th>\n",
              "      <td>place order</td>\n",
              "      <td>373</td>\n",
              "    </tr>\n",
              "    <tr>\n",
              "      <th>8</th>\n",
              "      <td>won let</td>\n",
              "      <td>335</td>\n",
              "    </tr>\n",
              "    <tr>\n",
              "      <th>9</th>\n",
              "      <td>old app</td>\n",
              "      <td>334</td>\n",
              "    </tr>\n",
              "    <tr>\n",
              "      <th>10</th>\n",
              "      <td>went wrong</td>\n",
              "      <td>311</td>\n",
              "    </tr>\n",
              "    <tr>\n",
              "      <th>11</th>\n",
              "      <td>new update</td>\n",
              "      <td>297</td>\n",
              "    </tr>\n",
              "    <tr>\n",
              "      <th>12</th>\n",
              "      <td>items cart</td>\n",
              "      <td>280</td>\n",
              "    </tr>\n",
              "    <tr>\n",
              "      <th>13</th>\n",
              "      <td>try later</td>\n",
              "      <td>261</td>\n",
              "    </tr>\n",
              "    <tr>\n",
              "      <th>14</th>\n",
              "      <td>grocery pickup</td>\n",
              "      <td>252</td>\n",
              "    </tr>\n",
              "    <tr>\n",
              "      <th>15</th>\n",
              "      <td>update app</td>\n",
              "      <td>250</td>\n",
              "    </tr>\n",
              "    <tr>\n",
              "      <th>16</th>\n",
              "      <td>latest update</td>\n",
              "      <td>248</td>\n",
              "    </tr>\n",
              "    <tr>\n",
              "      <th>17</th>\n",
              "      <td>app just</td>\n",
              "      <td>236</td>\n",
              "    </tr>\n",
              "    <tr>\n",
              "      <th>18</th>\n",
              "      <td>walmart grocery</td>\n",
              "      <td>234</td>\n",
              "    </tr>\n",
              "    <tr>\n",
              "      <th>19</th>\n",
              "      <td>using app</td>\n",
              "      <td>227</td>\n",
              "    </tr>\n",
              "  </tbody>\n",
              "</table>\n",
              "</div>"
            ],
            "text/plain": [
              "                Body  count\n",
              "0        grocery app    914\n",
              "1            new app    531\n",
              "2   customer service    512\n",
              "3        walmart app    493\n",
              "4            use app    480\n",
              "5         doesn work    450\n",
              "6        walmart pay    423\n",
              "7        place order    373\n",
              "8            won let    335\n",
              "9            old app    334\n",
              "10        went wrong    311\n",
              "11        new update    297\n",
              "12        items cart    280\n",
              "13         try later    261\n",
              "14    grocery pickup    252\n",
              "15        update app    250\n",
              "16     latest update    248\n",
              "17          app just    236\n",
              "18   walmart grocery    234\n",
              "19         using app    227"
            ]
          },
          "metadata": {
            "tags": []
          },
          "execution_count": 60
        }
      ]
    },
    {
      "cell_type": "code",
      "metadata": {
        "id": "uvyEqO05P0vS",
        "outputId": "461d04e3-f576-4d0f-9b86-3d81051a612f",
        "colab": {
          "base_uri": "https://localhost:8080/",
          "height": 542
        }
      },
      "source": [
        "dataframe_negative_polarity_bigrams.groupby('Body').sum()['count'].sort_values(ascending=False).iplot(\n",
        "    kind='bar', yTitle='Count', linecolor='black', title='Top words in review after removing stop words')\n"
      ],
      "execution_count": 97,
      "outputs": [
        {
          "output_type": "display_data",
          "data": {
            "text/html": [
              "<html>\n",
              "<head><meta charset=\"utf-8\" /></head>\n",
              "<body>\n",
              "    <div>\n",
              "            <script src=\"https://cdnjs.cloudflare.com/ajax/libs/mathjax/2.7.5/MathJax.js?config=TeX-AMS-MML_SVG\"></script><script type=\"text/javascript\">if (window.MathJax) {MathJax.Hub.Config({SVG: {font: \"STIX-Web\"}});}</script>\n",
              "                <script type=\"text/javascript\">window.PlotlyConfig = {MathJaxConfig: 'local'};</script>\n",
              "        <script src=\"https://cdn.plot.ly/plotly-latest.min.js\"></script>    \n",
              "            <div id=\"36b2e85e-c45a-4a71-8ecc-b7e65fe153bf\" class=\"plotly-graph-div\" style=\"height:525px; width:100%;\"></div>\n",
              "            <script type=\"text/javascript\">\n",
              "                \n",
              "                    window.PLOTLYENV=window.PLOTLYENV || {};\n",
              "                    window.PLOTLYENV.BASE_URL='https://plot.ly';\n",
              "                    \n",
              "                if (document.getElementById(\"36b2e85e-c45a-4a71-8ecc-b7e65fe153bf\")) {\n",
              "                    Plotly.newPlot(\n",
              "                        '36b2e85e-c45a-4a71-8ecc-b7e65fe153bf',\n",
              "                        [{\"marker\": {\"color\": \"rgba(255, 153, 51, 0.6)\", \"line\": {\"color\": \"rgba(255, 153, 51, 1.0)\", \"width\": 1}}, \"name\": \"count\", \"orientation\": \"v\", \"text\": \"\", \"type\": \"bar\", \"x\": [\"grocery app\", \"new app\", \"customer service\", \"walmart app\", \"use app\", \"doesn work\", \"walmart pay\", \"place order\", \"won let\", \"old app\", \"went wrong\", \"new update\", \"items cart\", \"try later\", \"grocery pickup\", \"update app\", \"latest update\", \"app just\", \"walmart grocery\", \"using app\"], \"y\": [914, 531, 512, 493, 480, 450, 423, 373, 335, 334, 311, 297, 280, 261, 252, 250, 248, 236, 234, 227]}],\n",
              "                        {\"legend\": {\"bgcolor\": \"#151516\", \"font\": {\"color\": \"#D9D9D9\"}}, \"paper_bgcolor\": \"#151516\", \"plot_bgcolor\": \"#151516\", \"template\": {\"data\": {\"bar\": [{\"error_x\": {\"color\": \"#2a3f5f\"}, \"error_y\": {\"color\": \"#2a3f5f\"}, \"marker\": {\"line\": {\"color\": \"#E5ECF6\", \"width\": 0.5}}, \"type\": \"bar\"}], \"barpolar\": [{\"marker\": {\"line\": {\"color\": \"#E5ECF6\", \"width\": 0.5}}, \"type\": \"barpolar\"}], \"carpet\": [{\"aaxis\": {\"endlinecolor\": \"#2a3f5f\", \"gridcolor\": \"white\", \"linecolor\": \"white\", \"minorgridcolor\": \"white\", \"startlinecolor\": \"#2a3f5f\"}, \"baxis\": {\"endlinecolor\": \"#2a3f5f\", \"gridcolor\": \"white\", \"linecolor\": \"white\", \"minorgridcolor\": \"white\", \"startlinecolor\": \"#2a3f5f\"}, \"type\": \"carpet\"}], \"choropleth\": [{\"colorbar\": {\"outlinewidth\": 0, \"ticks\": \"\"}, \"type\": \"choropleth\"}], \"contour\": [{\"colorbar\": {\"outlinewidth\": 0, \"ticks\": \"\"}, \"colorscale\": [[0.0, \"#0d0887\"], [0.1111111111111111, \"#46039f\"], [0.2222222222222222, \"#7201a8\"], [0.3333333333333333, \"#9c179e\"], [0.4444444444444444, \"#bd3786\"], [0.5555555555555556, \"#d8576b\"], [0.6666666666666666, \"#ed7953\"], [0.7777777777777778, \"#fb9f3a\"], [0.8888888888888888, \"#fdca26\"], [1.0, \"#f0f921\"]], \"type\": \"contour\"}], \"contourcarpet\": [{\"colorbar\": {\"outlinewidth\": 0, \"ticks\": \"\"}, \"type\": \"contourcarpet\"}], \"heatmap\": [{\"colorbar\": {\"outlinewidth\": 0, \"ticks\": \"\"}, \"colorscale\": [[0.0, \"#0d0887\"], [0.1111111111111111, \"#46039f\"], [0.2222222222222222, \"#7201a8\"], [0.3333333333333333, \"#9c179e\"], [0.4444444444444444, \"#bd3786\"], [0.5555555555555556, \"#d8576b\"], [0.6666666666666666, \"#ed7953\"], [0.7777777777777778, \"#fb9f3a\"], [0.8888888888888888, \"#fdca26\"], [1.0, \"#f0f921\"]], \"type\": \"heatmap\"}], \"heatmapgl\": [{\"colorbar\": {\"outlinewidth\": 0, \"ticks\": \"\"}, \"colorscale\": [[0.0, \"#0d0887\"], [0.1111111111111111, \"#46039f\"], [0.2222222222222222, \"#7201a8\"], [0.3333333333333333, \"#9c179e\"], [0.4444444444444444, \"#bd3786\"], [0.5555555555555556, \"#d8576b\"], [0.6666666666666666, \"#ed7953\"], [0.7777777777777778, \"#fb9f3a\"], [0.8888888888888888, \"#fdca26\"], [1.0, \"#f0f921\"]], \"type\": \"heatmapgl\"}], \"histogram\": [{\"marker\": {\"colorbar\": {\"outlinewidth\": 0, \"ticks\": \"\"}}, \"type\": \"histogram\"}], \"histogram2d\": [{\"colorbar\": {\"outlinewidth\": 0, \"ticks\": \"\"}, \"colorscale\": [[0.0, \"#0d0887\"], [0.1111111111111111, \"#46039f\"], [0.2222222222222222, \"#7201a8\"], [0.3333333333333333, \"#9c179e\"], [0.4444444444444444, \"#bd3786\"], [0.5555555555555556, \"#d8576b\"], [0.6666666666666666, \"#ed7953\"], [0.7777777777777778, \"#fb9f3a\"], [0.8888888888888888, \"#fdca26\"], [1.0, \"#f0f921\"]], \"type\": \"histogram2d\"}], \"histogram2dcontour\": [{\"colorbar\": {\"outlinewidth\": 0, \"ticks\": \"\"}, \"colorscale\": [[0.0, \"#0d0887\"], [0.1111111111111111, \"#46039f\"], [0.2222222222222222, \"#7201a8\"], [0.3333333333333333, \"#9c179e\"], [0.4444444444444444, \"#bd3786\"], [0.5555555555555556, \"#d8576b\"], [0.6666666666666666, \"#ed7953\"], [0.7777777777777778, \"#fb9f3a\"], [0.8888888888888888, \"#fdca26\"], [1.0, \"#f0f921\"]], \"type\": \"histogram2dcontour\"}], \"mesh3d\": [{\"colorbar\": {\"outlinewidth\": 0, \"ticks\": \"\"}, \"type\": \"mesh3d\"}], \"parcoords\": [{\"line\": {\"colorbar\": {\"outlinewidth\": 0, \"ticks\": \"\"}}, \"type\": \"parcoords\"}], \"pie\": [{\"automargin\": true, \"type\": \"pie\"}], \"scatter\": [{\"marker\": {\"colorbar\": {\"outlinewidth\": 0, \"ticks\": \"\"}}, \"type\": \"scatter\"}], \"scatter3d\": [{\"line\": {\"colorbar\": {\"outlinewidth\": 0, \"ticks\": \"\"}}, \"marker\": {\"colorbar\": {\"outlinewidth\": 0, \"ticks\": \"\"}}, \"type\": \"scatter3d\"}], \"scattercarpet\": [{\"marker\": {\"colorbar\": {\"outlinewidth\": 0, \"ticks\": \"\"}}, \"type\": \"scattercarpet\"}], \"scattergeo\": [{\"marker\": {\"colorbar\": {\"outlinewidth\": 0, \"ticks\": \"\"}}, \"type\": \"scattergeo\"}], \"scattergl\": [{\"marker\": {\"colorbar\": {\"outlinewidth\": 0, \"ticks\": \"\"}}, \"type\": \"scattergl\"}], \"scattermapbox\": [{\"marker\": {\"colorbar\": {\"outlinewidth\": 0, \"ticks\": \"\"}}, \"type\": \"scattermapbox\"}], \"scatterpolar\": [{\"marker\": {\"colorbar\": {\"outlinewidth\": 0, \"ticks\": \"\"}}, \"type\": \"scatterpolar\"}], \"scatterpolargl\": [{\"marker\": {\"colorbar\": {\"outlinewidth\": 0, \"ticks\": \"\"}}, \"type\": \"scatterpolargl\"}], \"scatterternary\": [{\"marker\": {\"colorbar\": {\"outlinewidth\": 0, \"ticks\": \"\"}}, \"type\": \"scatterternary\"}], \"surface\": [{\"colorbar\": {\"outlinewidth\": 0, \"ticks\": \"\"}, \"colorscale\": [[0.0, \"#0d0887\"], [0.1111111111111111, \"#46039f\"], [0.2222222222222222, \"#7201a8\"], [0.3333333333333333, \"#9c179e\"], [0.4444444444444444, \"#bd3786\"], [0.5555555555555556, \"#d8576b\"], [0.6666666666666666, \"#ed7953\"], [0.7777777777777778, \"#fb9f3a\"], [0.8888888888888888, \"#fdca26\"], [1.0, \"#f0f921\"]], \"type\": \"surface\"}], \"table\": [{\"cells\": {\"fill\": {\"color\": \"#EBF0F8\"}, \"line\": {\"color\": \"white\"}}, \"header\": {\"fill\": {\"color\": \"#C8D4E3\"}, \"line\": {\"color\": \"white\"}}, \"type\": \"table\"}]}, \"layout\": {\"annotationdefaults\": {\"arrowcolor\": \"#2a3f5f\", \"arrowhead\": 0, \"arrowwidth\": 1}, \"coloraxis\": {\"colorbar\": {\"outlinewidth\": 0, \"ticks\": \"\"}}, \"colorscale\": {\"diverging\": [[0, \"#8e0152\"], [0.1, \"#c51b7d\"], [0.2, \"#de77ae\"], [0.3, \"#f1b6da\"], [0.4, \"#fde0ef\"], [0.5, \"#f7f7f7\"], [0.6, \"#e6f5d0\"], [0.7, \"#b8e186\"], [0.8, \"#7fbc41\"], [0.9, \"#4d9221\"], [1, \"#276419\"]], \"sequential\": [[0.0, \"#0d0887\"], [0.1111111111111111, \"#46039f\"], [0.2222222222222222, \"#7201a8\"], [0.3333333333333333, \"#9c179e\"], [0.4444444444444444, \"#bd3786\"], [0.5555555555555556, \"#d8576b\"], [0.6666666666666666, \"#ed7953\"], [0.7777777777777778, \"#fb9f3a\"], [0.8888888888888888, \"#fdca26\"], [1.0, \"#f0f921\"]], \"sequentialminus\": [[0.0, \"#0d0887\"], [0.1111111111111111, \"#46039f\"], [0.2222222222222222, \"#7201a8\"], [0.3333333333333333, \"#9c179e\"], [0.4444444444444444, \"#bd3786\"], [0.5555555555555556, \"#d8576b\"], [0.6666666666666666, \"#ed7953\"], [0.7777777777777778, \"#fb9f3a\"], [0.8888888888888888, \"#fdca26\"], [1.0, \"#f0f921\"]]}, \"colorway\": [\"#636efa\", \"#EF553B\", \"#00cc96\", \"#ab63fa\", \"#FFA15A\", \"#19d3f3\", \"#FF6692\", \"#B6E880\", \"#FF97FF\", \"#FECB52\"], \"font\": {\"color\": \"#2a3f5f\"}, \"geo\": {\"bgcolor\": \"white\", \"lakecolor\": \"white\", \"landcolor\": \"#E5ECF6\", \"showlakes\": true, \"showland\": true, \"subunitcolor\": \"white\"}, \"hoverlabel\": {\"align\": \"left\"}, \"hovermode\": \"closest\", \"mapbox\": {\"style\": \"light\"}, \"paper_bgcolor\": \"white\", \"plot_bgcolor\": \"#E5ECF6\", \"polar\": {\"angularaxis\": {\"gridcolor\": \"white\", \"linecolor\": \"white\", \"ticks\": \"\"}, \"bgcolor\": \"#E5ECF6\", \"radialaxis\": {\"gridcolor\": \"white\", \"linecolor\": \"white\", \"ticks\": \"\"}}, \"scene\": {\"xaxis\": {\"backgroundcolor\": \"#E5ECF6\", \"gridcolor\": \"white\", \"gridwidth\": 2, \"linecolor\": \"white\", \"showbackground\": true, \"ticks\": \"\", \"zerolinecolor\": \"white\"}, \"yaxis\": {\"backgroundcolor\": \"#E5ECF6\", \"gridcolor\": \"white\", \"gridwidth\": 2, \"linecolor\": \"white\", \"showbackground\": true, \"ticks\": \"\", \"zerolinecolor\": \"white\"}, \"zaxis\": {\"backgroundcolor\": \"#E5ECF6\", \"gridcolor\": \"white\", \"gridwidth\": 2, \"linecolor\": \"white\", \"showbackground\": true, \"ticks\": \"\", \"zerolinecolor\": \"white\"}}, \"shapedefaults\": {\"line\": {\"color\": \"#2a3f5f\"}}, \"ternary\": {\"aaxis\": {\"gridcolor\": \"white\", \"linecolor\": \"white\", \"ticks\": \"\"}, \"baxis\": {\"gridcolor\": \"white\", \"linecolor\": \"white\", \"ticks\": \"\"}, \"bgcolor\": \"#E5ECF6\", \"caxis\": {\"gridcolor\": \"white\", \"linecolor\": \"white\", \"ticks\": \"\"}}, \"title\": {\"x\": 0.05}, \"xaxis\": {\"automargin\": true, \"gridcolor\": \"white\", \"linecolor\": \"white\", \"ticks\": \"\", \"title\": {\"standoff\": 15}, \"zerolinecolor\": \"white\", \"zerolinewidth\": 2}, \"yaxis\": {\"automargin\": true, \"gridcolor\": \"white\", \"linecolor\": \"white\", \"ticks\": \"\", \"title\": {\"standoff\": 15}, \"zerolinecolor\": \"white\", \"zerolinewidth\": 2}}}, \"title\": {\"font\": {\"color\": \"#D9D9D9\"}, \"text\": \"Top words in review after removing stop words\"}, \"xaxis\": {\"gridcolor\": \"#434343\", \"linecolor\": \"black\", \"showgrid\": true, \"tickfont\": {\"color\": \"#C2C2C2\"}, \"title\": {\"font\": {\"color\": \"#D9D9D9\"}, \"text\": \"\"}, \"zerolinecolor\": \"#666570\"}, \"yaxis\": {\"gridcolor\": \"#434343\", \"linecolor\": \"black\", \"showgrid\": true, \"tickfont\": {\"color\": \"#C2C2C2\"}, \"title\": {\"font\": {\"color\": \"#D9D9D9\"}, \"text\": \"Count\"}, \"zerolinecolor\": \"#666570\"}},\n",
              "                        {\"showLink\": true, \"linkText\": \"Export to plot.ly\", \"plotlyServerURL\": \"https://plot.ly\", \"responsive\": true}\n",
              "                    ).then(function(){\n",
              "                            \n",
              "var gd = document.getElementById('36b2e85e-c45a-4a71-8ecc-b7e65fe153bf');\n",
              "var x = new MutationObserver(function (mutations, observer) {{\n",
              "        var display = window.getComputedStyle(gd).display;\n",
              "        if (!display || display === 'none') {{\n",
              "            console.log([gd, 'removed!']);\n",
              "            Plotly.purge(gd);\n",
              "            observer.disconnect();\n",
              "        }}\n",
              "}});\n",
              "\n",
              "// Listen for the removal of the full notebook cells\n",
              "var notebookContainer = gd.closest('#notebook-container');\n",
              "if (notebookContainer) {{\n",
              "    x.observe(notebookContainer, {childList: true});\n",
              "}}\n",
              "\n",
              "// Listen for the clearing of the current output cell\n",
              "var outputEl = gd.closest('.output');\n",
              "if (outputEl) {{\n",
              "    x.observe(outputEl, {childList: true});\n",
              "}}\n",
              "\n",
              "                        })\n",
              "                };\n",
              "                \n",
              "            </script>\n",
              "        </div>\n",
              "</body>\n",
              "</html>"
            ]
          },
          "metadata": {
            "tags": []
          }
        }
      ]
    },
    {
      "cell_type": "code",
      "metadata": {
        "id": "LV_j3MgL_JqP"
      },
      "source": [
        "from sklearn.feature_extraction.text import CountVectorizer\n",
        "def get_top_n_words(corpus, n=None):\n",
        "    vec = CountVectorizer(ngram_range=(3,3),stop_words = 'english').fit(corpus)\n",
        "    bag_of_words = vec.transform(corpus)\n",
        "    sum_words = bag_of_words.sum(axis=0) \n",
        "    words_freq = [(word, sum_words[0, idx]) for word, idx in vec.vocabulary_.items()]\n",
        "    words_freq =sorted(words_freq, key = lambda x: x[1], reverse=True)\n",
        "    return words_freq[:n]\n",
        "common_words = get_top_n_words(negative_df['Body'], 20)"
      ],
      "execution_count": 61,
      "outputs": []
    },
    {
      "cell_type": "code",
      "metadata": {
        "id": "LKKVFFw5UzJ2",
        "outputId": "7d19a3a9-1c35-4b41-ff53-4241bed5c34b",
        "colab": {
          "base_uri": "https://localhost:8080/"
        }
      },
      "source": [
        "common_words"
      ],
      "execution_count": 62,
      "outputs": [
        {
          "output_type": "execute_result",
          "data": {
            "text/plain": [
              "[('went wrong try', 148),\n",
              " ('walmart grocery app', 135),\n",
              " ('wrong try later', 122),\n",
              " ('old grocery app', 80),\n",
              " ('app doesn work', 77),\n",
              " ('use walmart pay', 75),\n",
              " ('says went wrong', 72),\n",
              " ('app keeps crashing', 68),\n",
              " ('add items cart', 61),\n",
              " ('app won open', 61),\n",
              " ('app won let', 50),\n",
              " ('won let check', 50),\n",
              " ('grocery app worked', 48),\n",
              " ('app does work', 48),\n",
              " ('trying place order', 47),\n",
              " ('app used work', 44),\n",
              " ('grocery app combined', 43),\n",
              " ('used love app', 41),\n",
              " ('time try check', 40),\n",
              " ('use ebt card', 38)]"
            ]
          },
          "metadata": {
            "tags": []
          },
          "execution_count": 62
        }
      ]
    },
    {
      "cell_type": "code",
      "metadata": {
        "id": "qV6jH9ncUzpC"
      },
      "source": [
        "dataframe_negative_polarity_trigrams = pd.DataFrame(common_words,columns=['Body','count'])"
      ],
      "execution_count": 63,
      "outputs": []
    },
    {
      "cell_type": "code",
      "metadata": {
        "id": "NZyPiIpVMjhC",
        "outputId": "ff0cadbe-9512-46bb-eabc-bf04469ee50f",
        "colab": {
          "base_uri": "https://localhost:8080/",
          "height": 639
        }
      },
      "source": [
        "dataframe_negative_polarity_trigrams"
      ],
      "execution_count": 73,
      "outputs": [
        {
          "output_type": "execute_result",
          "data": {
            "text/html": [
              "<div>\n",
              "<style scoped>\n",
              "    .dataframe tbody tr th:only-of-type {\n",
              "        vertical-align: middle;\n",
              "    }\n",
              "\n",
              "    .dataframe tbody tr th {\n",
              "        vertical-align: top;\n",
              "    }\n",
              "\n",
              "    .dataframe thead th {\n",
              "        text-align: right;\n",
              "    }\n",
              "</style>\n",
              "<table border=\"1\" class=\"dataframe\">\n",
              "  <thead>\n",
              "    <tr style=\"text-align: right;\">\n",
              "      <th></th>\n",
              "      <th>Body</th>\n",
              "      <th>count</th>\n",
              "    </tr>\n",
              "  </thead>\n",
              "  <tbody>\n",
              "    <tr>\n",
              "      <th>0</th>\n",
              "      <td>went wrong try</td>\n",
              "      <td>148</td>\n",
              "    </tr>\n",
              "    <tr>\n",
              "      <th>1</th>\n",
              "      <td>walmart grocery app</td>\n",
              "      <td>135</td>\n",
              "    </tr>\n",
              "    <tr>\n",
              "      <th>2</th>\n",
              "      <td>wrong try later</td>\n",
              "      <td>122</td>\n",
              "    </tr>\n",
              "    <tr>\n",
              "      <th>3</th>\n",
              "      <td>old grocery app</td>\n",
              "      <td>80</td>\n",
              "    </tr>\n",
              "    <tr>\n",
              "      <th>4</th>\n",
              "      <td>app doesn work</td>\n",
              "      <td>77</td>\n",
              "    </tr>\n",
              "    <tr>\n",
              "      <th>5</th>\n",
              "      <td>use walmart pay</td>\n",
              "      <td>75</td>\n",
              "    </tr>\n",
              "    <tr>\n",
              "      <th>6</th>\n",
              "      <td>says went wrong</td>\n",
              "      <td>72</td>\n",
              "    </tr>\n",
              "    <tr>\n",
              "      <th>7</th>\n",
              "      <td>app keeps crashing</td>\n",
              "      <td>68</td>\n",
              "    </tr>\n",
              "    <tr>\n",
              "      <th>8</th>\n",
              "      <td>add items cart</td>\n",
              "      <td>61</td>\n",
              "    </tr>\n",
              "    <tr>\n",
              "      <th>9</th>\n",
              "      <td>app won open</td>\n",
              "      <td>61</td>\n",
              "    </tr>\n",
              "    <tr>\n",
              "      <th>10</th>\n",
              "      <td>app won let</td>\n",
              "      <td>50</td>\n",
              "    </tr>\n",
              "    <tr>\n",
              "      <th>11</th>\n",
              "      <td>won let check</td>\n",
              "      <td>50</td>\n",
              "    </tr>\n",
              "    <tr>\n",
              "      <th>12</th>\n",
              "      <td>grocery app worked</td>\n",
              "      <td>48</td>\n",
              "    </tr>\n",
              "    <tr>\n",
              "      <th>13</th>\n",
              "      <td>app does work</td>\n",
              "      <td>48</td>\n",
              "    </tr>\n",
              "    <tr>\n",
              "      <th>14</th>\n",
              "      <td>trying place order</td>\n",
              "      <td>47</td>\n",
              "    </tr>\n",
              "    <tr>\n",
              "      <th>15</th>\n",
              "      <td>app used work</td>\n",
              "      <td>44</td>\n",
              "    </tr>\n",
              "    <tr>\n",
              "      <th>16</th>\n",
              "      <td>grocery app combined</td>\n",
              "      <td>43</td>\n",
              "    </tr>\n",
              "    <tr>\n",
              "      <th>17</th>\n",
              "      <td>used love app</td>\n",
              "      <td>41</td>\n",
              "    </tr>\n",
              "    <tr>\n",
              "      <th>18</th>\n",
              "      <td>time try check</td>\n",
              "      <td>40</td>\n",
              "    </tr>\n",
              "    <tr>\n",
              "      <th>19</th>\n",
              "      <td>use ebt card</td>\n",
              "      <td>38</td>\n",
              "    </tr>\n",
              "  </tbody>\n",
              "</table>\n",
              "</div>"
            ],
            "text/plain": [
              "                    Body  count\n",
              "0         went wrong try    148\n",
              "1    walmart grocery app    135\n",
              "2        wrong try later    122\n",
              "3        old grocery app     80\n",
              "4         app doesn work     77\n",
              "5        use walmart pay     75\n",
              "6        says went wrong     72\n",
              "7     app keeps crashing     68\n",
              "8         add items cart     61\n",
              "9           app won open     61\n",
              "10           app won let     50\n",
              "11         won let check     50\n",
              "12    grocery app worked     48\n",
              "13         app does work     48\n",
              "14    trying place order     47\n",
              "15         app used work     44\n",
              "16  grocery app combined     43\n",
              "17         used love app     41\n",
              "18        time try check     40\n",
              "19          use ebt card     38"
            ]
          },
          "metadata": {
            "tags": []
          },
          "execution_count": 73
        }
      ]
    },
    {
      "cell_type": "code",
      "metadata": {
        "id": "wSbhBdiYOxlu",
        "outputId": "d39a7d17-d3ae-427d-df58-4230efdc67db",
        "colab": {
          "base_uri": "https://localhost:8080/",
          "height": 542
        }
      },
      "source": [
        "dataframe_negative_polarity_trigrams.groupby('Body').sum()['count'].sort_values(ascending=False).iplot(\n",
        "    kind='bar', yTitle='Count', linecolor='black', title='Top words in review after removing stop words')\n"
      ],
      "execution_count": 98,
      "outputs": [
        {
          "output_type": "display_data",
          "data": {
            "text/html": [
              "<html>\n",
              "<head><meta charset=\"utf-8\" /></head>\n",
              "<body>\n",
              "    <div>\n",
              "            <script src=\"https://cdnjs.cloudflare.com/ajax/libs/mathjax/2.7.5/MathJax.js?config=TeX-AMS-MML_SVG\"></script><script type=\"text/javascript\">if (window.MathJax) {MathJax.Hub.Config({SVG: {font: \"STIX-Web\"}});}</script>\n",
              "                <script type=\"text/javascript\">window.PlotlyConfig = {MathJaxConfig: 'local'};</script>\n",
              "        <script src=\"https://cdn.plot.ly/plotly-latest.min.js\"></script>    \n",
              "            <div id=\"60697097-0210-4125-8ad0-c0b50d261644\" class=\"plotly-graph-div\" style=\"height:525px; width:100%;\"></div>\n",
              "            <script type=\"text/javascript\">\n",
              "                \n",
              "                    window.PLOTLYENV=window.PLOTLYENV || {};\n",
              "                    window.PLOTLYENV.BASE_URL='https://plot.ly';\n",
              "                    \n",
              "                if (document.getElementById(\"60697097-0210-4125-8ad0-c0b50d261644\")) {\n",
              "                    Plotly.newPlot(\n",
              "                        '60697097-0210-4125-8ad0-c0b50d261644',\n",
              "                        [{\"marker\": {\"color\": \"rgba(255, 153, 51, 0.6)\", \"line\": {\"color\": \"rgba(255, 153, 51, 1.0)\", \"width\": 1}}, \"name\": \"count\", \"orientation\": \"v\", \"text\": \"\", \"type\": \"bar\", \"x\": [\"went wrong try\", \"walmart grocery app\", \"wrong try later\", \"old grocery app\", \"app doesn work\", \"use walmart pay\", \"says went wrong\", \"app keeps crashing\", \"app won open\", \"add items cart\", \"won let check\", \"app won let\", \"grocery app worked\", \"app does work\", \"trying place order\", \"app used work\", \"grocery app combined\", \"used love app\", \"time try check\", \"use ebt card\"], \"y\": [148, 135, 122, 80, 77, 75, 72, 68, 61, 61, 50, 50, 48, 48, 47, 44, 43, 41, 40, 38]}],\n",
              "                        {\"legend\": {\"bgcolor\": \"#151516\", \"font\": {\"color\": \"#D9D9D9\"}}, \"paper_bgcolor\": \"#151516\", \"plot_bgcolor\": \"#151516\", \"template\": {\"data\": {\"bar\": [{\"error_x\": {\"color\": \"#2a3f5f\"}, \"error_y\": {\"color\": \"#2a3f5f\"}, \"marker\": {\"line\": {\"color\": \"#E5ECF6\", \"width\": 0.5}}, \"type\": \"bar\"}], \"barpolar\": [{\"marker\": {\"line\": {\"color\": \"#E5ECF6\", \"width\": 0.5}}, \"type\": \"barpolar\"}], \"carpet\": [{\"aaxis\": {\"endlinecolor\": \"#2a3f5f\", \"gridcolor\": \"white\", \"linecolor\": \"white\", \"minorgridcolor\": \"white\", \"startlinecolor\": \"#2a3f5f\"}, \"baxis\": {\"endlinecolor\": \"#2a3f5f\", \"gridcolor\": \"white\", \"linecolor\": \"white\", \"minorgridcolor\": \"white\", \"startlinecolor\": \"#2a3f5f\"}, \"type\": \"carpet\"}], \"choropleth\": [{\"colorbar\": {\"outlinewidth\": 0, \"ticks\": \"\"}, \"type\": \"choropleth\"}], \"contour\": [{\"colorbar\": {\"outlinewidth\": 0, \"ticks\": \"\"}, \"colorscale\": [[0.0, \"#0d0887\"], [0.1111111111111111, \"#46039f\"], [0.2222222222222222, \"#7201a8\"], [0.3333333333333333, \"#9c179e\"], [0.4444444444444444, \"#bd3786\"], [0.5555555555555556, \"#d8576b\"], [0.6666666666666666, \"#ed7953\"], [0.7777777777777778, \"#fb9f3a\"], [0.8888888888888888, \"#fdca26\"], [1.0, \"#f0f921\"]], \"type\": \"contour\"}], \"contourcarpet\": [{\"colorbar\": {\"outlinewidth\": 0, \"ticks\": \"\"}, \"type\": \"contourcarpet\"}], \"heatmap\": [{\"colorbar\": {\"outlinewidth\": 0, \"ticks\": \"\"}, \"colorscale\": [[0.0, \"#0d0887\"], [0.1111111111111111, \"#46039f\"], [0.2222222222222222, \"#7201a8\"], [0.3333333333333333, \"#9c179e\"], [0.4444444444444444, \"#bd3786\"], [0.5555555555555556, \"#d8576b\"], [0.6666666666666666, \"#ed7953\"], [0.7777777777777778, \"#fb9f3a\"], [0.8888888888888888, \"#fdca26\"], [1.0, \"#f0f921\"]], \"type\": \"heatmap\"}], \"heatmapgl\": [{\"colorbar\": {\"outlinewidth\": 0, \"ticks\": \"\"}, \"colorscale\": [[0.0, \"#0d0887\"], [0.1111111111111111, \"#46039f\"], [0.2222222222222222, \"#7201a8\"], [0.3333333333333333, \"#9c179e\"], [0.4444444444444444, \"#bd3786\"], [0.5555555555555556, \"#d8576b\"], [0.6666666666666666, \"#ed7953\"], [0.7777777777777778, \"#fb9f3a\"], [0.8888888888888888, \"#fdca26\"], [1.0, \"#f0f921\"]], \"type\": \"heatmapgl\"}], \"histogram\": [{\"marker\": {\"colorbar\": {\"outlinewidth\": 0, \"ticks\": \"\"}}, \"type\": \"histogram\"}], \"histogram2d\": [{\"colorbar\": {\"outlinewidth\": 0, \"ticks\": \"\"}, \"colorscale\": [[0.0, \"#0d0887\"], [0.1111111111111111, \"#46039f\"], [0.2222222222222222, \"#7201a8\"], [0.3333333333333333, \"#9c179e\"], [0.4444444444444444, \"#bd3786\"], [0.5555555555555556, \"#d8576b\"], [0.6666666666666666, \"#ed7953\"], [0.7777777777777778, \"#fb9f3a\"], [0.8888888888888888, \"#fdca26\"], [1.0, \"#f0f921\"]], \"type\": \"histogram2d\"}], \"histogram2dcontour\": [{\"colorbar\": {\"outlinewidth\": 0, \"ticks\": \"\"}, \"colorscale\": [[0.0, \"#0d0887\"], [0.1111111111111111, \"#46039f\"], [0.2222222222222222, \"#7201a8\"], [0.3333333333333333, \"#9c179e\"], [0.4444444444444444, \"#bd3786\"], [0.5555555555555556, \"#d8576b\"], [0.6666666666666666, \"#ed7953\"], [0.7777777777777778, \"#fb9f3a\"], [0.8888888888888888, \"#fdca26\"], [1.0, \"#f0f921\"]], \"type\": \"histogram2dcontour\"}], \"mesh3d\": [{\"colorbar\": {\"outlinewidth\": 0, \"ticks\": \"\"}, \"type\": \"mesh3d\"}], \"parcoords\": [{\"line\": {\"colorbar\": {\"outlinewidth\": 0, \"ticks\": \"\"}}, \"type\": \"parcoords\"}], \"pie\": [{\"automargin\": true, \"type\": \"pie\"}], \"scatter\": [{\"marker\": {\"colorbar\": {\"outlinewidth\": 0, \"ticks\": \"\"}}, \"type\": \"scatter\"}], \"scatter3d\": [{\"line\": {\"colorbar\": {\"outlinewidth\": 0, \"ticks\": \"\"}}, \"marker\": {\"colorbar\": {\"outlinewidth\": 0, \"ticks\": \"\"}}, \"type\": \"scatter3d\"}], \"scattercarpet\": [{\"marker\": {\"colorbar\": {\"outlinewidth\": 0, \"ticks\": \"\"}}, \"type\": \"scattercarpet\"}], \"scattergeo\": [{\"marker\": {\"colorbar\": {\"outlinewidth\": 0, \"ticks\": \"\"}}, \"type\": \"scattergeo\"}], \"scattergl\": [{\"marker\": {\"colorbar\": {\"outlinewidth\": 0, \"ticks\": \"\"}}, \"type\": \"scattergl\"}], \"scattermapbox\": [{\"marker\": {\"colorbar\": {\"outlinewidth\": 0, \"ticks\": \"\"}}, \"type\": \"scattermapbox\"}], \"scatterpolar\": [{\"marker\": {\"colorbar\": {\"outlinewidth\": 0, \"ticks\": \"\"}}, \"type\": \"scatterpolar\"}], \"scatterpolargl\": [{\"marker\": {\"colorbar\": {\"outlinewidth\": 0, \"ticks\": \"\"}}, \"type\": \"scatterpolargl\"}], \"scatterternary\": [{\"marker\": {\"colorbar\": {\"outlinewidth\": 0, \"ticks\": \"\"}}, \"type\": \"scatterternary\"}], \"surface\": [{\"colorbar\": {\"outlinewidth\": 0, \"ticks\": \"\"}, \"colorscale\": [[0.0, \"#0d0887\"], [0.1111111111111111, \"#46039f\"], [0.2222222222222222, \"#7201a8\"], [0.3333333333333333, \"#9c179e\"], [0.4444444444444444, \"#bd3786\"], [0.5555555555555556, \"#d8576b\"], [0.6666666666666666, \"#ed7953\"], [0.7777777777777778, \"#fb9f3a\"], [0.8888888888888888, \"#fdca26\"], [1.0, \"#f0f921\"]], \"type\": \"surface\"}], \"table\": [{\"cells\": {\"fill\": {\"color\": \"#EBF0F8\"}, \"line\": {\"color\": \"white\"}}, \"header\": {\"fill\": {\"color\": \"#C8D4E3\"}, \"line\": {\"color\": \"white\"}}, \"type\": \"table\"}]}, \"layout\": {\"annotationdefaults\": {\"arrowcolor\": \"#2a3f5f\", \"arrowhead\": 0, \"arrowwidth\": 1}, \"coloraxis\": {\"colorbar\": {\"outlinewidth\": 0, \"ticks\": \"\"}}, \"colorscale\": {\"diverging\": [[0, \"#8e0152\"], [0.1, \"#c51b7d\"], [0.2, \"#de77ae\"], [0.3, \"#f1b6da\"], [0.4, \"#fde0ef\"], [0.5, \"#f7f7f7\"], [0.6, \"#e6f5d0\"], [0.7, \"#b8e186\"], [0.8, \"#7fbc41\"], [0.9, \"#4d9221\"], [1, \"#276419\"]], \"sequential\": [[0.0, \"#0d0887\"], [0.1111111111111111, \"#46039f\"], [0.2222222222222222, \"#7201a8\"], [0.3333333333333333, \"#9c179e\"], [0.4444444444444444, \"#bd3786\"], [0.5555555555555556, \"#d8576b\"], [0.6666666666666666, \"#ed7953\"], [0.7777777777777778, \"#fb9f3a\"], [0.8888888888888888, \"#fdca26\"], [1.0, \"#f0f921\"]], \"sequentialminus\": [[0.0, \"#0d0887\"], [0.1111111111111111, \"#46039f\"], [0.2222222222222222, \"#7201a8\"], [0.3333333333333333, \"#9c179e\"], [0.4444444444444444, \"#bd3786\"], [0.5555555555555556, \"#d8576b\"], [0.6666666666666666, \"#ed7953\"], [0.7777777777777778, \"#fb9f3a\"], [0.8888888888888888, \"#fdca26\"], [1.0, \"#f0f921\"]]}, \"colorway\": [\"#636efa\", \"#EF553B\", \"#00cc96\", \"#ab63fa\", \"#FFA15A\", \"#19d3f3\", \"#FF6692\", \"#B6E880\", \"#FF97FF\", \"#FECB52\"], \"font\": {\"color\": \"#2a3f5f\"}, \"geo\": {\"bgcolor\": \"white\", \"lakecolor\": \"white\", \"landcolor\": \"#E5ECF6\", \"showlakes\": true, \"showland\": true, \"subunitcolor\": \"white\"}, \"hoverlabel\": {\"align\": \"left\"}, \"hovermode\": \"closest\", \"mapbox\": {\"style\": \"light\"}, \"paper_bgcolor\": \"white\", \"plot_bgcolor\": \"#E5ECF6\", \"polar\": {\"angularaxis\": {\"gridcolor\": \"white\", \"linecolor\": \"white\", \"ticks\": \"\"}, \"bgcolor\": \"#E5ECF6\", \"radialaxis\": {\"gridcolor\": \"white\", \"linecolor\": \"white\", \"ticks\": \"\"}}, \"scene\": {\"xaxis\": {\"backgroundcolor\": \"#E5ECF6\", \"gridcolor\": \"white\", \"gridwidth\": 2, \"linecolor\": \"white\", \"showbackground\": true, \"ticks\": \"\", \"zerolinecolor\": \"white\"}, \"yaxis\": {\"backgroundcolor\": \"#E5ECF6\", \"gridcolor\": \"white\", \"gridwidth\": 2, \"linecolor\": \"white\", \"showbackground\": true, \"ticks\": \"\", \"zerolinecolor\": \"white\"}, \"zaxis\": {\"backgroundcolor\": \"#E5ECF6\", \"gridcolor\": \"white\", \"gridwidth\": 2, \"linecolor\": \"white\", \"showbackground\": true, \"ticks\": \"\", \"zerolinecolor\": \"white\"}}, \"shapedefaults\": {\"line\": {\"color\": \"#2a3f5f\"}}, \"ternary\": {\"aaxis\": {\"gridcolor\": \"white\", \"linecolor\": \"white\", \"ticks\": \"\"}, \"baxis\": {\"gridcolor\": \"white\", \"linecolor\": \"white\", \"ticks\": \"\"}, \"bgcolor\": \"#E5ECF6\", \"caxis\": {\"gridcolor\": \"white\", \"linecolor\": \"white\", \"ticks\": \"\"}}, \"title\": {\"x\": 0.05}, \"xaxis\": {\"automargin\": true, \"gridcolor\": \"white\", \"linecolor\": \"white\", \"ticks\": \"\", \"title\": {\"standoff\": 15}, \"zerolinecolor\": \"white\", \"zerolinewidth\": 2}, \"yaxis\": {\"automargin\": true, \"gridcolor\": \"white\", \"linecolor\": \"white\", \"ticks\": \"\", \"title\": {\"standoff\": 15}, \"zerolinecolor\": \"white\", \"zerolinewidth\": 2}}}, \"title\": {\"font\": {\"color\": \"#D9D9D9\"}, \"text\": \"Top words in review after removing stop words\"}, \"xaxis\": {\"gridcolor\": \"#434343\", \"linecolor\": \"black\", \"showgrid\": true, \"tickfont\": {\"color\": \"#C2C2C2\"}, \"title\": {\"font\": {\"color\": \"#D9D9D9\"}, \"text\": \"\"}, \"zerolinecolor\": \"#666570\"}, \"yaxis\": {\"gridcolor\": \"#434343\", \"linecolor\": \"black\", \"showgrid\": true, \"tickfont\": {\"color\": \"#C2C2C2\"}, \"title\": {\"font\": {\"color\": \"#D9D9D9\"}, \"text\": \"Count\"}, \"zerolinecolor\": \"#666570\"}},\n",
              "                        {\"showLink\": true, \"linkText\": \"Export to plot.ly\", \"plotlyServerURL\": \"https://plot.ly\", \"responsive\": true}\n",
              "                    ).then(function(){\n",
              "                            \n",
              "var gd = document.getElementById('60697097-0210-4125-8ad0-c0b50d261644');\n",
              "var x = new MutationObserver(function (mutations, observer) {{\n",
              "        var display = window.getComputedStyle(gd).display;\n",
              "        if (!display || display === 'none') {{\n",
              "            console.log([gd, 'removed!']);\n",
              "            Plotly.purge(gd);\n",
              "            observer.disconnect();\n",
              "        }}\n",
              "}});\n",
              "\n",
              "// Listen for the removal of the full notebook cells\n",
              "var notebookContainer = gd.closest('#notebook-container');\n",
              "if (notebookContainer) {{\n",
              "    x.observe(notebookContainer, {childList: true});\n",
              "}}\n",
              "\n",
              "// Listen for the clearing of the current output cell\n",
              "var outputEl = gd.closest('.output');\n",
              "if (outputEl) {{\n",
              "    x.observe(outputEl, {childList: true});\n",
              "}}\n",
              "\n",
              "                        })\n",
              "                };\n",
              "                \n",
              "            </script>\n",
              "        </div>\n",
              "</body>\n",
              "</html>"
            ]
          },
          "metadata": {
            "tags": []
          }
        }
      ]
    }
  ]
}